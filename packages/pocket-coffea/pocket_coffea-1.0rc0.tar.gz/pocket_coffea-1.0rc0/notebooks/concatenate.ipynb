{
 "cells": [
  {
   "cell_type": "code",
   "execution_count": 3,
   "id": "48821440",
   "metadata": {},
   "outputs": [],
   "source": [
    "import awkward as ak"
   ]
  },
  {
   "cell_type": "code",
   "execution_count": 8,
   "id": "d6e5601e",
   "metadata": {},
   "outputs": [
    {
     "data": {
      "text/plain": [
       "[[[1, 2, 3, 4], [9, 8, 7, 6], [5, 5, 5, 5], [5, 5, 5, 5]],\n",
       " [[40, 14, 67, 5], [60, 87, 100, 89], [5, 5, 5, 5], [5, 5, 5, 5]]]"
      ]
     },
     "execution_count": 8,
     "metadata": {},
     "output_type": "execute_result"
    }
   ],
   "source": [
    "Nevts = 4\n",
    "x = ak.Array([[[1, 2, 3, 4], [9, 8, 7, 6], [5, 5, 5, 5], [5, 5, 5, 5]], [[40, 14, 67, 5], [60, 87, 100, 89], [5, 5, 5, 5], [5, 5, 5, 5]]])\n",
    "x.tolist()"
   ]
  },
  {
   "cell_type": "code",
   "execution_count": 12,
   "id": "e3a484e0",
   "metadata": {},
   "outputs": [
    {
     "data": {
      "text/plain": [
       "[[1, 2, 3, 4], [40, 14, 67, 5]]"
      ]
     },
     "execution_count": 12,
     "metadata": {},
     "output_type": "execute_result"
    }
   ],
   "source": [
    "x[:,0].tolist()"
   ]
  },
  {
   "cell_type": "code",
   "execution_count": 14,
   "id": "7ba198fd",
   "metadata": {},
   "outputs": [
    {
     "data": {
      "text/plain": [
       "[[[[1, 2, 3, 4]], [9, 8, 7, 6]], [[[40, 14, 67, 5]], [60, 87, 100, 89]]]"
      ]
     },
     "execution_count": 14,
     "metadata": {},
     "output_type": "execute_result"
    }
   ],
   "source": [
    "x_left = ak.concatenate( (ak.unflatten(x[:,:1], 1), x[:,1:2]), axis=1 )\n",
    "x_left.tolist()"
   ]
  },
  {
   "cell_type": "code",
   "execution_count": 15,
   "id": "eab36fff",
   "metadata": {},
   "outputs": [
    {
     "data": {
      "text/plain": [
       "[[[1, 2, 3, 4]], [[40, 14, 67, 5]]]"
      ]
     },
     "execution_count": 15,
     "metadata": {},
     "output_type": "execute_result"
    }
   ],
   "source": [
    "#x_total = ak.concatenate( (x_left, ))\n",
    "x[:,:1].tolist()"
   ]
  },
  {
   "cell_type": "code",
   "execution_count": 17,
   "id": "5621d8b9",
   "metadata": {},
   "outputs": [
    {
     "data": {
      "text/plain": [
       "<Array [[[1, 2, 3, 4]], [[40, 14, 67, 5]]] type='2 * var * var * int64'>"
      ]
     },
     "execution_count": 17,
     "metadata": {},
     "output_type": "execute_result"
    }
   ],
   "source": [
    "x[:,:1]"
   ]
  },
  {
   "cell_type": "code",
   "execution_count": 18,
   "id": "da1462ad",
   "metadata": {},
   "outputs": [
    {
     "data": {
      "text/plain": [
       "<Array [[], []] type='2 * var * var * int64'>"
      ]
     },
     "execution_count": 18,
     "metadata": {},
     "output_type": "execute_result"
    }
   ],
   "source": [
    "x[:,:0]"
   ]
  },
  {
   "cell_type": "code",
   "execution_count": 44,
   "id": "faf5d87b",
   "metadata": {},
   "outputs": [
    {
     "data": {
      "text/plain": [
       "[[[1, 2, 3, 4], 9, 8, 7, 6], [[40, 14, 67, 5], 60, 87, 100, 89]]"
      ]
     },
     "execution_count": 44,
     "metadata": {},
     "output_type": "execute_result"
    }
   ],
   "source": [
    "a1 = ak.concatenate((x[:,:1], x[:,1]), axis=1)\n",
    "a1.tolist()"
   ]
  },
  {
   "cell_type": "code",
   "execution_count": 41,
   "id": "2f551473",
   "metadata": {},
   "outputs": [
    {
     "data": {
      "text/plain": [
       "[[1, 2, 3, 4, [1, 2, 3, 4], [9, 8, 7, 6], [5, 5, 5, 5], [5, 5, 5, 5]],\n",
       " [40,\n",
       "  14,\n",
       "  67,\n",
       "  5,\n",
       "  [40, 14, 67, 5],\n",
       "  [60, 87, 100, 89],\n",
       "  [5, 5, 5, 5],\n",
       "  [5, 5, 5, 5]]]"
      ]
     },
     "execution_count": 41,
     "metadata": {},
     "output_type": "execute_result"
    }
   ],
   "source": [
    "a = ak.concatenate( (a1, x[:,0:]), axis=1 )\n",
    "a.tolist()"
   ]
  },
  {
   "cell_type": "code",
   "execution_count": 42,
   "id": "b8753b91",
   "metadata": {},
   "outputs": [
    {
     "data": {
      "text/plain": [
       "[[[1, 2, 3, 4], [9, 8, 7, 6], [5, 5, 5, 5], [5, 5, 5, 5]],\n",
       " [[40, 14, 67, 5], [60, 87, 100, 89], [5, 5, 5, 5], [5, 5, 5, 5]]]"
      ]
     },
     "execution_count": 42,
     "metadata": {},
     "output_type": "execute_result"
    }
   ],
   "source": [
    "x[:,0:].tolist()"
   ]
  },
  {
   "cell_type": "code",
   "execution_count": 43,
   "id": "0cb6a30e",
   "metadata": {},
   "outputs": [
    {
     "data": {
      "text/plain": [
       "[[1, 2, 3, 4], [40, 14, 67, 5]]"
      ]
     },
     "execution_count": 43,
     "metadata": {},
     "output_type": "execute_result"
    }
   ],
   "source": [
    "a1.tolist()"
   ]
  },
  {
   "cell_type": "code",
   "execution_count": 66,
   "id": "d97ac72d",
   "metadata": {},
   "outputs": [
    {
     "name": "stdout",
     "output_type": "stream",
     "text": [
      "0 [[[], [1, 2, 3, 4], [9, 8, 7, 6], [5, 5, 5, 5], [5, 5, 5, 5]], [[], [40, 14, 67, 5], [60, 87, 100, 89], [5, 5, 5, 5], [5, 5, 5, 5]]]\n",
      "1 [[[1, 2, 3, 4], [9, 8, 7, 6], [5, 5, 5, 5], [5, 5, 5, 5]], [[40, 14, 67, 5], [60, 87, 100, 89], [5, 5, 5, 5], [5, 5, 5, 5]]]\n",
      "2 [[[1, 2, 3, 4], [9, 8, 7, 6], [5, 5, 5, 5], [5, 5, 5, 5]], [[40, 14, 67, 5], [60, 87, 100, 89], [5, 5, 5, 5], [5, 5, 5, 5]]]\n",
      "3 [[[1, 2, 3, 4], [9, 8, 7, 6], [5, 5, 5, 5], [5, 5, 5, 5]], [[40, 14, 67, 5], [60, 87, 100, 89], [5, 5, 5, 5], [5, 5, 5, 5]]]\n",
      "4 [[[1, 2, 3, 4], [9, 8, 7, 6], [5, 5, 5, 5], [5, 5, 5, 5]], [[40, 14, 67, 5], [60, 87, 100, 89], [5, 5, 5, 5], [5, 5, 5, 5]]]\n"
     ]
    }
   ],
   "source": [
    "for k in range(4+1):\n",
    "    if k == 0:\n",
    "        y = ak.concatenate( (ak.unflatten(x[:,:k], 1), x[:,k:]), axis=1 )\n",
    "    else:\n",
    "        y = ak.concatenate( (x[:,:k], x[:,k:]), axis=1 )\n",
    "    print(k, y.tolist())"
   ]
  },
  {
   "cell_type": "code",
   "execution_count": 60,
   "id": "6478dab7",
   "metadata": {},
   "outputs": [
    {
     "data": {
      "text/plain": [
       "[[[1, 2, 3, 4], [9, 8, 7, 6], [5, 5, 5, 5], [5, 5, 5, 5]],\n",
       " [[40, 14, 67, 5], [60, 87, 100, 89], [5, 5, 5, 5], [5, 5, 5, 5]]]"
      ]
     },
     "execution_count": 60,
     "metadata": {},
     "output_type": "execute_result"
    }
   ],
   "source": [
    "x.tolist()"
   ]
  },
  {
   "cell_type": "code",
   "execution_count": 73,
   "id": "7836b3c9",
   "metadata": {},
   "outputs": [
    {
     "data": {
      "text/plain": [
       "[[[5, 5, 5, 5]], [[5, 5, 5, 5]]]"
      ]
     },
     "execution_count": 73,
     "metadata": {},
     "output_type": "execute_result"
    }
   ],
   "source": [
    "x[:,2:3].tolist()"
   ]
  },
  {
   "cell_type": "code",
   "execution_count": 74,
   "id": "0a6f51af",
   "metadata": {},
   "outputs": [
    {
     "data": {
      "text/plain": [
       "[(0, 2), (1, 2)]"
      ]
     },
     "execution_count": 74,
     "metadata": {},
     "output_type": "execute_result"
    }
   ],
   "source": [
    "i = 2\n",
    "pairs = [(j,i) for j in range(i)]\n",
    "pairs"
   ]
  },
  {
   "cell_type": "code",
   "execution_count": 82,
   "id": "d2fda867",
   "metadata": {},
   "outputs": [
    {
     "data": {
      "text/plain": [
       "[[[5, 5, 5, 5]], [[5, 5, 5, 5]]]"
      ]
     },
     "execution_count": 82,
     "metadata": {},
     "output_type": "execute_result"
    }
   ],
   "source": [
    "x[:,3:4].tolist()"
   ]
  },
  {
   "cell_type": "code",
   "execution_count": 83,
   "id": "888e5fc1",
   "metadata": {},
   "outputs": [
    {
     "data": {
      "text/plain": [
       "[[5, 5, 5, 5], [5, 5, 5, 5]]"
      ]
     },
     "execution_count": 83,
     "metadata": {},
     "output_type": "execute_result"
    }
   ],
   "source": [
    "x[:,3].tolist()"
   ]
  },
  {
   "cell_type": "code",
   "execution_count": 86,
   "id": "6aff6ef0",
   "metadata": {},
   "outputs": [
    {
     "data": {
      "text/plain": [
       "[[[1, 2, 3, 4]], [[40, 14, 67, 5]]]"
      ]
     },
     "execution_count": 86,
     "metadata": {},
     "output_type": "execute_result"
    }
   ],
   "source": [
    "x[:,0:1].tolist()"
   ]
  },
  {
   "cell_type": "code",
   "execution_count": 106,
   "id": "2f5099b3",
   "metadata": {},
   "outputs": [
    {
     "data": {
      "text/plain": [
       "[[[5, 5, 5, 5]], [[5, 5, 5, 5]]]"
      ]
     },
     "execution_count": 106,
     "metadata": {},
     "output_type": "execute_result"
    }
   ],
   "source": [
    "i = 3\n",
    "x[:,i:].tolist()"
   ]
  },
  {
   "cell_type": "code",
   "execution_count": null,
   "id": "b1f42ec1",
   "metadata": {},
   "outputs": [],
   "source": []
  }
 ],
 "metadata": {
  "kernelspec": {
   "display_name": "Python 3 (ipykernel)",
   "language": "python",
   "name": "python3"
  },
  "language_info": {
   "codemirror_mode": {
    "name": "ipython",
    "version": 3
   },
   "file_extension": ".py",
   "mimetype": "text/x-python",
   "name": "python",
   "nbconvert_exporter": "python",
   "pygments_lexer": "ipython3",
   "version": "3.9.7"
  }
 },
 "nbformat": 4,
 "nbformat_minor": 5
}
