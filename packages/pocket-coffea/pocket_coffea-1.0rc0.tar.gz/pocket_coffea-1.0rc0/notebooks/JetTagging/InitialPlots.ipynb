{
 "cells": [
  {
   "cell_type": "code",
   "execution_count": 1,
   "id": "f9da7fac-ea2f-4197-9c39-b217009f1e24",
   "metadata": {},
   "outputs": [],
   "source": [
    "import awkward as ak\n",
    "import numba\n",
    "import numpy as np\n",
    "import pandas as pd\n",
    "import awkward as ak\n",
    "import vector\n",
    "vector.register_numba()\n",
    "vector.register_awkward()\n",
    "\n",
    "import matplotlib.pyplot as plt\n",
    "from matplotlib.colors import LogNorm\n",
    "import mplhep as hep"
   ]
  },
  {
   "cell_type": "code",
   "execution_count": 4,
   "id": "16a00c60-b278-42b0-abee-bce196f25e1a",
   "metadata": {},
   "outputs": [],
   "source": [
    "df = ak.from_parquet(\"/eos/user/d/dvalsecc/www/ttHbbAnalysis/training_dataset/all_jets_v1.parquet\")"
   ]
  },
  {
   "cell_type": "code",
   "execution_count": 5,
   "id": "64ee04b1-854c-4c77-aff1-fae7d9ae0b49",
   "metadata": {},
   "outputs": [
    {
     "data": {
      "text/plain": [
       "<Array [{jets: [{pt: 68.3, ... prov: 1}]}] type='584143 * {\"jets\": var * {\"pt\": ...'>"
      ]
     },
     "execution_count": 5,
     "metadata": {},
     "output_type": "execute_result"
    }
   ],
   "source": [
    "df"
   ]
  },
  {
   "cell_type": "code",
   "execution_count": 6,
   "id": "04103c89-79e0-44f0-853c-0d2279671f53",
   "metadata": {},
   "outputs": [],
   "source": [
    "jets, parton = ak.unzip(df)"
   ]
  },
  {
   "cell_type": "code",
   "execution_count": 7,
   "id": "ec21d6ea-4f99-4eb5-9a0d-8b2f34106310",
   "metadata": {},
   "outputs": [
    {
     "data": {
      "text/plain": [
       "<Array [[{pt: 68.3, eta: 0.853, ... prov: -1}]] type='584143 * var * {\"pt\": floa...'>"
      ]
     },
     "execution_count": 7,
     "metadata": {},
     "output_type": "execute_result"
    }
   ],
   "source": [
    "jets"
   ]
  },
  {
   "cell_type": "code",
   "execution_count": null,
   "id": "01023727-917d-4678-8306-a10956ce3f9a",
   "metadata": {},
   "outputs": [],
   "source": []
  }
 ],
 "metadata": {
  "kernelspec": {
   "display_name": "Python 3 (ipykernel)",
   "language": "python",
   "name": "python3"
  },
  "language_info": {
   "codemirror_mode": {
    "name": "ipython",
    "version": 3
   },
   "file_extension": ".py",
   "mimetype": "text/x-python",
   "name": "python",
   "nbconvert_exporter": "python",
   "pygments_lexer": "ipython3",
   "version": "3.9.15"
  }
 },
 "nbformat": 4,
 "nbformat_minor": 5
}
