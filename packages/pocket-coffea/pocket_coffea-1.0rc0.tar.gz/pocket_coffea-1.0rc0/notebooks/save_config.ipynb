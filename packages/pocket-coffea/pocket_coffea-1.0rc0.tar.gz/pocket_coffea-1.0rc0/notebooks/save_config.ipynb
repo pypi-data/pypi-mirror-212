{
 "cells": [
  {
   "cell_type": "code",
   "execution_count": 1,
   "id": "8c705dba",
   "metadata": {},
   "outputs": [],
   "source": [
    "import os\n",
    "import pprint\n",
    "\n",
    "os.chdir(\"..\")\n",
    "\n",
    "from utils.Configurator import Configurator"
   ]
  },
  {
   "cell_type": "code",
   "execution_count": 4,
   "id": "f7a7c2c0",
   "metadata": {
    "scrolled": false
   },
   "outputs": [
    {
     "name": "stdout",
     "output_type": "stream",
     "text": [
      "Saving file to histograms/testUL/config.py\n"
     ]
    }
   ],
   "source": [
    "config_file = \"config/testUL.py\"\n",
    "config = Configurator(config_file, create_dataset=False)\n",
    "#config.cfg"
   ]
  },
  {
   "cell_type": "code",
   "execution_count": 6,
   "id": "ce47079b",
   "metadata": {},
   "outputs": [
    {
     "data": {
      "text/plain": [
       "['config.py']"
      ]
     },
     "execution_count": 6,
     "metadata": {},
     "output_type": "execute_result"
    }
   ],
   "source": [
    "os.listdir(\"histograms/testUL\")"
   ]
  },
  {
   "cell_type": "code",
   "execution_count": 4,
   "id": "348ed5b6",
   "metadata": {},
   "outputs": [],
   "source": [
    "pprint.pformat?"
   ]
  },
  {
   "cell_type": "code",
   "execution_count": null,
   "id": "bee4079b",
   "metadata": {},
   "outputs": [],
   "source": []
  }
 ],
 "metadata": {
  "kernelspec": {
   "display_name": "Python 3 (ipykernel)",
   "language": "python",
   "name": "python3"
  },
  "language_info": {
   "codemirror_mode": {
    "name": "ipython",
    "version": 3
   },
   "file_extension": ".py",
   "mimetype": "text/x-python",
   "name": "python",
   "nbconvert_exporter": "python",
   "pygments_lexer": "ipython3",
   "version": "3.9.7"
  }
 },
 "nbformat": 4,
 "nbformat_minor": 5
}
