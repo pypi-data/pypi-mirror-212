{
 "cells": [
  {
   "cell_type": "code",
   "execution_count": 11,
   "id": "1d4c3ce5-65bc-4e6b-871d-1ff8f7b914dd",
   "metadata": {},
   "outputs": [
    {
     "data": {
      "text/plain": [
       "'/t3home/dvalsecc/.x509up_u741'"
      ]
     },
     "execution_count": 11,
     "metadata": {},
     "output_type": "execute_result"
    }
   ],
   "source": [
    "from pocket_coffea.utils.network import get_proxy_path\n",
    "get_proxy_path()"
   ]
  },
  {
   "cell_type": "code",
   "execution_count": 12,
   "id": "1ddca857-59e8-4aac-8b9e-1806735ccd8d",
   "metadata": {},
   "outputs": [],
   "source": [
    "import getpass\n",
    "import os\n",
    "os.environ[\"RUCIO_HOME\"] = \"/cvmfs/cms.cern.ch/rucio/x86_64/rhel7/py3/current\""
   ]
  },
  {
   "cell_type": "code",
   "execution_count": 13,
   "id": "52441fb4-816f-43cf-8743-5d48407b186f",
   "metadata": {},
   "outputs": [],
   "source": [
    "from rucio.client import Client\n",
    "nativeClient = Client(\n",
    "        rucio_host=\"https://cms-rucio.cern.ch\",\n",
    "        auth_host=\"https://cms-rucio-auth.cern.ch\",\n",
    "        #ca_cert=,\n",
    "        account=getpass.getuser(),\n",
    "        creds={\"client_cert\": get_proxy_path(), \"client_key\": get_proxy_path()},\n",
    "        auth_type='x509'\n",
    "    )"
   ]
  },
  {
   "cell_type": "code",
   "execution_count": 14,
   "id": "dedf0e70-4743-4b84-acd6-122cb3ae28c9",
   "metadata": {},
   "outputs": [
    {
     "data": {
      "text/plain": [
       "{'version': '1.30.4'}"
      ]
     },
     "execution_count": 14,
     "metadata": {},
     "output_type": "execute_result"
    }
   ],
   "source": [
    "nativeClient.ping()"
   ]
  },
  {
   "cell_type": "code",
   "execution_count": 6,
   "id": "65947081-0b72-4b28-a7e1-e0484b19d831",
   "metadata": {},
   "outputs": [
    {
     "data": {
      "text/plain": [
       "{'scope': 'cms',\n",
       " 'name': '/ttHTobb_M125_TuneCP5_13TeV-powheg-pythia8/RunIISummer20UL18NanoAODv9-106X_upgrade2018_realistic_v16_L1v1-v2/NANOAODSIM',\n",
       " 'type': 'CONTAINER',\n",
       " 'account': 'wma_prod',\n",
       " 'open': True,\n",
       " 'monotonic': False,\n",
       " 'expired_at': None,\n",
       " 'length': 48,\n",
       " 'bytes': None}"
      ]
     },
     "execution_count": 6,
     "metadata": {},
     "output_type": "execute_result"
    }
   ],
   "source": [
    "out = nativeClient.get_did(\"cms\", \"/ttHTobb_M125_TuneCP5_13TeV-powheg-pythia8/RunIISummer20UL18NanoAODv9-106X_upgrade2018_realistic_v16_L1v1-v2/NANOAODSIM\")\n",
    "out"
   ]
  },
  {
   "cell_type": "code",
   "execution_count": 7,
   "id": "d056cdc9-58ba-4ee7-913e-49868be8ef1f",
   "metadata": {
    "tags": []
   },
   "outputs": [
    {
     "data": {
      "text/plain": [
       "[{'scope': 'cms',\n",
       "  'name': '/ttHTobb_M125_TuneCP5_13TeV-powheg-pythia8/RunIISummer20UL18NanoAODv9-106X_upgrade2018_realistic_v16_L1v1-v2/NANOAODSIM#0255bd95-e81f-44ee-bd6b-e11fa41d63a5',\n",
       "  'rse_id': 'd28c3e77587e4d73aa3ccb6186e44c8d',\n",
       "  'rse': 'T2_ES_CIEMAT',\n",
       "  'available_bytes': 304443024,\n",
       "  'available_length': 1,\n",
       "  'created_at': datetime.datetime(2021, 10, 4, 17, 7, 35),\n",
       "  'updated_at': datetime.datetime(2021, 10, 4, 18, 3, 41),\n",
       "  'accessed_at': None,\n",
       "  'length': 1,\n",
       "  'bytes': 304443024,\n",
       "  'state': 'AVAILABLE'},\n",
       " {'scope': 'cms',\n",
       "  'name': '/ttHTobb_M125_TuneCP5_13TeV-powheg-pythia8/RunIISummer20UL18NanoAODv9-106X_upgrade2018_realistic_v16_L1v1-v2/NANOAODSIM#0255bd95-e81f-44ee-bd6b-e11fa41d63a5',\n",
       "  'rse_id': '1983977ffc0e47ffb2b1c4d496a8297f',\n",
       "  'rse': 'T3_KR_KISTI',\n",
       "  'available_bytes': 304443024,\n",
       "  'available_length': 1,\n",
       "  'created_at': datetime.datetime(2021, 11, 22, 8, 35, 47),\n",
       "  'updated_at': datetime.datetime(2022, 11, 27, 5, 23, 51),\n",
       "  'accessed_at': None,\n",
       "  'length': 1,\n",
       "  'bytes': 304443024,\n",
       "  'state': 'AVAILABLE'},\n",
       " {'scope': 'cms',\n",
       "  'name': '/ttHTobb_M125_TuneCP5_13TeV-powheg-pythia8/RunIISummer20UL18NanoAODv9-106X_upgrade2018_realistic_v16_L1v1-v2/NANOAODSIM#0255bd95-e81f-44ee-bd6b-e11fa41d63a5',\n",
       "  'rse_id': '751eb808adf54eada3be77dd40c9c399',\n",
       "  'rse': 'T2_KR_KISTI',\n",
       "  'available_bytes': 304443024,\n",
       "  'available_length': 1,\n",
       "  'created_at': datetime.datetime(2023, 1, 15, 11, 37, 43),\n",
       "  'updated_at': datetime.datetime(2023, 1, 16, 1, 48, 40),\n",
       "  'accessed_at': None,\n",
       "  'length': 1,\n",
       "  'bytes': 304443024,\n",
       "  'state': 'AVAILABLE'},\n",
       " {'scope': 'cms',\n",
       "  'name': '/ttHTobb_M125_TuneCP5_13TeV-powheg-pythia8/RunIISummer20UL18NanoAODv9-106X_upgrade2018_realistic_v16_L1v1-v2/NANOAODSIM#0255bd95-e81f-44ee-bd6b-e11fa41d63a5',\n",
       "  'rse_id': '542ab69d82bf401e9218bbe375bb1fce',\n",
       "  'rse': 'T2_CH_CERN',\n",
       "  'available_bytes': 304443024,\n",
       "  'available_length': 1,\n",
       "  'created_at': datetime.datetime(2023, 2, 22, 4, 30, 12),\n",
       "  'updated_at': datetime.datetime(2023, 2, 24, 23, 48, 56),\n",
       "  'accessed_at': None,\n",
       "  'length': 1,\n",
       "  'bytes': 304443024,\n",
       "  'state': 'AVAILABLE'},\n",
       " {'scope': 'cms',\n",
       "  'name': '/ttHTobb_M125_TuneCP5_13TeV-powheg-pythia8/RunIISummer20UL18NanoAODv9-106X_upgrade2018_realistic_v16_L1v1-v2/NANOAODSIM#0255bd95-e81f-44ee-bd6b-e11fa41d63a5',\n",
       "  'rse_id': '087ee3383b9d45f6b31814af07b2c56d',\n",
       "  'rse': 'T1_US_FNAL_Disk',\n",
       "  'available_bytes': 304443024,\n",
       "  'available_length': 1,\n",
       "  'created_at': datetime.datetime(2021, 10, 4, 17, 7, 6),\n",
       "  'updated_at': datetime.datetime(2021, 10, 19, 13, 0, 57),\n",
       "  'accessed_at': None,\n",
       "  'length': 1,\n",
       "  'bytes': 304443024,\n",
       "  'state': 'AVAILABLE'},\n",
       " {'scope': 'cms',\n",
       "  'name': '/ttHTobb_M125_TuneCP5_13TeV-powheg-pythia8/RunIISummer20UL18NanoAODv9-106X_upgrade2018_realistic_v16_L1v1-v2/NANOAODSIM#0255bd95-e81f-44ee-bd6b-e11fa41d63a5',\n",
       "  'rse_id': 'bf38558005f94b86afeb5f25f62685fa',\n",
       "  'rse': 'T1_RU_JINR_Disk',\n",
       "  'available_bytes': 304443024,\n",
       "  'available_length': 1,\n",
       "  'created_at': datetime.datetime(2021, 10, 4, 17, 7, 34),\n",
       "  'updated_at': datetime.datetime(2021, 10, 4, 18, 0, 16),\n",
       "  'accessed_at': None,\n",
       "  'length': 1,\n",
       "  'bytes': 304443024,\n",
       "  'state': 'AVAILABLE'},\n",
       " {'scope': 'cms',\n",
       "  'name': '/ttHTobb_M125_TuneCP5_13TeV-powheg-pythia8/RunIISummer20UL18NanoAODv9-106X_upgrade2018_realistic_v16_L1v1-v2/NANOAODSIM#0255bd95-e81f-44ee-bd6b-e11fa41d63a5',\n",
       "  'rse_id': '7d8250edece2494eb08aaedd6eb34f2d',\n",
       "  'rse': 'T2_BE_UCL',\n",
       "  'available_bytes': 304443024,\n",
       "  'available_length': 1,\n",
       "  'created_at': datetime.datetime(2022, 1, 28, 11, 1, 10),\n",
       "  'updated_at': datetime.datetime(2022, 1, 28, 13, 30, 50),\n",
       "  'accessed_at': None,\n",
       "  'length': 1,\n",
       "  'bytes': 304443024,\n",
       "  'state': 'AVAILABLE'},\n",
       " {'scope': 'cms',\n",
       "  'name': '/ttHTobb_M125_TuneCP5_13TeV-powheg-pythia8/RunIISummer20UL18NanoAODv9-106X_upgrade2018_realistic_v16_L1v1-v2/NANOAODSIM#0255bd95-e81f-44ee-bd6b-e11fa41d63a5',\n",
       "  'rse_id': '5eeec458c03d4bd18ef70a3cad0a31af',\n",
       "  'rse': 'T2_US_Vanderbilt',\n",
       "  'available_bytes': 304443024,\n",
       "  'available_length': 1,\n",
       "  'created_at': datetime.datetime(2021, 10, 4, 17, 7, 34),\n",
       "  'updated_at': datetime.datetime(2023, 2, 19, 7, 18, 10),\n",
       "  'accessed_at': datetime.datetime(2022, 7, 5, 18, 45, 31),\n",
       "  'length': 1,\n",
       "  'bytes': 304443024,\n",
       "  'state': 'AVAILABLE'},\n",
       " {'scope': 'cms',\n",
       "  'name': '/ttHTobb_M125_TuneCP5_13TeV-powheg-pythia8/RunIISummer20UL18NanoAODv9-106X_upgrade2018_realistic_v16_L1v1-v2/NANOAODSIM#0255bd95-e81f-44ee-bd6b-e11fa41d63a5',\n",
       "  'rse_id': '112105749e764d9b8df8f6ca866e4ef8',\n",
       "  'rse': 'T1_FR_CCIN2P3_Disk',\n",
       "  'available_bytes': 304443024,\n",
       "  'available_length': 1,\n",
       "  'created_at': datetime.datetime(2023, 2, 22, 4, 30, 12),\n",
       "  'updated_at': datetime.datetime(2023, 2, 22, 5, 18, 58),\n",
       "  'accessed_at': None,\n",
       "  'length': 1,\n",
       "  'bytes': 304443024,\n",
       "  'state': 'AVAILABLE'},\n",
       " {'scope': 'cms',\n",
       "  'name': '/ttHTobb_M125_TuneCP5_13TeV-powheg-pythia8/RunIISummer20UL18NanoAODv9-106X_upgrade2018_realistic_v16_L1v1-v2/NANOAODSIM#0255bd95-e81f-44ee-bd6b-e11fa41d63a5',\n",
       "  'rse_id': 'd34eafe13f8c467a8d599587c8c15f00',\n",
       "  'rse': 'T2_UK_London_IC',\n",
       "  'available_bytes': 304443024,\n",
       "  'available_length': 1,\n",
       "  'created_at': datetime.datetime(2021, 10, 4, 17, 7, 34),\n",
       "  'updated_at': datetime.datetime(2023, 2, 24, 23, 57, 15),\n",
       "  'accessed_at': None,\n",
       "  'length': 1,\n",
       "  'bytes': 304443024,\n",
       "  'state': 'AVAILABLE'},\n",
       " {'scope': 'cms',\n",
       "  'name': '/ttHTobb_M125_TuneCP5_13TeV-powheg-pythia8/RunIISummer20UL18NanoAODv9-106X_upgrade2018_realistic_v16_L1v1-v2/NANOAODSIM#0255bd95-e81f-44ee-bd6b-e11fa41d63a5',\n",
       "  'rse_id': '16eef8c8359d47c985c5cc48dd1a1a56',\n",
       "  'rse': 'T1_DE_KIT_Disk',\n",
       "  'available_bytes': 304443024,\n",
       "  'available_length': 1,\n",
       "  'created_at': datetime.datetime(2021, 10, 4, 17, 7, 34),\n",
       "  'updated_at': datetime.datetime(2023, 2, 24, 23, 57, 15),\n",
       "  'accessed_at': None,\n",
       "  'length': 1,\n",
       "  'bytes': 304443024,\n",
       "  'state': 'AVAILABLE'},\n",
       " {'scope': 'cms',\n",
       "  'name': '/ttHTobb_M125_TuneCP5_13TeV-powheg-pythia8/RunIISummer20UL18NanoAODv9-106X_upgrade2018_realistic_v16_L1v1-v2/NANOAODSIM#0255bd95-e81f-44ee-bd6b-e11fa41d63a5',\n",
       "  'rse_id': 'ec88b2ef814d4cbe9a4ceab7468482ab',\n",
       "  'rse': 'T3_CH_PSI',\n",
       "  'available_bytes': 304443024,\n",
       "  'available_length': 1,\n",
       "  'created_at': datetime.datetime(2021, 10, 18, 8, 31, 57),\n",
       "  'updated_at': datetime.datetime(2021, 10, 19, 16, 53, 40),\n",
       "  'accessed_at': None,\n",
       "  'length': 1,\n",
       "  'bytes': 304443024,\n",
       "  'state': 'AVAILABLE'}]"
      ]
     },
     "execution_count": 7,
     "metadata": {},
     "output_type": "execute_result"
    }
   ],
   "source": [
    "dataset= \"/ttHTobb_M125_TuneCP5_13TeV-powheg-pythia8/RunIISummer20UL18NanoAODv9-106X_upgrade2018_realistic_v16_L1v1-v2/NANOAODSIM#0255bd95-e81f-44ee-bd6b-e11fa41d63a5\"\n",
    "\n",
    "out = list(nativeClient.list_dataset_replicas(\"cms\",dataset,deep=True))\n",
    "out"
   ]
  },
  {
   "cell_type": "code",
   "execution_count": 15,
   "id": "3074cff0-32c8-4b2b-985a-fa68e29a34ce",
   "metadata": {},
   "outputs": [],
   "source": [
    "dataset = \"/DoubleMuon/Run2017B-UL2017_MiniAODv2_NanoAODv9-v1/NANOAOD\"\n",
    "data = list(nativeClient.list_replicas([{\"scope\":\"cms\", \"name\": dataset}],\n",
    "                               schemes=[\"root\"],\n",
    "                                ))\n",
    "                             #client_location={\"site\":\"T3_CH_PSI\"}))"
   ]
  },
  {
   "cell_type": "code",
   "execution_count": 16,
   "id": "69a7514b-8dc4-4b53-b71e-5be7ae423017",
   "metadata": {},
   "outputs": [
    {
     "data": {
      "text/plain": [
       "8"
      ]
     },
     "execution_count": 16,
     "metadata": {},
     "output_type": "execute_result"
    }
   ],
   "source": [
    "len(data)"
   ]
  },
  {
   "cell_type": "code",
   "execution_count": 18,
   "id": "57645d5f-e961-4828-9bc6-5ef78b6e80eb",
   "metadata": {},
   "outputs": [
    {
     "data": {
      "text/plain": [
       "{'scope': 'cms',\n",
       " 'name': '/store/data/Run2017B/DoubleMuon/NANOAOD/UL2017_MiniAODv2_NanoAODv9-v1/120000/57045327-81E5-F24B-9D38-2B515EB380BA.root',\n",
       " 'bytes': 1885724373,\n",
       " 'md5': None,\n",
       " 'adler32': 'ad3a6768',\n",
       " 'pfns': {'root://cms.sscc.uos.ac.kr:1094//store/data/Run2017B/DoubleMuon/NANOAOD/UL2017_MiniAODv2_NanoAODv9-v1/120000/57045327-81E5-F24B-9D38-2B515EB380BA.root': {'rse_id': 'ff0521a6fc7344dfa0d4d4bf5d7ef7d0',\n",
       "   'rse': 'T3_KR_UOS',\n",
       "   'type': 'DISK',\n",
       "   'volatile': False,\n",
       "   'domain': 'wan',\n",
       "   'priority': 1,\n",
       "   'client_extract': False},\n",
       "  'root://cmsdcadisk.fnal.gov:1094//dcache/uscmsdisk/store/data/Run2017B/DoubleMuon/NANOAOD/UL2017_MiniAODv2_NanoAODv9-v1/120000/57045327-81E5-F24B-9D38-2B515EB380BA.root': {'rse_id': '087ee3383b9d45f6b31814af07b2c56d',\n",
       "   'rse': 'T1_US_FNAL_Disk',\n",
       "   'type': 'DISK',\n",
       "   'volatile': False,\n",
       "   'domain': 'wan',\n",
       "   'priority': 2,\n",
       "   'client_extract': False},\n",
       "  'root://cmsxrd.ts.infn.it:1094//store/data/Run2017B/DoubleMuon/NANOAOD/UL2017_MiniAODv2_NanoAODv9-v1/120000/57045327-81E5-F24B-9D38-2B515EB380BA.root': {'rse_id': 'e1c33ab333304b33b1e283bea046e112',\n",
       "   'rse': 'T3_IT_Trieste',\n",
       "   'type': 'DISK',\n",
       "   'volatile': False,\n",
       "   'domain': 'wan',\n",
       "   'priority': 3,\n",
       "   'client_extract': False},\n",
       "  'root://eos.grid.vbc.ac.at:1094//eos/vbc/experiments/cms//store/data/Run2017B/DoubleMuon/NANOAOD/UL2017_MiniAODv2_NanoAODv9-v1/120000/57045327-81E5-F24B-9D38-2B515EB380BA.root': {'rse_id': '0465a108757a4acb8f2f18085b8e25f7',\n",
       "   'rse': 'T2_AT_Vienna',\n",
       "   'type': 'DISK',\n",
       "   'volatile': False,\n",
       "   'domain': 'wan',\n",
       "   'priority': 4,\n",
       "   'client_extract': False},\n",
       "  'root://ingrid-se03.cism.ucl.ac.be:1094//store/data/Run2017B/DoubleMuon/NANOAOD/UL2017_MiniAODv2_NanoAODv9-v1/120000/57045327-81E5-F24B-9D38-2B515EB380BA.root': {'rse_id': '7d8250edece2494eb08aaedd6eb34f2d',\n",
       "   'rse': 'T2_BE_UCL',\n",
       "   'type': 'DISK',\n",
       "   'volatile': False,\n",
       "   'domain': 'wan',\n",
       "   'priority': 5,\n",
       "   'client_extract': False}},\n",
       " 'rses': {'T2_AT_Vienna': ['root://eos.grid.vbc.ac.at:1094//eos/vbc/experiments/cms//store/data/Run2017B/DoubleMuon/NANOAOD/UL2017_MiniAODv2_NanoAODv9-v1/120000/57045327-81E5-F24B-9D38-2B515EB380BA.root'],\n",
       "  'T1_US_FNAL_Disk': ['root://cmsdcadisk.fnal.gov:1094//dcache/uscmsdisk/store/data/Run2017B/DoubleMuon/NANOAOD/UL2017_MiniAODv2_NanoAODv9-v1/120000/57045327-81E5-F24B-9D38-2B515EB380BA.root'],\n",
       "  'T2_BE_UCL': ['root://ingrid-se03.cism.ucl.ac.be:1094//store/data/Run2017B/DoubleMuon/NANOAOD/UL2017_MiniAODv2_NanoAODv9-v1/120000/57045327-81E5-F24B-9D38-2B515EB380BA.root'],\n",
       "  'T3_IT_Trieste': ['root://cmsxrd.ts.infn.it:1094//store/data/Run2017B/DoubleMuon/NANOAOD/UL2017_MiniAODv2_NanoAODv9-v1/120000/57045327-81E5-F24B-9D38-2B515EB380BA.root'],\n",
       "  'T3_KR_UOS': ['root://cms.sscc.uos.ac.kr:1094//store/data/Run2017B/DoubleMuon/NANOAOD/UL2017_MiniAODv2_NanoAODv9-v1/120000/57045327-81E5-F24B-9D38-2B515EB380BA.root']},\n",
       " 'states': {'T3_IT_Trieste': 'AVAILABLE',\n",
       "  'T2_UK_London_IC': 'AVAILABLE',\n",
       "  'T1_DE_KIT_Disk': 'AVAILABLE',\n",
       "  'T3_KR_UOS': 'AVAILABLE',\n",
       "  'T3_KR_KISTI': 'AVAILABLE',\n",
       "  'T1_US_FNAL_Disk': 'AVAILABLE',\n",
       "  'T2_US_Caltech': 'AVAILABLE',\n",
       "  'T1_IT_CNAF_Disk': 'AVAILABLE',\n",
       "  'T2_DE_DESY': 'AVAILABLE',\n",
       "  'T1_RU_JINR_Disk': 'AVAILABLE',\n",
       "  'T2_BE_UCL': 'AVAILABLE',\n",
       "  'T3_US_NotreDame': 'AVAILABLE',\n",
       "  'T3_FR_IPNL': 'AVAILABLE',\n",
       "  'T2_AT_Vienna': 'AVAILABLE'}}"
      ]
     },
     "execution_count": 18,
     "metadata": {},
     "output_type": "execute_result"
    }
   ],
   "source": [
    "data[0]"
   ]
  },
  {
   "cell_type": "code",
   "execution_count": null,
   "id": "64e773b0-c527-43dc-bc27-4970418a664e",
   "metadata": {},
   "outputs": [],
   "source": [
    "\n",
    "def get_dataset_files(dataset, whitelist_sites = None, blacklist_sites = None, sites_regex = None ):\n",
    "    client = get_rucio_client()\n",
    "    for file in nativeClient.list_replicas([{\"scope\":\"cms\", \"name\": dataset}],\n",
    "                               schemes=[\"root\"]):"
   ]
  },
  {
   "cell_type": "code",
   "execution_count": null,
   "id": "6fa6074e-e8ac-4819-a658-22a6d2ff3a01",
   "metadata": {},
   "outputs": [],
   "source": []
  },
  {
   "cell_type": "code",
   "execution_count": 12,
   "id": "53867708-630b-43d1-8363-0cfc5aceb6ad",
   "metadata": {},
   "outputs": [
    {
     "data": {
      "text/plain": [
       "{'scope': 'cms',\n",
       " 'name': '/store/mc/RunIISummer20UL18NanoAODv9/ttHTobb_M125_TuneCP5_13TeV-powheg-pythia8/NANOAODSIM/106X_upgrade2018_realistic_v16_L1v1-v2/100000/19922B78-283B-CD48-8A3D-0308D48A824A.root',\n",
       " 'bytes': 1195105635,\n",
       " 'md5': None,\n",
       " 'adler32': '1615063a',\n",
       " 'pfns': {'root://cmsdcadisk.fnal.gov:1094//dcache/uscmsdisk/store/mc/RunIISummer20UL18NanoAODv9/ttHTobb_M125_TuneCP5_13TeV-powheg-pythia8/NANOAODSIM/106X_upgrade2018_realistic_v16_L1v1-v2/100000/19922B78-283B-CD48-8A3D-0308D48A824A.root': {'rse_id': '087ee3383b9d45f6b31814af07b2c56d',\n",
       "   'rse': 'T1_US_FNAL_Disk',\n",
       "   'type': 'DISK',\n",
       "   'volatile': False,\n",
       "   'domain': 'wan',\n",
       "   'priority': 1,\n",
       "   'client_extract': False},\n",
       "  'root://eoscms.cern.ch:1094//eos/cms//store/mc/RunIISummer20UL18NanoAODv9/ttHTobb_M125_TuneCP5_13TeV-powheg-pythia8/NANOAODSIM/106X_upgrade2018_realistic_v16_L1v1-v2/100000/19922B78-283B-CD48-8A3D-0308D48A824A.root': {'rse_id': '542ab69d82bf401e9218bbe375bb1fce',\n",
       "   'rse': 'T2_CH_CERN',\n",
       "   'type': 'DISK',\n",
       "   'volatile': False,\n",
       "   'domain': 'wan',\n",
       "   'priority': 2,\n",
       "   'client_extract': False},\n",
       "  'root://ingrid-se03.cism.ucl.ac.be:1094//store/mc/RunIISummer20UL18NanoAODv9/ttHTobb_M125_TuneCP5_13TeV-powheg-pythia8/NANOAODSIM/106X_upgrade2018_realistic_v16_L1v1-v2/100000/19922B78-283B-CD48-8A3D-0308D48A824A.root': {'rse_id': '7d8250edece2494eb08aaedd6eb34f2d',\n",
       "   'rse': 'T2_BE_UCL',\n",
       "   'type': 'DISK',\n",
       "   'volatile': False,\n",
       "   'domain': 'wan',\n",
       "   'priority': 3,\n",
       "   'client_extract': False},\n",
       "  'root://se01.indiacms.res.in:1094//dpm/indiacms.res.in/home/cms//store/mc/RunIISummer20UL18NanoAODv9/ttHTobb_M125_TuneCP5_13TeV-powheg-pythia8/NANOAODSIM/106X_upgrade2018_realistic_v16_L1v1-v2/100000/19922B78-283B-CD48-8A3D-0308D48A824A.root': {'rse_id': 'fb19bfcb3f504ebc8d75949ecf97b51a',\n",
       "   'rse': 'T2_IN_TIFR',\n",
       "   'type': 'DISK',\n",
       "   'volatile': False,\n",
       "   'domain': 'wan',\n",
       "   'priority': 4,\n",
       "   'client_extract': False},\n",
       "  'root://t3se01.psi.ch:1094//store/mc/RunIISummer20UL18NanoAODv9/ttHTobb_M125_TuneCP5_13TeV-powheg-pythia8/NANOAODSIM/106X_upgrade2018_realistic_v16_L1v1-v2/100000/19922B78-283B-CD48-8A3D-0308D48A824A.root': {'rse_id': 'ec88b2ef814d4cbe9a4ceab7468482ab',\n",
       "   'rse': 'T3_CH_PSI',\n",
       "   'type': 'DISK',\n",
       "   'volatile': False,\n",
       "   'domain': 'wan',\n",
       "   'priority': 5,\n",
       "   'client_extract': False}},\n",
       " 'rses': {'T1_US_FNAL_Disk': ['root://cmsdcadisk.fnal.gov:1094//dcache/uscmsdisk/store/mc/RunIISummer20UL18NanoAODv9/ttHTobb_M125_TuneCP5_13TeV-powheg-pythia8/NANOAODSIM/106X_upgrade2018_realistic_v16_L1v1-v2/100000/19922B78-283B-CD48-8A3D-0308D48A824A.root'],\n",
       "  'T2_CH_CERN': ['root://eoscms.cern.ch:1094//eos/cms//store/mc/RunIISummer20UL18NanoAODv9/ttHTobb_M125_TuneCP5_13TeV-powheg-pythia8/NANOAODSIM/106X_upgrade2018_realistic_v16_L1v1-v2/100000/19922B78-283B-CD48-8A3D-0308D48A824A.root'],\n",
       "  'T2_BE_UCL': ['root://ingrid-se03.cism.ucl.ac.be:1094//store/mc/RunIISummer20UL18NanoAODv9/ttHTobb_M125_TuneCP5_13TeV-powheg-pythia8/NANOAODSIM/106X_upgrade2018_realistic_v16_L1v1-v2/100000/19922B78-283B-CD48-8A3D-0308D48A824A.root'],\n",
       "  'T3_CH_PSI': ['root://t3se01.psi.ch:1094//store/mc/RunIISummer20UL18NanoAODv9/ttHTobb_M125_TuneCP5_13TeV-powheg-pythia8/NANOAODSIM/106X_upgrade2018_realistic_v16_L1v1-v2/100000/19922B78-283B-CD48-8A3D-0308D48A824A.root'],\n",
       "  'T2_IN_TIFR': ['root://se01.indiacms.res.in:1094//dpm/indiacms.res.in/home/cms//store/mc/RunIISummer20UL18NanoAODv9/ttHTobb_M125_TuneCP5_13TeV-powheg-pythia8/NANOAODSIM/106X_upgrade2018_realistic_v16_L1v1-v2/100000/19922B78-283B-CD48-8A3D-0308D48A824A.root']},\n",
       " 'states': {'T1_US_FNAL_Disk': 'AVAILABLE',\n",
       "  'T1_FR_CCIN2P3_Disk': 'AVAILABLE',\n",
       "  'T3_KR_KISTI': 'AVAILABLE',\n",
       "  'T2_CH_CERN': 'AVAILABLE',\n",
       "  'T1_RU_JINR_Tape': 'UNAVAILABLE',\n",
       "  'T2_IN_TIFR': 'AVAILABLE',\n",
       "  'T2_BE_UCL': 'AVAILABLE',\n",
       "  'T2_BR_SPRACE': 'AVAILABLE',\n",
       "  'T1_IT_CNAF_Disk': 'AVAILABLE',\n",
       "  'T3_CH_PSI': 'AVAILABLE',\n",
       "  'T2_KR_KISTI': 'AVAILABLE'}}"
      ]
     },
     "execution_count": 12,
     "metadata": {},
     "output_type": "execute_result"
    }
   ],
   "source": [
    "data[0]"
   ]
  },
  {
   "cell_type": "code",
   "execution_count": 10,
   "id": "08766690-ecaa-424d-8708-eacd78a42b3b",
   "metadata": {},
   "outputs": [
    {
     "data": {
      "text/plain": [
       "{'T1_US_FNAL_Disk': ['root://cmsdcadisk.fnal.gov:1094//dcache/uscmsdisk/store/mc/RunIISummer20UL18NanoAODv9/ttHTobb_M125_TuneCP5_13TeV-powheg-pythia8/NANOAODSIM/106X_upgrade2018_realistic_v16_L1v1-v2/100000/19922B78-283B-CD48-8A3D-0308D48A824A.root'],\n",
       " 'T2_CH_CERN': ['root://eoscms.cern.ch:1094//eos/cms//store/mc/RunIISummer20UL18NanoAODv9/ttHTobb_M125_TuneCP5_13TeV-powheg-pythia8/NANOAODSIM/106X_upgrade2018_realistic_v16_L1v1-v2/100000/19922B78-283B-CD48-8A3D-0308D48A824A.root'],\n",
       " 'T2_BE_UCL': ['root://ingrid-se03.cism.ucl.ac.be:1094//store/mc/RunIISummer20UL18NanoAODv9/ttHTobb_M125_TuneCP5_13TeV-powheg-pythia8/NANOAODSIM/106X_upgrade2018_realistic_v16_L1v1-v2/100000/19922B78-283B-CD48-8A3D-0308D48A824A.root'],\n",
       " 'T3_CH_PSI': ['root://t3se01.psi.ch:1094//store/mc/RunIISummer20UL18NanoAODv9/ttHTobb_M125_TuneCP5_13TeV-powheg-pythia8/NANOAODSIM/106X_upgrade2018_realistic_v16_L1v1-v2/100000/19922B78-283B-CD48-8A3D-0308D48A824A.root'],\n",
       " 'T2_IN_TIFR': ['root://se01.indiacms.res.in:1094//dpm/indiacms.res.in/home/cms//store/mc/RunIISummer20UL18NanoAODv9/ttHTobb_M125_TuneCP5_13TeV-powheg-pythia8/NANOAODSIM/106X_upgrade2018_realistic_v16_L1v1-v2/100000/19922B78-283B-CD48-8A3D-0308D48A824A.root']}"
      ]
     },
     "execution_count": 10,
     "metadata": {},
     "output_type": "execute_result"
    }
   ],
   "source": [
    "data[0][\"rses\"]"
   ]
  },
  {
   "cell_type": "code",
   "execution_count": 57,
   "id": "0fdb4ae7-3b56-49d1-a08a-006958afb4eb",
   "metadata": {},
   "outputs": [
    {
     "data": {
      "text/plain": [
       "{'T1_US_FNAL_Disk': ['root://cmsdcadisk.fnal.gov:1094//dcache/uscmsdisk/store/mc/RunIISummer20UL18NanoAODv9/ttHTobb_M125_TuneCP5_13TeV-powheg-pythia8/NANOAODSIM/106X_upgrade2018_realistic_v16_L1v1-v2/100000/526155A8-CE1E-A04F-A5D0-77109729B902.root'],\n",
       " 'T2_IT_Bari': ['root://xrootd.ba.infn.it:1094//store/mc/RunIISummer20UL18NanoAODv9/ttHTobb_M125_TuneCP5_13TeV-powheg-pythia8/NANOAODSIM/106X_upgrade2018_realistic_v16_L1v1-v2/100000/526155A8-CE1E-A04F-A5D0-77109729B902.root'],\n",
       " 'T2_BE_UCL': ['root://ingrid-se03.cism.ucl.ac.be:1094//store/mc/RunIISummer20UL18NanoAODv9/ttHTobb_M125_TuneCP5_13TeV-powheg-pythia8/NANOAODSIM/106X_upgrade2018_realistic_v16_L1v1-v2/100000/526155A8-CE1E-A04F-A5D0-77109729B902.root'],\n",
       " 'T3_CH_PSI': ['root://t3se01.psi.ch:1094//store/mc/RunIISummer20UL18NanoAODv9/ttHTobb_M125_TuneCP5_13TeV-powheg-pythia8/NANOAODSIM/106X_upgrade2018_realistic_v16_L1v1-v2/100000/526155A8-CE1E-A04F-A5D0-77109729B902.root']}"
      ]
     },
     "execution_count": 57,
     "metadata": {},
     "output_type": "execute_result"
    }
   ],
   "source": [
    "data[1][\"rses\"]"
   ]
  },
  {
   "cell_type": "code",
   "execution_count": 25,
   "id": "85ea5b2c-eff8-4966-8e70-721aad96f0e4",
   "metadata": {},
   "outputs": [
    {
     "data": {
      "text/plain": [
       "{'scope': 'cms',\n",
       " 'name': '/store/mc/RunIISummer20UL18NanoAODv9/ttHTobb_M125_TuneCP5_13TeV-powheg-pythia8/NANOAODSIM/106X_upgrade2018_realistic_v16_L1v1-v2/100000/19922B78-283B-CD48-8A3D-0308D48A824A.root',\n",
       " 'bytes': 1195105635,\n",
       " 'md5': None,\n",
       " 'adler32': '1615063a',\n",
       " 'pfns': {'root://cmsdcadisk.fnal.gov:1094//dcache/uscmsdisk/store/mc/RunIISummer20UL18NanoAODv9/ttHTobb_M125_TuneCP5_13TeV-powheg-pythia8/NANOAODSIM/106X_upgrade2018_realistic_v16_L1v1-v2/100000/19922B78-283B-CD48-8A3D-0308D48A824A.root': {'rse_id': '087ee3383b9d45f6b31814af07b2c56d',\n",
       "   'rse': 'T1_US_FNAL_Disk',\n",
       "   'type': 'DISK',\n",
       "   'volatile': False,\n",
       "   'domain': 'wan',\n",
       "   'priority': 1,\n",
       "   'client_extract': False},\n",
       "  'root://ingrid-se03.cism.ucl.ac.be:1094//store/mc/RunIISummer20UL18NanoAODv9/ttHTobb_M125_TuneCP5_13TeV-powheg-pythia8/NANOAODSIM/106X_upgrade2018_realistic_v16_L1v1-v2/100000/19922B78-283B-CD48-8A3D-0308D48A824A.root': {'rse_id': '7d8250edece2494eb08aaedd6eb34f2d',\n",
       "   'rse': 'T2_BE_UCL',\n",
       "   'type': 'DISK',\n",
       "   'volatile': False,\n",
       "   'domain': 'wan',\n",
       "   'priority': 2,\n",
       "   'client_extract': False},\n",
       "  'root://se01.indiacms.res.in:1094//dpm/indiacms.res.in/home/cms//store/mc/RunIISummer20UL18NanoAODv9/ttHTobb_M125_TuneCP5_13TeV-powheg-pythia8/NANOAODSIM/106X_upgrade2018_realistic_v16_L1v1-v2/100000/19922B78-283B-CD48-8A3D-0308D48A824A.root': {'rse_id': 'fb19bfcb3f504ebc8d75949ecf97b51a',\n",
       "   'rse': 'T2_IN_TIFR',\n",
       "   'type': 'DISK',\n",
       "   'volatile': False,\n",
       "   'domain': 'wan',\n",
       "   'priority': 3,\n",
       "   'client_extract': False},\n",
       "  'root://t3se01.psi.ch:1094//store/mc/RunIISummer20UL18NanoAODv9/ttHTobb_M125_TuneCP5_13TeV-powheg-pythia8/NANOAODSIM/106X_upgrade2018_realistic_v16_L1v1-v2/100000/19922B78-283B-CD48-8A3D-0308D48A824A.root': {'rse_id': 'ec88b2ef814d4cbe9a4ceab7468482ab',\n",
       "   'rse': 'T3_CH_PSI',\n",
       "   'type': 'DISK',\n",
       "   'volatile': False,\n",
       "   'domain': 'wan',\n",
       "   'priority': 4,\n",
       "   'client_extract': False},\n",
       "  'root://xrootd.echo.stfc.ac.uk:1094//store/mc/RunIISummer20UL18NanoAODv9/ttHTobb_M125_TuneCP5_13TeV-powheg-pythia8/NANOAODSIM/106X_upgrade2018_realistic_v16_L1v1-v2/100000/19922B78-283B-CD48-8A3D-0308D48A824A.root': {'rse_id': '69dc2e6f37f84650bf96f9cc1ecb1fbf',\n",
       "   'rse': 'T1_UK_RAL_Disk',\n",
       "   'type': 'DISK',\n",
       "   'volatile': False,\n",
       "   'domain': 'wan',\n",
       "   'priority': 5,\n",
       "   'client_extract': False}},\n",
       " 'rses': {'T1_US_FNAL_Disk': ['root://cmsdcadisk.fnal.gov:1094//dcache/uscmsdisk/store/mc/RunIISummer20UL18NanoAODv9/ttHTobb_M125_TuneCP5_13TeV-powheg-pythia8/NANOAODSIM/106X_upgrade2018_realistic_v16_L1v1-v2/100000/19922B78-283B-CD48-8A3D-0308D48A824A.root'],\n",
       "  'T1_UK_RAL_Disk': ['root://xrootd.echo.stfc.ac.uk:1094//store/mc/RunIISummer20UL18NanoAODv9/ttHTobb_M125_TuneCP5_13TeV-powheg-pythia8/NANOAODSIM/106X_upgrade2018_realistic_v16_L1v1-v2/100000/19922B78-283B-CD48-8A3D-0308D48A824A.root'],\n",
       "  'T2_BE_UCL': ['root://ingrid-se03.cism.ucl.ac.be:1094//store/mc/RunIISummer20UL18NanoAODv9/ttHTobb_M125_TuneCP5_13TeV-powheg-pythia8/NANOAODSIM/106X_upgrade2018_realistic_v16_L1v1-v2/100000/19922B78-283B-CD48-8A3D-0308D48A824A.root'],\n",
       "  'T3_CH_PSI': ['root://t3se01.psi.ch:1094//store/mc/RunIISummer20UL18NanoAODv9/ttHTobb_M125_TuneCP5_13TeV-powheg-pythia8/NANOAODSIM/106X_upgrade2018_realistic_v16_L1v1-v2/100000/19922B78-283B-CD48-8A3D-0308D48A824A.root'],\n",
       "  'T2_IN_TIFR': ['root://se01.indiacms.res.in:1094//dpm/indiacms.res.in/home/cms//store/mc/RunIISummer20UL18NanoAODv9/ttHTobb_M125_TuneCP5_13TeV-powheg-pythia8/NANOAODSIM/106X_upgrade2018_realistic_v16_L1v1-v2/100000/19922B78-283B-CD48-8A3D-0308D48A824A.root']},\n",
       " 'states': {'T1_FR_CCIN2P3_Disk': 'AVAILABLE',\n",
       "  'T3_KR_KISTI': 'AVAILABLE',\n",
       "  'T1_UK_RAL_Disk': 'AVAILABLE',\n",
       "  'T1_RU_JINR_Tape': 'UNAVAILABLE',\n",
       "  'T2_KR_KISTI': 'AVAILABLE',\n",
       "  'T2_IN_TIFR': 'AVAILABLE',\n",
       "  'T2_BR_SPRACE': 'AVAILABLE',\n",
       "  'T1_IT_CNAF_Disk': 'AVAILABLE',\n",
       "  'T3_CH_PSI': 'AVAILABLE',\n",
       "  'T1_US_FNAL_Disk': 'AVAILABLE',\n",
       "  'T2_BE_UCL': 'AVAILABLE'}}"
      ]
     },
     "execution_count": 25,
     "metadata": {},
     "output_type": "execute_result"
    }
   ],
   "source": [
    "data[0]"
   ]
  },
  {
   "cell_type": "code",
   "execution_count": 60,
   "id": "595f46a4-864d-47a7-90ad-9325b5880cbd",
   "metadata": {},
   "outputs": [
    {
     "data": {
      "text/plain": [
       "{'root://cmsdcadisk.fnal.gov:1094//dcache/uscmsdisk/store/mc/RunIISummer20UL18NanoAODv9/ttHTobb_M125_TuneCP5_13TeV-powheg-pythia8/NANOAODSIM/106X_upgrade2018_realistic_v16_L1v1-v2/100000/526155A8-CE1E-A04F-A5D0-77109729B902.root': {'rse_id': '087ee3383b9d45f6b31814af07b2c56d',\n",
       "  'rse': 'T1_US_FNAL_Disk',\n",
       "  'type': 'DISK',\n",
       "  'volatile': False,\n",
       "  'domain': 'wan',\n",
       "  'priority': 1,\n",
       "  'client_extract': False},\n",
       " 'root://ingrid-se03.cism.ucl.ac.be:1094//store/mc/RunIISummer20UL18NanoAODv9/ttHTobb_M125_TuneCP5_13TeV-powheg-pythia8/NANOAODSIM/106X_upgrade2018_realistic_v16_L1v1-v2/100000/526155A8-CE1E-A04F-A5D0-77109729B902.root': {'rse_id': '7d8250edece2494eb08aaedd6eb34f2d',\n",
       "  'rse': 'T2_BE_UCL',\n",
       "  'type': 'DISK',\n",
       "  'volatile': False,\n",
       "  'domain': 'wan',\n",
       "  'priority': 2,\n",
       "  'client_extract': False},\n",
       " 'root://t3se01.psi.ch:1094//store/mc/RunIISummer20UL18NanoAODv9/ttHTobb_M125_TuneCP5_13TeV-powheg-pythia8/NANOAODSIM/106X_upgrade2018_realistic_v16_L1v1-v2/100000/526155A8-CE1E-A04F-A5D0-77109729B902.root': {'rse_id': 'ec88b2ef814d4cbe9a4ceab7468482ab',\n",
       "  'rse': 'T3_CH_PSI',\n",
       "  'type': 'DISK',\n",
       "  'volatile': False,\n",
       "  'domain': 'wan',\n",
       "  'priority': 3,\n",
       "  'client_extract': False},\n",
       " 'root://xrootd.ba.infn.it:1094//store/mc/RunIISummer20UL18NanoAODv9/ttHTobb_M125_TuneCP5_13TeV-powheg-pythia8/NANOAODSIM/106X_upgrade2018_realistic_v16_L1v1-v2/100000/526155A8-CE1E-A04F-A5D0-77109729B902.root': {'rse_id': '5175b9ddaed0484cbe9678c9cd260d28',\n",
       "  'rse': 'T2_IT_Bari',\n",
       "  'type': 'DISK',\n",
       "  'volatile': False,\n",
       "  'domain': 'wan',\n",
       "  'priority': 4,\n",
       "  'client_extract': False}}"
      ]
     },
     "execution_count": 60,
     "metadata": {},
     "output_type": "execute_result"
    }
   ],
   "source": [
    "data[1][\"pfns\"]"
   ]
  },
  {
   "cell_type": "code",
   "execution_count": 70,
   "id": "d0c92650-318b-4a7d-86d2-b85402df82bc",
   "metadata": {
    "collapsed": true,
    "jupyter": {
     "outputs_hidden": true
    },
    "tags": []
   },
   "outputs": [
    {
     "data": {
      "text/plain": [
       "[{'scope': 'cms',\n",
       "  'name': '/ttHTobb_M125_TuneCP5_13TeV-powheg-pythia8/RunIISummer20UL18NanoAODv9-106X_upgrade2018_realistic_v16_L1v1-v2/NANOAODSIM#003d1aa9-28ec-487c-b3cf-6a1bdca8ad1a',\n",
       "  'type': 'DATASET',\n",
       "  'bytes': None,\n",
       "  'adler32': None,\n",
       "  'md5': None},\n",
       " {'scope': 'cms',\n",
       "  'name': '/ttHTobb_M125_TuneCP5_13TeV-powheg-pythia8/RunIISummer20UL18NanoAODv9-106X_upgrade2018_realistic_v16_L1v1-v2/NANOAODSIM#0255bd95-e81f-44ee-bd6b-e11fa41d63a5',\n",
       "  'type': 'DATASET',\n",
       "  'bytes': None,\n",
       "  'adler32': None,\n",
       "  'md5': None},\n",
       " {'scope': 'cms',\n",
       "  'name': '/ttHTobb_M125_TuneCP5_13TeV-powheg-pythia8/RunIISummer20UL18NanoAODv9-106X_upgrade2018_realistic_v16_L1v1-v2/NANOAODSIM#0329fbe4-9768-439a-8c34-b6df978ea5e6',\n",
       "  'type': 'DATASET',\n",
       "  'bytes': None,\n",
       "  'adler32': None,\n",
       "  'md5': None},\n",
       " {'scope': 'cms',\n",
       "  'name': '/ttHTobb_M125_TuneCP5_13TeV-powheg-pythia8/RunIISummer20UL18NanoAODv9-106X_upgrade2018_realistic_v16_L1v1-v2/NANOAODSIM#04bee388-9d28-4659-a224-14577abe7bbf',\n",
       "  'type': 'DATASET',\n",
       "  'bytes': None,\n",
       "  'adler32': None,\n",
       "  'md5': None},\n",
       " {'scope': 'cms',\n",
       "  'name': '/ttHTobb_M125_TuneCP5_13TeV-powheg-pythia8/RunIISummer20UL18NanoAODv9-106X_upgrade2018_realistic_v16_L1v1-v2/NANOAODSIM#06c43472-d00f-4b60-83a6-2fe1b79d0516',\n",
       "  'type': 'DATASET',\n",
       "  'bytes': None,\n",
       "  'adler32': None,\n",
       "  'md5': None},\n",
       " {'scope': 'cms',\n",
       "  'name': '/ttHTobb_M125_TuneCP5_13TeV-powheg-pythia8/RunIISummer20UL18NanoAODv9-106X_upgrade2018_realistic_v16_L1v1-v2/NANOAODSIM#07e3a266-5fa1-4ed4-a59b-07f76647215c',\n",
       "  'type': 'DATASET',\n",
       "  'bytes': None,\n",
       "  'adler32': None,\n",
       "  'md5': None},\n",
       " {'scope': 'cms',\n",
       "  'name': '/ttHTobb_M125_TuneCP5_13TeV-powheg-pythia8/RunIISummer20UL18NanoAODv9-106X_upgrade2018_realistic_v16_L1v1-v2/NANOAODSIM#151c5959-6ae0-4ae2-9953-b1b33f95b35f',\n",
       "  'type': 'DATASET',\n",
       "  'bytes': None,\n",
       "  'adler32': None,\n",
       "  'md5': None},\n",
       " {'scope': 'cms',\n",
       "  'name': '/ttHTobb_M125_TuneCP5_13TeV-powheg-pythia8/RunIISummer20UL18NanoAODv9-106X_upgrade2018_realistic_v16_L1v1-v2/NANOAODSIM#24f7182d-54be-48ac-aeff-dbcbd13a9dc5',\n",
       "  'type': 'DATASET',\n",
       "  'bytes': None,\n",
       "  'adler32': None,\n",
       "  'md5': None},\n",
       " {'scope': 'cms',\n",
       "  'name': '/ttHTobb_M125_TuneCP5_13TeV-powheg-pythia8/RunIISummer20UL18NanoAODv9-106X_upgrade2018_realistic_v16_L1v1-v2/NANOAODSIM#2b3d5865-d3d7-48e5-8898-ca3035d139c4',\n",
       "  'type': 'DATASET',\n",
       "  'bytes': None,\n",
       "  'adler32': None,\n",
       "  'md5': None},\n",
       " {'scope': 'cms',\n",
       "  'name': '/ttHTobb_M125_TuneCP5_13TeV-powheg-pythia8/RunIISummer20UL18NanoAODv9-106X_upgrade2018_realistic_v16_L1v1-v2/NANOAODSIM#2f073aed-77dc-46d5-9784-e35ccabed22a',\n",
       "  'type': 'DATASET',\n",
       "  'bytes': None,\n",
       "  'adler32': None,\n",
       "  'md5': None},\n",
       " {'scope': 'cms',\n",
       "  'name': '/ttHTobb_M125_TuneCP5_13TeV-powheg-pythia8/RunIISummer20UL18NanoAODv9-106X_upgrade2018_realistic_v16_L1v1-v2/NANOAODSIM#30949b60-1bc9-4e53-a656-d4e631128f27',\n",
       "  'type': 'DATASET',\n",
       "  'bytes': None,\n",
       "  'adler32': None,\n",
       "  'md5': None},\n",
       " {'scope': 'cms',\n",
       "  'name': '/ttHTobb_M125_TuneCP5_13TeV-powheg-pythia8/RunIISummer20UL18NanoAODv9-106X_upgrade2018_realistic_v16_L1v1-v2/NANOAODSIM#3194f5b2-69cc-4c88-9fd5-46a237cc7882',\n",
       "  'type': 'DATASET',\n",
       "  'bytes': None,\n",
       "  'adler32': None,\n",
       "  'md5': None},\n",
       " {'scope': 'cms',\n",
       "  'name': '/ttHTobb_M125_TuneCP5_13TeV-powheg-pythia8/RunIISummer20UL18NanoAODv9-106X_upgrade2018_realistic_v16_L1v1-v2/NANOAODSIM#336d4950-aaa7-4d91-8953-c9be19ad290a',\n",
       "  'type': 'DATASET',\n",
       "  'bytes': None,\n",
       "  'adler32': None,\n",
       "  'md5': None},\n",
       " {'scope': 'cms',\n",
       "  'name': '/ttHTobb_M125_TuneCP5_13TeV-powheg-pythia8/RunIISummer20UL18NanoAODv9-106X_upgrade2018_realistic_v16_L1v1-v2/NANOAODSIM#3452683a-7f76-42c0-95cd-a177ea5f16c1',\n",
       "  'type': 'DATASET',\n",
       "  'bytes': None,\n",
       "  'adler32': None,\n",
       "  'md5': None},\n",
       " {'scope': 'cms',\n",
       "  'name': '/ttHTobb_M125_TuneCP5_13TeV-powheg-pythia8/RunIISummer20UL18NanoAODv9-106X_upgrade2018_realistic_v16_L1v1-v2/NANOAODSIM#3ce59045-2f50-4f62-8ece-9272f397d785',\n",
       "  'type': 'DATASET',\n",
       "  'bytes': None,\n",
       "  'adler32': None,\n",
       "  'md5': None},\n",
       " {'scope': 'cms',\n",
       "  'name': '/ttHTobb_M125_TuneCP5_13TeV-powheg-pythia8/RunIISummer20UL18NanoAODv9-106X_upgrade2018_realistic_v16_L1v1-v2/NANOAODSIM#3f549956-0da4-4b85-bb7b-8abaf1cbf5ef',\n",
       "  'type': 'DATASET',\n",
       "  'bytes': None,\n",
       "  'adler32': None,\n",
       "  'md5': None},\n",
       " {'scope': 'cms',\n",
       "  'name': '/ttHTobb_M125_TuneCP5_13TeV-powheg-pythia8/RunIISummer20UL18NanoAODv9-106X_upgrade2018_realistic_v16_L1v1-v2/NANOAODSIM#416c0ed7-c4e5-4ef8-9b41-a71247fcae56',\n",
       "  'type': 'DATASET',\n",
       "  'bytes': None,\n",
       "  'adler32': None,\n",
       "  'md5': None},\n",
       " {'scope': 'cms',\n",
       "  'name': '/ttHTobb_M125_TuneCP5_13TeV-powheg-pythia8/RunIISummer20UL18NanoAODv9-106X_upgrade2018_realistic_v16_L1v1-v2/NANOAODSIM#4d00b636-2e85-4ad5-81d3-4f37f53853ba',\n",
       "  'type': 'DATASET',\n",
       "  'bytes': None,\n",
       "  'adler32': None,\n",
       "  'md5': None},\n",
       " {'scope': 'cms',\n",
       "  'name': '/ttHTobb_M125_TuneCP5_13TeV-powheg-pythia8/RunIISummer20UL18NanoAODv9-106X_upgrade2018_realistic_v16_L1v1-v2/NANOAODSIM#513cfe2b-1779-4a26-8f63-96ee340ff6de',\n",
       "  'type': 'DATASET',\n",
       "  'bytes': None,\n",
       "  'adler32': None,\n",
       "  'md5': None},\n",
       " {'scope': 'cms',\n",
       "  'name': '/ttHTobb_M125_TuneCP5_13TeV-powheg-pythia8/RunIISummer20UL18NanoAODv9-106X_upgrade2018_realistic_v16_L1v1-v2/NANOAODSIM#5205f106-2464-4b36-bd95-8783c89dd1b1',\n",
       "  'type': 'DATASET',\n",
       "  'bytes': None,\n",
       "  'adler32': None,\n",
       "  'md5': None},\n",
       " {'scope': 'cms',\n",
       "  'name': '/ttHTobb_M125_TuneCP5_13TeV-powheg-pythia8/RunIISummer20UL18NanoAODv9-106X_upgrade2018_realistic_v16_L1v1-v2/NANOAODSIM#52c0e1fe-feb0-4c10-9f4c-5378ac259db8',\n",
       "  'type': 'DATASET',\n",
       "  'bytes': None,\n",
       "  'adler32': None,\n",
       "  'md5': None},\n",
       " {'scope': 'cms',\n",
       "  'name': '/ttHTobb_M125_TuneCP5_13TeV-powheg-pythia8/RunIISummer20UL18NanoAODv9-106X_upgrade2018_realistic_v16_L1v1-v2/NANOAODSIM#55557615-9856-45e2-9616-10c3496870cb',\n",
       "  'type': 'DATASET',\n",
       "  'bytes': None,\n",
       "  'adler32': None,\n",
       "  'md5': None},\n",
       " {'scope': 'cms',\n",
       "  'name': '/ttHTobb_M125_TuneCP5_13TeV-powheg-pythia8/RunIISummer20UL18NanoAODv9-106X_upgrade2018_realistic_v16_L1v1-v2/NANOAODSIM#562827a4-e4c5-4009-835c-84295bdc0386',\n",
       "  'type': 'DATASET',\n",
       "  'bytes': None,\n",
       "  'adler32': None,\n",
       "  'md5': None},\n",
       " {'scope': 'cms',\n",
       "  'name': '/ttHTobb_M125_TuneCP5_13TeV-powheg-pythia8/RunIISummer20UL18NanoAODv9-106X_upgrade2018_realistic_v16_L1v1-v2/NANOAODSIM#62c502d1-1060-44d1-baa4-a77373d5d0c6',\n",
       "  'type': 'DATASET',\n",
       "  'bytes': None,\n",
       "  'adler32': None,\n",
       "  'md5': None},\n",
       " {'scope': 'cms',\n",
       "  'name': '/ttHTobb_M125_TuneCP5_13TeV-powheg-pythia8/RunIISummer20UL18NanoAODv9-106X_upgrade2018_realistic_v16_L1v1-v2/NANOAODSIM#72f8245f-511a-42f8-9560-896646483390',\n",
       "  'type': 'DATASET',\n",
       "  'bytes': None,\n",
       "  'adler32': None,\n",
       "  'md5': None},\n",
       " {'scope': 'cms',\n",
       "  'name': '/ttHTobb_M125_TuneCP5_13TeV-powheg-pythia8/RunIISummer20UL18NanoAODv9-106X_upgrade2018_realistic_v16_L1v1-v2/NANOAODSIM#7583f7e9-d176-4bcd-86e3-e9e2e678486a',\n",
       "  'type': 'DATASET',\n",
       "  'bytes': None,\n",
       "  'adler32': None,\n",
       "  'md5': None},\n",
       " {'scope': 'cms',\n",
       "  'name': '/ttHTobb_M125_TuneCP5_13TeV-powheg-pythia8/RunIISummer20UL18NanoAODv9-106X_upgrade2018_realistic_v16_L1v1-v2/NANOAODSIM#80065f27-593a-4eb4-9386-4ff5612419fd',\n",
       "  'type': 'DATASET',\n",
       "  'bytes': None,\n",
       "  'adler32': None,\n",
       "  'md5': None},\n",
       " {'scope': 'cms',\n",
       "  'name': '/ttHTobb_M125_TuneCP5_13TeV-powheg-pythia8/RunIISummer20UL18NanoAODv9-106X_upgrade2018_realistic_v16_L1v1-v2/NANOAODSIM#93e654d6-a677-4335-a858-1f681133cf61',\n",
       "  'type': 'DATASET',\n",
       "  'bytes': None,\n",
       "  'adler32': None,\n",
       "  'md5': None},\n",
       " {'scope': 'cms',\n",
       "  'name': '/ttHTobb_M125_TuneCP5_13TeV-powheg-pythia8/RunIISummer20UL18NanoAODv9-106X_upgrade2018_realistic_v16_L1v1-v2/NANOAODSIM#96208a73-e8ef-4311-8cc4-9b72894c50ef',\n",
       "  'type': 'DATASET',\n",
       "  'bytes': None,\n",
       "  'adler32': None,\n",
       "  'md5': None},\n",
       " {'scope': 'cms',\n",
       "  'name': '/ttHTobb_M125_TuneCP5_13TeV-powheg-pythia8/RunIISummer20UL18NanoAODv9-106X_upgrade2018_realistic_v16_L1v1-v2/NANOAODSIM#9a77b4cb-3b2e-482a-9736-4971e20af4f4',\n",
       "  'type': 'DATASET',\n",
       "  'bytes': None,\n",
       "  'adler32': None,\n",
       "  'md5': None},\n",
       " {'scope': 'cms',\n",
       "  'name': '/ttHTobb_M125_TuneCP5_13TeV-powheg-pythia8/RunIISummer20UL18NanoAODv9-106X_upgrade2018_realistic_v16_L1v1-v2/NANOAODSIM#a04aaead-cda3-47bb-a64d-97d6aef0caca',\n",
       "  'type': 'DATASET',\n",
       "  'bytes': None,\n",
       "  'adler32': None,\n",
       "  'md5': None},\n",
       " {'scope': 'cms',\n",
       "  'name': '/ttHTobb_M125_TuneCP5_13TeV-powheg-pythia8/RunIISummer20UL18NanoAODv9-106X_upgrade2018_realistic_v16_L1v1-v2/NANOAODSIM#b0e6e2ee-1d27-45b0-af0b-4dea538ee496',\n",
       "  'type': 'DATASET',\n",
       "  'bytes': None,\n",
       "  'adler32': None,\n",
       "  'md5': None},\n",
       " {'scope': 'cms',\n",
       "  'name': '/ttHTobb_M125_TuneCP5_13TeV-powheg-pythia8/RunIISummer20UL18NanoAODv9-106X_upgrade2018_realistic_v16_L1v1-v2/NANOAODSIM#b5f7dd79-3e3c-4ace-8817-746b97b9208a',\n",
       "  'type': 'DATASET',\n",
       "  'bytes': None,\n",
       "  'adler32': None,\n",
       "  'md5': None},\n",
       " {'scope': 'cms',\n",
       "  'name': '/ttHTobb_M125_TuneCP5_13TeV-powheg-pythia8/RunIISummer20UL18NanoAODv9-106X_upgrade2018_realistic_v16_L1v1-v2/NANOAODSIM#bbfc6ba3-0648-4db3-89c0-936faa2bd947',\n",
       "  'type': 'DATASET',\n",
       "  'bytes': None,\n",
       "  'adler32': None,\n",
       "  'md5': None},\n",
       " {'scope': 'cms',\n",
       "  'name': '/ttHTobb_M125_TuneCP5_13TeV-powheg-pythia8/RunIISummer20UL18NanoAODv9-106X_upgrade2018_realistic_v16_L1v1-v2/NANOAODSIM#bd3b2713-059f-4c87-8379-26add7f54bad',\n",
       "  'type': 'DATASET',\n",
       "  'bytes': None,\n",
       "  'adler32': None,\n",
       "  'md5': None},\n",
       " {'scope': 'cms',\n",
       "  'name': '/ttHTobb_M125_TuneCP5_13TeV-powheg-pythia8/RunIISummer20UL18NanoAODv9-106X_upgrade2018_realistic_v16_L1v1-v2/NANOAODSIM#cf9f8bb5-fa67-4fe1-b469-2eb06045ed41',\n",
       "  'type': 'DATASET',\n",
       "  'bytes': None,\n",
       "  'adler32': None,\n",
       "  'md5': None},\n",
       " {'scope': 'cms',\n",
       "  'name': '/ttHTobb_M125_TuneCP5_13TeV-powheg-pythia8/RunIISummer20UL18NanoAODv9-106X_upgrade2018_realistic_v16_L1v1-v2/NANOAODSIM#d19dce2b-80d3-4192-b733-5d5ddba47e58',\n",
       "  'type': 'DATASET',\n",
       "  'bytes': None,\n",
       "  'adler32': None,\n",
       "  'md5': None},\n",
       " {'scope': 'cms',\n",
       "  'name': '/ttHTobb_M125_TuneCP5_13TeV-powheg-pythia8/RunIISummer20UL18NanoAODv9-106X_upgrade2018_realistic_v16_L1v1-v2/NANOAODSIM#d5770f1f-489b-4e04-8edc-4c5aa166c0d4',\n",
       "  'type': 'DATASET',\n",
       "  'bytes': None,\n",
       "  'adler32': None,\n",
       "  'md5': None},\n",
       " {'scope': 'cms',\n",
       "  'name': '/ttHTobb_M125_TuneCP5_13TeV-powheg-pythia8/RunIISummer20UL18NanoAODv9-106X_upgrade2018_realistic_v16_L1v1-v2/NANOAODSIM#df7db83f-1c90-4995-b15c-fa11efc106d1',\n",
       "  'type': 'DATASET',\n",
       "  'bytes': None,\n",
       "  'adler32': None,\n",
       "  'md5': None},\n",
       " {'scope': 'cms',\n",
       "  'name': '/ttHTobb_M125_TuneCP5_13TeV-powheg-pythia8/RunIISummer20UL18NanoAODv9-106X_upgrade2018_realistic_v16_L1v1-v2/NANOAODSIM#e3638f63-5947-4538-91a0-d4a7e793ca7d',\n",
       "  'type': 'DATASET',\n",
       "  'bytes': None,\n",
       "  'adler32': None,\n",
       "  'md5': None},\n",
       " {'scope': 'cms',\n",
       "  'name': '/ttHTobb_M125_TuneCP5_13TeV-powheg-pythia8/RunIISummer20UL18NanoAODv9-106X_upgrade2018_realistic_v16_L1v1-v2/NANOAODSIM#e5a9c3ea-611f-4f41-8aa6-6636ff69d8be',\n",
       "  'type': 'DATASET',\n",
       "  'bytes': None,\n",
       "  'adler32': None,\n",
       "  'md5': None},\n",
       " {'scope': 'cms',\n",
       "  'name': '/ttHTobb_M125_TuneCP5_13TeV-powheg-pythia8/RunIISummer20UL18NanoAODv9-106X_upgrade2018_realistic_v16_L1v1-v2/NANOAODSIM#e9dadb9a-3484-48c9-b379-8ce79e2684df',\n",
       "  'type': 'DATASET',\n",
       "  'bytes': None,\n",
       "  'adler32': None,\n",
       "  'md5': None},\n",
       " {'scope': 'cms',\n",
       "  'name': '/ttHTobb_M125_TuneCP5_13TeV-powheg-pythia8/RunIISummer20UL18NanoAODv9-106X_upgrade2018_realistic_v16_L1v1-v2/NANOAODSIM#ead7f73e-638a-4892-9e12-b593cfff9217',\n",
       "  'type': 'DATASET',\n",
       "  'bytes': None,\n",
       "  'adler32': None,\n",
       "  'md5': None},\n",
       " {'scope': 'cms',\n",
       "  'name': '/ttHTobb_M125_TuneCP5_13TeV-powheg-pythia8/RunIISummer20UL18NanoAODv9-106X_upgrade2018_realistic_v16_L1v1-v2/NANOAODSIM#f213f2e6-42fe-4ddb-aa96-71ee15c13826',\n",
       "  'type': 'DATASET',\n",
       "  'bytes': None,\n",
       "  'adler32': None,\n",
       "  'md5': None},\n",
       " {'scope': 'cms',\n",
       "  'name': '/ttHTobb_M125_TuneCP5_13TeV-powheg-pythia8/RunIISummer20UL18NanoAODv9-106X_upgrade2018_realistic_v16_L1v1-v2/NANOAODSIM#f53b2edb-f74c-4334-b67a-436dbd84b077',\n",
       "  'type': 'DATASET',\n",
       "  'bytes': None,\n",
       "  'adler32': None,\n",
       "  'md5': None},\n",
       " {'scope': 'cms',\n",
       "  'name': '/ttHTobb_M125_TuneCP5_13TeV-powheg-pythia8/RunIISummer20UL18NanoAODv9-106X_upgrade2018_realistic_v16_L1v1-v2/NANOAODSIM#f608e4c5-e323-4bed-ab31-de164ee63b00',\n",
       "  'type': 'DATASET',\n",
       "  'bytes': None,\n",
       "  'adler32': None,\n",
       "  'md5': None},\n",
       " {'scope': 'cms',\n",
       "  'name': '/ttHTobb_M125_TuneCP5_13TeV-powheg-pythia8/RunIISummer20UL18NanoAODv9-106X_upgrade2018_realistic_v16_L1v1-v2/NANOAODSIM#f914b652-3211-432f-8e4b-63172470c952',\n",
       "  'type': 'DATASET',\n",
       "  'bytes': None,\n",
       "  'adler32': None,\n",
       "  'md5': None},\n",
       " {'scope': 'cms',\n",
       "  'name': '/ttHTobb_M125_TuneCP5_13TeV-powheg-pythia8/RunIISummer20UL18NanoAODv9-106X_upgrade2018_realistic_v16_L1v1-v2/NANOAODSIM#fca7a38b-eaea-4774-8d94-4bdd511d3068',\n",
       "  'type': 'DATASET',\n",
       "  'bytes': None,\n",
       "  'adler32': None,\n",
       "  'md5': None}]"
      ]
     },
     "execution_count": 70,
     "metadata": {},
     "output_type": "execute_result"
    }
   ],
   "source": [
    "out = list(nativeClient.list_content(\"cms\", dataset))\n",
    "out"
   ]
  },
  {
   "cell_type": "markdown",
   "id": "f5974cea-af40-4274-98f4-0ccc651f2944",
   "metadata": {},
   "source": [
    "# Test implementation"
   ]
  },
  {
   "cell_type": "code",
   "execution_count": 1,
   "id": "d1ae2c57-dddf-4838-a53b-e1c1b5ae9d79",
   "metadata": {},
   "outputs": [],
   "source": [
    "from pocket_coffea.utils import rucio"
   ]
  },
  {
   "cell_type": "code",
   "execution_count": 25,
   "id": "1c91ab53-0144-4f71-95b7-7af6480102d4",
   "metadata": {},
   "outputs": [
    {
     "data": {
      "text/plain": [
       "(['root://ingrid-se03.cism.ucl.ac.be:1094//store/data/Run2017B/DoubleMuon/NANOAOD/UL2017_MiniAODv2_NanoAODv9-v1/120000/57045327-81E5-F24B-9D38-2B515EB380BA.root',\n",
       "  'root://ingrid-se03.cism.ucl.ac.be:1094//store/data/Run2017B/DoubleMuon/NANOAOD/UL2017_MiniAODv2_NanoAODv9-v1/120000/5A31944A-F446-304B-B743-EE6DCE13FFFC.root',\n",
       "  'root://ingrid-se03.cism.ucl.ac.be:1094//store/data/Run2017B/DoubleMuon/NANOAOD/UL2017_MiniAODv2_NanoAODv9-v1/120000/5BE61DB2-AE1A-E54A-803E-204C61248877.root',\n",
       "  'root://ingrid-se03.cism.ucl.ac.be:1094//store/data/Run2017B/DoubleMuon/NANOAOD/UL2017_MiniAODv2_NanoAODv9-v1/120000/65CAD233-4815-C14D-9CB8-B22C686EF42D.root',\n",
       "  'root://ingrid-se03.cism.ucl.ac.be:1094//store/data/Run2017B/DoubleMuon/NANOAOD/UL2017_MiniAODv2_NanoAODv9-v1/120000/7CDC57C5-1722-094A-AB1B-00B93B31CA83.root',\n",
       "  'root://ingrid-se03.cism.ucl.ac.be:1094//store/data/Run2017B/DoubleMuon/NANOAOD/UL2017_MiniAODv2_NanoAODv9-v1/120000/9F6AA441-9EF7-4245-BF25-DD16FAAB3C92.root',\n",
       "  'root://ingrid-se03.cism.ucl.ac.be:1094//store/data/Run2017B/DoubleMuon/NANOAOD/UL2017_MiniAODv2_NanoAODv9-v1/120000/AB770B30-F662-C244-A8FC-52C189E5DF66.root',\n",
       "  'root://xrootd.ba.infn.it:1094//store/data/Run2017B/DoubleMuon/NANOAOD/UL2017_MiniAODv2_NanoAODv9-v1/280000/10AE822E-7D57-2244-B31F-FFB818DB9742.root'],\n",
       " ['T2_BE_UCL',\n",
       "  'T2_BE_UCL',\n",
       "  'T2_BE_UCL',\n",
       "  'T2_BE_UCL',\n",
       "  'T2_BE_UCL',\n",
       "  'T2_BE_UCL',\n",
       "  'T2_BE_UCL',\n",
       "  'T2_IT_Bari'])"
      ]
     },
     "execution_count": 25,
     "metadata": {},
     "output_type": "execute_result"
    }
   ],
   "source": [
    "dataset = \"/DoubleMuon/Run2017B-UL2017_MiniAODv2_NanoAODv9-v1/NANOAOD\"\n",
    "rucio.get_dataset_files(dataset, regex_sites=\"T[123]_(FR|IT|DE|BE|CH|UK)_\\w+\", output=\"first\")"
   ]
  },
  {
   "cell_type": "code",
   "execution_count": 4,
   "id": "1e52c661-27db-4cce-83d2-5d8c40afe379",
   "metadata": {},
   "outputs": [],
   "source": [
    "from coffea.nanoevents import NanoEventsFactory, NanoAODSchema"
   ]
  },
  {
   "cell_type": "code",
   "execution_count": 36,
   "id": "d236795c-aa30-467e-aa30-84eb593f933a",
   "metadata": {},
   "outputs": [],
   "source": [
    "dataset=\"root://xrootd-cms.infn.it///store/data/Run2017B/DoubleMuon/NANOAOD/UL2017_MiniAODv2_NanoAODv9-v1/120000/7CDC57C5-1722-094A-AB1B-00B93B31CA83.root\""
   ]
  },
  {
   "cell_type": "code",
   "execution_count": 38,
   "id": "ee124a21-6e38-4acc-af47-3137373b0a9d",
   "metadata": {},
   "outputs": [],
   "source": [
    "dataset=\"root://ingrid-se03.cism.ucl.ac.be:1094//store/data/Run2017B/DoubleMuon/NANOAOD/UL2017_MiniAODv2_NanoAODv9-v1/120000/7CDC57C5-1722-094A-AB1B-00B93B31CA83.root\""
   ]
  },
  {
   "cell_type": "code",
   "execution_count": 39,
   "id": "c1bffcac-b154-4236-98a3-930918a2d638",
   "metadata": {},
   "outputs": [
    {
     "name": "stdout",
     "output_type": "stream",
     "text": [
      "CPU times: user 1.41 s, sys: 29.1 ms, total: 1.44 s\n",
      "Wall time: 1.73 s\n"
     ]
    },
    {
     "data": {
      "text/plain": [
       "<NanoEventsArray [<event 297047:4:1625932>, ... ] type='10000 * event'>"
      ]
     },
     "execution_count": 39,
     "metadata": {},
     "output_type": "execute_result"
    }
   ],
   "source": [
    "%%time\n",
    "events = NanoEventsFactory.from_root(dataset, schemaclass=NanoAODSchema, entry_stop=10000).events()\n",
    "events"
   ]
  },
  {
   "cell_type": "code",
   "execution_count": null,
   "id": "1b7a85f6-4187-4588-98f0-1486422a97a2",
   "metadata": {},
   "outputs": [],
   "source": []
  }
 ],
 "metadata": {
  "kernelspec": {
   "display_name": "Python 3 (ipykernel)",
   "language": "python",
   "name": "python3"
  },
  "language_info": {
   "codemirror_mode": {
    "name": "ipython",
    "version": 3
   },
   "file_extension": ".py",
   "mimetype": "text/x-python",
   "name": "python",
   "nbconvert_exporter": "python",
   "pygments_lexer": "ipython3",
   "version": "3.9.15"
  }
 },
 "nbformat": 4,
 "nbformat_minor": 5
}
