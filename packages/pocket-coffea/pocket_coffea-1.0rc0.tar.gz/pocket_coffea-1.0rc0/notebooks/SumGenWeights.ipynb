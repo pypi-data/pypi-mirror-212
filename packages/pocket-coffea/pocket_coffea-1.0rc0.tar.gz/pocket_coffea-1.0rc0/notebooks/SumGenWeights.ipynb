{
 "cells": [
  {
   "cell_type": "code",
   "execution_count": 1,
   "id": "513d0cb3-9c99-4d38-a136-a0f7b88fcb67",
   "metadata": {
    "tags": []
   },
   "outputs": [],
   "source": [
    "from coffea.util import load\n",
    "import numpy as np\n",
    "from hist import Hist"
   ]
  },
  {
   "cell_type": "code",
   "execution_count": 15,
   "id": "9689c0c3-d7b4-4b9c-a3a0-ce63bca37f90",
   "metadata": {
    "tags": []
   },
   "outputs": [
    {
     "name": "stdout",
     "output_type": "stream",
     "text": [
      "config.json  configurator.pkl  output_all.coffea  parameters_dump.yaml\n"
     ]
    }
   ],
   "source": [
    "!ls /work/dvalsecc/ttHbb/AnalysisConfigs/configs/tests/output_tests_subsamples_v9/"
   ]
  },
  {
   "cell_type": "code",
   "execution_count": 20,
   "id": "885e7e79-c101-4f7a-bd24-3c8e103ed1f5",
   "metadata": {
    "tags": []
   },
   "outputs": [],
   "source": [
    "from omegaconf import OmegaConf\n",
    "\n",
    "params = OmegaConf.load(\"/work/dvalsecc/ttHbb/AnalysisConfigs/configs/tests/output_tests_subsamples_v9/parameters_dump.yaml\")"
   ]
  },
  {
   "cell_type": "code",
   "execution_count": 18,
   "id": "cab4cd80-f7cf-4390-947f-b1abe8ddbb58",
   "metadata": {
    "tags": []
   },
   "outputs": [
    {
     "data": {
      "text/plain": [
       "{'picobarns': {'2016_PreVFP': {'B': 5829.427727, 'C': 2601.678092, 'D': 4286.031797, 'E': 4065.974751, 'F': 2865.073752, 'tot': 19648.186119}, '2016_PostVFP': {'F': 584.321253, 'G': 7653.261227, 'H': 8740.119304, 'tot': 16977.701784}, '2017': {'B': 4803.371586, 'C': 9574.029838, 'D': 4247.792714, 'E': 9314.581016, 'F': 13539.905374, 'tot': 41479.680528}, '2018': {'A': 14027.614284, 'B': 7066.552169, 'C': 6898.816878, 'D': 31839.492009, 'tot': 59832.47534}}, 'goldenJSON': {'2016_PreVFP': '${default_params_dir:}/datacert/Cert_271036-284044_13TeV_Legacy2016_Collisions16_JSON.txt', '2016_PostVFP': '${default_params_dir:}/datacert/Cert_271036-284044_13TeV_Legacy2016_Collisions16_JSON.txt', '2017': '${default_params_dir:}/datacert/Cert_294927-306462_13TeV_UL2017_Collisions17_GoldenJSON.txt', '2018': '${default_params_dir:}/datacert/Cert_314472-325175_13TeV_Legacy2018_Collisions18_JSON.txt'}}"
      ]
     },
     "execution_count": 18,
     "metadata": {},
     "output_type": "execute_result"
    }
   ],
   "source": [
    "params.lumi"
   ]
  },
  {
   "cell_type": "code",
   "execution_count": 60,
   "id": "74051f9b-a689-4d4a-9dad-015c2bdec9e1",
   "metadata": {
    "tags": []
   },
   "outputs": [],
   "source": [
    "df = load(\"/work/dvalsecc/ttHbb/AnalysisConfigs/configs/zmumu/output_all_v3/output_all.coffea\")"
   ]
  },
  {
   "cell_type": "code",
   "execution_count": 61,
   "id": "92556965-6134-4564-b7e1-e700e51e0119",
   "metadata": {
    "tags": []
   },
   "outputs": [
    {
     "data": {
      "text/plain": [
       "{'initial': {'DATA_SingleMuon_2018_EraA': 241608232,\n",
       "  'DYJetsToLL_M-50_2018': 195510810,\n",
       "  'DATA_SingleMuon_2018_EraD': 513909894,\n",
       "  'DATA_SingleMuon_2018_EraC': 109986009,\n",
       "  'DATA_SingleMuon_2018_EraB': 119918017},\n",
       " 'skim': {'DATA_SingleMuon_2018_EraA': 182721650,\n",
       "  'DYJetsToLL_M-50_2018': 42180665,\n",
       "  'DATA_SingleMuon_2018_EraD': 416492318,\n",
       "  'DATA_SingleMuon_2018_EraC': 89702938,\n",
       "  'DATA_SingleMuon_2018_EraB': 91326404},\n",
       " 'presel': {'DATA_SingleMuon_2018_EraA': 10474575,\n",
       "  'DYJetsToLL_M-50_2018': 24267626,\n",
       "  'DATA_SingleMuon_2018_EraD': 24042954,\n",
       "  'DATA_SingleMuon_2018_EraC': 5193039,\n",
       "  'DATA_SingleMuon_2018_EraB': 5305372},\n",
       " 'baseline': {'DATA_SingleMuon_2018_EraA': {'DATA_SingleMuon': 10474575},\n",
       "  'DYJetsToLL_M-50_2018': {'DYJetsToLL': 24267626},\n",
       "  'DATA_SingleMuon_2018_EraD': {'DATA_SingleMuon': 24042954},\n",
       "  'DATA_SingleMuon_2018_EraC': {'DATA_SingleMuon': 5193039},\n",
       "  'DATA_SingleMuon_2018_EraB': {'DATA_SingleMuon': 5305372}}}"
      ]
     },
     "execution_count": 61,
     "metadata": {},
     "output_type": "execute_result"
    }
   ],
   "source": [
    "df[\"cutflow\"]"
   ]
  },
  {
   "cell_type": "code",
   "execution_count": 36,
   "id": "e5a27c68-8d0f-4745-a0a0-0502dd9f77b9",
   "metadata": {
    "tags": []
   },
   "outputs": [
    {
     "data": {
      "text/plain": [
       "{'baseline': {'DYJetsToLL_M-50_2018': {'DYJetsToLL': 44838483.63517786}}}"
      ]
     },
     "execution_count": 36,
     "metadata": {},
     "output_type": "execute_result"
    }
   ],
   "source": [
    "df[\"sumw\"]"
   ]
  },
  {
   "cell_type": "code",
   "execution_count": 79,
   "id": "8f32c64b-8425-4d2d-a9b4-b3a25708b187",
   "metadata": {
    "tags": []
   },
   "outputs": [],
   "source": [
    "df[\"datasets_metadata\"] = dfold[\"datasets_metadata\"]"
   ]
  },
  {
   "cell_type": "code",
   "execution_count": 5,
   "id": "0438f16a-2333-4945-8353-37ef457fb745",
   "metadata": {
    "tags": []
   },
   "outputs": [
    {
     "ename": "KeyError",
     "evalue": "'TTToSemiLeptonic__=1b'",
     "output_type": "error",
     "traceback": [
      "\u001b[0;31m---------------------------------------------------------------------------\u001b[0m",
      "\u001b[0;31mKeyError\u001b[0m                                  Traceback (most recent call last)",
      "Cell \u001b[0;32mIn[5], line 1\u001b[0m\n\u001b[0;32m----> 1\u001b[0m \u001b[43mdf\u001b[49m\u001b[43m[\u001b[49m\u001b[38;5;124;43m\"\u001b[39;49m\u001b[38;5;124;43mcolumns\u001b[39;49m\u001b[38;5;124;43m\"\u001b[39;49m\u001b[43m]\u001b[49m\u001b[43m[\u001b[49m\u001b[38;5;124;43m\"\u001b[39;49m\u001b[38;5;124;43mTTToSemiLeptonic__=1b\u001b[39;49m\u001b[38;5;124;43m\"\u001b[39;49m\u001b[43m]\u001b[49m[\u001b[38;5;124m\"\u001b[39m\u001b[38;5;124mTTToSemiLeptonic_2017\u001b[39m\u001b[38;5;124m\"\u001b[39m][\u001b[38;5;124m\"\u001b[39m\u001b[38;5;124mbaseline\u001b[39m\u001b[38;5;124m\"\u001b[39m][\u001b[38;5;124m\"\u001b[39m\u001b[38;5;124mLeptonGood_N\u001b[39m\u001b[38;5;124m\"\u001b[39m]\n",
      "\u001b[0;31mKeyError\u001b[0m: 'TTToSemiLeptonic__=1b'"
     ]
    }
   ],
   "source": [
    "df[\"columns\"][\"TTToSemiLeptonic__=1b\"][\"TTToSemiLeptonic_2017\"][\"baseline\"][\"LeptonGood_N\"]"
   ]
  },
  {
   "cell_type": "code",
   "execution_count": 26,
   "id": "f05868b1-1fba-48ab-8a97-0aba2bb5485f",
   "metadata": {
    "tags": []
   },
   "outputs": [
    {
     "data": {
      "text/plain": [
       "dict_keys(['DATA_SingleEle', 'TTToSemiLeptonic__=1b', 'TTToSemiLeptonic__=2b', 'TTToSemiLeptonic__>2b'])"
      ]
     },
     "execution_count": 26,
     "metadata": {},
     "output_type": "execute_result"
    }
   ],
   "source": [
    "df[\"variables\"][\"JetGood_eta_1\"].keys()"
   ]
  },
  {
   "cell_type": "code",
   "execution_count": 193,
   "id": "e371dc6c-4a05-4250-8391-5286afde604c",
   "metadata": {
    "tags": []
   },
   "outputs": [
    {
     "data": {
      "text/plain": [
       "defaultdict(dict,\n",
       "            {'DATA_SingleMuon': {'DATA_SingleMuon_2018_EraA': Hist(\n",
       "                StrCategory(['baseline'], name='cat', label='Category'),\n",
       "                Regular(100, 0, 200, name='ll.mass', label='$M_{\\\\ell\\\\ell}$ [GeV]'),\n",
       "                storage=Weight()) # Sum: WeightedSum(value=1.04425e+07, variance=1.04425e+07) (WeightedSum(value=1.04746e+07, variance=1.04746e+07) with flow)}})"
      ]
     },
     "execution_count": 193,
     "metadata": {},
     "output_type": "execute_result"
    }
   ],
   "source": [
    "df[\"variables\"][\"mll\"]"
   ]
  },
  {
   "cell_type": "code",
   "execution_count": 6,
   "id": "6dc40b3a-9fb9-4b58-afd3-10d0b1c4428f",
   "metadata": {
    "tags": []
   },
   "outputs": [],
   "source": [
    "A = df[\"variables\"][\"mll\"][\"DATA_SingleMuon\"][\"DATA_SingleMuon_2018_EraA\"]"
   ]
  },
  {
   "cell_type": "code",
   "execution_count": 7,
   "id": "525625ff-8b1f-4d19-be12-813e65ad1406",
   "metadata": {
    "tags": []
   },
   "outputs": [
    {
     "data": {
      "text/html": [
       "<html>\n",
       "<div style=\"display:flex; align-items:center;\">\n",
       "<div style=\"width:290px;\">\n",
       "<svg xmlns=\"http://www.w3.org/2000/svg\" viewBox=\"-10 -105 270 120\">\n",
       "<line x1=\"-5\" y1=\"0\" x2=\"255\" y2=\"0\" style=\"fill:none;stroke-width:2;stroke:currentColor\"/>\n",
       "<text text-anchor=\"middle\" x=\"0\" y=\"15\" style=\"fill:currentColor;\">\n",
       "0\n",
       "</text>\n",
       "<text text-anchor=\"middle\" x=\"250\" y=\"15\" style=\"fill:currentColor;\">\n",
       "200\n",
       "</text>\n",
       "<text text-anchor=\"middle\" x=\"125.0\" y=\"15\" style=\"fill:currentColor;\">\n",
       "$M_{\\ell\\ell}$ [GeV]\n",
       "</text>\n",
       "<polyline points=\"  0,0   0,-0 2.5,-0 2.5,-0   5,-0   5,-0 7.5,-0 7.5,-0  10,-0  10,-0 12.5,-0 12.5,-0  15,-0  15,-0 17.5,-0 17.5,-0  20,-0  20,-0 22.5,-0 22.5,-0  25,-0  25,-0 27.5,-0 27.5,-0  30,-0  30,-0.144 32.5,-0.144 32.5,-0.279  35,-0.279  35,-0.265 37.5,-0.265 37.5,-0.271  40,-0.271  40,-0.271 42.5,-0.271 42.5,-0.279  45,-0.279  45,-0.299 47.5,-0.299 47.5,-0.349  50,-0.349  50,-0.463 52.5,-0.463 52.5,-0.586  55,-0.586  55,-0.716 57.5,-0.716 57.5,-0.847  60,-0.847  60,-0.978 62.5,-0.978 62.5,-1.1  65,-1.1  65,-1.16 67.5,-1.16 67.5,-1.19  70,-1.19  70,-1.22 72.5,-1.22 72.5,-1.24  75,-1.24  75,-1.27 77.5,-1.27 77.5,-1.32  80,-1.32  80,-1.39 82.5,-1.39 82.5,-1.5  85,-1.5  85,-1.63 87.5,-1.63 87.5,-1.83  90,-1.83  90,-2.11 92.5,-2.11 92.5,-2.53  95,-2.53  95,-3.13 97.5,-3.13 97.5,-4.1 100,-4.1 100,-5.61 102.5,-5.61 102.5,-8.29 105,-8.29 105,-13.6 107.5,-13.6 107.5,-27.2 110,-27.2 110,-64.6 112.5,-64.6 112.5,-100 115,-100 115,-56.7 117.5,-56.7 117.5,-20.2 120,-20.2 120,-8.51 122.5,-8.51 122.5,-4.59 125,-4.59 125,-2.86 127.5,-2.86 127.5,-1.98 130,-1.98 130,-1.47 132.5,-1.47 132.5,-1.16 135,-1.16 135,-0.914 137.5,-0.914 137.5,-0.754 140,-0.754 140,-0.627 142.5,-0.627 142.5,-0.547 145,-0.547 145,-0.478 147.5,-0.478 147.5,-0.417 150,-0.417 150,-0.364 152.5,-0.364 152.5,-0.335 155,-0.335 155,-0.302 157.5,-0.302 157.5,-0.271 160,-0.271 160,-0.253 162.5,-0.253 162.5,-0.232 165,-0.232 165,-0.204 167.5,-0.204 167.5,-0.192 170,-0.192 170,-0.175 172.5,-0.175 172.5,-0.163 175,-0.163 175,-0.152 177.5,-0.152 177.5,-0.145 180,-0.145 180,-0.13 182.5,-0.13 182.5,-0.128 185,-0.128 185,-0.118 187.5,-0.118 187.5,-0.109 190,-0.109 190,-0.103 192.5,-0.103 192.5,-0.0956 195,-0.0956 195,-0.0871 197.5,-0.0871 197.5,-0.09 200,-0.09 200,-0.0838 202.5,-0.0838 202.5,-0.0777 205,-0.0777 205,-0.0754 207.5,-0.0754 207.5,-0.0699 210,-0.0699 210,-0.0679 212.5,-0.0679 212.5,-0.0672 215,-0.0672 215,-0.0624 217.5,-0.0624 217.5,-0.0613 220,-0.0613 220,-0.0573 222.5,-0.0573 222.5,-0.0553 225,-0.0553 225,-0.0509 227.5,-0.0509 227.5,-0.0513 230,-0.0513 230,-0.0449 232.5,-0.0449 232.5,-0.045 235,-0.045 235,-0.0436 237.5,-0.0436 237.5,-0.041 240,-0.041 240,-0.0415 242.5,-0.0415 242.5,-0.0375 245,-0.0375 245,-0.0359 247.5,-0.0359 247.5,-0.0358 250,-0.0358 250,0\" style=\"fill:none; stroke:currentColor;\"/>\n",
       "</svg>\n",
       "</div>\n",
       "<div style=\"flex=grow:1;\">\n",
       "Regular(100, 0, 200, name='ll.mass', label='$M_{\\\\ell\\\\ell}$ [GeV]')<br/>\n",
       "<hr style=\"margin-top:.2em; margin-bottom:.2em;\"/>\n",
       "Weight() Σ=WeightedSum(value=1.04425e+07, variance=1.04425e+07) <em>(WeightedSum(value=1.04746e+07, variance=1.04746e+07) with flow)</em>\n",
       "\n",
       "</div>\n",
       "</div>\n",
       "</html>"
      ],
      "text/plain": [
       "Hist(Regular(100, 0, 200, name='ll.mass', label='$M_{\\\\ell\\\\ell}$ [GeV]'), storage=Weight()) # Sum: WeightedSum(value=1.04425e+07, variance=1.04425e+07) (WeightedSum(value=1.04746e+07, variance=1.04746e+07) with flow)"
      ]
     },
     "execution_count": 7,
     "metadata": {},
     "output_type": "execute_result"
    }
   ],
   "source": [
    "A[\"baseline\",:]"
   ]
  },
  {
   "cell_type": "code",
   "execution_count": 8,
   "id": "8a526dda-cbf5-4072-9a4b-b65430e0f164",
   "metadata": {
    "tags": []
   },
   "outputs": [
    {
     "data": {
      "text/plain": [
       "{}"
      ]
     },
     "execution_count": 8,
     "metadata": {},
     "output_type": "execute_result"
    }
   ],
   "source": [
    "df[\"datasets_metadata\"][\"by_dataset\"][\"TTToSemiLeptonic_2018\"]"
   ]
  },
  {
   "cell_type": "code",
   "execution_count": 9,
   "id": "fb6c9248-68e2-48c0-9659-050eb0f54c6f",
   "metadata": {
    "tags": []
   },
   "outputs": [],
   "source": [
    "from pocket_coffea.utils import plot_utils\n",
    "from pocket_coffea.parameters.plotting import style_cfg"
   ]
  },
  {
   "cell_type": "code",
   "execution_count": 62,
   "id": "a43dc3be-6f0d-4e19-813b-adbd46d4086b",
   "metadata": {
    "tags": []
   },
   "outputs": [],
   "source": [
    "from importlib import reload"
   ]
  },
  {
   "cell_type": "code",
   "execution_count": 72,
   "id": "9347a603-4a05-43d0-bfe9-9991fff728d3",
   "metadata": {
    "tags": []
   },
   "outputs": [],
   "source": [
    "reload(plot_utils)\n",
    "PlotManager = plot_utils.PlotManager"
   ]
  },
  {
   "cell_type": "code",
   "execution_count": 80,
   "id": "ad51d8f2-6b10-437f-babe-79feeadc1456",
   "metadata": {
    "tags": []
   },
   "outputs": [],
   "source": [
    "plotter = PlotManager(\n",
    "        variables=df[\"variables\"].keys(),\n",
    "        hist_objs=df['variables'],\n",
    "        datasets_metadata=df[\"datasets_metadata\"],\n",
    "        plot_dir=\"test_plots\",\n",
    "        style_cfg=style_cfg,\n",
    "        only_cat=[],\n",
    "        log=False,\n",
    "        density=False,\n",
    "        save=True\n",
    "    )"
   ]
  },
  {
   "cell_type": "code",
   "execution_count": 81,
   "id": "fcf88f18-ff6e-47e6-88e9-daa47054e1e3",
   "metadata": {
    "tags": []
   },
   "outputs": [
    {
     "data": {
      "text/plain": [
       "{'MuonGood_eta_1_2018': <pocket_coffea.utils.plot_utils.Shape at 0x7ff4d5096e50>,\n",
       " 'MuonGood_pt_1_2018': <pocket_coffea.utils.plot_utils.Shape at 0x7ff4d5096520>,\n",
       " 'MuonGood_phi_1_2018': <pocket_coffea.utils.plot_utils.Shape at 0x7ff4d5096ca0>,\n",
       " 'nElectronGood_2018': <pocket_coffea.utils.plot_utils.Shape at 0x7ff4d5096ee0>,\n",
       " 'nMuonGood_2018': <pocket_coffea.utils.plot_utils.Shape at 0x7ff4d51a0b20>,\n",
       " 'nJets_2018': <pocket_coffea.utils.plot_utils.Shape at 0x7ff4d51ef490>,\n",
       " 'nBJets_2018': <pocket_coffea.utils.plot_utils.Shape at 0x7ff4d544ae20>,\n",
       " 'JetGood_eta_1_2018': <pocket_coffea.utils.plot_utils.Shape at 0x7ff4d5278520>,\n",
       " 'JetGood_pt_1_2018': <pocket_coffea.utils.plot_utils.Shape at 0x7ff4d58e6ac0>,\n",
       " 'JetGood_phi_1_2018': <pocket_coffea.utils.plot_utils.Shape at 0x7ff4d51a08b0>,\n",
       " 'JetGood_btagDeepFlavB_1_2018': <pocket_coffea.utils.plot_utils.Shape at 0x7ff4d51a08e0>,\n",
       " 'JetGood_eta_2_2018': <pocket_coffea.utils.plot_utils.Shape at 0x7ff4d5084fa0>,\n",
       " 'JetGood_pt_2_2018': <pocket_coffea.utils.plot_utils.Shape at 0x7ff4d50965b0>,\n",
       " 'JetGood_phi_2_2018': <pocket_coffea.utils.plot_utils.Shape at 0x7ff4d5084cd0>,\n",
       " 'JetGood_btagDeepFlavB_2_2018': <pocket_coffea.utils.plot_utils.Shape at 0x7ff4d5084af0>,\n",
       " 'mll_2018': <pocket_coffea.utils.plot_utils.Shape at 0x7ff4d5084df0>}"
      ]
     },
     "execution_count": 81,
     "metadata": {},
     "output_type": "execute_result"
    }
   ],
   "source": [
    "plotter.shape_objects"
   ]
  },
  {
   "cell_type": "code",
   "execution_count": 82,
   "id": "4de2c10f-e905-4c54-b32f-3216c64c52a7",
   "metadata": {
    "tags": []
   },
   "outputs": [],
   "source": [
    "shape =  plotter.shape_objects[\"mll_2018\"]"
   ]
  },
  {
   "cell_type": "code",
   "execution_count": 87,
   "id": "245dab12-35d6-4787-88b4-2e6809eb3821",
   "metadata": {
    "tags": []
   },
   "outputs": [
    {
     "data": {
      "image/png": "[encoded data removed]",
      "text/plain": [
       "<Figure size 1200x900 with 1 Axes>"
      ]
     },
     "metadata": {},
     "output_type": "display_data"
    }
   ],
   "source": [
    "shape.define_figure(False, \"\")\n"
   ]
  },
  {
   "cell_type": "code",
   "execution_count": 88,
   "id": "78243f10-a9a4-41af-aeeb-703a7125b8dc",
   "metadata": {},
   "outputs": [
    {
     "data": {
      "image/png": "[encoded data removed]",
      "text/plain": [
       "<Figure size 1200x900 with 1 Axes>"
      ]
     },
     "execution_count": 88,
     "metadata": {},
     "output_type": "execute_result"
    }
   ],
   "source": [
    "shape.build_stacks(\"baseline\", False)\n",
    "shape.plot_data()\n",
    "shape.plot_mc()\n",
    "shape.fig"
   ]
  },
  {
   "cell_type": "code",
   "execution_count": 89,
   "id": "934cd4c9-0e49-422e-972c-3acf458d3b33",
   "metadata": {
    "tags": []
   },
   "outputs": [
    {
     "name": "stderr",
     "output_type": "stream",
     "text": [
      "/work/dvalsecc/ttHbb/PocketCoffea/pocket_coffea/utils/plot_utils.py:397: RuntimeWarning: invalid value encountered in divide\n",
      "  self.ratio = num / den\n",
      "/work/dvalsecc/ttHbb/PocketCoffea/pocket_coffea/utils/plot_utils.py:400: RuntimeWarning: invalid value encountered in divide\n",
      "  self.ratio_unc = np.sqrt(num) / den\n",
      "/work/dvalsecc/ttHbb/PocketCoffea/pocket_coffea/utils/plot_utils.py:711: RuntimeWarning: invalid value encountered in divide\n",
      "  return np.where(self.nominal != 0, self.up / self.nominal, 1)\n",
      "/work/dvalsecc/ttHbb/PocketCoffea/pocket_coffea/utils/plot_utils.py:715: RuntimeWarning: invalid value encountered in divide\n",
      "  return np.where(self.nominal != 0, self.down / self.nominal, 1)\n",
      "/work/dvalsecc/ttHbb/PocketCoffea/pocket_coffea/utils/plot_utils.py:397: RuntimeWarning: invalid value encountered in divide\n",
      "  self.ratio = num / den\n"
     ]
    },
    {
     "name": "stdout",
     "output_type": "stream",
     "text": [
      "Saving"
     ]
    },
    {
     "name": "stderr",
     "output_type": "stream",
     "text": [
      "/work/dvalsecc/ttHbb/PocketCoffea/pocket_coffea/utils/plot_utils.py:400: RuntimeWarning: invalid value encountered in divide\n",
      "  self.ratio_unc = np.sqrt(num) / den\n"
     ]
    },
    {
     "name": "stdout",
     "output_type": "stream",
     "text": [
      " test_plots/baseline/MuonGood_eta_1_2018_baseline.png\n"
     ]
    },
    {
     "name": "stderr",
     "output_type": "stream",
     "text": [
      "/work/dvalsecc/ttHbb/PocketCoffea/pocket_coffea/utils/plot_utils.py:711: RuntimeWarning: invalid value encountered in divide\n",
      "  return np.where(self.nominal != 0, self.up / self.nominal, 1)\n",
      "/work/dvalsecc/ttHbb/PocketCoffea/pocket_coffea/utils/plot_utils.py:715: RuntimeWarning: invalid value encountered in divide\n",
      "  return np.where(self.nominal != 0, self.down / self.nominal, 1)\n",
      "/work/dvalsecc/ttHbb/PocketCoffea/pocket_coffea/utils/plot_utils.py:397: RuntimeWarning: invalid value encountered in divide\n",
      "  self.ratio = num / den\n",
      "/work/dvalsecc/ttHbb/PocketCoffea/pocket_coffea/utils/plot_utils.py:400: RuntimeWarning: invalid value encountered in divide\n",
      "  self.ratio_unc = np.sqrt(num) / den\n"
     ]
    },
    {
     "name": "stdout",
     "output_type": "stream",
     "text": [
      "SavingSaving  test_plots/baseline/MuonGood_phi_1_2018_baseline.png\n"
     ]
    },
    {
     "name": "stderr",
     "output_type": "stream",
     "text": [
      "/work/dvalsecc/ttHbb/PocketCoffea/pocket_coffea/utils/plot_utils.py:711: RuntimeWarning: invalid value encountered in divide\n",
      "  return np.where(self.nominal != 0, self.up / self.nominal, 1)\n"
     ]
    },
    {
     "name": "stdout",
     "output_type": "stream",
     "text": [
      "test_plots/baseline/MuonGood_pt_1_2018_baseline.png"
     ]
    },
    {
     "name": "stderr",
     "output_type": "stream",
     "text": [
      "/work/dvalsecc/ttHbb/PocketCoffea/pocket_coffea/utils/plot_utils.py:715: RuntimeWarning: invalid value encountered in divide\n",
      "  return np.where(self.nominal != 0, self.down / self.nominal, 1)\n"
     ]
    },
    {
     "name": "stdout",
     "output_type": "stream",
     "text": [
      "\n"
     ]
    },
    {
     "name": "stderr",
     "output_type": "stream",
     "text": [
      "/work/dvalsecc/ttHbb/PocketCoffea/pocket_coffea/utils/plot_utils.py:397: RuntimeWarning: invalid value encountered in divide\n",
      "  self.ratio = num / den\n"
     ]
    },
    {
     "name": "stdout",
     "output_type": "stream",
     "text": [
      "Saving"
     ]
    },
    {
     "name": "stderr",
     "output_type": "stream",
     "text": [
      "/work/dvalsecc/ttHbb/PocketCoffea/pocket_coffea/utils/plot_utils.py:400: RuntimeWarning: invalid value encountered in divide\n",
      "  self.ratio_unc = np.sqrt(num) / den\n"
     ]
    },
    {
     "name": "stdout",
     "output_type": "stream",
     "text": [
      " test_plots/baseline/nElectronGood_2018_baseline.png\n"
     ]
    },
    {
     "name": "stderr",
     "output_type": "stream",
     "text": [
      "/work/dvalsecc/ttHbb/PocketCoffea/pocket_coffea/utils/plot_utils.py:711: RuntimeWarning: invalid value encountered in divide\n",
      "  return np.where(self.nominal != 0, self.up / self.nominal, 1)\n",
      "/work/dvalsecc/ttHbb/PocketCoffea/pocket_coffea/utils/plot_utils.py:397: RuntimeWarning: divide by zero encountered in divide\n",
      "  self.ratio = num / den\n",
      "/work/dvalsecc/ttHbb/PocketCoffea/pocket_coffea/utils/plot_utils.py:715: RuntimeWarning: invalid value encountered in divide\n",
      "  return np.where(self.nominal != 0, self.down / self.nominal, 1)\n",
      "/work/dvalsecc/ttHbb/PocketCoffea/pocket_coffea/utils/plot_utils.py:397: RuntimeWarning: invalid value encountered in divide\n",
      "  self.ratio = num / den\n",
      "/work/dvalsecc/ttHbb/PocketCoffea/pocket_coffea/utils/plot_utils.py:400: RuntimeWarning: divide by zero encountered in divide\n",
      "  self.ratio_unc = np.sqrt(num) / den\n",
      "/work/dvalsecc/ttHbb/PocketCoffea/pocket_coffea/utils/plot_utils.py:400: RuntimeWarning: invalid value encountered in divide\n",
      "  self.ratio_unc = np.sqrt(num) / den\n",
      "/t3home/dvalsecc/micromamba/envs/pocket-coffea/lib/python3.9/site-packages/matplotlib/axes/_axes.py:3648: RuntimeWarning: invalid value encountered in add\n",
      "  low, high = dep + np.row_stack([-(1 - lolims), 1 - uplims]) * err\n"
     ]
    },
    {
     "name": "stdout",
     "output_type": "stream",
     "text": [
      "Saving test_plots/baseline/nMuonGood_2018_baseline.png\n"
     ]
    },
    {
     "name": "stderr",
     "output_type": "stream",
     "text": [
      "/work/dvalsecc/ttHbb/PocketCoffea/pocket_coffea/utils/plot_utils.py:711: RuntimeWarning: invalid value encountered in divide\n",
      "  return np.where(self.nominal != 0, self.up / self.nominal, 1)\n",
      "/work/dvalsecc/ttHbb/PocketCoffea/pocket_coffea/utils/plot_utils.py:715: RuntimeWarning: invalid value encountered in divide\n",
      "  return np.where(self.nominal != 0, self.down / self.nominal, 1)\n"
     ]
    },
    {
     "name": "stdout",
     "output_type": "stream",
     "text": [
      "Saving test_plots/baseline/nJets_2018_baseline.png\n"
     ]
    },
    {
     "name": "stderr",
     "output_type": "stream",
     "text": [
      "/work/dvalsecc/ttHbb/PocketCoffea/pocket_coffea/utils/plot_utils.py:397: RuntimeWarning: invalid value encountered in divide\n",
      "  self.ratio = num / den\n",
      "/work/dvalsecc/ttHbb/PocketCoffea/pocket_coffea/utils/plot_utils.py:400: RuntimeWarning: invalid value encountered in divide\n",
      "  self.ratio_unc = np.sqrt(num) / den\n"
     ]
    },
    {
     "name": "stdout",
     "output_type": "stream",
     "text": [
      "Saving test_plots/baseline/nBJets_2018_baseline.png\n"
     ]
    },
    {
     "name": "stderr",
     "output_type": "stream",
     "text": [
      "/work/dvalsecc/ttHbb/PocketCoffea/pocket_coffea/utils/plot_utils.py:711: RuntimeWarning: invalid value encountered in divide\n",
      "  return np.where(self.nominal != 0, self.up / self.nominal, 1)\n",
      "/work/dvalsecc/ttHbb/PocketCoffea/pocket_coffea/utils/plot_utils.py:715: RuntimeWarning: invalid value encountered in divide\n",
      "  return np.where(self.nominal != 0, self.down / self.nominal, 1)\n"
     ]
    },
    {
     "name": "stdout",
     "output_type": "stream",
     "text": [
      "Saving test_plots/baseline/JetGood_eta_1_2018_baseline.png\n",
      "Saving\n",
      " test_plots/baseline/JetGood_phi_1_2018_baseline.pngSaving test_plots/baseline/JetGood_btagDeepFlavB_2_2018_baseline.png\n",
      "Saving test_plots/baseline/JetGood_eta_2_2018_baseline.png\n"
     ]
    },
    {
     "name": "stderr",
     "output_type": "stream",
     "text": [
      "/work/dvalsecc/ttHbb/PocketCoffea/pocket_coffea/utils/plot_utils.py:397: RuntimeWarning: divide by zero encountered in divide\n",
      "  self.ratio = num / den\n",
      "/work/dvalsecc/ttHbb/PocketCoffea/pocket_coffea/utils/plot_utils.py:400: RuntimeWarning: divide by zero encountered in divide\n",
      "  self.ratio_unc = np.sqrt(num) / den\n"
     ]
    },
    {
     "name": "stdout",
     "output_type": "stream",
     "text": [
      "Saving test_plots/baseline/mll_2018_baseline.png\n",
      "Saving test_plots/baseline/JetGood_btagDeepFlavB_1_2018_baseline.png\n",
      "Saving test_plots/baseline/JetGood_phi_2_2018_baseline.png\n"
     ]
    },
    {
     "ename": "ValueError",
     "evalue": "'yerr' must not contain negative values",
     "output_type": "error",
     "traceback": [
      "\u001b[0;31m---------------------------------------------------------------------------\u001b[0m",
      "\u001b[0;31mRemoteTraceback\u001b[0m                           Traceback (most recent call last)",
      "\u001b[0;31mRemoteTraceback\u001b[0m: \n\"\"\"\nTraceback (most recent call last):\n  File \"/t3home/dvalsecc/micromamba/envs/pocket-coffea/lib/python3.9/multiprocessing/pool.py\", line 125, in worker\n    result = (True, func(*args, **kwds))\n  File \"/t3home/dvalsecc/micromamba/envs/pocket-coffea/lib/python3.9/multiprocessing/pool.py\", line 48, in mapstar\n    return list(map(*args))\n  File \"/work/dvalsecc/ttHbb/PocketCoffea/pocket_coffea/utils/plot_utils.py\", line 114, in plot_datamc\n    shape.plot_datamc_all(ratio, syst, toplabel=toplabel, spliteras=spliteras,  save=self.save)\n  File \"/work/dvalsecc/ttHbb/PocketCoffea/pocket_coffea/utils/plot_utils.py\", line 592, in plot_datamc_all\n    self.plot_datamc(ratio, syst)\n  File \"/work/dvalsecc/ttHbb/PocketCoffea/pocket_coffea/utils/plot_utils.py\", line 576, in plot_datamc\n    self.plot_datamc_ratio()\n  File \"/work/dvalsecc/ttHbb/PocketCoffea/pocket_coffea/utils/plot_utils.py\", line 515, in plot_datamc_ratio\n    self.rax.errorbar(\n  File \"/t3home/dvalsecc/micromamba/envs/pocket-coffea/lib/python3.9/site-packages/matplotlib/__init__.py\", line 1442, in inner\n    return func(ax, *map(sanitize_sequence, args), **kwargs)\n  File \"/t3home/dvalsecc/micromamba/envs/pocket-coffea/lib/python3.9/site-packages/matplotlib/axes/_axes.py\", line 3642, in errorbar\n    raise ValueError(\nValueError: 'yerr' must not contain negative values\n\"\"\"",
      "\nThe above exception was the direct cause of the following exception:\n",
      "\u001b[0;31mValueError\u001b[0m                                Traceback (most recent call last)",
      "Cell \u001b[0;32mIn[89], line 1\u001b[0m\n\u001b[0;32m----> 1\u001b[0m \u001b[43mplotter\u001b[49m\u001b[38;5;241;43m.\u001b[39;49m\u001b[43mplot_datamc_all\u001b[49m\u001b[43m(\u001b[49m\u001b[43mtoplabel\u001b[49m\u001b[38;5;241;43m=\u001b[39;49m\u001b[38;5;124;43m\"\u001b[39;49m\u001b[38;5;124;43mtest\u001b[39;49m\u001b[38;5;124;43m\"\u001b[39;49m\u001b[43m)\u001b[49m\n",
      "File \u001b[0;32m/work/dvalsecc/ttHbb/PocketCoffea/pocket_coffea/utils/plot_utils.py:121\u001b[0m, in \u001b[0;36mPlotManager.plot_datamc_all\u001b[0;34m(self, syst, toplabel, spliteras)\u001b[0m\n\u001b[1;32m    118\u001b[0m shape_names \u001b[38;5;241m=\u001b[39m \u001b[38;5;28mlist\u001b[39m(\u001b[38;5;28mself\u001b[39m\u001b[38;5;241m.\u001b[39mshape_objects\u001b[38;5;241m.\u001b[39mkeys())\n\u001b[1;32m    119\u001b[0m \u001b[38;5;28;01mwith\u001b[39;00m Pool(processes\u001b[38;5;241m=\u001b[39m\u001b[38;5;28mself\u001b[39m\u001b[38;5;241m.\u001b[39mworkers) \u001b[38;5;28;01mas\u001b[39;00m pool:\n\u001b[1;32m    120\u001b[0m     \u001b[38;5;66;03m# Parallel calls of plot_datamc() on different shape objects\u001b[39;00m\n\u001b[0;32m--> 121\u001b[0m     \u001b[43mpool\u001b[49m\u001b[38;5;241;43m.\u001b[39;49m\u001b[43mmap\u001b[49m\u001b[43m(\u001b[49m\u001b[43mpartial\u001b[49m\u001b[43m(\u001b[49m\u001b[38;5;28;43mself\u001b[39;49m\u001b[38;5;241;43m.\u001b[39;49m\u001b[43mplot_datamc\u001b[49m\u001b[43m,\u001b[49m\u001b[43m \u001b[49m\u001b[43msyst\u001b[49m\u001b[38;5;241;43m=\u001b[39;49m\u001b[43msyst\u001b[49m\u001b[43m,\u001b[49m\u001b[43m \u001b[49m\u001b[43mtoplabel\u001b[49m\u001b[38;5;241;43m=\u001b[39;49m\u001b[43mtoplabel\u001b[49m\u001b[43m,\u001b[49m\u001b[43m \u001b[49m\u001b[43mspliteras\u001b[49m\u001b[38;5;241;43m=\u001b[39;49m\u001b[43mspliteras\u001b[49m\u001b[43m)\u001b[49m\u001b[43m,\u001b[49m\u001b[43m \u001b[49m\u001b[43mshape_names\u001b[49m\u001b[43m)\u001b[49m\n\u001b[1;32m    122\u001b[0m     pool\u001b[38;5;241m.\u001b[39mclose()\n",
      "File \u001b[0;32m~/micromamba/envs/pocket-coffea/lib/python3.9/multiprocessing/pool.py:364\u001b[0m, in \u001b[0;36mPool.map\u001b[0;34m(self, func, iterable, chunksize)\u001b[0m\n\u001b[1;32m    359\u001b[0m \u001b[38;5;28;01mdef\u001b[39;00m \u001b[38;5;21mmap\u001b[39m(\u001b[38;5;28mself\u001b[39m, func, iterable, chunksize\u001b[38;5;241m=\u001b[39m\u001b[38;5;28;01mNone\u001b[39;00m):\n\u001b[1;32m    360\u001b[0m \u001b[38;5;250m    \u001b[39m\u001b[38;5;124;03m'''\u001b[39;00m\n\u001b[1;32m    361\u001b[0m \u001b[38;5;124;03m    Apply `func` to each element in `iterable`, collecting the results\u001b[39;00m\n\u001b[1;32m    362\u001b[0m \u001b[38;5;124;03m    in a list that is returned.\u001b[39;00m\n\u001b[1;32m    363\u001b[0m \u001b[38;5;124;03m    '''\u001b[39;00m\n\u001b[0;32m--> 364\u001b[0m     \u001b[38;5;28;01mreturn\u001b[39;00m \u001b[38;5;28;43mself\u001b[39;49m\u001b[38;5;241;43m.\u001b[39;49m\u001b[43m_map_async\u001b[49m\u001b[43m(\u001b[49m\u001b[43mfunc\u001b[49m\u001b[43m,\u001b[49m\u001b[43m \u001b[49m\u001b[43miterable\u001b[49m\u001b[43m,\u001b[49m\u001b[43m \u001b[49m\u001b[43mmapstar\u001b[49m\u001b[43m,\u001b[49m\u001b[43m \u001b[49m\u001b[43mchunksize\u001b[49m\u001b[43m)\u001b[49m\u001b[38;5;241;43m.\u001b[39;49m\u001b[43mget\u001b[49m\u001b[43m(\u001b[49m\u001b[43m)\u001b[49m\n",
      "File \u001b[0;32m~/micromamba/envs/pocket-coffea/lib/python3.9/multiprocessing/pool.py:771\u001b[0m, in \u001b[0;36mApplyResult.get\u001b[0;34m(self, timeout)\u001b[0m\n\u001b[1;32m    769\u001b[0m     \u001b[38;5;28;01mreturn\u001b[39;00m \u001b[38;5;28mself\u001b[39m\u001b[38;5;241m.\u001b[39m_value\n\u001b[1;32m    770\u001b[0m \u001b[38;5;28;01melse\u001b[39;00m:\n\u001b[0;32m--> 771\u001b[0m     \u001b[38;5;28;01mraise\u001b[39;00m \u001b[38;5;28mself\u001b[39m\u001b[38;5;241m.\u001b[39m_value\n",
      "\u001b[0;31mValueError\u001b[0m: 'yerr' must not contain negative values"
     ]
    }
   ],
   "source": [
    "plotter.plot_datamc_all(toplabel=\"test\")"
   ]
  },
  {
   "cell_type": "code",
   "execution_count": 183,
   "id": "06a07dd4-1545-4431-a6ec-f78de1d33dba",
   "metadata": {
    "tags": []
   },
   "outputs": [
    {
     "data": {
      "text/plain": [
       "{'fontsize': 22,\n",
       " 'fontsize_legend_ratio': 12,\n",
       " 'opts_figure': {'datamc': {'figsize': (12, 9)},\n",
       "  'datamc_ratio': {'figsize': (12, 12),\n",
       "   'gridspec_kw': {'height_ratios': (3, 1)},\n",
       "   'sharex': True},\n",
       "  'partial': {'figsize': (12, 15),\n",
       "   'gridspec_kw': {'height_ratios': (3, 1)},\n",
       "   'sharex': True}},\n",
       " 'opts_mc': {'histtype': 'fill', 'stack': True},\n",
       " 'opts_data': {'linestyle': 'solid',\n",
       "  'linewidth': 0,\n",
       "  'marker': '.',\n",
       "  'markersize': 5.0,\n",
       "  'color': 'black',\n",
       "  'elinewidth': 1,\n",
       "  'label': 'Data'},\n",
       " 'opts_unc': {'total': {'step': 'post',\n",
       "   'color': (0, 0, 0, 0.4),\n",
       "   'facecolor': (0, 0, 0, 0.0),\n",
       "   'linewidth': 0,\n",
       "   'hatch': '////',\n",
       "   'zorder': 2},\n",
       "  'Up': {'linestyle': 'dashed',\n",
       "   'linewidth': 1,\n",
       "   'marker': '.',\n",
       "   'markersize': 1.0,\n",
       "   'elinewidth': 1},\n",
       "  'Down': {'linestyle': 'dotted',\n",
       "   'linewidth': 1,\n",
       "   'marker': '.',\n",
       "   'markersize': 1.0,\n",
       "   'elinewidth': 1}},\n",
       " 'opts_syst': {'nominal': {'linestyle': 'solid',\n",
       "   'linewidth': 1,\n",
       "   'color': 'black'},\n",
       "  'up': {'linestyle': 'dashed', 'linewidth': 1, 'color': 'red'},\n",
       "  'down': {'linestyle': 'dotted', 'linewidth': 1, 'color': 'blue'}},\n",
       " 'collapse_datasets': True,\n",
       " 'samples_map': {},\n",
       " 'labels': {'ttHTobb': '$t\\\\bar{t}H\\\\rightarrow b\\\\bar{b}$',\n",
       "  'TTToSemiLeptonic': '$t\\\\bar{t}$ semilep.',\n",
       "  'TTTo2L2Nu': '$t\\\\bar{t}$ dilepton',\n",
       "  'SingleTop': 'Single t',\n",
       "  'WJetsToLNu_HT': 'W+jets'},\n",
       " 'colors': {'ttHTobb': 'pink',\n",
       "  'TTTo2L2Nu': (0.51, 0.79, 1.0),\n",
       "  'TTToSemiLeptonic': (1.0, 0.71, 0.24),\n",
       "  'SingleTop': (1.0, 0.4, 0.4),\n",
       "  'ST': (1.0, 0.4, 0.4),\n",
       "  'WJetsToLNu_HT': '#cc99ff'}}"
      ]
     },
     "execution_count": 183,
     "metadata": {},
     "output_type": "execute_result"
    }
   ],
   "source": [
    "style_cfg"
   ]
  },
  {
   "cell_type": "code",
   "execution_count": null,
   "id": "f2c6ec98-d3d7-465a-a2e9-babef7e88d46",
   "metadata": {},
   "outputs": [],
   "source": []
  }
 ],
 "metadata": {
  "kernelspec": {
   "display_name": "Python 3 (ipykernel)",
   "language": "python",
   "name": "python3"
  },
  "language_info": {
   "codemirror_mode": {
    "name": "ipython",
    "version": 3
   },
   "file_extension": ".py",
   "mimetype": "text/x-python",
   "name": "python",
   "nbconvert_exporter": "python",
   "pygments_lexer": "ipython3",
   "version": "3.9.16"
  }
 },
 "nbformat": 4,
 "nbformat_minor": 5
}
