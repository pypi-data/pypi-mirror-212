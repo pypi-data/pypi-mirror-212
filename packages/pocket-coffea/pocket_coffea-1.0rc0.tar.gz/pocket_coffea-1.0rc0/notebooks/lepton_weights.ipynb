{
 "cells": [
  {
   "cell_type": "markdown",
   "id": "8347865e",
   "metadata": {},
   "source": [
    "# Lepton weights with coffea.analysis_tools"
   ]
  },
  {
   "cell_type": "code",
   "execution_count": 1,
   "id": "3e87bd0b",
   "metadata": {},
   "outputs": [],
   "source": [
    "import awkward as ak\n",
    "import numpy as np\n",
    "from coffea.analysis_tools import Weights"
   ]
  },
  {
   "cell_type": "markdown",
   "id": "0409e338",
   "metadata": {},
   "source": [
    "## Electron pt toy array\n",
    "Let's consider a toy example where we have 4 events with a variable number of electrons each."
   ]
  },
  {
   "cell_type": "code",
   "execution_count": 2,
   "id": "4e02f051",
   "metadata": {},
   "outputs": [
    {
     "data": {
      "text/plain": [
       "<Array [[10, 45], [25, 9, ... [18], [24, 7]] type='4 * var * int64'>"
      ]
     },
     "execution_count": 2,
     "metadata": {},
     "output_type": "execute_result"
    }
   ],
   "source": [
    "electron_pt = ak.Array([[10, 45],[25, 9, 50],[18], [24, 7]])\n",
    "electron_pt"
   ]
  },
  {
   "cell_type": "markdown",
   "id": "6ae0f7ae",
   "metadata": {},
   "source": [
    "## Flatten the electron array\n",
    "We want to define an array where the weight corresponding to each electron is stored. In order to do that, we have to flatten the electron array to get an array with the proper size.\n",
    "One can always recovering the original array by unflattening."
   ]
  },
  {
   "cell_type": "code",
   "execution_count": 3,
   "id": "b3d8ea42",
   "metadata": {},
   "outputs": [
    {
     "data": {
      "text/plain": [
       "<Array [10, 45, 25, 9, 50, 18, 24, 7] type='8 * int64'>"
      ]
     },
     "execution_count": 3,
     "metadata": {},
     "output_type": "execute_result"
    }
   ],
   "source": [
    "electron_pt_flat, electron_counts = ak.flatten(electron_pt), ak.num(electron_pt)\n",
    "electron_pt_flat"
   ]
  },
  {
   "cell_type": "code",
   "execution_count": 4,
   "id": "77e6effa",
   "metadata": {},
   "outputs": [
    {
     "data": {
      "text/plain": [
       "<Array [[10, 45], [25, 9, ... [18], [24, 7]] type='4 * var * int64'>"
      ]
     },
     "execution_count": 4,
     "metadata": {},
     "output_type": "execute_result"
    }
   ],
   "source": [
    "ak.unflatten(electron_pt_flat, electron_counts)"
   ]
  },
  {
   "cell_type": "markdown",
   "id": "00b90109",
   "metadata": {},
   "source": [
    "We define `weights` in such a way that its length corresponds to the number of electrons in all the events."
   ]
  },
  {
   "cell_type": "code",
   "execution_count": 5,
   "id": "b4abd3de",
   "metadata": {},
   "outputs": [
    {
     "data": {
      "text/plain": [
       "array([1., 1., 1., 1., 1., 1., 1., 1.])"
      ]
     },
     "execution_count": 5,
     "metadata": {},
     "output_type": "execute_result"
    }
   ],
   "source": [
    "nelectrons = ak.size(electron_pt_flat)\n",
    "weights = Weights(nelectrons)\n",
    "weights.weight()"
   ]
  },
  {
   "cell_type": "markdown",
   "id": "00d95c51",
   "metadata": {},
   "source": [
    "## Electron weight toy array\n",
    "We define toy weights for the electrons, keeping the flattened shape."
   ]
  },
  {
   "cell_type": "code",
   "execution_count": 6,
   "id": "adaae1e9",
   "metadata": {},
   "outputs": [
    {
     "data": {
      "text/plain": [
       "[1.1, 0.5, 0.5, 1.1, 0.5, 0.5, 0.5, 1.1]"
      ]
     },
     "execution_count": 6,
     "metadata": {},
     "output_type": "execute_result"
    }
   ],
   "source": [
    "w = 0.5*(electron_pt_flat > 15) + 1.1*(electron_pt_flat < 15)\n",
    "w.tolist()"
   ]
  },
  {
   "cell_type": "code",
   "execution_count": 7,
   "id": "b9c84150",
   "metadata": {
    "scrolled": false
   },
   "outputs": [],
   "source": [
    "weights.add('custom_weight', w)"
   ]
  },
  {
   "cell_type": "markdown",
   "id": "d7a32b4a",
   "metadata": {},
   "source": [
    "## Compute per-electron weights\n",
    "After adding the weigths, we can compute the total weight and get the flattened weights. In order to get the per-event structure, we can unflatten the `weights` array."
   ]
  },
  {
   "cell_type": "code",
   "execution_count": 8,
   "id": "44a429f0",
   "metadata": {},
   "outputs": [
    {
     "data": {
      "text/plain": [
       "array([1.1, 0.5, 0.5, 1.1, 0.5, 0.5, 0.5, 1.1])"
      ]
     },
     "execution_count": 8,
     "metadata": {},
     "output_type": "execute_result"
    }
   ],
   "source": [
    "weights.weight()"
   ]
  },
  {
   "cell_type": "code",
   "execution_count": 9,
   "id": "8d0a873d",
   "metadata": {},
   "outputs": [
    {
     "data": {
      "text/plain": [
       "<Array [[1.1, 0.5], [0.5, ... 0.5], [0.5, 1.1]] type='4 * var * float64'>"
      ]
     },
     "execution_count": 9,
     "metadata": {},
     "output_type": "execute_result"
    }
   ],
   "source": [
    "ak.unflatten(weights.weight(), electron_counts)"
   ]
  },
  {
   "cell_type": "markdown",
   "id": "92af0835",
   "metadata": {},
   "source": [
    "## Compute per-event weights\n",
    "In order to get a per-event weight, we can multiply the electron weights in each event. Each entry of the product array corresponds now to the per-event scale factor to apply to each event."
   ]
  },
  {
   "cell_type": "code",
   "execution_count": 10,
   "id": "39ce7f46",
   "metadata": {},
   "outputs": [
    {
     "data": {
      "text/plain": [
       "<Array [0.55, 0.275, 0.5, 0.55] type='4 * float64'>"
      ]
     },
     "execution_count": 10,
     "metadata": {},
     "output_type": "execute_result"
    }
   ],
   "source": [
    "ak.prod(ak.unflatten(weights.weight(), electron_counts), axis=1)"
   ]
  },
  {
   "cell_type": "code",
   "execution_count": null,
   "id": "c04e8255",
   "metadata": {},
   "outputs": [],
   "source": []
  }
 ],
 "metadata": {
  "kernelspec": {
   "display_name": "Python 3 (ipykernel)",
   "language": "python",
   "name": "python3"
  },
  "language_info": {
   "codemirror_mode": {
    "name": "ipython",
    "version": 3
   },
   "file_extension": ".py",
   "mimetype": "text/x-python",
   "name": "python",
   "nbconvert_exporter": "python",
   "pygments_lexer": "ipython3",
   "version": "3.9.7"
  }
 },
 "nbformat": 4,
 "nbformat_minor": 5
}
