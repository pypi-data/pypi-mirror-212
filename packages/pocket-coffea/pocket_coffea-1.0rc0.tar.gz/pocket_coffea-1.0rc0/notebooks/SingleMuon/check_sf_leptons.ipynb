{
 "cells": [
  {
   "cell_type": "code",
   "execution_count": 12,
   "id": "5c6b6812",
   "metadata": {},
   "outputs": [],
   "source": [
    "import numpy as np\n",
    "import awkward as ak\n",
    "import correctionlib\n",
    "from pocket_coffea.parameters.lepton_scale_factors import (\n",
    "    electronSF,\n",
    "    muonSF,\n",
    "    electronJSONfiles,\n",
    "    muonJSONfiles,\n",
    ")"
   ]
  },
  {
   "cell_type": "code",
   "execution_count": 19,
   "id": "51c92378",
   "metadata": {},
   "outputs": [
    {
     "data": {
      "text/plain": [
       "(<Array [35, 42, None] type='3 * ?float64'>,\n",
       " <Array [1.1, 0.7, None] type='3 * ?float64'>)"
      ]
     },
     "execution_count": 19,
     "metadata": {},
     "output_type": "execute_result"
    }
   ],
   "source": [
    "year = '2018'\n",
    "key = 'id'\n",
    "sfName = electronSF[key]\n",
    "map_name = electronJSONfiles[year]['name']\n",
    "electron_pt  = ak.Array([[35.0], [42.0], []])\n",
    "electron_eta = ak.Array([[1.1], [0.7], []])\n",
    "pt = ak.firsts(electron_pt)\n",
    "eta = ak.firsts(electron_eta)\n",
    "pt, eta"
   ]
  },
  {
   "cell_type": "code",
   "execution_count": 20,
   "id": "53d0bdf8",
   "metadata": {},
   "outputs": [
    {
     "ename": "RuntimeError",
     "evalue": "Index below bounds in MultiBinning for input argument 4 val: 0.000000",
     "output_type": "error",
     "traceback": [
      "\u001b[0;31m---------------------------------------------------------------------------\u001b[0m",
      "\u001b[0;31mRuntimeError\u001b[0m                              Traceback (most recent call last)",
      "Cell \u001b[0;32mIn[20], line 2\u001b[0m\n\u001b[1;32m      1\u001b[0m electronJSON \u001b[38;5;241m=\u001b[39m correctionlib\u001b[38;5;241m.\u001b[39mCorrectionSet\u001b[38;5;241m.\u001b[39mfrom_file( electronJSONfiles[year][\u001b[38;5;124m'\u001b[39m\u001b[38;5;124mfile_POG\u001b[39m\u001b[38;5;124m'\u001b[39m] )\n\u001b[0;32m----> 2\u001b[0m sf \u001b[38;5;241m=\u001b[39m \u001b[43melectronJSON\u001b[49m\u001b[43m[\u001b[49m\u001b[43mmap_name\u001b[49m\u001b[43m]\u001b[49m\u001b[38;5;241;43m.\u001b[39;49m\u001b[43mevaluate\u001b[49m\u001b[43m(\u001b[49m\u001b[43m \u001b[49m\u001b[43myear\u001b[49m\u001b[43m,\u001b[49m\u001b[43m \u001b[49m\u001b[38;5;124;43m\"\u001b[39;49m\u001b[38;5;124;43msf\u001b[39;49m\u001b[38;5;124;43m\"\u001b[39;49m\u001b[43m,\u001b[49m\u001b[43m \u001b[49m\u001b[43msfName\u001b[49m\u001b[43m,\u001b[49m\u001b[43m \u001b[49m\u001b[43meta\u001b[49m\u001b[38;5;241;43m.\u001b[39;49m\u001b[43mto_numpy\u001b[49m\u001b[43m(\u001b[49m\u001b[43m)\u001b[49m\u001b[43m,\u001b[49m\u001b[43m \u001b[49m\u001b[43mpt\u001b[49m\u001b[38;5;241;43m.\u001b[39;49m\u001b[43mto_numpy\u001b[49m\u001b[43m(\u001b[49m\u001b[43m)\u001b[49m\u001b[43m \u001b[49m\u001b[43m)\u001b[49m\n\u001b[1;32m      3\u001b[0m sf\n",
      "File \u001b[0;32m/work/mmarcheg/miniconda3/envs/pocket-coffea-blank/lib/python3.8/site-packages/correctionlib/highlevel.py:99\u001b[0m, in \u001b[0;36mCorrection.evaluate\u001b[0;34m(self, *args)\u001b[0m\n\u001b[1;32m     97\u001b[0m     oshape \u001b[38;5;241m=\u001b[39m bargs[\u001b[38;5;241m0\u001b[39m]\u001b[38;5;241m.\u001b[39mshape\n\u001b[1;32m     98\u001b[0m     fargs \u001b[38;5;241m=\u001b[39m (arg\u001b[38;5;241m.\u001b[39mflatten() \u001b[38;5;28;01mfor\u001b[39;00m arg \u001b[38;5;129;01min\u001b[39;00m bargs)\n\u001b[0;32m---> 99\u001b[0m     out \u001b[38;5;241m=\u001b[39m \u001b[38;5;28;43mself\u001b[39;49m\u001b[38;5;241;43m.\u001b[39;49m\u001b[43m_base\u001b[49m\u001b[38;5;241;43m.\u001b[39;49m\u001b[43mevalv\u001b[49m\u001b[43m(\u001b[49m\n\u001b[1;32m    100\u001b[0m \u001b[43m        \u001b[49m\u001b[38;5;241;43m*\u001b[39;49m\u001b[43m(\u001b[49m\n\u001b[1;32m    101\u001b[0m \u001b[43m            \u001b[49m\u001b[38;5;28;43mnext\u001b[39;49m\u001b[43m(\u001b[49m\u001b[43mfargs\u001b[49m\u001b[43m)\u001b[49m\u001b[43m \u001b[49m\u001b[38;5;28;43;01mif\u001b[39;49;00m\u001b[43m \u001b[49m\u001b[38;5;129;43;01mnot\u001b[39;49;00m\u001b[43m \u001b[49m\u001b[38;5;28;43misinstance\u001b[39;49m\u001b[43m(\u001b[49m\u001b[43marg\u001b[49m\u001b[43m,\u001b[49m\u001b[43m \u001b[49m\u001b[43m(\u001b[49m\u001b[38;5;28;43mstr\u001b[39;49m\u001b[43m,\u001b[49m\u001b[43m \u001b[49m\u001b[38;5;28;43mint\u001b[39;49m\u001b[43m,\u001b[49m\u001b[43m \u001b[49m\u001b[38;5;28;43mfloat\u001b[39;49m\u001b[43m)\u001b[49m\u001b[43m)\u001b[49m\u001b[43m \u001b[49m\u001b[38;5;28;43;01melse\u001b[39;49;00m\u001b[43m \u001b[49m\u001b[43marg\u001b[49m\n\u001b[1;32m    102\u001b[0m \u001b[43m            \u001b[49m\u001b[38;5;28;43;01mfor\u001b[39;49;00m\u001b[43m \u001b[49m\u001b[43marg\u001b[49m\u001b[43m \u001b[49m\u001b[38;5;129;43;01min\u001b[39;49;00m\u001b[43m \u001b[49m\u001b[43margs\u001b[49m\n\u001b[1;32m    103\u001b[0m \u001b[43m        \u001b[49m\u001b[43m)\u001b[49m\n\u001b[1;32m    104\u001b[0m \u001b[43m    \u001b[49m\u001b[43m)\u001b[49m\n\u001b[1;32m    105\u001b[0m     \u001b[38;5;28;01mreturn\u001b[39;00m out\u001b[38;5;241m.\u001b[39mreshape(oshape)\n\u001b[1;32m    106\u001b[0m \u001b[38;5;28;01mreturn\u001b[39;00m \u001b[38;5;28mself\u001b[39m\u001b[38;5;241m.\u001b[39m_base\u001b[38;5;241m.\u001b[39mevaluate(\u001b[38;5;241m*\u001b[39margs)\n",
      "\u001b[0;31mRuntimeError\u001b[0m: Index below bounds in MultiBinning for input argument 4 val: 0.000000"
     ]
    }
   ],
   "source": [
    "electronJSON = correctionlib.CorrectionSet.from_file( electronJSONfiles[year]['file_POG'] )\n",
    "sf = electronJSON[map_name].evaluate( year, \"sf\", sfName, eta.to_numpy(), pt.to_numpy() )\n",
    "sf"
   ]
  },
  {
   "cell_type": "code",
   "execution_count": 22,
   "id": "cf63ddf2",
   "metadata": {},
   "outputs": [
    {
     "data": {
      "text/plain": [
       "<Array [35, 42, 1] type='3 * float64'>"
      ]
     },
     "execution_count": 22,
     "metadata": {},
     "output_type": "execute_result"
    }
   ],
   "source": [
    "ak.prod(electron_pt,axis=1)"
   ]
  },
  {
   "cell_type": "code",
   "execution_count": null,
   "id": "f26c7668",
   "metadata": {},
   "outputs": [],
   "source": []
  }
 ],
 "metadata": {
  "kernelspec": {
   "display_name": "Python 3 (ipykernel)",
   "language": "python",
   "name": "python3"
  },
  "language_info": {
   "codemirror_mode": {
    "name": "ipython",
    "version": 3
   },
   "file_extension": ".py",
   "mimetype": "text/x-python",
   "name": "python",
   "nbconvert_exporter": "python",
   "pygments_lexer": "ipython3",
   "version": "3.8.15"
  }
 },
 "nbformat": 4,
 "nbformat_minor": 5
}
