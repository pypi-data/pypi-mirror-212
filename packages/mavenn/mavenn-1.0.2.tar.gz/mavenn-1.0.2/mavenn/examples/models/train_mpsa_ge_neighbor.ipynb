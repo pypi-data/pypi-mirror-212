{
 "cells": [
  {
   "cell_type": "code",
   "execution_count": 1,
   "metadata": {
    "ExecuteTime": {
     "end_time": "2020-11-17T18:20:23.542359Z",
     "start_time": "2020-11-17T18:20:20.989879Z"
    }
   },
   "outputs": [
    {
     "name": "stdout",
     "output_type": "stream",
     "text": [
      "['/Users/tareen/Desktop/Research_Projects/2020_mavenn_github/mavenn_git_ssh/mavenn']\n"
     ]
    }
   ],
   "source": [
    "# Standard imports\n",
    "import pandas as pd\n",
    "import matplotlib.pyplot as plt\n",
    "import numpy as np\n",
    "import time\n",
    "\n",
    "# Insert path to mavenn beginning of path\n",
    "import os\n",
    "import sys\n",
    "# Load mavenn\n",
    "import sys\n",
    "path_to_mavenn = '/Users/tareen/Desktop/Research_Projects/2020_mavenn_github/mavenn_git_ssh/'\n",
    "sys.path.insert(0, path_to_mavenn)\n",
    "\n",
    "# Load mavenn\n",
    "import mavenn\n",
    "print(mavenn.__path__)"
   ]
  },
  {
   "cell_type": "code",
   "execution_count": 2,
   "metadata": {
    "ExecuteTime": {
     "end_time": "2020-11-17T18:20:23.632763Z",
     "start_time": "2020-11-17T18:20:23.544700Z"
    }
   },
   "outputs": [
    {
     "name": "stdout",
     "output_type": "stream",
     "text": [
      "test N: 6,249\n",
      "training + validation N: 24,234\n"
     ]
    },
    {
     "data": {
      "text/html": [
       "<div>\n",
       "<style scoped>\n",
       "    .dataframe tbody tr th:only-of-type {\n",
       "        vertical-align: middle;\n",
       "    }\n",
       "\n",
       "    .dataframe tbody tr th {\n",
       "        vertical-align: top;\n",
       "    }\n",
       "\n",
       "    .dataframe thead th {\n",
       "        text-align: right;\n",
       "    }\n",
       "</style>\n",
       "<table border=\"1\" class=\"dataframe\">\n",
       "  <thead>\n",
       "    <tr style=\"text-align: right;\">\n",
       "      <th></th>\n",
       "      <th>set</th>\n",
       "      <th>tot_ct</th>\n",
       "      <th>ex_ct</th>\n",
       "      <th>y</th>\n",
       "      <th>x</th>\n",
       "    </tr>\n",
       "  </thead>\n",
       "  <tbody>\n",
       "    <tr>\n",
       "      <th>0</th>\n",
       "      <td>training</td>\n",
       "      <td>28</td>\n",
       "      <td>2</td>\n",
       "      <td>0.023406</td>\n",
       "      <td>GGAGUGAUG</td>\n",
       "    </tr>\n",
       "    <tr>\n",
       "      <th>1</th>\n",
       "      <td>training</td>\n",
       "      <td>315</td>\n",
       "      <td>7</td>\n",
       "      <td>-0.587914</td>\n",
       "      <td>AGUGUGCAA</td>\n",
       "    </tr>\n",
       "    <tr>\n",
       "      <th>2</th>\n",
       "      <td>validation</td>\n",
       "      <td>27</td>\n",
       "      <td>0</td>\n",
       "      <td>-0.438475</td>\n",
       "      <td>UAAGCUUUU</td>\n",
       "    </tr>\n",
       "    <tr>\n",
       "      <th>3</th>\n",
       "      <td>training</td>\n",
       "      <td>130</td>\n",
       "      <td>2</td>\n",
       "      <td>-0.631467</td>\n",
       "      <td>AUGGUCGGG</td>\n",
       "    </tr>\n",
       "    <tr>\n",
       "      <th>4</th>\n",
       "      <td>training</td>\n",
       "      <td>552</td>\n",
       "      <td>19</td>\n",
       "      <td>-0.433012</td>\n",
       "      <td>AGGGCAGGA</td>\n",
       "    </tr>\n",
       "    <tr>\n",
       "      <th>5</th>\n",
       "      <td>training</td>\n",
       "      <td>151</td>\n",
       "      <td>184</td>\n",
       "      <td>1.094011</td>\n",
       "      <td>AAGGUCCGC</td>\n",
       "    </tr>\n",
       "    <tr>\n",
       "      <th>6</th>\n",
       "      <td>training</td>\n",
       "      <td>88</td>\n",
       "      <td>4</td>\n",
       "      <td>-0.241737</td>\n",
       "      <td>CAGGCAAAC</td>\n",
       "    </tr>\n",
       "    <tr>\n",
       "      <th>7</th>\n",
       "      <td>training</td>\n",
       "      <td>105</td>\n",
       "      <td>5</td>\n",
       "      <td>-0.238471</td>\n",
       "      <td>GUGGCAAAU</td>\n",
       "    </tr>\n",
       "    <tr>\n",
       "      <th>8</th>\n",
       "      <td>validation</td>\n",
       "      <td>14</td>\n",
       "      <td>0</td>\n",
       "      <td>-0.167408</td>\n",
       "      <td>CAUGCAGCU</td>\n",
       "    </tr>\n",
       "    <tr>\n",
       "      <th>9</th>\n",
       "      <td>training</td>\n",
       "      <td>170</td>\n",
       "      <td>14</td>\n",
       "      <td>-0.048222</td>\n",
       "      <td>CAAGUCACU</td>\n",
       "    </tr>\n",
       "  </tbody>\n",
       "</table>\n",
       "</div>"
      ],
      "text/plain": [
       "          set  tot_ct  ex_ct         y          x\n",
       "0    training      28      2  0.023406  GGAGUGAUG\n",
       "1    training     315      7 -0.587914  AGUGUGCAA\n",
       "2  validation      27      0 -0.438475  UAAGCUUUU\n",
       "3    training     130      2 -0.631467  AUGGUCGGG\n",
       "4    training     552     19 -0.433012  AGGGCAGGA\n",
       "5    training     151    184  1.094011  AAGGUCCGC\n",
       "6    training      88      4 -0.241737  CAGGCAAAC\n",
       "7    training     105      5 -0.238471  GUGGCAAAU\n",
       "8  validation      14      0 -0.167408  CAUGCAGCU\n",
       "9    training     170     14 -0.048222  CAAGUCACU"
      ]
     },
     "execution_count": 2,
     "metadata": {},
     "output_type": "execute_result"
    }
   ],
   "source": [
    "# Download mpsa dataset from master branch\n",
    "url = 'https://github.com/jbkinney/mavenn/blob/master/mavenn/examples/datasets/mpsa_data.csv.gz?raw=true'\n",
    "\n",
    "data_df = pd.read_csv(url,  \n",
    "                      compression='gzip',\n",
    "                      index_col=[0])\n",
    "\n",
    "data_df = data_df.reset_index().copy()\n",
    "\n",
    "# Separate test from data_df\n",
    "ix_test = data_df['set']=='test'\n",
    "test_df = data_df[ix_test].reset_index(drop=True)\n",
    "print(f'test N: {len(test_df):,}')\n",
    "\n",
    "# Remove test data from data_df\n",
    "data_df = data_df[~ix_test].reset_index(drop=True)\n",
    "print(f'training + validation N: {len(data_df):,}')\n",
    "data_df.head(10)"
   ]
  },
  {
   "cell_type": "code",
   "execution_count": 3,
   "metadata": {
    "ExecuteTime": {
     "end_time": "2020-11-17T18:20:24.856115Z",
     "start_time": "2020-11-17T18:20:23.636568Z"
    },
    "collapsed": true
   },
   "outputs": [],
   "source": [
    "# Get sequence length\n",
    "L = len(data_df['x'][0])\n",
    "\n",
    "# Define model\n",
    "model = mavenn.Model(L=L,\n",
    "                     alphabet='rna',\n",
    "                     gpmap_type='neighbor', \n",
    "                     regression_type='GE',\n",
    "                     theta_regularization=0.1,\n",
    "                     ge_noise_model_type='SkewedT',\n",
    "                     ge_heteroskedasticity_order=2)\n"
   ]
  },
  {
   "cell_type": "code",
   "execution_count": 4,
   "metadata": {
    "ExecuteTime": {
     "end_time": "2020-11-17T18:20:25.273023Z",
     "start_time": "2020-11-17T18:20:24.857996Z"
    }
   },
   "outputs": [
    {
     "name": "stdout",
     "output_type": "stream",
     "text": [
      "N = 24,234 observations set as training data.\n",
      "Using 24.8% for validation.\n",
      "Data shuffled.\n",
      "Time to set data: 0.431 sec.\n"
     ]
    }
   ],
   "source": [
    "# Set training data\n",
    "model.set_data(x=data_df['x'],\n",
    "               y=data_df['y'],\n",
    "               validation_flags=(data_df['set']=='validation'),\n",
    "               shuffle=True)"
   ]
  },
  {
   "cell_type": "code",
   "execution_count": 5,
   "metadata": {
    "ExecuteTime": {
     "end_time": "2020-11-17T18:21:43.683694Z",
     "start_time": "2020-11-17T18:20:25.274559Z"
    },
    "scrolled": true
   },
   "outputs": [
    {
     "name": "stdout",
     "output_type": "stream",
     "text": [
      "Epoch 1/1000\n"
     ]
    },
    {
     "name": "stderr",
     "output_type": "stream",
     "text": [
      "Using TensorFlow backend.\n",
      "Exception ignored in: <bound method tqdm.__del__ of <tqdm.auto.tqdm object at 0x7f805cfa3048>>\n",
      "Traceback (most recent call last):\n",
      "  File \"/Users/tareen/miniconda3/lib/python3.6/site-packages/tqdm/std.py\", line 1147, in __del__\n",
      "    self.close()\n",
      "  File \"/Users/tareen/miniconda3/lib/python3.6/site-packages/tqdm/notebook.py\", line 289, in close\n",
      "    self.disp(bar_style='success', check_delay=False)\n",
      "AttributeError: 'tqdm' object has no attribute 'disp'\n"
     ]
    },
    {
     "name": "stdout",
     "output_type": "stream",
     "text": [
      "92/92 [==============================] - 3s 14ms/step - loss: 280.8336 - I_var: -0.5429 - val_loss: 255.8343 - val_I_var: -0.4595\n",
      "Epoch 2/1000\n",
      "92/92 [==============================] - 0s 3ms/step - loss: 250.1876 - I_var: -0.4009 - val_loss: 238.2110 - val_I_var: -0.3398\n",
      "Epoch 3/1000\n",
      "92/92 [==============================] - 0s 3ms/step - loss: 233.1970 - I_var: -0.2797 - val_loss: 223.4828 - val_I_var: -0.2391\n",
      "Epoch 4/1000\n",
      "92/92 [==============================] - 0s 3ms/step - loss: 221.4528 - I_var: -0.1896 - val_loss: 210.7345 - val_I_var: -0.1533\n",
      "Epoch 5/1000\n",
      "92/92 [==============================] - 0s 3ms/step - loss: 205.7703 - I_var: -0.1023 - val_loss: 200.1942 - val_I_var: -0.0799\n",
      "Epoch 6/1000\n",
      "92/92 [==============================] - 0s 4ms/step - loss: 200.7629 - I_var: -0.0461 - val_loss: 193.3773 - val_I_var: -0.0320\n",
      "Epoch 7/1000\n",
      "92/92 [==============================] - 0s 3ms/step - loss: 194.6375 - I_var: 0.0043 - val_loss: 189.5238 - val_I_var: -0.0044\n",
      "Epoch 8/1000\n",
      "92/92 [==============================] - 0s 3ms/step - loss: 187.2204 - I_var: 0.0221 - val_loss: 186.0085 - val_I_var: 0.0193\n",
      "Epoch 9/1000\n",
      "92/92 [==============================] - 0s 3ms/step - loss: 185.1429 - I_var: 0.0336 - val_loss: 183.9219 - val_I_var: 0.0322\n",
      "Epoch 10/1000\n",
      "92/92 [==============================] - 0s 3ms/step - loss: 182.8877 - I_var: 0.0477 - val_loss: 182.5133 - val_I_var: 0.0406\n",
      "Epoch 11/1000\n",
      "92/92 [==============================] - 0s 3ms/step - loss: 181.6688 - I_var: 0.0663 - val_loss: 181.1091 - val_I_var: 0.0503\n",
      "Epoch 12/1000\n",
      "92/92 [==============================] - 0s 3ms/step - loss: 180.1972 - I_var: 0.0716 - val_loss: 179.8174 - val_I_var: 0.0604\n",
      "Epoch 13/1000\n",
      "92/92 [==============================] - 0s 3ms/step - loss: 179.0815 - I_var: 0.0812 - val_loss: 178.7750 - val_I_var: 0.0670\n",
      "Epoch 14/1000\n",
      "92/92 [==============================] - 0s 3ms/step - loss: 181.1058 - I_var: 0.0842 - val_loss: 178.2847 - val_I_var: 0.0686\n",
      "Epoch 15/1000\n",
      "92/92 [==============================] - 0s 3ms/step - loss: 176.2120 - I_var: 0.0934 - val_loss: 177.6353 - val_I_var: 0.0757\n",
      "Epoch 16/1000\n",
      "92/92 [==============================] - 0s 3ms/step - loss: 179.2448 - I_var: 0.1022 - val_loss: 176.1425 - val_I_var: 0.0843\n",
      "Epoch 17/1000\n",
      "92/92 [==============================] - 0s 3ms/step - loss: 176.9888 - I_var: 0.1052 - val_loss: 175.5111 - val_I_var: 0.0899\n",
      "Epoch 18/1000\n",
      "92/92 [==============================] - 0s 3ms/step - loss: 176.7033 - I_var: 0.1094 - val_loss: 174.7231 - val_I_var: 0.0952\n",
      "Epoch 19/1000\n",
      "92/92 [==============================] - 0s 3ms/step - loss: 176.0205 - I_var: 0.1115 - val_loss: 174.0843 - val_I_var: 0.0997\n",
      "Epoch 20/1000\n",
      "92/92 [==============================] - 0s 3ms/step - loss: 176.1041 - I_var: 0.1194 - val_loss: 173.7646 - val_I_var: 0.1017\n",
      "Epoch 21/1000\n",
      "92/92 [==============================] - 0s 3ms/step - loss: 176.4885 - I_var: 0.1193 - val_loss: 173.1145 - val_I_var: 0.1067\n",
      "Epoch 22/1000\n",
      "92/92 [==============================] - 0s 3ms/step - loss: 174.1571 - I_var: 0.1248 - val_loss: 172.8229 - val_I_var: 0.1090\n",
      "Epoch 23/1000\n",
      "92/92 [==============================] - 0s 4ms/step - loss: 173.7331 - I_var: 0.1321 - val_loss: 172.7374 - val_I_var: 0.1082\n",
      "Epoch 24/1000\n",
      "92/92 [==============================] - 0s 3ms/step - loss: 173.3763 - I_var: 0.1241 - val_loss: 172.0306 - val_I_var: 0.1145\n",
      "Epoch 25/1000\n",
      "92/92 [==============================] - 0s 3ms/step - loss: 171.3082 - I_var: 0.1267 - val_loss: 171.8640 - val_I_var: 0.1172\n",
      "Epoch 26/1000\n",
      "92/92 [==============================] - 0s 3ms/step - loss: 174.0375 - I_var: 0.1335 - val_loss: 171.5974 - val_I_var: 0.1194\n",
      "Epoch 27/1000\n",
      "92/92 [==============================] - 0s 3ms/step - loss: 173.1933 - I_var: 0.1367 - val_loss: 171.1133 - val_I_var: 0.1222\n",
      "Epoch 28/1000\n",
      "92/92 [==============================] - 0s 3ms/step - loss: 173.7209 - I_var: 0.1332 - val_loss: 170.7815 - val_I_var: 0.1234\n",
      "Epoch 29/1000\n",
      "92/92 [==============================] - 0s 3ms/step - loss: 172.5612 - I_var: 0.1381 - val_loss: 170.3658 - val_I_var: 0.1276\n",
      "Epoch 30/1000\n",
      "92/92 [==============================] - 0s 3ms/step - loss: 171.0582 - I_var: 0.1398 - val_loss: 170.2815 - val_I_var: 0.1294\n",
      "Epoch 31/1000\n",
      "92/92 [==============================] - 0s 3ms/step - loss: 169.8071 - I_var: 0.1433 - val_loss: 169.7149 - val_I_var: 0.1314\n",
      "Epoch 32/1000\n",
      "92/92 [==============================] - 0s 3ms/step - loss: 170.5302 - I_var: 0.1426 - val_loss: 169.8014 - val_I_var: 0.1334\n",
      "Epoch 33/1000\n",
      "92/92 [==============================] - 0s 3ms/step - loss: 172.4966 - I_var: 0.1428 - val_loss: 169.1852 - val_I_var: 0.1348\n",
      "Epoch 34/1000\n",
      "92/92 [==============================] - 0s 3ms/step - loss: 167.2856 - I_var: 0.1488 - val_loss: 168.9459 - val_I_var: 0.1364\n",
      "Epoch 35/1000\n",
      "92/92 [==============================] - 0s 3ms/step - loss: 170.1718 - I_var: 0.1417 - val_loss: 168.3840 - val_I_var: 0.1418\n",
      "Epoch 36/1000\n",
      "92/92 [==============================] - 0s 3ms/step - loss: 168.9833 - I_var: 0.1451 - val_loss: 168.0168 - val_I_var: 0.1453\n",
      "Epoch 37/1000\n",
      "92/92 [==============================] - 0s 3ms/step - loss: 171.6694 - I_var: 0.1467 - val_loss: 167.6433 - val_I_var: 0.1475\n",
      "Epoch 38/1000\n",
      "92/92 [==============================] - 0s 3ms/step - loss: 168.8923 - I_var: 0.1537 - val_loss: 167.3642 - val_I_var: 0.1501\n",
      "Epoch 39/1000\n",
      "92/92 [==============================] - 0s 3ms/step - loss: 172.8595 - I_var: 0.1523 - val_loss: 167.0640 - val_I_var: 0.1524\n",
      "Epoch 40/1000\n",
      "92/92 [==============================] - 0s 3ms/step - loss: 167.3965 - I_var: 0.1555 - val_loss: 166.8353 - val_I_var: 0.1545\n",
      "Epoch 41/1000\n",
      "92/92 [==============================] - 0s 3ms/step - loss: 167.7609 - I_var: 0.1445 - val_loss: 166.4826 - val_I_var: 0.1563\n",
      "Epoch 42/1000\n",
      "92/92 [==============================] - 0s 3ms/step - loss: 169.9322 - I_var: 0.1570 - val_loss: 166.6499 - val_I_var: 0.1570\n",
      "Epoch 43/1000\n",
      "92/92 [==============================] - 0s 3ms/step - loss: 168.2514 - I_var: 0.1576 - val_loss: 165.8934 - val_I_var: 0.1605\n",
      "Epoch 44/1000\n",
      "92/92 [==============================] - 0s 3ms/step - loss: 167.7296 - I_var: 0.1520 - val_loss: 165.6455 - val_I_var: 0.1626\n",
      "Epoch 45/1000\n",
      "92/92 [==============================] - 0s 3ms/step - loss: 167.3021 - I_var: 0.1657 - val_loss: 165.4611 - val_I_var: 0.1645\n",
      "Epoch 46/1000\n",
      "92/92 [==============================] - 0s 3ms/step - loss: 168.1528 - I_var: 0.1634 - val_loss: 165.4460 - val_I_var: 0.1656\n",
      "Epoch 47/1000\n",
      "92/92 [==============================] - 0s 3ms/step - loss: 168.3416 - I_var: 0.1610 - val_loss: 165.0810 - val_I_var: 0.1680\n",
      "Epoch 48/1000\n",
      "92/92 [==============================] - 0s 3ms/step - loss: 167.9762 - I_var: 0.1651 - val_loss: 164.7387 - val_I_var: 0.1691\n",
      "Epoch 49/1000\n",
      "92/92 [==============================] - 0s 3ms/step - loss: 168.7402 - I_var: 0.1732 - val_loss: 164.4799 - val_I_var: 0.1720\n",
      "Epoch 50/1000\n",
      "92/92 [==============================] - 0s 3ms/step - loss: 166.2871 - I_var: 0.1709 - val_loss: 165.4816 - val_I_var: 0.1674\n",
      "Epoch 51/1000\n",
      "92/92 [==============================] - 0s 3ms/step - loss: 169.0882 - I_var: 0.1699 - val_loss: 164.0383 - val_I_var: 0.1751\n",
      "Epoch 52/1000\n",
      "92/92 [==============================] - 0s 3ms/step - loss: 167.7641 - I_var: 0.1786 - val_loss: 163.9070 - val_I_var: 0.1755\n",
      "Epoch 53/1000\n",
      "92/92 [==============================] - 0s 3ms/step - loss: 167.5429 - I_var: 0.1614 - val_loss: 163.6252 - val_I_var: 0.1776\n",
      "Epoch 54/1000\n",
      "92/92 [==============================] - 0s 3ms/step - loss: 164.8075 - I_var: 0.1797 - val_loss: 163.5084 - val_I_var: 0.1799\n",
      "Epoch 55/1000\n",
      "92/92 [==============================] - 0s 3ms/step - loss: 168.6267 - I_var: 0.1781 - val_loss: 163.1996 - val_I_var: 0.1807\n",
      "Epoch 56/1000\n",
      "92/92 [==============================] - 0s 3ms/step - loss: 165.9524 - I_var: 0.1717 - val_loss: 162.9277 - val_I_var: 0.1838\n",
      "Epoch 57/1000\n",
      "92/92 [==============================] - 0s 3ms/step - loss: 165.9923 - I_var: 0.1815 - val_loss: 162.6925 - val_I_var: 0.1857\n",
      "Epoch 58/1000\n",
      "92/92 [==============================] - 0s 3ms/step - loss: 165.7176 - I_var: 0.1840 - val_loss: 162.5008 - val_I_var: 0.1869\n",
      "Epoch 59/1000\n"
     ]
    },
    {
     "name": "stdout",
     "output_type": "stream",
     "text": [
      "92/92 [==============================] - 0s 3ms/step - loss: 164.7748 - I_var: 0.1827 - val_loss: 162.3020 - val_I_var: 0.1893\n",
      "Epoch 60/1000\n",
      "92/92 [==============================] - 0s 4ms/step - loss: 168.9072 - I_var: 0.1877 - val_loss: 162.0243 - val_I_var: 0.1912\n",
      "Epoch 61/1000\n",
      "92/92 [==============================] - 0s 4ms/step - loss: 166.6568 - I_var: 0.1882 - val_loss: 161.7369 - val_I_var: 0.1928\n",
      "Epoch 62/1000\n",
      "92/92 [==============================] - 0s 4ms/step - loss: 164.7939 - I_var: 0.1917 - val_loss: 161.4535 - val_I_var: 0.1948\n",
      "Epoch 63/1000\n",
      "92/92 [==============================] - 0s 4ms/step - loss: 165.1312 - I_var: 0.1890 - val_loss: 161.3637 - val_I_var: 0.1956\n",
      "Epoch 64/1000\n",
      "92/92 [==============================] - 0s 3ms/step - loss: 162.0964 - I_var: 0.1971 - val_loss: 161.1561 - val_I_var: 0.1981\n",
      "Epoch 65/1000\n",
      "92/92 [==============================] - 0s 3ms/step - loss: 162.7664 - I_var: 0.1916 - val_loss: 160.7569 - val_I_var: 0.1998\n",
      "Epoch 66/1000\n",
      "92/92 [==============================] - 0s 3ms/step - loss: 165.7945 - I_var: 0.2012 - val_loss: 160.4775 - val_I_var: 0.2028\n",
      "Epoch 67/1000\n",
      "92/92 [==============================] - 0s 3ms/step - loss: 163.4149 - I_var: 0.1936 - val_loss: 160.3165 - val_I_var: 0.2032\n",
      "Epoch 68/1000\n",
      "92/92 [==============================] - 0s 4ms/step - loss: 163.2832 - I_var: 0.1969 - val_loss: 160.3716 - val_I_var: 0.2053\n",
      "Epoch 69/1000\n",
      "92/92 [==============================] - 0s 3ms/step - loss: 162.5237 - I_var: 0.1968 - val_loss: 160.5437 - val_I_var: 0.2048\n",
      "Epoch 70/1000\n",
      "92/92 [==============================] - 0s 3ms/step - loss: 165.6278 - I_var: 0.2026 - val_loss: 159.4177 - val_I_var: 0.2104\n",
      "Epoch 71/1000\n",
      "92/92 [==============================] - 0s 3ms/step - loss: 165.3188 - I_var: 0.2052 - val_loss: 159.2443 - val_I_var: 0.2107\n",
      "Epoch 72/1000\n",
      "92/92 [==============================] - 0s 3ms/step - loss: 164.5658 - I_var: 0.2054 - val_loss: 158.8879 - val_I_var: 0.2140\n",
      "Epoch 73/1000\n",
      "92/92 [==============================] - 0s 3ms/step - loss: 161.6615 - I_var: 0.2114 - val_loss: 158.5073 - val_I_var: 0.2167\n",
      "Epoch 74/1000\n",
      "92/92 [==============================] - 0s 3ms/step - loss: 161.6679 - I_var: 0.2087 - val_loss: 158.8095 - val_I_var: 0.2180\n",
      "Epoch 75/1000\n",
      "92/92 [==============================] - 0s 3ms/step - loss: 159.8379 - I_var: 0.2126 - val_loss: 157.7603 - val_I_var: 0.2245\n",
      "Epoch 76/1000\n",
      "92/92 [==============================] - 0s 3ms/step - loss: 157.6345 - I_var: 0.2221 - val_loss: 157.1277 - val_I_var: 0.2276\n",
      "Epoch 77/1000\n",
      "92/92 [==============================] - 0s 3ms/step - loss: 161.2644 - I_var: 0.2269 - val_loss: 156.8512 - val_I_var: 0.2306\n",
      "Epoch 78/1000\n",
      "92/92 [==============================] - 0s 3ms/step - loss: 161.8359 - I_var: 0.2278 - val_loss: 156.0805 - val_I_var: 0.2370\n",
      "Epoch 79/1000\n",
      "92/92 [==============================] - 0s 3ms/step - loss: 158.0711 - I_var: 0.2326 - val_loss: 155.3341 - val_I_var: 0.2421\n",
      "Epoch 80/1000\n",
      "92/92 [==============================] - 0s 3ms/step - loss: 158.6245 - I_var: 0.2396 - val_loss: 155.1055 - val_I_var: 0.2430\n",
      "Epoch 81/1000\n",
      "92/92 [==============================] - 0s 3ms/step - loss: 159.6704 - I_var: 0.2481 - val_loss: 153.3869 - val_I_var: 0.2554\n",
      "Epoch 82/1000\n",
      "92/92 [==============================] - 0s 3ms/step - loss: 158.0544 - I_var: 0.2624 - val_loss: 151.8168 - val_I_var: 0.2680\n",
      "Epoch 83/1000\n",
      "92/92 [==============================] - 0s 3ms/step - loss: 153.7167 - I_var: 0.2670 - val_loss: 150.5842 - val_I_var: 0.2758\n",
      "Epoch 84/1000\n",
      "92/92 [==============================] - 0s 4ms/step - loss: 155.8812 - I_var: 0.2781 - val_loss: 149.5238 - val_I_var: 0.2866\n",
      "Epoch 85/1000\n",
      "92/92 [==============================] - 0s 4ms/step - loss: 151.8595 - I_var: 0.2844 - val_loss: 148.9229 - val_I_var: 0.2896\n",
      "Epoch 86/1000\n",
      "92/92 [==============================] - 0s 3ms/step - loss: 152.9138 - I_var: 0.2816 - val_loss: 150.4322 - val_I_var: 0.2778\n",
      "Epoch 87/1000\n",
      "92/92 [==============================] - 0s 3ms/step - loss: 149.3101 - I_var: 0.3063 - val_loss: 148.9948 - val_I_var: 0.2889\n",
      "Epoch 88/1000\n",
      "92/92 [==============================] - 0s 3ms/step - loss: 153.8975 - I_var: 0.2887 - val_loss: 146.5176 - val_I_var: 0.3072\n",
      "Epoch 89/1000\n",
      "92/92 [==============================] - 0s 4ms/step - loss: 152.1156 - I_var: 0.2798 - val_loss: 147.9143 - val_I_var: 0.2941\n",
      "Epoch 90/1000\n",
      "92/92 [==============================] - 0s 3ms/step - loss: 151.7221 - I_var: 0.2795 - val_loss: 148.0116 - val_I_var: 0.2968\n",
      "Epoch 91/1000\n",
      "92/92 [==============================] - 0s 4ms/step - loss: 153.0568 - I_var: 0.2702 - val_loss: 153.5272 - val_I_var: 0.2553\n",
      "Epoch 92/1000\n",
      "92/92 [==============================] - 0s 3ms/step - loss: 146.7649 - I_var: 0.3050 - val_loss: 152.2589 - val_I_var: 0.2670\n",
      "Epoch 93/1000\n",
      "92/92 [==============================] - 0s 3ms/step - loss: 156.0901 - I_var: 0.2714 - val_loss: 144.4661 - val_I_var: 0.3199\n",
      "Epoch 94/1000\n",
      "92/92 [==============================] - 0s 3ms/step - loss: 154.2405 - I_var: 0.2858 - val_loss: 147.7676 - val_I_var: 0.2979\n",
      "Epoch 95/1000\n",
      "92/92 [==============================] - 0s 3ms/step - loss: 159.8258 - I_var: 0.2814 - val_loss: 146.5464 - val_I_var: 0.3054\n",
      "Epoch 96/1000\n",
      "92/92 [==============================] - 0s 3ms/step - loss: 150.2175 - I_var: 0.2858 - val_loss: 152.8180 - val_I_var: 0.2615\n",
      "Epoch 97/1000\n",
      "92/92 [==============================] - 0s 3ms/step - loss: 147.9465 - I_var: 0.2869 - val_loss: 145.6214 - val_I_var: 0.3139\n",
      "Epoch 98/1000\n",
      "92/92 [==============================] - 0s 3ms/step - loss: 152.7360 - I_var: 0.2836 - val_loss: 148.8477 - val_I_var: 0.2859\n",
      "Epoch 99/1000\n",
      "92/92 [==============================] - 0s 3ms/step - loss: 153.1611 - I_var: 0.2971 - val_loss: 146.9205 - val_I_var: 0.3027\n",
      "Epoch 100/1000\n",
      "92/92 [==============================] - 0s 3ms/step - loss: 156.4311 - I_var: 0.2801 - val_loss: 150.6377 - val_I_var: 0.2782\n",
      "Epoch 101/1000\n",
      "92/92 [==============================] - 0s 4ms/step - loss: 148.5330 - I_var: 0.2851 - val_loss: 146.3466 - val_I_var: 0.3080\n",
      "Epoch 102/1000\n",
      "92/92 [==============================] - 0s 3ms/step - loss: 150.1743 - I_var: 0.2818 - val_loss: 140.6290 - val_I_var: 0.3492\n",
      "Epoch 103/1000\n",
      "92/92 [==============================] - 0s 4ms/step - loss: 148.3531 - I_var: 0.2744 - val_loss: 145.6309 - val_I_var: 0.3118\n",
      "Epoch 104/1000\n",
      "92/92 [==============================] - 0s 3ms/step - loss: 149.5601 - I_var: 0.2822 - val_loss: 146.6156 - val_I_var: 0.3048\n",
      "Epoch 105/1000\n",
      "92/92 [==============================] - 0s 3ms/step - loss: 150.6698 - I_var: 0.2720 - val_loss: 150.2680 - val_I_var: 0.2806\n",
      "Epoch 106/1000\n",
      "92/92 [==============================] - 0s 3ms/step - loss: 150.2089 - I_var: 0.3071 - val_loss: 149.0723 - val_I_var: 0.2880\n",
      "Epoch 107/1000\n",
      "92/92 [==============================] - 0s 3ms/step - loss: 148.5577 - I_var: 0.2815 - val_loss: 145.3172 - val_I_var: 0.3143\n",
      "Epoch 108/1000\n",
      "92/92 [==============================] - 0s 3ms/step - loss: 157.3331 - I_var: 0.2656 - val_loss: 150.6569 - val_I_var: 0.2777\n",
      "Epoch 109/1000\n",
      "92/92 [==============================] - 0s 3ms/step - loss: 150.6669 - I_var: 0.2901 - val_loss: 145.0510 - val_I_var: 0.3151\n",
      "Epoch 110/1000\n",
      "92/92 [==============================] - 0s 3ms/step - loss: 151.3013 - I_var: 0.2702 - val_loss: 151.4297 - val_I_var: 0.2667\n",
      "Epoch 111/1000\n",
      "92/92 [==============================] - 0s 4ms/step - loss: 154.4829 - I_var: 0.2792 - val_loss: 147.9733 - val_I_var: 0.2970\n",
      "Epoch 112/1000\n",
      "92/92 [==============================] - 0s 4ms/step - loss: 152.9133 - I_var: 0.2744 - val_loss: 148.7969 - val_I_var: 0.2913\n",
      "Epoch 113/1000\n",
      "92/92 [==============================] - 0s 3ms/step - loss: 149.4715 - I_var: 0.3294 - val_loss: 157.4081 - val_I_var: 0.2270\n",
      "Epoch 114/1000\n",
      "92/92 [==============================] - 0s 4ms/step - loss: 162.5912 - I_var: 0.2471 - val_loss: 148.6532 - val_I_var: 0.2905\n",
      "Epoch 115/1000\n",
      "92/92 [==============================] - 0s 4ms/step - loss: 152.8520 - I_var: 0.2915 - val_loss: 151.5667 - val_I_var: 0.2709\n",
      "Epoch 116/1000\n",
      "92/92 [==============================] - 0s 3ms/step - loss: 153.8498 - I_var: 0.2992 - val_loss: 156.2886 - val_I_var: 0.2375\n",
      "Epoch 117/1000\n"
     ]
    },
    {
     "name": "stdout",
     "output_type": "stream",
     "text": [
      "92/92 [==============================] - 0s 3ms/step - loss: 150.2270 - I_var: 0.3024 - val_loss: 145.1588 - val_I_var: 0.3147\n",
      "Epoch 118/1000\n",
      "92/92 [==============================] - 0s 3ms/step - loss: 148.5803 - I_var: 0.2829 - val_loss: 145.7732 - val_I_var: 0.3105\n",
      "Epoch 119/1000\n",
      "92/92 [==============================] - 0s 3ms/step - loss: 149.7889 - I_var: 0.3078 - val_loss: 146.7777 - val_I_var: 0.3037\n",
      "Epoch 120/1000\n",
      "92/92 [==============================] - 0s 3ms/step - loss: 150.8558 - I_var: 0.2975 - val_loss: 146.6755 - val_I_var: 0.3048\n",
      "Epoch 121/1000\n",
      "92/92 [==============================] - 0s 3ms/step - loss: 149.8698 - I_var: 0.2982 - val_loss: 146.4226 - val_I_var: 0.3056\n",
      "Epoch 122/1000\n",
      "92/92 [==============================] - 0s 3ms/step - loss: 151.8993 - I_var: 0.2919 - val_loss: 152.2216 - val_I_var: 0.2665\n",
      "Epoch 123/1000\n",
      "92/92 [==============================] - 0s 4ms/step - loss: 147.0120 - I_var: 0.3131 - val_loss: 148.3942 - val_I_var: 0.2920\n",
      "Epoch 124/1000\n",
      "92/92 [==============================] - 0s 3ms/step - loss: 150.9939 - I_var: 0.3021 - val_loss: 150.3930 - val_I_var: 0.2793\n",
      "Epoch 125/1000\n",
      "92/92 [==============================] - 0s 3ms/step - loss: 156.0367 - I_var: 0.2999 - val_loss: 151.2548 - val_I_var: 0.2717\n",
      "Epoch 126/1000\n",
      "92/92 [==============================] - 0s 3ms/step - loss: 155.4116 - I_var: 0.2908 - val_loss: 152.3823 - val_I_var: 0.2654\n",
      "Epoch 127/1000\n",
      "92/92 [==============================] - 0s 3ms/step - loss: 155.6099 - I_var: 0.2816 - val_loss: 140.5721 - val_I_var: 0.3480\n",
      "Epoch 128/1000\n",
      "92/92 [==============================] - 0s 3ms/step - loss: 151.0627 - I_var: 0.2873 - val_loss: 149.8594 - val_I_var: 0.2811\n",
      "Epoch 129/1000\n",
      "92/92 [==============================] - 0s 3ms/step - loss: 151.7624 - I_var: 0.3051 - val_loss: 149.0072 - val_I_var: 0.2875\n",
      "Epoch 130/1000\n",
      "92/92 [==============================] - 0s 3ms/step - loss: 154.6853 - I_var: 0.2757 - val_loss: 145.6736 - val_I_var: 0.3138\n",
      "Epoch 131/1000\n",
      "92/92 [==============================] - 0s 3ms/step - loss: 146.9870 - I_var: 0.3061 - val_loss: 147.8111 - val_I_var: 0.2975\n",
      "Epoch 132/1000\n",
      "92/92 [==============================] - 0s 3ms/step - loss: 150.4246 - I_var: 0.3511 - val_loss: 155.1693 - val_I_var: 0.2462\n",
      "Epoch 133/1000\n",
      "92/92 [==============================] - 0s 3ms/step - loss: 161.4893 - I_var: 0.2596 - val_loss: 146.4275 - val_I_var: 0.3066\n",
      "Epoch 134/1000\n",
      "92/92 [==============================] - 0s 3ms/step - loss: 153.1621 - I_var: 0.2587 - val_loss: 142.6928 - val_I_var: 0.3343\n",
      "Epoch 135/1000\n",
      "92/92 [==============================] - 0s 3ms/step - loss: 158.4107 - I_var: 0.2621 - val_loss: 142.9984 - val_I_var: 0.3330\n",
      "Epoch 136/1000\n",
      "92/92 [==============================] - 0s 4ms/step - loss: 156.8253 - I_var: 0.2907 - val_loss: 147.6368 - val_I_var: 0.2993\n",
      "Epoch 137/1000\n",
      "92/92 [==============================] - 0s 3ms/step - loss: 153.3018 - I_var: 0.2931 - val_loss: 146.2360 - val_I_var: 0.3093\n",
      "Epoch 138/1000\n",
      "92/92 [==============================] - 0s 3ms/step - loss: 155.1432 - I_var: 0.2747 - val_loss: 147.6911 - val_I_var: 0.2978\n",
      "Epoch 139/1000\n",
      "92/92 [==============================] - 0s 3ms/step - loss: 148.5202 - I_var: 0.3010 - val_loss: 148.4577 - val_I_var: 0.2936\n",
      "Epoch 140/1000\n",
      "92/92 [==============================] - 0s 4ms/step - loss: 152.8345 - I_var: 0.2993 - val_loss: 151.8728 - val_I_var: 0.2685\n",
      "Epoch 141/1000\n",
      "92/92 [==============================] - 0s 3ms/step - loss: 159.0295 - I_var: 0.1443 - val_loss: 161.7928 - val_I_var: 0.2034\n",
      "Epoch 142/1000\n",
      "92/92 [==============================] - 0s 3ms/step - loss: 135.2375 - I_var: 0.3037 - val_loss: 137.2439 - val_I_var: 0.3721\n",
      "Epoch 143/1000\n",
      "92/92 [==============================] - 0s 3ms/step - loss: 155.1140 - I_var: 0.2430 - val_loss: 152.9566 - val_I_var: 0.2618\n",
      "Epoch 144/1000\n",
      "92/92 [==============================] - 0s 3ms/step - loss: 147.9762 - I_var: 0.2917 - val_loss: 150.5754 - val_I_var: 0.2786\n",
      "Epoch 145/1000\n",
      "92/92 [==============================] - 0s 3ms/step - loss: 152.6748 - I_var: 0.3026 - val_loss: 147.6286 - val_I_var: 0.2969\n",
      "Epoch 146/1000\n",
      "92/92 [==============================] - 0s 3ms/step - loss: -152.7617 - I_var: 3.3497 - val_loss: 182.7860 - val_I_var: 0.0352\n",
      "Epoch 147/1000\n",
      "92/92 [==============================] - 0s 3ms/step - loss: 184.6946 - I_var: 0.1135 - val_loss: 164.7981 - val_I_var: 0.1713\n",
      "Epoch 148/1000\n",
      "92/92 [==============================] - 0s 3ms/step - loss: 168.6860 - I_var: 0.1747 - val_loss: 158.0513 - val_I_var: 0.2213\n",
      "Epoch 149/1000\n",
      "92/92 [==============================] - 0s 3ms/step - loss: 161.8490 - I_var: 0.2626 - val_loss: 152.2415 - val_I_var: 0.2620\n",
      "Epoch 150/1000\n",
      "92/92 [==============================] - 0s 3ms/step - loss: 156.1465 - I_var: 0.2741 - val_loss: 150.6754 - val_I_var: 0.2745\n",
      "Epoch 151/1000\n",
      "92/92 [==============================] - 0s 3ms/step - loss: 154.9987 - I_var: 0.2976 - val_loss: 146.5631 - val_I_var: 0.3031\n",
      "Epoch 152/1000\n",
      "92/92 [==============================] - 0s 3ms/step - loss: 155.0817 - I_var: 0.2872 - val_loss: 156.4428 - val_I_var: 0.2348\n",
      "Epoch 153/1000\n",
      "92/92 [==============================] - 0s 3ms/step - loss: 149.4954 - I_var: 0.2815 - val_loss: 148.3122 - val_I_var: 0.2938\n",
      "Epoch 154/1000\n",
      "92/92 [==============================] - 0s 3ms/step - loss: 152.2269 - I_var: 0.2919 - val_loss: 148.1414 - val_I_var: 0.2931\n",
      "Epoch 155/1000\n",
      "92/92 [==============================] - 0s 3ms/step - loss: 151.9903 - I_var: 0.2922 - val_loss: 151.7100 - val_I_var: 0.2696\n",
      "Epoch 156/1000\n",
      "92/92 [==============================] - 0s 3ms/step - loss: 154.2622 - I_var: 0.2558 - val_loss: 152.0455 - val_I_var: 0.2675\n",
      "Epoch 157/1000\n",
      "92/92 [==============================] - 0s 3ms/step - loss: 154.8447 - I_var: 0.2720 - val_loss: 153.5678 - val_I_var: 0.2563\n",
      "Epoch 158/1000\n",
      "92/92 [==============================] - 0s 3ms/step - loss: 146.3694 - I_var: 0.3096 - val_loss: 154.5622 - val_I_var: 0.2489\n",
      "Epoch 159/1000\n",
      "92/92 [==============================] - 0s 3ms/step - loss: 153.8285 - I_var: 0.2855 - val_loss: 149.5651 - val_I_var: 0.2843\n",
      "Epoch 160/1000\n",
      "92/92 [==============================] - 0s 3ms/step - loss: 149.9010 - I_var: 0.3052 - val_loss: 149.0191 - val_I_var: 0.2872\n",
      "Epoch 161/1000\n",
      "92/92 [==============================] - 0s 3ms/step - loss: 149.2010 - I_var: 0.2687 - val_loss: 149.6014 - val_I_var: 0.2840\n",
      "Epoch 162/1000\n",
      "92/92 [==============================] - 0s 3ms/step - loss: 154.6743 - I_var: 0.2669 - val_loss: 146.6868 - val_I_var: 0.3052\n",
      "Epoch 163/1000\n",
      "92/92 [==============================] - 0s 3ms/step - loss: 147.5668 - I_var: 0.2931 - val_loss: 149.6154 - val_I_var: 0.2834\n",
      "Epoch 164/1000\n",
      "92/92 [==============================] - 0s 3ms/step - loss: 148.0536 - I_var: 0.2896 - val_loss: 149.1899 - val_I_var: 0.2874\n",
      "Epoch 165/1000\n",
      "92/92 [==============================] - 0s 3ms/step - loss: 152.7080 - I_var: 0.2882 - val_loss: 153.1605 - val_I_var: 0.2592\n",
      "Epoch 166/1000\n",
      "92/92 [==============================] - 0s 3ms/step - loss: 149.7444 - I_var: 0.2997 - val_loss: 157.1862 - val_I_var: 0.2325\n",
      "Epoch 167/1000\n",
      "92/92 [==============================] - 0s 3ms/step - loss: 157.8589 - I_var: 0.2465 - val_loss: 144.9569 - val_I_var: 0.3162\n",
      "Epoch 168/1000\n",
      "92/92 [==============================] - 0s 3ms/step - loss: 153.9303 - I_var: 0.2906 - val_loss: 150.9088 - val_I_var: 0.2748\n",
      "Epoch 169/1000\n",
      "92/92 [==============================] - 0s 4ms/step - loss: 154.7364 - I_var: 0.2615 - val_loss: 145.7677 - val_I_var: 0.3112\n",
      "Epoch 170/1000\n",
      "92/92 [==============================] - 0s 3ms/step - loss: 153.2792 - I_var: 0.2737 - val_loss: 148.7074 - val_I_var: 0.2911\n",
      "Epoch 171/1000\n",
      "92/92 [==============================] - 0s 3ms/step - loss: 151.8532 - I_var: 0.2916 - val_loss: 158.0898 - val_I_var: 0.2257\n",
      "Epoch 172/1000\n",
      "92/92 [==============================] - 0s 4ms/step - loss: 152.8590 - I_var: 0.2923 - val_loss: 142.3089 - val_I_var: 0.3353\n",
      "Training time: 53.7 seconds\n"
     ]
    },
    {
     "data": {
      "text/plain": [
       "<tensorflow.python.keras.callbacks.History at 0x7f805d6822e8>"
      ]
     },
     "execution_count": 5,
     "metadata": {},
     "output_type": "execute_result"
    }
   ],
   "source": [
    "# Fit model to data\n",
    "model.fit(learning_rate=.001,\n",
    "          epochs=1000,\n",
    "          batch_size=200,\n",
    "          early_stopping=True,\n",
    "          early_stopping_patience=30,\n",
    "          linear_initialization=False)"
   ]
  },
  {
   "cell_type": "code",
   "execution_count": 6,
   "metadata": {
    "ExecuteTime": {
     "end_time": "2020-11-17T18:21:43.716729Z",
     "start_time": "2020-11-17T18:21:43.685450Z"
    }
   },
   "outputs": [
    {
     "name": "stdout",
     "output_type": "stream",
     "text": [
      "Model saved to these files:\n",
      "\tmpsa_ge_neighbor.pickle\n",
      "\tmpsa_ge_neighbor.h5\n"
     ]
    }
   ],
   "source": [
    "# Save model\n",
    "model.save('mpsa_ge_neighbor')"
   ]
  },
  {
   "cell_type": "code",
   "execution_count": 7,
   "metadata": {
    "ExecuteTime": {
     "end_time": "2020-11-17T18:21:44.019575Z",
     "start_time": "2020-11-17T18:21:43.721686Z"
    },
    "scrolled": true
   },
   "outputs": [
    {
     "name": "stdout",
     "output_type": "stream",
     "text": [
      "Model loaded from these files:\n",
      "\tmpsa_ge_neighbor.pickle\n",
      "\tmpsa_ge_neighbor.h5\n"
     ]
    }
   ],
   "source": [
    "# Load model\n",
    "model = mavenn.load('mpsa_ge_neighbor')"
   ]
  },
  {
   "cell_type": "code",
   "execution_count": 8,
   "metadata": {
    "ExecuteTime": {
     "end_time": "2020-11-17T18:21:44.033309Z",
     "start_time": "2020-11-17T18:21:44.022974Z"
    },
    "collapsed": true
   },
   "outputs": [],
   "source": [
    "# Get x and y\n",
    "x_test = test_df['x'].values\n",
    "y_test = test_df['y'].values"
   ]
  },
  {
   "cell_type": "code",
   "execution_count": 9,
   "metadata": {
    "ExecuteTime": {
     "end_time": "2020-11-17T18:21:45.036716Z",
     "start_time": "2020-11-17T18:21:44.035601Z"
    }
   },
   "outputs": [
    {
     "name": "stdout",
     "output_type": "stream",
     "text": [
      "On test data:\n",
      "I_var_test: 0.333 +- 0.032 bits\n",
      "I_pred_test: 0.338 +- 0.013 bits\n"
     ]
    },
    {
     "data": {
      "image/png": "[encoded data removed]",
      "text/plain": [
       "<Figure size 288x288 with 1 Axes>"
      ]
     },
     "metadata": {
      "needs_background": "light"
     },
     "output_type": "display_data"
    }
   ],
   "source": [
    "# Show training history\n",
    "print('On test data:')\n",
    "\n",
    "# Compute variational information\n",
    "I_var, dI_var =  model.I_variational(x=x_test, y=y_test)\n",
    "print(f'I_var_test: {I_var:.3f} +- {dI_var:.3f} bits') \n",
    "\n",
    "# Compute predictive information\n",
    "I_pred, dI_pred = model.I_predictive(x=x_test, y=y_test)\n",
    "print(f'I_pred_test: {I_pred:.3f} +- {dI_pred:.3f} bits')\n",
    "\n",
    "I_var_hist = model.history['I_var']\n",
    "val_I_var_hist = model.history['val_I_var']\n",
    "\n",
    "fig, ax = plt.subplots(1,1,figsize=[4,4])\n",
    "ax.plot(I_var_hist, label='I_var_train')\n",
    "ax.plot(val_I_var_hist, label='I_var_val')\n",
    "ax.axhline(I_var, color='C2', linestyle=':', label='I_var_test')\n",
    "ax.axhline(I_pred, color='C3', linestyle=':', label='I_pred_test')\n",
    "ax.legend()\n",
    "ax.set_xlabel('epochs')\n",
    "ax.set_ylabel('bits')\n",
    "ax.set_title('training hisotry')\n",
    "ax.set_ylim([0, I_pred*1.2]);"
   ]
  },
  {
   "cell_type": "code",
   "execution_count": 10,
   "metadata": {
    "ExecuteTime": {
     "end_time": "2020-11-17T18:21:46.256783Z",
     "start_time": "2020-11-17T18:21:45.041158Z"
    }
   },
   "outputs": [
    {
     "data": {
      "image/png": "[encoded data removed]",
      "text/plain": [
       "<Figure size 288x288 with 1 Axes>"
      ]
     },
     "metadata": {
      "needs_background": "light"
     },
     "output_type": "display_data"
    }
   ],
   "source": [
    "# Predict latent phentoype values (phi) on test data\n",
    "phi_test = model.x_to_phi(x_test)\n",
    "\n",
    "# Predict measurement values (yhat) on test data\n",
    "yhat_test = model.x_to_yhat(x_test)\n",
    "\n",
    "# Set phi lims and create grid in phi space\n",
    "phi_lim = [min(phi_test)-.5, max(phi_test)+.5]\n",
    "phi_grid = np.linspace(phi_lim[0], phi_lim[1], 1000)\n",
    "\n",
    "# Compute yhat each phi gridpoint\n",
    "yhat_grid = model.phi_to_yhat(phi_grid)\n",
    "\n",
    "# Compute 90% CI for each yhat\n",
    "q = [0.05, 0.95] #[0.16, 0.84]\n",
    "yqs_grid = model.yhat_to_yq(yhat_grid, q=q)\n",
    "\n",
    "# Create figure\n",
    "fig, ax = plt.subplots(1, 1, figsize=[4, 4])\n",
    "\n",
    "# Illustrate measurement process with GE curve\n",
    "ax.scatter(phi_test, y_test, color='C0', s=5, alpha=.2, label='test data')\n",
    "ax.plot(phi_grid, yhat_grid, linewidth=2, color='C1',\n",
    "        label='$\\hat{y} = g(\\phi)$')\n",
    "ax.plot(phi_grid, yqs_grid[:, 0], linestyle='--', color='C1', label='68% CI')\n",
    "ax.plot(phi_grid, yqs_grid[:, 1], linestyle='--', color='C1')\n",
    "ax.set_xlim(phi_lim)\n",
    "ax.set_xlabel('latent phenotype ($\\phi$)')\n",
    "ax.set_ylabel('measurement ($y$)')\n",
    "ax.set_title('measurement process')\n",
    "ax.legend()\n",
    "\n",
    "# Fix up plot\n",
    "fig.tight_layout()\n",
    "plt.show()"
   ]
  },
  {
   "cell_type": "code",
   "execution_count": null,
   "metadata": {
    "collapsed": true
   },
   "outputs": [],
   "source": []
  }
 ],
 "metadata": {
  "kernelspec": {
   "display_name": "Python 3",
   "language": "python",
   "name": "python3"
  },
  "language_info": {
   "codemirror_mode": {
    "name": "ipython",
    "version": 3
   },
   "file_extension": ".py",
   "mimetype": "text/x-python",
   "name": "python",
   "nbconvert_exporter": "python",
   "pygments_lexer": "ipython3",
   "version": "3.6.7"
  },
  "toc": {
   "base_numbering": 1,
   "nav_menu": {},
   "number_sections": true,
   "sideBar": true,
   "skip_h1_title": false,
   "title_cell": "Table of Contents",
   "title_sidebar": "Contents",
   "toc_cell": false,
   "toc_position": {},
   "toc_section_display": true,
   "toc_window_display": false
  },
  "varInspector": {
   "cols": {
    "lenName": 16,
    "lenType": 16,
    "lenVar": 40
   },
   "kernels_config": {
    "python": {
     "delete_cmd_postfix": "",
     "delete_cmd_prefix": "del ",
     "library": "var_list.py",
     "varRefreshCmd": "print(var_dic_list())"
    },
    "r": {
     "delete_cmd_postfix": ") ",
     "delete_cmd_prefix": "rm(",
     "library": "var_list.r",
     "varRefreshCmd": "cat(var_dic_list()) "
    }
   },
   "types_to_exclude": [
    "module",
    "function",
    "builtin_function_or_method",
    "instance",
    "_Feature"
   ],
   "window_display": false
  }
 },
 "nbformat": 4,
 "nbformat_minor": 2
}
