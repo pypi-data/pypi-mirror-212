{
 "cells": [
  {
   "cell_type": "code",
   "execution_count": 1,
   "metadata": {
    "ExecuteTime": {
     "end_time": "2020-11-17T18:23:43.275821Z",
     "start_time": "2020-11-17T18:23:40.743003Z"
    }
   },
   "outputs": [
    {
     "name": "stdout",
     "output_type": "stream",
     "text": [
      "['/Users/tareen/Desktop/Research_Projects/2020_mavenn_github/mavenn_git_ssh/mavenn']\n"
     ]
    }
   ],
   "source": [
    "# Standard imports\n",
    "import pandas as pd\n",
    "import matplotlib.pyplot as plt\n",
    "import numpy as np\n",
    "import time\n",
    "\n",
    "# Insert path to mavenn beginning of path\n",
    "import os\n",
    "import sys\n",
    "# Load mavenn\n",
    "import sys\n",
    "path_to_mavenn = '/Users/tareen/Desktop/Research_Projects/2020_mavenn_github/mavenn_git_ssh/'\n",
    "sys.path.insert(0, path_to_mavenn)\n",
    "\n",
    "# Load mavenn\n",
    "import mavenn\n",
    "print(mavenn.__path__)"
   ]
  },
  {
   "cell_type": "code",
   "execution_count": 2,
   "metadata": {
    "ExecuteTime": {
     "end_time": "2020-11-17T18:23:43.368416Z",
     "start_time": "2020-11-17T18:23:43.278097Z"
    }
   },
   "outputs": [
    {
     "name": "stdout",
     "output_type": "stream",
     "text": [
      "test N: 6,249\n",
      "training + validation N: 24,234\n"
     ]
    },
    {
     "data": {
      "text/html": [
       "<div>\n",
       "<style scoped>\n",
       "    .dataframe tbody tr th:only-of-type {\n",
       "        vertical-align: middle;\n",
       "    }\n",
       "\n",
       "    .dataframe tbody tr th {\n",
       "        vertical-align: top;\n",
       "    }\n",
       "\n",
       "    .dataframe thead th {\n",
       "        text-align: right;\n",
       "    }\n",
       "</style>\n",
       "<table border=\"1\" class=\"dataframe\">\n",
       "  <thead>\n",
       "    <tr style=\"text-align: right;\">\n",
       "      <th></th>\n",
       "      <th>set</th>\n",
       "      <th>tot_ct</th>\n",
       "      <th>ex_ct</th>\n",
       "      <th>y</th>\n",
       "      <th>x</th>\n",
       "    </tr>\n",
       "  </thead>\n",
       "  <tbody>\n",
       "    <tr>\n",
       "      <th>0</th>\n",
       "      <td>training</td>\n",
       "      <td>28</td>\n",
       "      <td>2</td>\n",
       "      <td>0.023406</td>\n",
       "      <td>GGAGUGAUG</td>\n",
       "    </tr>\n",
       "    <tr>\n",
       "      <th>1</th>\n",
       "      <td>training</td>\n",
       "      <td>315</td>\n",
       "      <td>7</td>\n",
       "      <td>-0.587914</td>\n",
       "      <td>AGUGUGCAA</td>\n",
       "    </tr>\n",
       "    <tr>\n",
       "      <th>2</th>\n",
       "      <td>validation</td>\n",
       "      <td>27</td>\n",
       "      <td>0</td>\n",
       "      <td>-0.438475</td>\n",
       "      <td>UAAGCUUUU</td>\n",
       "    </tr>\n",
       "    <tr>\n",
       "      <th>3</th>\n",
       "      <td>training</td>\n",
       "      <td>130</td>\n",
       "      <td>2</td>\n",
       "      <td>-0.631467</td>\n",
       "      <td>AUGGUCGGG</td>\n",
       "    </tr>\n",
       "    <tr>\n",
       "      <th>4</th>\n",
       "      <td>training</td>\n",
       "      <td>552</td>\n",
       "      <td>19</td>\n",
       "      <td>-0.433012</td>\n",
       "      <td>AGGGCAGGA</td>\n",
       "    </tr>\n",
       "    <tr>\n",
       "      <th>5</th>\n",
       "      <td>training</td>\n",
       "      <td>151</td>\n",
       "      <td>184</td>\n",
       "      <td>1.094011</td>\n",
       "      <td>AAGGUCCGC</td>\n",
       "    </tr>\n",
       "    <tr>\n",
       "      <th>6</th>\n",
       "      <td>training</td>\n",
       "      <td>88</td>\n",
       "      <td>4</td>\n",
       "      <td>-0.241737</td>\n",
       "      <td>CAGGCAAAC</td>\n",
       "    </tr>\n",
       "    <tr>\n",
       "      <th>7</th>\n",
       "      <td>training</td>\n",
       "      <td>105</td>\n",
       "      <td>5</td>\n",
       "      <td>-0.238471</td>\n",
       "      <td>GUGGCAAAU</td>\n",
       "    </tr>\n",
       "    <tr>\n",
       "      <th>8</th>\n",
       "      <td>validation</td>\n",
       "      <td>14</td>\n",
       "      <td>0</td>\n",
       "      <td>-0.167408</td>\n",
       "      <td>CAUGCAGCU</td>\n",
       "    </tr>\n",
       "    <tr>\n",
       "      <th>9</th>\n",
       "      <td>training</td>\n",
       "      <td>170</td>\n",
       "      <td>14</td>\n",
       "      <td>-0.048222</td>\n",
       "      <td>CAAGUCACU</td>\n",
       "    </tr>\n",
       "  </tbody>\n",
       "</table>\n",
       "</div>"
      ],
      "text/plain": [
       "          set  tot_ct  ex_ct         y          x\n",
       "0    training      28      2  0.023406  GGAGUGAUG\n",
       "1    training     315      7 -0.587914  AGUGUGCAA\n",
       "2  validation      27      0 -0.438475  UAAGCUUUU\n",
       "3    training     130      2 -0.631467  AUGGUCGGG\n",
       "4    training     552     19 -0.433012  AGGGCAGGA\n",
       "5    training     151    184  1.094011  AAGGUCCGC\n",
       "6    training      88      4 -0.241737  CAGGCAAAC\n",
       "7    training     105      5 -0.238471  GUGGCAAAU\n",
       "8  validation      14      0 -0.167408  CAUGCAGCU\n",
       "9    training     170     14 -0.048222  CAAGUCACU"
      ]
     },
     "execution_count": 2,
     "metadata": {},
     "output_type": "execute_result"
    }
   ],
   "source": [
    "# Download mpsa dataset from master branch\n",
    "url = 'https://github.com/jbkinney/mavenn/blob/master/mavenn/examples/datasets/mpsa_data.csv.gz?raw=true'\n",
    "\n",
    "data_df = pd.read_csv(url,  \n",
    "                      compression='gzip',\n",
    "                      index_col=[0])\n",
    "\n",
    "data_df = data_df.reset_index().copy()\n",
    "\n",
    "# Separate test from data_df\n",
    "ix_test = data_df['set']=='test'\n",
    "test_df = data_df[ix_test].reset_index(drop=True)\n",
    "print(f'test N: {len(test_df):,}')\n",
    "\n",
    "# Remove test data from data_df\n",
    "data_df = data_df[~ix_test].reset_index(drop=True)\n",
    "print(f'training + validation N: {len(data_df):,}')\n",
    "data_df.head(10)"
   ]
  },
  {
   "cell_type": "code",
   "execution_count": 3,
   "metadata": {
    "ExecuteTime": {
     "end_time": "2020-11-17T18:23:44.608911Z",
     "start_time": "2020-11-17T18:23:43.370903Z"
    },
    "collapsed": true
   },
   "outputs": [],
   "source": [
    "# Get sequence length\n",
    "L = len(data_df['x'][0])\n",
    "\n",
    "# Define model\n",
    "model = mavenn.Model(L=L,\n",
    "                     alphabet='rna',\n",
    "                     gpmap_type='pairwise', \n",
    "                     regression_type='GE',\n",
    "                     theta_regularization=0.1,\n",
    "                     ge_noise_model_type='SkewedT',\n",
    "                     ge_heteroskedasticity_order=2)"
   ]
  },
  {
   "cell_type": "code",
   "execution_count": 4,
   "metadata": {
    "ExecuteTime": {
     "end_time": "2020-11-17T18:23:45.031477Z",
     "start_time": "2020-11-17T18:23:44.611432Z"
    }
   },
   "outputs": [
    {
     "name": "stdout",
     "output_type": "stream",
     "text": [
      "N = 24,234 observations set as training data.\n",
      "Using 24.8% for validation.\n",
      "Data shuffled.\n",
      "Time to set data: 0.427 sec.\n"
     ]
    }
   ],
   "source": [
    "# Set training data\n",
    "model.set_data(x=data_df['x'],\n",
    "               y=data_df['y'],\n",
    "               validation_flags=(data_df['set']=='validation'),\n",
    "               shuffle=True)"
   ]
  },
  {
   "cell_type": "code",
   "execution_count": null,
   "metadata": {
    "ExecuteTime": {
     "end_time": "2020-11-17T18:25:25.958324Z",
     "start_time": "2020-11-17T18:23:45.033777Z"
    },
    "scrolled": true
   },
   "outputs": [
    {
     "name": "stdout",
     "output_type": "stream",
     "text": [
      "Epoch 1/1000\n"
     ]
    },
    {
     "name": "stderr",
     "output_type": "stream",
     "text": [
      "Using TensorFlow backend.\n",
      "Exception ignored in: <bound method tqdm.__del__ of <tqdm.auto.tqdm object at 0x7fe8bcda5278>>\n",
      "Traceback (most recent call last):\n",
      "  File \"/Users/tareen/miniconda3/lib/python3.6/site-packages/tqdm/std.py\", line 1147, in __del__\n",
      "    self.close()\n",
      "  File \"/Users/tareen/miniconda3/lib/python3.6/site-packages/tqdm/notebook.py\", line 289, in close\n",
      "    self.disp(bar_style='success', check_delay=False)\n",
      "AttributeError: 'tqdm' object has no attribute 'disp'\n"
     ]
    },
    {
     "name": "stdout",
     "output_type": "stream",
     "text": [
      "92/92 [==============================] - 3s 11ms/step - loss: 281.4550 - I_var: -0.5244 - val_loss: 255.1426 - val_I_var: -0.4488\n",
      "Epoch 2/1000\n",
      "92/92 [==============================] - 0s 3ms/step - loss: 250.3459 - I_var: -0.3701 - val_loss: 236.2081 - val_I_var: -0.3166\n",
      "Epoch 3/1000\n",
      "92/92 [==============================] - 0s 3ms/step - loss: 231.3996 - I_var: -0.2395 - val_loss: 218.6536 - val_I_var: -0.1939\n",
      "Epoch 4/1000\n",
      "92/92 [==============================] - 0s 3ms/step - loss: 218.4562 - I_var: -0.1300 - val_loss: 204.4322 - val_I_var: -0.0932\n",
      "Epoch 5/1000\n",
      "92/92 [==============================] - 0s 3ms/step - loss: 199.8382 - I_var: -0.0370 - val_loss: 192.8664 - val_I_var: -0.0106\n",
      "Epoch 6/1000\n",
      "92/92 [==============================] - 0s 3ms/step - loss: 192.1302 - I_var: 0.0332 - val_loss: 183.8170 - val_I_var: 0.0547\n",
      "Epoch 7/1000\n",
      "92/92 [==============================] - 0s 3ms/step - loss: 181.9688 - I_var: 0.0915 - val_loss: 177.0297 - val_I_var: 0.1040\n",
      "Epoch 8/1000\n",
      "92/92 [==============================] - 0s 3ms/step - loss: 174.7192 - I_var: 0.1354 - val_loss: 170.7906 - val_I_var: 0.1478\n",
      "Epoch 9/1000\n",
      "92/92 [==============================] - 0s 3ms/step - loss: 169.4870 - I_var: 0.1605 - val_loss: 166.7375 - val_I_var: 0.1747\n",
      "Epoch 10/1000\n",
      "92/92 [==============================] - 0s 3ms/step - loss: 167.1970 - I_var: 0.1815 - val_loss: 164.5511 - val_I_var: 0.1886\n",
      "Epoch 11/1000\n",
      "92/92 [==============================] - 0s 3ms/step - loss: 165.6005 - I_var: 0.1991 - val_loss: 162.6256 - val_I_var: 0.2013\n",
      "Epoch 12/1000\n",
      "92/92 [==============================] - 0s 3ms/step - loss: 165.2344 - I_var: 0.2133 - val_loss: 161.6265 - val_I_var: 0.2082\n",
      "Epoch 13/1000\n",
      "92/92 [==============================] - 0s 3ms/step - loss: 162.2474 - I_var: 0.2171 - val_loss: 160.8088 - val_I_var: 0.2135\n",
      "Epoch 14/1000\n",
      "92/92 [==============================] - 0s 3ms/step - loss: 163.6288 - I_var: 0.2146 - val_loss: 160.1069 - val_I_var: 0.2189\n",
      "Epoch 15/1000\n",
      "92/92 [==============================] - 0s 3ms/step - loss: 160.0348 - I_var: 0.2264 - val_loss: 160.5305 - val_I_var: 0.2160\n",
      "Epoch 16/1000\n",
      "92/92 [==============================] - 0s 3ms/step - loss: 159.0188 - I_var: 0.2312 - val_loss: 159.4574 - val_I_var: 0.2233\n",
      "Epoch 17/1000\n",
      "92/92 [==============================] - 0s 3ms/step - loss: 156.0833 - I_var: 0.2286 - val_loss: 158.9532 - val_I_var: 0.2274\n",
      "Epoch 18/1000\n",
      "92/92 [==============================] - 0s 3ms/step - loss: 159.1059 - I_var: 0.2357 - val_loss: 158.6039 - val_I_var: 0.2297\n",
      "Epoch 19/1000\n",
      "92/92 [==============================] - 0s 3ms/step - loss: 159.8610 - I_var: 0.2332 - val_loss: 158.2055 - val_I_var: 0.2326\n",
      "Epoch 20/1000\n",
      "92/92 [==============================] - 0s 3ms/step - loss: 158.5180 - I_var: 0.2401 - val_loss: 157.9140 - val_I_var: 0.2351\n",
      "Epoch 21/1000\n",
      "92/92 [==============================] - 0s 3ms/step - loss: 161.6404 - I_var: 0.2386 - val_loss: 157.6293 - val_I_var: 0.2377\n",
      "Epoch 22/1000\n",
      "92/92 [==============================] - 0s 3ms/step - loss: 156.8855 - I_var: 0.2375 - val_loss: 157.3296 - val_I_var: 0.2401\n",
      "Epoch 23/1000\n",
      "92/92 [==============================] - 0s 4ms/step - loss: 157.8511 - I_var: 0.2376 - val_loss: 156.9967 - val_I_var: 0.2429\n",
      "Epoch 24/1000\n",
      "92/92 [==============================] - 0s 3ms/step - loss: 156.0583 - I_var: 0.2496 - val_loss: 156.6863 - val_I_var: 0.2457\n",
      "Epoch 25/1000\n",
      "92/92 [==============================] - 0s 3ms/step - loss: 158.8541 - I_var: 0.2496 - val_loss: 156.4033 - val_I_var: 0.2479\n",
      "Epoch 26/1000\n",
      "92/92 [==============================] - 0s 3ms/step - loss: 157.2028 - I_var: 0.2488 - val_loss: 156.1378 - val_I_var: 0.2499\n",
      "Epoch 27/1000\n",
      "92/92 [==============================] - 0s 3ms/step - loss: 157.6269 - I_var: 0.2573 - val_loss: 155.7812 - val_I_var: 0.2530\n",
      "Epoch 28/1000\n",
      "92/92 [==============================] - 0s 3ms/step - loss: 155.5292 - I_var: 0.2551 - val_loss: 155.5475 - val_I_var: 0.2554\n",
      "Epoch 29/1000\n",
      "92/92 [==============================] - 0s 4ms/step - loss: 155.7314 - I_var: 0.2541 - val_loss: 155.1178 - val_I_var: 0.2583\n",
      "Epoch 30/1000\n",
      "92/92 [==============================] - 0s 3ms/step - loss: 156.1519 - I_var: 0.2512 - val_loss: 155.2203 - val_I_var: 0.2576\n",
      "Epoch 31/1000\n",
      "92/92 [==============================] - 0s 3ms/step - loss: 156.3006 - I_var: 0.2688 - val_loss: 154.4700 - val_I_var: 0.2637\n",
      "Epoch 32/1000\n",
      "92/92 [==============================] - 0s 3ms/step - loss: 157.6608 - I_var: 0.2680 - val_loss: 154.3367 - val_I_var: 0.2651\n",
      "Epoch 33/1000\n",
      "92/92 [==============================] - 0s 3ms/step - loss: 154.9276 - I_var: 0.2666 - val_loss: 153.8200 - val_I_var: 0.2691\n",
      "Epoch 34/1000\n",
      "92/92 [==============================] - 0s 3ms/step - loss: 151.9214 - I_var: 0.2739 - val_loss: 153.3040 - val_I_var: 0.2733\n",
      "Epoch 35/1000\n",
      "92/92 [==============================] - 0s 3ms/step - loss: 150.5651 - I_var: 0.2717 - val_loss: 153.1529 - val_I_var: 0.2743\n",
      "Epoch 36/1000\n",
      "92/92 [==============================] - 0s 3ms/step - loss: 152.7100 - I_var: 0.2747 - val_loss: 153.5865 - val_I_var: 0.2714\n",
      "Epoch 37/1000\n",
      "92/92 [==============================] - 0s 3ms/step - loss: 154.7585 - I_var: 0.2801 - val_loss: 152.3209 - val_I_var: 0.2816\n",
      "Epoch 38/1000\n",
      "92/92 [==============================] - 0s 3ms/step - loss: 151.8765 - I_var: 0.2856 - val_loss: 151.5713 - val_I_var: 0.2873\n",
      "Epoch 39/1000\n",
      "92/92 [==============================] - 0s 3ms/step - loss: 150.6307 - I_var: 0.2860 - val_loss: 151.1864 - val_I_var: 0.2908\n",
      "Epoch 40/1000\n",
      "92/92 [==============================] - 0s 3ms/step - loss: 152.8568 - I_var: 0.2933 - val_loss: 151.2852 - val_I_var: 0.2912\n",
      "Epoch 41/1000\n",
      "92/92 [==============================] - 0s 3ms/step - loss: 152.5720 - I_var: 0.3014 - val_loss: 148.9862 - val_I_var: 0.3077\n",
      "Epoch 42/1000\n",
      "92/92 [==============================] - 0s 4ms/step - loss: 147.8567 - I_var: 0.3042 - val_loss: 148.1017 - val_I_var: 0.3145\n",
      "Epoch 43/1000\n",
      "92/92 [==============================] - 0s 4ms/step - loss: 148.6297 - I_var: 0.2966 - val_loss: 147.6765 - val_I_var: 0.3175\n",
      "Epoch 44/1000\n",
      "92/92 [==============================] - 0s 3ms/step - loss: 149.2899 - I_var: 0.3158 - val_loss: 145.7427 - val_I_var: 0.3284\n",
      "Epoch 45/1000\n",
      "92/92 [==============================] - 0s 4ms/step - loss: 456.2782 - I_var: -0.8779 - val_loss: 156.8176 - val_I_var: 0.2499\n",
      "Epoch 46/1000\n",
      "92/92 [==============================] - 0s 3ms/step - loss: 159.7545 - I_var: 0.2601 - val_loss: 153.7044 - val_I_var: 0.2724\n",
      "Epoch 47/1000\n",
      "92/92 [==============================] - 0s 4ms/step - loss: 156.0515 - I_var: 0.2769 - val_loss: 152.2757 - val_I_var: 0.2830\n",
      "Epoch 48/1000\n",
      "92/92 [==============================] - 0s 4ms/step - loss: 155.4263 - I_var: 0.2843 - val_loss: 151.3120 - val_I_var: 0.2899\n",
      "Epoch 49/1000\n",
      "92/92 [==============================] - 0s 3ms/step - loss: 152.1333 - I_var: 0.2905 - val_loss: 150.8166 - val_I_var: 0.2935\n",
      "Epoch 50/1000\n",
      "92/92 [==============================] - 0s 5ms/step - loss: 152.3392 - I_var: 0.2910 - val_loss: 150.4091 - val_I_var: 0.2965\n",
      "Epoch 51/1000\n",
      "92/92 [==============================] - 0s 5ms/step - loss: 149.3868 - I_var: 0.2949 - val_loss: 150.1948 - val_I_var: 0.2982\n",
      "Epoch 52/1000\n",
      "92/92 [==============================] - 0s 5ms/step - loss: 151.0446 - I_var: 0.2954 - val_loss: 150.0127 - val_I_var: 0.2997\n",
      "Epoch 53/1000\n",
      "92/92 [==============================] - 0s 4ms/step - loss: 150.2094 - I_var: 0.2926 - val_loss: 149.8211 - val_I_var: 0.3009\n",
      "Epoch 54/1000\n",
      "92/92 [==============================] - 0s 5ms/step - loss: 152.3886 - I_var: 0.3004 - val_loss: 149.6933 - val_I_var: 0.3021\n",
      "Epoch 55/1000\n",
      "92/92 [==============================] - 1s 6ms/step - loss: 149.9756 - I_var: 0.2980 - val_loss: 149.6043 - val_I_var: 0.3028\n",
      "Epoch 56/1000\n",
      "92/92 [==============================] - 0s 5ms/step - loss: 151.4159 - I_var: 0.2991 - val_loss: 149.6979 - val_I_var: 0.3023\n",
      "Epoch 57/1000\n",
      "92/92 [==============================] - 0s 3ms/step - loss: 151.9524 - I_var: 0.2971 - val_loss: 149.4974 - val_I_var: 0.3037\n",
      "Epoch 58/1000\n",
      "92/92 [==============================] - 0s 5ms/step - loss: 152.2465 - I_var: 0.3040 - val_loss: 149.4875 - val_I_var: 0.3040\n",
      "Epoch 59/1000\n"
     ]
    },
    {
     "name": "stdout",
     "output_type": "stream",
     "text": [
      "92/92 [==============================] - 0s 5ms/step - loss: 150.2715 - I_var: 0.3005 - val_loss: 149.3764 - val_I_var: 0.3049\n",
      "Epoch 60/1000\n",
      "92/92 [==============================] - 1s 7ms/step - loss: 151.0933 - I_var: 0.2956 - val_loss: 149.5534 - val_I_var: 0.3037\n",
      "Epoch 61/1000\n",
      "92/92 [==============================] - 0s 5ms/step - loss: 151.4886 - I_var: 0.3027 - val_loss: 149.4172 - val_I_var: 0.3047\n",
      "Epoch 62/1000\n",
      "92/92 [==============================] - 1s 6ms/step - loss: 149.6638 - I_var: 0.2965 - val_loss: 149.2450 - val_I_var: 0.3060\n",
      "Epoch 63/1000\n",
      "92/92 [==============================] - 0s 5ms/step - loss: 150.5655 - I_var: 0.3008 - val_loss: 149.2064 - val_I_var: 0.3064\n",
      "Epoch 64/1000\n",
      "92/92 [==============================] - 0s 4ms/step - loss: 152.4498 - I_var: 0.2915 - val_loss: 149.2201 - val_I_var: 0.3064\n",
      "Epoch 65/1000\n",
      "92/92 [==============================] - 1s 6ms/step - loss: 153.5230 - I_var: 0.2953 - val_loss: 149.0485 - val_I_var: 0.3075\n",
      "Epoch 66/1000\n",
      "92/92 [==============================] - 1s 6ms/step - loss: 151.1372 - I_var: 0.3025 - val_loss: 149.2451 - val_I_var: 0.3064\n",
      "Epoch 67/1000\n",
      "92/92 [==============================] - 0s 4ms/step - loss: 150.7624 - I_var: 0.3076 - val_loss: 149.1377 - val_I_var: 0.3073\n",
      "Epoch 68/1000\n",
      "92/92 [==============================] - 0s 5ms/step - loss: 150.0860 - I_var: 0.2967 - val_loss: 149.1615 - val_I_var: 0.3070\n",
      "Epoch 69/1000\n",
      "92/92 [==============================] - 1s 6ms/step - loss: 148.7935 - I_var: 0.2985 - val_loss: 149.0022 - val_I_var: 0.3083\n",
      "Epoch 70/1000\n",
      "92/92 [==============================] - 1s 5ms/step - loss: 152.2763 - I_var: 0.3032 - val_loss: 148.8554 - val_I_var: 0.3093\n",
      "Epoch 71/1000\n",
      "92/92 [==============================] - 1s 6ms/step - loss: 149.3540 - I_var: 0.3034 - val_loss: 148.9958 - val_I_var: 0.3085\n",
      "Epoch 72/1000\n",
      "92/92 [==============================] - 1s 6ms/step - loss: 150.6272 - I_var: 0.2993 - val_loss: 148.8381 - val_I_var: 0.3095\n",
      "Epoch 73/1000\n",
      "92/92 [==============================] - 1s 6ms/step - loss: 150.4764 - I_var: 0.3055 - val_loss: 148.7348 - val_I_var: 0.3105\n",
      "Epoch 74/1000\n",
      "92/92 [==============================] - 1s 6ms/step - loss: 153.7541 - I_var: 0.3018 - val_loss: 148.8572 - val_I_var: 0.3098\n",
      "Training time: 29.4 seconds\n"
     ]
    },
    {
     "data": {
      "text/plain": [
       "<tensorflow.python.keras.callbacks.History at 0x7fe8bd6482e8>"
      ]
     },
     "execution_count": 5,
     "metadata": {},
     "output_type": "execute_result"
    }
   ],
   "source": [
    "# Fit model to data\n",
    "model.fit(learning_rate=.001,\n",
    "          epochs=1000,\n",
    "          batch_size=200,\n",
    "          early_stopping=True,\n",
    "          early_stopping_patience=30,\n",
    "          linear_initialization=False)"
   ]
  },
  {
   "cell_type": "code",
   "execution_count": null,
   "metadata": {
    "ExecuteTime": {
     "end_time": "2020-11-17T18:25:25.994350Z",
     "start_time": "2020-11-17T18:25:25.960777Z"
    }
   },
   "outputs": [
    {
     "name": "stdout",
     "output_type": "stream",
     "text": [
      "Model saved to these files:\n",
      "\tmpsa_ge_pairwise.pickle\n",
      "\tmpsa_ge_pairwise.h5\n"
     ]
    }
   ],
   "source": [
    "# Save model\n",
    "model.save('mpsa_ge_pairwise')"
   ]
  },
  {
   "cell_type": "code",
   "execution_count": null,
   "metadata": {
    "ExecuteTime": {
     "end_time": "2020-11-17T18:25:26.202499Z",
     "start_time": "2020-11-17T18:25:26.006383Z"
    },
    "scrolled": true
   },
   "outputs": [
    {
     "name": "stdout",
     "output_type": "stream",
     "text": [
      "Model loaded from these files:\n",
      "\tmpsa_ge_pairwise.pickle\n",
      "\tmpsa_ge_pairwise.h5\n"
     ]
    }
   ],
   "source": [
    "# Load model\n",
    "model = mavenn.load('mpsa_ge_pairwise')"
   ]
  },
  {
   "cell_type": "code",
   "execution_count": null,
   "metadata": {
    "ExecuteTime": {
     "end_time": "2020-11-17T18:25:26.212539Z",
     "start_time": "2020-11-17T18:25:26.208475Z"
    },
    "collapsed": true
   },
   "outputs": [],
   "source": [
    "# Get x and y\n",
    "x_test = test_df['x'].values\n",
    "y_test = test_df['y'].values"
   ]
  },
  {
   "cell_type": "code",
   "execution_count": null,
   "metadata": {
    "ExecuteTime": {
     "end_time": "2020-11-17T18:25:27.169610Z",
     "start_time": "2020-11-17T18:25:26.214625Z"
    }
   },
   "outputs": [
    {
     "name": "stdout",
     "output_type": "stream",
     "text": [
      "On test data:\n",
      "I_var_test: 0.297 +- 0.022 bits\n",
      "I_pred_test: 0.374 +- 0.016 bits\n"
     ]
    },
    {
     "data": {
      "image/png": "[encoded data removed]",
      "text/plain": [
       "<Figure size 288x288 with 1 Axes>"
      ]
     },
     "metadata": {
      "needs_background": "light"
     },
     "output_type": "display_data"
    }
   ],
   "source": [
    "# Show training history\n",
    "print('On test data:')\n",
    "\n",
    "# Compute likelihood information\n",
    "I_var, dI_var =  model.I_variational(x=x_test, y=y_test)\n",
    "print(f'I_var_test: {I_var:.3f} +- {dI_var:.3f} bits') \n",
    "\n",
    "# Compute predictive information\n",
    "I_pred, dI_pred = model.I_predictive(x=x_test, y=y_test)\n",
    "print(f'I_pred_test: {I_pred:.3f} +- {dI_pred:.3f} bits')\n",
    "\n",
    "I_var_hist = model.history['I_var']\n",
    "val_I_var_hist = model.history['val_I_var']\n",
    "\n",
    "fig, ax = plt.subplots(1,1,figsize=[4,4])\n",
    "ax.plot(I_var_hist, label='I_var_train')\n",
    "ax.plot(val_I_var_hist, label='I_var_val')\n",
    "ax.axhline(I_var, color='C2', linestyle=':', label='I_var_test')\n",
    "ax.axhline(I_pred, color='C3', linestyle=':', label='I_pred_test')\n",
    "ax.legend()\n",
    "ax.set_xlabel('epochs')\n",
    "ax.set_ylabel('bits')\n",
    "ax.set_title('training hisotry')\n",
    "ax.set_ylim([0, I_pred*1.2]);"
   ]
  },
  {
   "cell_type": "code",
   "execution_count": null,
   "metadata": {
    "ExecuteTime": {
     "end_time": "2020-11-17T18:25:28.158503Z",
     "start_time": "2020-11-17T18:25:27.171401Z"
    }
   },
   "outputs": [
    {
     "data": {
      "image/png": "[encoded data removed]",
      "text/plain": [
       "<Figure size 288x288 with 1 Axes>"
      ]
     },
     "metadata": {
      "needs_background": "light"
     },
     "output_type": "display_data"
    }
   ],
   "source": [
    "# Predict latent phentoype values (phi) on test data\n",
    "phi_test = model.x_to_phi(x_test)\n",
    "\n",
    "# Predict measurement values (yhat) on test data\n",
    "yhat_test = model.x_to_yhat(x_test)\n",
    "\n",
    "# Set phi lims and create grid in phi space\n",
    "phi_lim = [min(phi_test)-.5, max(phi_test)+.5]\n",
    "phi_grid = np.linspace(phi_lim[0], phi_lim[1], 1000)\n",
    "\n",
    "# Compute yhat each phi gridpoint\n",
    "yhat_grid = model.phi_to_yhat(phi_grid)\n",
    "\n",
    "# Compute 90% CI for each yhat\n",
    "q = [0.05, 0.95] #[0.16, 0.84]\n",
    "yqs_grid = model.yhat_to_yq(yhat_grid, q=q)\n",
    "\n",
    "# Create figure\n",
    "fig, ax = plt.subplots(1, 1, figsize=[4, 4])\n",
    "\n",
    "# Illustrate measurement process with GE curve\n",
    "ax.scatter(phi_test, y_test, color='C0', s=5, alpha=.2, label='test data')\n",
    "ax.plot(phi_grid, yhat_grid, linewidth=2, color='C1',\n",
    "        label='$\\hat{y} = g(\\phi)$')\n",
    "ax.plot(phi_grid, yqs_grid[:, 0], linestyle='--', color='C1', label='68% CI')\n",
    "ax.plot(phi_grid, yqs_grid[:, 1], linestyle='--', color='C1')\n",
    "ax.set_xlim(phi_lim)\n",
    "ax.set_xlabel('latent phenotype ($\\phi$)')\n",
    "ax.set_ylabel('measurement ($y$)')\n",
    "ax.set_title('measurement process')\n",
    "ax.legend()\n",
    "\n",
    "# Fix up plot\n",
    "fig.tight_layout()\n",
    "plt.show()"
   ]
  },
  {
   "cell_type": "code",
   "execution_count": null,
   "metadata": {
    "ExecuteTime": {
     "end_time": "2020-11-17T18:25:28.355944Z",
     "start_time": "2020-11-17T18:25:28.162800Z"
    }
   },
   "outputs": [],
   "source": [
    "# Plot pairwise parameters\n",
    "theta = model.get_theta()\n",
    "fig, ax = plt.subplots(1, 1, figsize=[8, 4])\n",
    "mavenn.heatmap_pairwise(values=theta['theta_lclc'],\n",
    "                        alphabet=theta['alphabet'],\n",
    "                        ax=ax);"
   ]
  },
  {
   "cell_type": "code",
   "execution_count": null,
   "metadata": {},
   "outputs": [],
   "source": [
    "import logomaker\n",
    "fig, ax = plt.subplots()\n",
    "logo_df = model.get_theta()['logomaker_df'].fillna(0)\n",
    "logo = logomaker.Logo(df=logo_df, ax=ax, fade_below=.5, shade_below=.5, width=.9, font_name='Arial Rounded MT Bold')\n",
    "\n",
    "\n",
    "# Style logo\n",
    "ylim = ax.get_ylim()\n",
    "logo.highlight_position_range(pmin=3, pmax=4, color='w', alpha=1, zorder=10)\n",
    "logo.highlight_position_range(pmin=3, pmax=4, color='gray', alpha=.1, zorder=11)\n",
    "logo.style_single_glyph(p=3, c='G', floor=ylim[0], ceiling=ylim[1], color='gray', zorder=30, alpha=.5)\n",
    "logo.style_single_glyph(p=4, c='U', color='k', zorder=30)\n",
    "logo.style_single_glyph(p=4, c='C', color='k', zorder=30)\n",
    "logo.style_spines(visible=False)\n",
    "\n",
    "# Sytle axes\n",
    "ax.axvline(2.5, linestyle=':', color='k', zorder=30)\n",
    "ax.set_ylabel('additive effect ($\\Delta \\phi$)', labelpad=-1)\n",
    "ax.set_xticks([0,1,2,3,4,5,6,7,8])\n",
    "ax.set_xticklabels([f'{x:+d}' for x in range(-3,7) if x!=0])\n",
    "ax.set_xlabel('nucleotide position', labelpad=5)"
   ]
  },
  {
   "cell_type": "code",
   "execution_count": null,
   "metadata": {
    "collapsed": true
   },
   "outputs": [],
   "source": []
  }
 ],
 "metadata": {
  "kernelspec": {
   "display_name": "Python 3",
   "language": "python",
   "name": "python3"
  },
  "language_info": {
   "codemirror_mode": {
    "name": "ipython",
    "version": 3
   },
   "file_extension": ".py",
   "mimetype": "text/x-python",
   "name": "python",
   "nbconvert_exporter": "python",
   "pygments_lexer": "ipython3",
   "version": "3.6.7"
  },
  "toc": {
   "base_numbering": 1,
   "nav_menu": {},
   "number_sections": true,
   "sideBar": true,
   "skip_h1_title": false,
   "title_cell": "Table of Contents",
   "title_sidebar": "Contents",
   "toc_cell": false,
   "toc_position": {},
   "toc_section_display": true,
   "toc_window_display": false
  },
  "varInspector": {
   "cols": {
    "lenName": 16,
    "lenType": 16,
    "lenVar": 40
   },
   "kernels_config": {
    "python": {
     "delete_cmd_postfix": "",
     "delete_cmd_prefix": "del ",
     "library": "var_list.py",
     "varRefreshCmd": "print(var_dic_list())"
    },
    "r": {
     "delete_cmd_postfix": ") ",
     "delete_cmd_prefix": "rm(",
     "library": "var_list.r",
     "varRefreshCmd": "cat(var_dic_list()) "
    }
   },
   "types_to_exclude": [
    "module",
    "function",
    "builtin_function_or_method",
    "instance",
    "_Feature"
   ],
   "window_display": false
  }
 },
 "nbformat": 4,
 "nbformat_minor": 2
}
