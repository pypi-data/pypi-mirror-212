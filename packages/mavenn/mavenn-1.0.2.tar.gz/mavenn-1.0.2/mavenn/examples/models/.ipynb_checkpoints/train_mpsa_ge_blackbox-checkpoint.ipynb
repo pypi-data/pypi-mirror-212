{
 "cells": [
  {
   "cell_type": "code",
   "execution_count": 1,
   "metadata": {
    "ExecuteTime": {
     "end_time": "2020-11-17T18:10:22.716127Z",
     "start_time": "2020-11-17T18:10:19.740757Z"
    }
   },
   "outputs": [
    {
     "name": "stdout",
     "output_type": "stream",
     "text": [
      "['/Users/tareen/Desktop/Research_Projects/2020_mavenn_github/mavenn_git_ssh/mavenn']\n"
     ]
    }
   ],
   "source": [
    "# Standard imports\n",
    "import pandas as pd\n",
    "import matplotlib.pyplot as plt\n",
    "import numpy as np\n",
    "\n",
    "# Insert path to mavenn beginning of path\n",
    "import os\n",
    "import sys\n",
    "import sys\n",
    "path_to_mavenn = '/Users/tareen/Desktop/Research_Projects/2020_mavenn_github/mavenn_git_ssh/'\n",
    "sys.path.insert(0, path_to_mavenn)\n",
    "\n",
    "# Load mavenn\n",
    "import mavenn\n",
    "print(mavenn.__path__)"
   ]
  },
  {
   "cell_type": "code",
   "execution_count": 2,
   "metadata": {
    "ExecuteTime": {
     "end_time": "2020-11-17T18:10:22.822155Z",
     "start_time": "2020-11-17T18:10:22.719308Z"
    }
   },
   "outputs": [
    {
     "name": "stdout",
     "output_type": "stream",
     "text": [
      "test N: 6,249\n",
      "training + validation N: 24,234\n"
     ]
    },
    {
     "data": {
      "text/html": [
       "<div>\n",
       "<style scoped>\n",
       "    .dataframe tbody tr th:only-of-type {\n",
       "        vertical-align: middle;\n",
       "    }\n",
       "\n",
       "    .dataframe tbody tr th {\n",
       "        vertical-align: top;\n",
       "    }\n",
       "\n",
       "    .dataframe thead th {\n",
       "        text-align: right;\n",
       "    }\n",
       "</style>\n",
       "<table border=\"1\" class=\"dataframe\">\n",
       "  <thead>\n",
       "    <tr style=\"text-align: right;\">\n",
       "      <th></th>\n",
       "      <th>set</th>\n",
       "      <th>tot_ct</th>\n",
       "      <th>ex_ct</th>\n",
       "      <th>y</th>\n",
       "      <th>x</th>\n",
       "    </tr>\n",
       "  </thead>\n",
       "  <tbody>\n",
       "    <tr>\n",
       "      <th>0</th>\n",
       "      <td>training</td>\n",
       "      <td>28</td>\n",
       "      <td>2</td>\n",
       "      <td>0.023406</td>\n",
       "      <td>GGAGUGAUG</td>\n",
       "    </tr>\n",
       "    <tr>\n",
       "      <th>1</th>\n",
       "      <td>training</td>\n",
       "      <td>315</td>\n",
       "      <td>7</td>\n",
       "      <td>-0.587914</td>\n",
       "      <td>AGUGUGCAA</td>\n",
       "    </tr>\n",
       "    <tr>\n",
       "      <th>2</th>\n",
       "      <td>validation</td>\n",
       "      <td>27</td>\n",
       "      <td>0</td>\n",
       "      <td>-0.438475</td>\n",
       "      <td>UAAGCUUUU</td>\n",
       "    </tr>\n",
       "    <tr>\n",
       "      <th>3</th>\n",
       "      <td>training</td>\n",
       "      <td>130</td>\n",
       "      <td>2</td>\n",
       "      <td>-0.631467</td>\n",
       "      <td>AUGGUCGGG</td>\n",
       "    </tr>\n",
       "    <tr>\n",
       "      <th>4</th>\n",
       "      <td>training</td>\n",
       "      <td>552</td>\n",
       "      <td>19</td>\n",
       "      <td>-0.433012</td>\n",
       "      <td>AGGGCAGGA</td>\n",
       "    </tr>\n",
       "    <tr>\n",
       "      <th>5</th>\n",
       "      <td>training</td>\n",
       "      <td>151</td>\n",
       "      <td>184</td>\n",
       "      <td>1.094011</td>\n",
       "      <td>AAGGUCCGC</td>\n",
       "    </tr>\n",
       "    <tr>\n",
       "      <th>6</th>\n",
       "      <td>training</td>\n",
       "      <td>88</td>\n",
       "      <td>4</td>\n",
       "      <td>-0.241737</td>\n",
       "      <td>CAGGCAAAC</td>\n",
       "    </tr>\n",
       "    <tr>\n",
       "      <th>7</th>\n",
       "      <td>training</td>\n",
       "      <td>105</td>\n",
       "      <td>5</td>\n",
       "      <td>-0.238471</td>\n",
       "      <td>GUGGCAAAU</td>\n",
       "    </tr>\n",
       "    <tr>\n",
       "      <th>8</th>\n",
       "      <td>validation</td>\n",
       "      <td>14</td>\n",
       "      <td>0</td>\n",
       "      <td>-0.167408</td>\n",
       "      <td>CAUGCAGCU</td>\n",
       "    </tr>\n",
       "    <tr>\n",
       "      <th>9</th>\n",
       "      <td>training</td>\n",
       "      <td>170</td>\n",
       "      <td>14</td>\n",
       "      <td>-0.048222</td>\n",
       "      <td>CAAGUCACU</td>\n",
       "    </tr>\n",
       "  </tbody>\n",
       "</table>\n",
       "</div>"
      ],
      "text/plain": [
       "          set  tot_ct  ex_ct         y          x\n",
       "0    training      28      2  0.023406  GGAGUGAUG\n",
       "1    training     315      7 -0.587914  AGUGUGCAA\n",
       "2  validation      27      0 -0.438475  UAAGCUUUU\n",
       "3    training     130      2 -0.631467  AUGGUCGGG\n",
       "4    training     552     19 -0.433012  AGGGCAGGA\n",
       "5    training     151    184  1.094011  AAGGUCCGC\n",
       "6    training      88      4 -0.241737  CAGGCAAAC\n",
       "7    training     105      5 -0.238471  GUGGCAAAU\n",
       "8  validation      14      0 -0.167408  CAUGCAGCU\n",
       "9    training     170     14 -0.048222  CAAGUCACU"
      ]
     },
     "execution_count": 2,
     "metadata": {},
     "output_type": "execute_result"
    }
   ],
   "source": [
    "# Download mpsa dataset from master branch\n",
    "url = 'https://github.com/jbkinney/mavenn/blob/master/mavenn/examples/datasets/mpsa_data.csv.gz?raw=true'\n",
    "\n",
    "data_df = pd.read_csv(url,  \n",
    "                      compression='gzip',\n",
    "                      index_col=[0])\n",
    "\n",
    "data_df = data_df.reset_index().copy()\n",
    "\n",
    "# Separate test from data_df\n",
    "ix_test = data_df['set']=='test'\n",
    "test_df = data_df[ix_test].reset_index(drop=True)\n",
    "print(f'test N: {len(test_df):,}')\n",
    "\n",
    "# Remove test data from data_df\n",
    "data_df = data_df[~ix_test].reset_index(drop=True)\n",
    "print(f'training + validation N: {len(data_df):,}')\n",
    "data_df.head(10)"
   ]
  },
  {
   "cell_type": "code",
   "execution_count": 3,
   "metadata": {
    "ExecuteTime": {
     "end_time": "2020-11-17T18:11:01.626553Z",
     "start_time": "2020-11-17T18:10:22.824808Z"
    }
   },
   "outputs": [
    {
     "name": "stdout",
     "output_type": "stream",
     "text": [
      "N = 24,234 observations set as training data.\n",
      "Using 24.8% for validation.\n",
      "Data shuffled.\n",
      "Time to set data: 1.32 sec.\n"
     ]
    },
    {
     "name": "stderr",
     "output_type": "stream",
     "text": [
      "Using TensorFlow backend.\n",
      "Exception ignored in: <bound method tqdm.__del__ of <tqdm.auto.tqdm object at 0x7f95db30c4a8>>\n",
      "Traceback (most recent call last):\n",
      "  File \"/Users/tareen/miniconda3/lib/python3.6/site-packages/tqdm/std.py\", line 1147, in __del__\n",
      "    self.close()\n",
      "  File \"/Users/tareen/miniconda3/lib/python3.6/site-packages/tqdm/notebook.py\", line 289, in close\n",
      "    self.disp(bar_style='success', check_delay=False)\n",
      "AttributeError: 'tqdm' object has no attribute 'disp'\n"
     ]
    },
    {
     "name": "stdout",
     "output_type": "stream",
     "text": [
      "Epoch 1/1000\n",
      "92/92 [==============================] - 10s 29ms/step - loss: 280.5110 - I_var: -0.5044 - val_loss: 249.2578 - val_I_var: -0.3538\n",
      "Epoch 2/1000\n",
      "92/92 [==============================] - 1s 6ms/step - loss: 236.7908 - I_var: -0.2153 - val_loss: 212.6590 - val_I_var: -0.1002\n",
      "Epoch 3/1000\n",
      "92/92 [==============================] - 1s 7ms/step - loss: 207.3174 - I_var: -0.0235 - val_loss: 190.4366 - val_I_var: 0.0591\n",
      "Epoch 4/1000\n",
      "92/92 [==============================] - 1s 7ms/step - loss: 186.6854 - I_var: 0.1120 - val_loss: 176.1142 - val_I_var: 0.1619\n",
      "Epoch 5/1000\n",
      "92/92 [==============================] - 1s 7ms/step - loss: 172.2123 - I_var: 0.2000 - val_loss: 163.9367 - val_I_var: 0.2509\n",
      "Epoch 6/1000\n",
      "92/92 [==============================] - 1s 7ms/step - loss: 161.5278 - I_var: 0.2742 - val_loss: 156.0882 - val_I_var: 0.3075\n",
      "Epoch 7/1000\n",
      "92/92 [==============================] - 1s 6ms/step - loss: 154.9768 - I_var: 0.3339 - val_loss: 150.1163 - val_I_var: 0.3496\n",
      "Epoch 8/1000\n",
      "92/92 [==============================] - 1s 6ms/step - loss: 147.1506 - I_var: 0.3667 - val_loss: 145.5959 - val_I_var: 0.3838\n",
      "Epoch 9/1000\n",
      "92/92 [==============================] - 1s 5ms/step - loss: 140.8859 - I_var: 0.3985 - val_loss: 144.6882 - val_I_var: 0.3883\n",
      "Epoch 10/1000\n",
      "92/92 [==============================] - 1s 6ms/step - loss: 139.7606 - I_var: 0.4146 - val_loss: 139.8293 - val_I_var: 0.4246\n",
      "Epoch 11/1000\n",
      "92/92 [==============================] - 1s 6ms/step - loss: 136.6359 - I_var: 0.4357 - val_loss: 138.2493 - val_I_var: 0.4361\n",
      "Epoch 12/1000\n",
      "92/92 [==============================] - 1s 5ms/step - loss: 136.1938 - I_var: 0.4521 - val_loss: 137.6963 - val_I_var: 0.4369\n",
      "Epoch 13/1000\n",
      "92/92 [==============================] - 1s 6ms/step - loss: 131.7346 - I_var: 0.4593 - val_loss: 137.0076 - val_I_var: 0.4437\n",
      "Epoch 14/1000\n",
      "92/92 [==============================] - 1s 6ms/step - loss: 132.6156 - I_var: 0.4641 - val_loss: 137.9461 - val_I_var: 0.4388\n",
      "Epoch 15/1000\n",
      "92/92 [==============================] - 0s 5ms/step - loss: 130.5490 - I_var: 0.4621 - val_loss: 136.4789 - val_I_var: 0.4487\n",
      "Epoch 16/1000\n",
      "92/92 [==============================] - 1s 5ms/step - loss: 131.0985 - I_var: 0.4744 - val_loss: 135.1117 - val_I_var: 0.4576\n",
      "Epoch 17/1000\n",
      "92/92 [==============================] - 1s 6ms/step - loss: 129.3832 - I_var: 0.4839 - val_loss: 135.5103 - val_I_var: 0.4546\n",
      "Epoch 18/1000\n",
      "92/92 [==============================] - 0s 5ms/step - loss: 130.6381 - I_var: 0.4819 - val_loss: 135.3645 - val_I_var: 0.4548\n",
      "Epoch 19/1000\n",
      "92/92 [==============================] - 0s 5ms/step - loss: 126.6538 - I_var: 0.4920 - val_loss: 135.9850 - val_I_var: 0.4524\n",
      "Epoch 20/1000\n",
      "92/92 [==============================] - 1s 6ms/step - loss: 130.7067 - I_var: 0.5013 - val_loss: 135.8667 - val_I_var: 0.4504\n",
      "Epoch 21/1000\n",
      "92/92 [==============================] - 1s 6ms/step - loss: 129.7159 - I_var: 0.4967 - val_loss: 135.6472 - val_I_var: 0.4546\n",
      "Epoch 22/1000\n",
      "92/92 [==============================] - 1s 6ms/step - loss: 128.7347 - I_var: 0.4928 - val_loss: 135.0163 - val_I_var: 0.4578\n",
      "Epoch 23/1000\n",
      "92/92 [==============================] - 1s 5ms/step - loss: 127.3581 - I_var: 0.5017 - val_loss: 134.8561 - val_I_var: 0.4588\n",
      "Epoch 24/1000\n",
      "92/92 [==============================] - 0s 5ms/step - loss: 125.3712 - I_var: 0.5117 - val_loss: 134.6708 - val_I_var: 0.4589\n",
      "Epoch 25/1000\n",
      "92/92 [==============================] - 0s 5ms/step - loss: 123.8000 - I_var: 0.5099 - val_loss: 134.7013 - val_I_var: 0.4590\n",
      "Epoch 26/1000\n",
      "92/92 [==============================] - 1s 6ms/step - loss: 125.1183 - I_var: 0.5154 - val_loss: 135.1471 - val_I_var: 0.4550\n",
      "Epoch 27/1000\n",
      "92/92 [==============================] - 1s 6ms/step - loss: 122.0544 - I_var: 0.5178 - val_loss: 135.6636 - val_I_var: 0.4546\n",
      "Epoch 28/1000\n",
      "92/92 [==============================] - 1s 8ms/step - loss: 123.6527 - I_var: 0.5195 - val_loss: 135.4845 - val_I_var: 0.4539\n",
      "Epoch 29/1000\n",
      "92/92 [==============================] - 1s 6ms/step - loss: 124.3627 - I_var: 0.5140 - val_loss: 135.2725 - val_I_var: 0.4587\n",
      "Epoch 30/1000\n",
      "92/92 [==============================] - 0s 5ms/step - loss: 122.3927 - I_var: 0.5228 - val_loss: 137.0131 - val_I_var: 0.4463\n",
      "Epoch 31/1000\n",
      "92/92 [==============================] - 1s 6ms/step - loss: 123.0147 - I_var: 0.5258 - val_loss: 136.4389 - val_I_var: 0.4473\n",
      "Epoch 32/1000\n",
      "92/92 [==============================] - 1s 6ms/step - loss: 124.4395 - I_var: 0.5283 - val_loss: 135.1763 - val_I_var: 0.4545\n",
      "Epoch 33/1000\n",
      "92/92 [==============================] - 1s 6ms/step - loss: 121.5676 - I_var: 0.5353 - val_loss: 135.0702 - val_I_var: 0.4567\n",
      "Epoch 34/1000\n",
      "92/92 [==============================] - 1s 6ms/step - loss: 122.2106 - I_var: 0.5342 - val_loss: 139.7692 - val_I_var: 0.4273\n",
      "Training time: 28.4 seconds\n",
      "Model saved to these files:\n",
      "\tmpsa_ge_blackbox.pickle\n",
      "\tmpsa_ge_blackbox.h5\n"
     ]
    }
   ],
   "source": [
    "# Get sequence length\n",
    "L = len(data_df['x'][0])\n",
    "\n",
    "# Set filename\n",
    "name = 'mpsa_ge_blackbox'\n",
    "\n",
    "# Define model\n",
    "model = mavenn.Model(regression_type='GE',\n",
    "                     L=L,\n",
    "                     alphabet='rna',\n",
    "                     #theta_regularization=0.1,\n",
    "                     gpmap_type='blackbox',\n",
    "                     gpmap_kwargs={\n",
    "                         'hidden_layer_sizes':[10]*5,\n",
    "                         'features':'pairwise'\n",
    "                     },\n",
    "                     ge_noise_model_type='SkewedT',\n",
    "                     ge_heteroskedasticity_order=2)\n",
    "\n",
    "# Set training data\n",
    "model.set_data(x=data_df['x'],\n",
    "               y=data_df['y'],\n",
    "               validation_flags=(data_df['set']=='validation'),\n",
    "               shuffle=True)\n",
    "\n",
    "# Fit model to data\n",
    "model.fit(learning_rate=.001,\n",
    "          epochs=1000,\n",
    "          batch_size=50,\n",
    "          early_stopping=True,\n",
    "          early_stopping_patience=10,\n",
    "          linear_initialization=False)\n",
    "\n",
    "# Save models\n",
    "model.save(name)"
   ]
  },
  {
   "cell_type": "code",
   "execution_count": 4,
   "metadata": {
    "ExecuteTime": {
     "end_time": "2020-11-17T18:11:01.843791Z",
     "start_time": "2020-11-17T18:11:01.631030Z"
    }
   },
   "outputs": [
    {
     "name": "stdout",
     "output_type": "stream",
     "text": [
      "Model loaded from these files:\n",
      "\tmpsa_ge_blackbox.pickle\n",
      "\tmpsa_ge_blackbox.h5\n"
     ]
    }
   ],
   "source": [
    "# Load model\n",
    "model = mavenn.load(name)"
   ]
  },
  {
   "cell_type": "code",
   "execution_count": 5,
   "metadata": {
    "ExecuteTime": {
     "end_time": "2020-11-17T18:11:01.984438Z",
     "start_time": "2020-11-17T18:11:01.848808Z"
    }
   },
   "outputs": [
    {
     "name": "stdout",
     "output_type": "stream",
     "text": [
      "56\tmpsa_ge_blackbox.h5\r\n",
      "4\tmpsa_ge_blackbox.pickle\r\n"
     ]
    }
   ],
   "source": [
    "!du -k $name*"
   ]
  },
  {
   "cell_type": "code",
   "execution_count": 6,
   "metadata": {
    "ExecuteTime": {
     "end_time": "2020-11-17T18:11:01.991607Z",
     "start_time": "2020-11-17T18:11:01.986662Z"
    },
    "collapsed": true
   },
   "outputs": [],
   "source": [
    "# Get x and y\n",
    "x = test_df['x']\n",
    "y = test_df['y']"
   ]
  },
  {
   "cell_type": "code",
   "execution_count": 7,
   "metadata": {
    "ExecuteTime": {
     "end_time": "2020-11-17T18:11:03.074231Z",
     "start_time": "2020-11-17T18:11:01.999738Z"
    }
   },
   "outputs": [
    {
     "name": "stdout",
     "output_type": "stream",
     "text": [
      "On test data:\n",
      "I_var_test: 0.372 +- 0.025 bits\n",
      "I_pred_test: 0.446 +- 0.012 bits\n"
     ]
    },
    {
     "data": {
      "image/png": "[encoded data removed]",
      "text/plain": [
       "<Figure size 288x288 with 1 Axes>"
      ]
     },
     "metadata": {
      "needs_background": "light"
     },
     "output_type": "display_data"
    }
   ],
   "source": [
    "# Show training history\n",
    "print('On test data:')\n",
    "\n",
    "# Compute variational information\n",
    "I_var, dI_var =  model.I_variational(x=x, y=y)\n",
    "print(f'I_var_test: {I_var:.3f} +- {dI_var:.3f} bits') \n",
    "\n",
    "# Compute predictive information\n",
    "I_pred, dI_pred = model.I_predictive(x=x, y=y)\n",
    "print(f'I_pred_test: {I_pred:.3f} +- {dI_pred:.3f} bits')\n",
    "\n",
    "I_var_hist = model.history['I_var']\n",
    "val_I_var_hist = model.history['val_I_var']\n",
    "\n",
    "fig, ax = plt.subplots(1,1,figsize=[4,4])\n",
    "ax.plot(I_var_hist, label='I_var_train')\n",
    "ax.plot(val_I_var_hist, label='I_var_val')\n",
    "ax.axhline(I_var, color='C2', linestyle=':', label='I_var_test')\n",
    "ax.axhline(I_pred, color='C3', linestyle=':', label='I_pred_test')\n",
    "ax.legend()\n",
    "ax.set_xlabel('epochs')\n",
    "ax.set_ylabel('bits')\n",
    "ax.set_title('training hisotry')\n",
    "ax.set_ylim([0, I_pred*1.2]);"
   ]
  },
  {
   "cell_type": "code",
   "execution_count": 8,
   "metadata": {
    "ExecuteTime": {
     "end_time": "2020-11-17T18:11:03.845720Z",
     "start_time": "2020-11-17T18:11:03.077818Z"
    }
   },
   "outputs": [
    {
     "data": {
      "image/png": "[encoded data removed]",
      "text/plain": [
       "<Figure size 288x288 with 1 Axes>"
      ]
     },
     "metadata": {
      "needs_background": "light"
     },
     "output_type": "display_data"
    }
   ],
   "source": [
    "# Compute phi and yhat values\n",
    "phi = model.x_to_phi(x)\n",
    "yhat = model.phi_to_yhat(phi)\n",
    "\n",
    "# Create grid for plotting yhat and yqs\n",
    "phi_lim = [min(phi), max(phi)]\n",
    "phi_grid = np.linspace(phi_lim[0], phi_lim[1], 1000)\n",
    "yhat_grid = model.phi_to_yhat(phi_grid)\n",
    "yqs_grid = model.yhat_to_yq(yhat_grid, q=[.16,.84])\n",
    "\n",
    "# Create two panels\n",
    "fig, ax = plt.subplots(1, 1, figsize=[4, 4])\n",
    "\n",
    "# Illustrate measurement process with GE curve\n",
    "ax.scatter(phi, y, color='C0', s=5, alpha=.2, label='test data')\n",
    "ax.plot(phi_grid, yhat_grid, linewidth=2, color='C1',\n",
    "        label='$\\hat{y} = g(\\phi)$')\n",
    "ax.plot(phi_grid, yqs_grid[:, 0], linestyle='--', color='C1',\n",
    "        label='68% CI')\n",
    "ax.plot(phi_grid, yqs_grid[:, 1], linestyle='--', color='C1')\n",
    "ax.set_xlim(phi_lim)\n",
    "ax.set_xlabel('latent phenotype ($\\phi$)')\n",
    "ax.set_ylabel('measurement ($y$)')\n",
    "ax.set_title('measurement process')\n",
    "ax.legend()\n",
    "\n",
    "# Fix up plot\n",
    "fig.tight_layout()\n",
    "plt.show()"
   ]
  },
  {
   "cell_type": "code",
   "execution_count": null,
   "metadata": {
    "collapsed": true
   },
   "outputs": [],
   "source": []
  }
 ],
 "metadata": {
  "kernelspec": {
   "display_name": "Python 3",
   "language": "python",
   "name": "python3"
  },
  "language_info": {
   "codemirror_mode": {
    "name": "ipython",
    "version": 3
   },
   "file_extension": ".py",
   "mimetype": "text/x-python",
   "name": "python",
   "nbconvert_exporter": "python",
   "pygments_lexer": "ipython3",
   "version": "3.6.7"
  },
  "toc": {
   "base_numbering": 1,
   "nav_menu": {},
   "number_sections": true,
   "sideBar": true,
   "skip_h1_title": false,
   "title_cell": "Table of Contents",
   "title_sidebar": "Contents",
   "toc_cell": false,
   "toc_position": {},
   "toc_section_display": true,
   "toc_window_display": false
  },
  "varInspector": {
   "cols": {
    "lenName": 16,
    "lenType": 16,
    "lenVar": 40
   },
   "kernels_config": {
    "python": {
     "delete_cmd_postfix": "",
     "delete_cmd_prefix": "del ",
     "library": "var_list.py",
     "varRefreshCmd": "print(var_dic_list())"
    },
    "r": {
     "delete_cmd_postfix": ") ",
     "delete_cmd_prefix": "rm(",
     "library": "var_list.r",
     "varRefreshCmd": "cat(var_dic_list()) "
    }
   },
   "types_to_exclude": [
    "module",
    "function",
    "builtin_function_or_method",
    "instance",
    "_Feature"
   ],
   "window_display": false
  }
 },
 "nbformat": 4,
 "nbformat_minor": 2
}
