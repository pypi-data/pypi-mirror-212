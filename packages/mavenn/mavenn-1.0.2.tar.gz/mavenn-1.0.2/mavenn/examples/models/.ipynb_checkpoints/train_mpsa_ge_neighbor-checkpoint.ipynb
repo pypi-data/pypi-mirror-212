{
 "cells": [
  {
   "cell_type": "code",
   "execution_count": 1,
   "metadata": {
    "ExecuteTime": {
     "end_time": "2020-11-17T18:20:23.542359Z",
     "start_time": "2020-11-17T18:20:20.989879Z"
    }
   },
   "outputs": [
    {
     "name": "stdout",
     "output_type": "stream",
     "text": [
      "['/Users/tareen/Desktop/Research_Projects/2020_mavenn_github/mavenn_git_ssh/mavenn']\n"
     ]
    }
   ],
   "source": [
    "# Standard imports\n",
    "import pandas as pd\n",
    "import matplotlib.pyplot as plt\n",
    "import numpy as np\n",
    "import time\n",
    "\n",
    "# Insert path to mavenn beginning of path\n",
    "import os\n",
    "import sys\n",
    "# Load mavenn\n",
    "import sys\n",
    "path_to_mavenn = '/Users/tareen/Desktop/Research_Projects/2020_mavenn_github/mavenn_git_ssh/'\n",
    "sys.path.insert(0, path_to_mavenn)\n",
    "\n",
    "# Load mavenn\n",
    "import mavenn\n",
    "print(mavenn.__path__)"
   ]
  },
  {
   "cell_type": "code",
   "execution_count": 2,
   "metadata": {
    "ExecuteTime": {
     "end_time": "2020-11-17T18:20:23.632763Z",
     "start_time": "2020-11-17T18:20:23.544700Z"
    }
   },
   "outputs": [
    {
     "name": "stdout",
     "output_type": "stream",
     "text": [
      "test N: 6,249\n",
      "training + validation N: 24,234\n"
     ]
    },
    {
     "data": {
      "text/html": [
       "<div>\n",
       "<style scoped>\n",
       "    .dataframe tbody tr th:only-of-type {\n",
       "        vertical-align: middle;\n",
       "    }\n",
       "\n",
       "    .dataframe tbody tr th {\n",
       "        vertical-align: top;\n",
       "    }\n",
       "\n",
       "    .dataframe thead th {\n",
       "        text-align: right;\n",
       "    }\n",
       "</style>\n",
       "<table border=\"1\" class=\"dataframe\">\n",
       "  <thead>\n",
       "    <tr style=\"text-align: right;\">\n",
       "      <th></th>\n",
       "      <th>set</th>\n",
       "      <th>tot_ct</th>\n",
       "      <th>ex_ct</th>\n",
       "      <th>y</th>\n",
       "      <th>x</th>\n",
       "    </tr>\n",
       "  </thead>\n",
       "  <tbody>\n",
       "    <tr>\n",
       "      <th>0</th>\n",
       "      <td>training</td>\n",
       "      <td>28</td>\n",
       "      <td>2</td>\n",
       "      <td>0.023406</td>\n",
       "      <td>GGAGUGAUG</td>\n",
       "    </tr>\n",
       "    <tr>\n",
       "      <th>1</th>\n",
       "      <td>training</td>\n",
       "      <td>315</td>\n",
       "      <td>7</td>\n",
       "      <td>-0.587914</td>\n",
       "      <td>AGUGUGCAA</td>\n",
       "    </tr>\n",
       "    <tr>\n",
       "      <th>2</th>\n",
       "      <td>validation</td>\n",
       "      <td>27</td>\n",
       "      <td>0</td>\n",
       "      <td>-0.438475</td>\n",
       "      <td>UAAGCUUUU</td>\n",
       "    </tr>\n",
       "    <tr>\n",
       "      <th>3</th>\n",
       "      <td>training</td>\n",
       "      <td>130</td>\n",
       "      <td>2</td>\n",
       "      <td>-0.631467</td>\n",
       "      <td>AUGGUCGGG</td>\n",
       "    </tr>\n",
       "    <tr>\n",
       "      <th>4</th>\n",
       "      <td>training</td>\n",
       "      <td>552</td>\n",
       "      <td>19</td>\n",
       "      <td>-0.433012</td>\n",
       "      <td>AGGGCAGGA</td>\n",
       "    </tr>\n",
       "    <tr>\n",
       "      <th>5</th>\n",
       "      <td>training</td>\n",
       "      <td>151</td>\n",
       "      <td>184</td>\n",
       "      <td>1.094011</td>\n",
       "      <td>AAGGUCCGC</td>\n",
       "    </tr>\n",
       "    <tr>\n",
       "      <th>6</th>\n",
       "      <td>training</td>\n",
       "      <td>88</td>\n",
       "      <td>4</td>\n",
       "      <td>-0.241737</td>\n",
       "      <td>CAGGCAAAC</td>\n",
       "    </tr>\n",
       "    <tr>\n",
       "      <th>7</th>\n",
       "      <td>training</td>\n",
       "      <td>105</td>\n",
       "      <td>5</td>\n",
       "      <td>-0.238471</td>\n",
       "      <td>GUGGCAAAU</td>\n",
       "    </tr>\n",
       "    <tr>\n",
       "      <th>8</th>\n",
       "      <td>validation</td>\n",
       "      <td>14</td>\n",
       "      <td>0</td>\n",
       "      <td>-0.167408</td>\n",
       "      <td>CAUGCAGCU</td>\n",
       "    </tr>\n",
       "    <tr>\n",
       "      <th>9</th>\n",
       "      <td>training</td>\n",
       "      <td>170</td>\n",
       "      <td>14</td>\n",
       "      <td>-0.048222</td>\n",
       "      <td>CAAGUCACU</td>\n",
       "    </tr>\n",
       "  </tbody>\n",
       "</table>\n",
       "</div>"
      ],
      "text/plain": [
       "          set  tot_ct  ex_ct         y          x\n",
       "0    training      28      2  0.023406  GGAGUGAUG\n",
       "1    training     315      7 -0.587914  AGUGUGCAA\n",
       "2  validation      27      0 -0.438475  UAAGCUUUU\n",
       "3    training     130      2 -0.631467  AUGGUCGGG\n",
       "4    training     552     19 -0.433012  AGGGCAGGA\n",
       "5    training     151    184  1.094011  AAGGUCCGC\n",
       "6    training      88      4 -0.241737  CAGGCAAAC\n",
       "7    training     105      5 -0.238471  GUGGCAAAU\n",
       "8  validation      14      0 -0.167408  CAUGCAGCU\n",
       "9    training     170     14 -0.048222  CAAGUCACU"
      ]
     },
     "execution_count": 2,
     "metadata": {},
     "output_type": "execute_result"
    }
   ],
   "source": [
    "# Download mpsa dataset from master branch\n",
    "url = 'https://github.com/jbkinney/mavenn/blob/master/mavenn/examples/datasets/mpsa_data.csv.gz?raw=true'\n",
    "\n",
    "data_df = pd.read_csv(url,  \n",
    "                      compression='gzip',\n",
    "                      index_col=[0])\n",
    "\n",
    "data_df = data_df.reset_index().copy()\n",
    "\n",
    "# Separate test from data_df\n",
    "ix_test = data_df['set']=='test'\n",
    "test_df = data_df[ix_test].reset_index(drop=True)\n",
    "print(f'test N: {len(test_df):,}')\n",
    "\n",
    "# Remove test data from data_df\n",
    "data_df = data_df[~ix_test].reset_index(drop=True)\n",
    "print(f'training + validation N: {len(data_df):,}')\n",
    "data_df.head(10)"
   ]
  },
  {
   "cell_type": "code",
   "execution_count": 3,
   "metadata": {
    "ExecuteTime": {
     "end_time": "2020-11-17T18:20:24.856115Z",
     "start_time": "2020-11-17T18:20:23.636568Z"
    },
    "collapsed": true
   },
   "outputs": [],
   "source": [
    "# Get sequence length\n",
    "L = len(data_df['x'][0])\n",
    "\n",
    "# Define model\n",
    "model = mavenn.Model(L=L,\n",
    "                     alphabet='rna',\n",
    "                     gpmap_type='neighbor', \n",
    "                     regression_type='GE',\n",
    "                     theta_regularization=0.1,\n",
    "                     ge_noise_model_type='SkewedT',\n",
    "                     ge_heteroskedasticity_order=2)\n"
   ]
  },
  {
   "cell_type": "code",
   "execution_count": 4,
   "metadata": {
    "ExecuteTime": {
     "end_time": "2020-11-17T18:20:25.273023Z",
     "start_time": "2020-11-17T18:20:24.857996Z"
    }
   },
   "outputs": [
    {
     "name": "stdout",
     "output_type": "stream",
     "text": [
      "N = 24,234 observations set as training data.\n",
      "Using 24.8% for validation.\n",
      "Data shuffled.\n",
      "Time to set data: 0.413 sec.\n"
     ]
    }
   ],
   "source": [
    "# Set training data\n",
    "model.set_data(x=data_df['x'],\n",
    "               y=data_df['y'],\n",
    "               validation_flags=(data_df['set']=='validation'),\n",
    "               shuffle=True)"
   ]
  },
  {
   "cell_type": "code",
   "execution_count": 5,
   "metadata": {
    "ExecuteTime": {
     "end_time": "2020-11-17T18:21:43.683694Z",
     "start_time": "2020-11-17T18:20:25.274559Z"
    },
    "scrolled": true
   },
   "outputs": [
    {
     "name": "stderr",
     "output_type": "stream",
     "text": [
      "Using TensorFlow backend.\n",
      "Exception ignored in: <bound method tqdm.__del__ of <tqdm.auto.tqdm object at 0x7ff1a61c07f0>>\n",
      "Traceback (most recent call last):\n",
      "  File \"/Users/tareen/miniconda3/lib/python3.6/site-packages/tqdm/std.py\", line 1147, in __del__\n",
      "    self.close()\n",
      "  File \"/Users/tareen/miniconda3/lib/python3.6/site-packages/tqdm/notebook.py\", line 289, in close\n",
      "    self.disp(bar_style='success', check_delay=False)\n",
      "AttributeError: 'tqdm' object has no attribute 'disp'\n"
     ]
    },
    {
     "name": "stdout",
     "output_type": "stream",
     "text": [
      "Epoch 1/1000\n",
      "92/92 [==============================] - 3s 14ms/step - loss: 291.6803 - I_var: -0.6123 - val_loss: 267.4641 - val_I_var: -0.5326\n",
      "Epoch 2/1000\n",
      "92/92 [==============================] - 0s 4ms/step - loss: 263.2407 - I_var: -0.4659 - val_loss: 249.0392 - val_I_var: -0.4040\n",
      "Epoch 3/1000\n",
      "92/92 [==============================] - 0s 4ms/step - loss: 244.0000 - I_var: -0.3416 - val_loss: 230.7994 - val_I_var: -0.2765\n",
      "Epoch 4/1000\n",
      "92/92 [==============================] - 0s 3ms/step - loss: 228.7768 - I_var: -0.2134 - val_loss: 215.8968 - val_I_var: -0.1728\n",
      "Epoch 5/1000\n",
      "92/92 [==============================] - 0s 3ms/step - loss: 212.4193 - I_var: -0.1184 - val_loss: 204.2016 - val_I_var: -0.0905\n",
      "Epoch 6/1000\n",
      "92/92 [==============================] - 0s 3ms/step - loss: 202.8480 - I_var: -0.0516 - val_loss: 195.9459 - val_I_var: -0.0327\n",
      "Epoch 7/1000\n",
      "92/92 [==============================] - 0s 3ms/step - loss: 194.5186 - I_var: -0.0099 - val_loss: 190.4343 - val_I_var: 0.0063\n",
      "Epoch 8/1000\n",
      "92/92 [==============================] - 0s 3ms/step - loss: 190.4486 - I_var: 0.0267 - val_loss: 186.4506 - val_I_var: 0.0339\n",
      "Epoch 9/1000\n",
      "92/92 [==============================] - 0s 3ms/step - loss: 184.6117 - I_var: 0.0600 - val_loss: 183.4668 - val_I_var: 0.0545\n",
      "Epoch 10/1000\n",
      "92/92 [==============================] - 0s 3ms/step - loss: 184.6344 - I_var: 0.0791 - val_loss: 181.3303 - val_I_var: 0.0692\n",
      "Epoch 11/1000\n",
      "92/92 [==============================] - 0s 3ms/step - loss: 181.8661 - I_var: 0.0869 - val_loss: 179.4733 - val_I_var: 0.0818\n",
      "Epoch 12/1000\n",
      "92/92 [==============================] - 0s 3ms/step - loss: 180.0533 - I_var: 0.0924 - val_loss: 178.0970 - val_I_var: 0.0913\n",
      "Epoch 13/1000\n",
      "92/92 [==============================] - 0s 3ms/step - loss: 176.7801 - I_var: 0.1051 - val_loss: 176.9161 - val_I_var: 0.0994\n",
      "Epoch 14/1000\n",
      "92/92 [==============================] - 0s 3ms/step - loss: 174.7472 - I_var: 0.1114 - val_loss: 175.8433 - val_I_var: 0.1067\n",
      "Epoch 15/1000\n",
      "92/92 [==============================] - 0s 4ms/step - loss: 176.8779 - I_var: 0.1155 - val_loss: 174.7114 - val_I_var: 0.1145\n",
      "Epoch 16/1000\n",
      "92/92 [==============================] - 0s 4ms/step - loss: 174.9572 - I_var: 0.1338 - val_loss: 173.8673 - val_I_var: 0.1199\n",
      "Epoch 17/1000\n",
      "92/92 [==============================] - 0s 4ms/step - loss: 173.4431 - I_var: 0.1300 - val_loss: 173.3013 - val_I_var: 0.1234\n",
      "Epoch 18/1000\n",
      "92/92 [==============================] - 0s 3ms/step - loss: 175.0454 - I_var: 0.1381 - val_loss: 172.6267 - val_I_var: 0.1271\n",
      "Epoch 19/1000\n",
      "92/92 [==============================] - 0s 4ms/step - loss: 170.1622 - I_var: 0.1406 - val_loss: 172.3952 - val_I_var: 0.1280\n",
      "Epoch 20/1000\n",
      "92/92 [==============================] - 0s 4ms/step - loss: 170.9592 - I_var: 0.1442 - val_loss: 171.5933 - val_I_var: 0.1320\n",
      "Epoch 21/1000\n",
      "92/92 [==============================] - 0s 5ms/step - loss: 171.9871 - I_var: 0.1469 - val_loss: 171.1918 - val_I_var: 0.1343\n",
      "Epoch 22/1000\n",
      "92/92 [==============================] - 0s 3ms/step - loss: 170.5731 - I_var: 0.1474 - val_loss: 170.8690 - val_I_var: 0.1360\n",
      "Epoch 23/1000\n",
      "92/92 [==============================] - 0s 3ms/step - loss: 171.7632 - I_var: 0.1432 - val_loss: 170.4923 - val_I_var: 0.1377\n",
      "Epoch 24/1000\n",
      "92/92 [==============================] - 0s 4ms/step - loss: 171.0549 - I_var: 0.1511 - val_loss: 170.5306 - val_I_var: 0.1380\n",
      "Epoch 25/1000\n",
      "92/92 [==============================] - 0s 3ms/step - loss: 170.9896 - I_var: 0.1512 - val_loss: 169.9377 - val_I_var: 0.1407\n",
      "Epoch 26/1000\n",
      "92/92 [==============================] - 0s 3ms/step - loss: 170.6531 - I_var: 0.1617 - val_loss: 169.4924 - val_I_var: 0.1439\n",
      "Epoch 27/1000\n",
      "92/92 [==============================] - 0s 4ms/step - loss: 172.1430 - I_var: 0.1519 - val_loss: 169.1707 - val_I_var: 0.1459\n",
      "Epoch 28/1000\n",
      "92/92 [==============================] - 0s 4ms/step - loss: 172.6610 - I_var: 0.1563 - val_loss: 168.7826 - val_I_var: 0.1488\n",
      "Epoch 29/1000\n",
      "92/92 [==============================] - 0s 3ms/step - loss: 168.1120 - I_var: 0.1603 - val_loss: 168.4278 - val_I_var: 0.1514\n",
      "Epoch 30/1000\n",
      "92/92 [==============================] - 0s 4ms/step - loss: 172.4202 - I_var: 0.1639 - val_loss: 168.1179 - val_I_var: 0.1535\n",
      "Epoch 31/1000\n",
      "92/92 [==============================] - 0s 4ms/step - loss: 171.5412 - I_var: 0.1631 - val_loss: 167.8756 - val_I_var: 0.1556\n",
      "Epoch 32/1000\n",
      "92/92 [==============================] - 0s 3ms/step - loss: 169.3496 - I_var: 0.1663 - val_loss: 167.5269 - val_I_var: 0.1580\n",
      "Epoch 33/1000\n",
      "92/92 [==============================] - 0s 3ms/step - loss: 167.0401 - I_var: 0.1639 - val_loss: 167.1268 - val_I_var: 0.1611\n",
      "Epoch 34/1000\n",
      "92/92 [==============================] - 0s 3ms/step - loss: 169.5781 - I_var: 0.1671 - val_loss: 166.6935 - val_I_var: 0.1638\n",
      "Epoch 35/1000\n",
      "92/92 [==============================] - 0s 4ms/step - loss: 167.2992 - I_var: 0.1730 - val_loss: 166.2664 - val_I_var: 0.1667\n",
      "Epoch 36/1000\n",
      "92/92 [==============================] - 0s 4ms/step - loss: 168.7869 - I_var: 0.1746 - val_loss: 166.0212 - val_I_var: 0.1691\n",
      "Epoch 37/1000\n",
      "92/92 [==============================] - 0s 3ms/step - loss: 168.0245 - I_var: 0.1753 - val_loss: 165.7055 - val_I_var: 0.1712\n",
      "Epoch 38/1000\n",
      "92/92 [==============================] - 0s 4ms/step - loss: 169.0998 - I_var: 0.1782 - val_loss: 165.3804 - val_I_var: 0.1739\n",
      "Epoch 39/1000\n",
      "92/92 [==============================] - 0s 3ms/step - loss: 168.7607 - I_var: 0.1799 - val_loss: 165.1274 - val_I_var: 0.1746\n",
      "Epoch 40/1000\n",
      "92/92 [==============================] - 0s 3ms/step - loss: 169.6698 - I_var: 0.1801 - val_loss: 164.6507 - val_I_var: 0.1786\n",
      "Epoch 41/1000\n",
      "92/92 [==============================] - 0s 3ms/step - loss: 167.5291 - I_var: 0.1845 - val_loss: 164.3023 - val_I_var: 0.1814\n",
      "Epoch 42/1000\n",
      "92/92 [==============================] - 0s 3ms/step - loss: 166.1688 - I_var: 0.1861 - val_loss: 164.1323 - val_I_var: 0.1831\n",
      "Epoch 43/1000\n",
      "92/92 [==============================] - 0s 3ms/step - loss: 166.3582 - I_var: 0.1866 - val_loss: 164.0958 - val_I_var: 0.1839\n",
      "Epoch 44/1000\n",
      "92/92 [==============================] - 0s 3ms/step - loss: 167.6138 - I_var: 0.1903 - val_loss: 163.5963 - val_I_var: 0.1869\n",
      "Epoch 45/1000\n",
      "92/92 [==============================] - 0s 3ms/step - loss: 164.6747 - I_var: 0.1875 - val_loss: 163.2841 - val_I_var: 0.1894\n",
      "Epoch 46/1000\n",
      "92/92 [==============================] - 0s 3ms/step - loss: 168.3894 - I_var: 0.1965 - val_loss: 163.1296 - val_I_var: 0.1907\n",
      "Epoch 47/1000\n",
      "92/92 [==============================] - 0s 3ms/step - loss: 165.6885 - I_var: 0.1929 - val_loss: 162.6714 - val_I_var: 0.1934\n",
      "Epoch 48/1000\n",
      "92/92 [==============================] - 0s 3ms/step - loss: 165.5984 - I_var: 0.1971 - val_loss: 162.4153 - val_I_var: 0.1953\n",
      "Epoch 49/1000\n",
      "92/92 [==============================] - 0s 3ms/step - loss: 164.5283 - I_var: 0.1974 - val_loss: 162.2691 - val_I_var: 0.1959\n",
      "Epoch 50/1000\n",
      "92/92 [==============================] - 1s 6ms/step - loss: 165.6574 - I_var: 0.2011 - val_loss: 162.0009 - val_I_var: 0.1989\n",
      "Epoch 51/1000\n",
      "92/92 [==============================] - 0s 4ms/step - loss: 164.0406 - I_var: 0.1950 - val_loss: 161.8305 - val_I_var: 0.1989\n",
      "Epoch 52/1000\n",
      "92/92 [==============================] - 0s 3ms/step - loss: 163.2364 - I_var: 0.2025 - val_loss: 161.7865 - val_I_var: 0.1993\n",
      "Epoch 53/1000\n",
      "92/92 [==============================] - 0s 4ms/step - loss: 163.9852 - I_var: 0.2019 - val_loss: 161.2558 - val_I_var: 0.2045\n",
      "Epoch 54/1000\n",
      "92/92 [==============================] - 0s 4ms/step - loss: 162.7690 - I_var: 0.2045 - val_loss: 160.7746 - val_I_var: 0.2077\n",
      "Epoch 55/1000\n",
      "92/92 [==============================] - 0s 4ms/step - loss: 164.5778 - I_var: 0.2080 - val_loss: 160.5109 - val_I_var: 0.2097\n",
      "Epoch 56/1000\n",
      "92/92 [==============================] - 0s 4ms/step - loss: 162.5326 - I_var: 0.2081 - val_loss: 160.5752 - val_I_var: 0.2099\n",
      "Epoch 57/1000\n",
      "92/92 [==============================] - 0s 4ms/step - loss: 164.7704 - I_var: 0.2120 - val_loss: 159.9183 - val_I_var: 0.2141\n",
      "Epoch 58/1000\n",
      "92/92 [==============================] - 0s 4ms/step - loss: 163.3553 - I_var: 0.2124 - val_loss: 160.9021 - val_I_var: 0.2082\n",
      "Epoch 59/1000\n"
     ]
    },
    {
     "name": "stdout",
     "output_type": "stream",
     "text": [
      "92/92 [==============================] - 0s 3ms/step - loss: 165.3562 - I_var: 0.2188 - val_loss: 159.6883 - val_I_var: 0.2163\n",
      "Epoch 60/1000\n",
      "92/92 [==============================] - 0s 4ms/step - loss: 162.9720 - I_var: 0.2180 - val_loss: 159.2818 - val_I_var: 0.2194\n",
      "Epoch 61/1000\n",
      "92/92 [==============================] - 0s 3ms/step - loss: 163.8492 - I_var: 0.2171 - val_loss: 158.9882 - val_I_var: 0.2204\n",
      "Epoch 62/1000\n",
      "92/92 [==============================] - 0s 3ms/step - loss: 163.8441 - I_var: 0.2153 - val_loss: 158.6358 - val_I_var: 0.2241\n",
      "Epoch 63/1000\n",
      "92/92 [==============================] - 0s 3ms/step - loss: 160.0725 - I_var: 0.2162 - val_loss: 158.4211 - val_I_var: 0.2259\n",
      "Epoch 64/1000\n",
      "92/92 [==============================] - 0s 3ms/step - loss: 163.1573 - I_var: 0.2156 - val_loss: 158.2150 - val_I_var: 0.2262\n",
      "Epoch 65/1000\n",
      "92/92 [==============================] - 0s 3ms/step - loss: 163.6236 - I_var: 0.2204 - val_loss: 157.9101 - val_I_var: 0.2299\n",
      "Epoch 66/1000\n",
      "92/92 [==============================] - 0s 4ms/step - loss: 160.5162 - I_var: 0.2291 - val_loss: 157.3808 - val_I_var: 0.2336\n",
      "Epoch 67/1000\n",
      "92/92 [==============================] - 0s 4ms/step - loss: 160.9764 - I_var: 0.2304 - val_loss: 157.0565 - val_I_var: 0.2349\n",
      "Epoch 68/1000\n",
      "92/92 [==============================] - 0s 4ms/step - loss: 162.0814 - I_var: 0.2300 - val_loss: 156.4904 - val_I_var: 0.2400\n",
      "Epoch 69/1000\n",
      "92/92 [==============================] - 0s 3ms/step - loss: 160.9048 - I_var: 0.2319 - val_loss: 156.2804 - val_I_var: 0.2420\n",
      "Epoch 70/1000\n",
      "92/92 [==============================] - 0s 3ms/step - loss: 159.5015 - I_var: 0.2417 - val_loss: 155.7370 - val_I_var: 0.2462\n",
      "Epoch 71/1000\n",
      "92/92 [==============================] - 0s 4ms/step - loss: 158.9773 - I_var: 0.2475 - val_loss: 155.7282 - val_I_var: 0.2469\n",
      "Epoch 72/1000\n",
      "92/92 [==============================] - 0s 3ms/step - loss: 161.1372 - I_var: 0.2509 - val_loss: 154.4830 - val_I_var: 0.2545\n",
      "Epoch 73/1000\n",
      "92/92 [==============================] - 0s 4ms/step - loss: 156.4756 - I_var: 0.2542 - val_loss: 153.3656 - val_I_var: 0.2632\n",
      "Epoch 74/1000\n",
      "92/92 [==============================] - 0s 3ms/step - loss: 158.2373 - I_var: 0.2577 - val_loss: 152.9100 - val_I_var: 0.2677\n",
      "Epoch 75/1000\n",
      "92/92 [==============================] - 0s 3ms/step - loss: 154.1512 - I_var: 0.2702 - val_loss: 151.0680 - val_I_var: 0.2806\n",
      "Epoch 76/1000\n",
      "92/92 [==============================] - 0s 5ms/step - loss: 154.6097 - I_var: 0.2852 - val_loss: 149.3127 - val_I_var: 0.2924\n",
      "Epoch 77/1000\n",
      "92/92 [==============================] - 0s 5ms/step - loss: 150.7022 - I_var: 0.2969 - val_loss: 149.0582 - val_I_var: 0.2954\n",
      "Epoch 78/1000\n",
      "92/92 [==============================] - 0s 3ms/step - loss: 149.9170 - I_var: 0.3022 - val_loss: 147.5719 - val_I_var: 0.3053\n",
      "Epoch 79/1000\n",
      "92/92 [==============================] - 0s 3ms/step - loss: 149.3830 - I_var: 0.3223 - val_loss: 143.2945 - val_I_var: 0.3339\n",
      "Epoch 80/1000\n",
      "92/92 [==============================] - 0s 3ms/step - loss: 154.9101 - I_var: 0.2855 - val_loss: 149.6651 - val_I_var: 0.2913\n",
      "Epoch 81/1000\n",
      "92/92 [==============================] - 0s 4ms/step - loss: 150.4244 - I_var: 0.2830 - val_loss: 150.9139 - val_I_var: 0.2793\n",
      "Epoch 82/1000\n",
      "92/92 [==============================] - 0s 4ms/step - loss: 153.7760 - I_var: 0.2840 - val_loss: 149.3453 - val_I_var: 0.2912\n",
      "Epoch 83/1000\n",
      "92/92 [==============================] - 0s 3ms/step - loss: 157.2970 - I_var: 0.2852 - val_loss: 147.9258 - val_I_var: 0.3028\n",
      "Epoch 84/1000\n",
      "92/92 [==============================] - 0s 3ms/step - loss: 150.4130 - I_var: 0.3102 - val_loss: 146.6840 - val_I_var: 0.3120\n",
      "Epoch 85/1000\n",
      "92/92 [==============================] - 0s 4ms/step - loss: 153.0376 - I_var: 0.3037 - val_loss: 143.1073 - val_I_var: 0.3369\n",
      "Epoch 86/1000\n",
      "92/92 [==============================] - 0s 3ms/step - loss: 150.3706 - I_var: 0.3175 - val_loss: 150.6743 - val_I_var: 0.2840\n",
      "Epoch 87/1000\n",
      "92/92 [==============================] - 0s 3ms/step - loss: 153.4700 - I_var: 0.2952 - val_loss: 145.0587 - val_I_var: 0.3231\n",
      "Epoch 88/1000\n",
      "92/92 [==============================] - 0s 3ms/step - loss: 148.9405 - I_var: 0.3222 - val_loss: 149.3053 - val_I_var: 0.2929\n",
      "Epoch 89/1000\n",
      "92/92 [==============================] - 0s 4ms/step - loss: 156.3374 - I_var: 0.2612 - val_loss: 149.5546 - val_I_var: 0.2922\n",
      "Epoch 90/1000\n",
      "92/92 [==============================] - 0s 4ms/step - loss: 153.2583 - I_var: 0.3012 - val_loss: 145.8073 - val_I_var: 0.3180\n",
      "Epoch 91/1000\n",
      "92/92 [==============================] - 0s 3ms/step - loss: 150.0633 - I_var: 0.3158 - val_loss: 146.8865 - val_I_var: 0.3096\n",
      "Epoch 92/1000\n",
      "92/92 [==============================] - 0s 3ms/step - loss: 151.0621 - I_var: 0.3274 - val_loss: 143.8510 - val_I_var: 0.3318\n",
      "Epoch 93/1000\n",
      "92/92 [==============================] - 0s 3ms/step - loss: 150.0239 - I_var: 0.3320 - val_loss: 144.4781 - val_I_var: 0.3274\n",
      "Epoch 94/1000\n",
      "92/92 [==============================] - 0s 3ms/step - loss: 151.7514 - I_var: 0.3052 - val_loss: 146.1021 - val_I_var: 0.3166\n",
      "Epoch 95/1000\n",
      "92/92 [==============================] - 0s 3ms/step - loss: -413.9287 - I_var: 10.2936 - val_loss: -2750.0479 - val_I_var: 20.2639\n",
      "Epoch 96/1000\n",
      "92/92 [==============================] - 0s 3ms/step - loss: -2236.9470 - I_var: 11.1004 - val_loss: 174.7068 - val_I_var: 0.1093\n",
      "Epoch 97/1000\n",
      "92/92 [==============================] - 0s 3ms/step - loss: 183.9854 - I_var: 0.1377 - val_loss: 167.8711 - val_I_var: 0.1605\n",
      "Epoch 98/1000\n",
      "92/92 [==============================] - 0s 4ms/step - loss: 164.7967 - I_var: 0.1721 - val_loss: 160.6931 - val_I_var: 0.2118\n",
      "Epoch 99/1000\n",
      "92/92 [==============================] - 0s 4ms/step - loss: 165.7987 - I_var: 0.1806 - val_loss: 166.9824 - val_I_var: 0.1687\n",
      "Epoch 100/1000\n",
      "92/92 [==============================] - 0s 3ms/step - loss: 164.0301 - I_var: 0.2046 - val_loss: 155.8040 - val_I_var: 0.2473\n",
      "Epoch 101/1000\n",
      "92/92 [==============================] - 0s 4ms/step - loss: 165.1019 - I_var: 0.2089 - val_loss: 158.9692 - val_I_var: 0.2254\n",
      "Epoch 102/1000\n",
      "92/92 [==============================] - 0s 3ms/step - loss: 162.0556 - I_var: 0.2402 - val_loss: 170.7646 - val_I_var: 0.1424\n",
      "Epoch 103/1000\n",
      "92/92 [==============================] - 0s 3ms/step - loss: 155.1369 - I_var: 0.2259 - val_loss: 151.6038 - val_I_var: 0.2771\n",
      "Epoch 104/1000\n",
      "92/92 [==============================] - 0s 3ms/step - loss: 155.5514 - I_var: 0.2650 - val_loss: 153.0738 - val_I_var: 0.2667\n",
      "Epoch 105/1000\n",
      "92/92 [==============================] - 0s 3ms/step - loss: 154.8025 - I_var: 0.2956 - val_loss: 151.6684 - val_I_var: 0.2765\n",
      "Epoch 106/1000\n",
      "92/92 [==============================] - 0s 4ms/step - loss: 158.8839 - I_var: 0.2652 - val_loss: 154.5918 - val_I_var: 0.2562\n",
      "Epoch 107/1000\n",
      "92/92 [==============================] - 0s 4ms/step - loss: 155.6174 - I_var: 0.2582 - val_loss: 153.4357 - val_I_var: 0.2646\n",
      "Epoch 108/1000\n",
      "92/92 [==============================] - 0s 4ms/step - loss: 154.9479 - I_var: 0.2768 - val_loss: 154.9627 - val_I_var: 0.2539\n",
      "Epoch 109/1000\n",
      "92/92 [==============================] - 0s 4ms/step - loss: 154.0146 - I_var: 0.2840 - val_loss: 154.7225 - val_I_var: 0.2557\n",
      "Epoch 110/1000\n",
      "92/92 [==============================] - 0s 4ms/step - loss: 154.8187 - I_var: 0.2781 - val_loss: 152.0495 - val_I_var: 0.2744\n",
      "Epoch 111/1000\n",
      "92/92 [==============================] - 0s 3ms/step - loss: 153.7797 - I_var: 0.2809 - val_loss: 150.8752 - val_I_var: 0.2828\n",
      "Epoch 112/1000\n",
      "92/92 [==============================] - 0s 3ms/step - loss: 152.7838 - I_var: 0.2783 - val_loss: 146.9555 - val_I_var: 0.3094\n",
      "Epoch 113/1000\n",
      "92/92 [==============================] - 0s 3ms/step - loss: 151.5686 - I_var: 0.2720 - val_loss: 147.8302 - val_I_var: 0.3039\n",
      "Epoch 114/1000\n",
      "92/92 [==============================] - 0s 3ms/step - loss: 151.3264 - I_var: 0.2821 - val_loss: 152.5429 - val_I_var: 0.2711\n",
      "Epoch 115/1000\n",
      "92/92 [==============================] - 0s 3ms/step - loss: 150.5177 - I_var: 0.3107 - val_loss: 150.9601 - val_I_var: 0.2820\n",
      "Epoch 116/1000\n",
      "92/92 [==============================] - 0s 3ms/step - loss: 150.4370 - I_var: 0.2953 - val_loss: 152.8650 - val_I_var: 0.2688\n",
      "Epoch 117/1000\n"
     ]
    },
    {
     "name": "stdout",
     "output_type": "stream",
     "text": [
      "92/92 [==============================] - 0s 3ms/step - loss: 150.1821 - I_var: 0.2916 - val_loss: 146.1662 - val_I_var: 0.3161\n",
      "Epoch 118/1000\n",
      "92/92 [==============================] - 0s 3ms/step - loss: 144.4650 - I_var: 0.3453 - val_loss: 147.4435 - val_I_var: 0.3072\n",
      "Epoch 119/1000\n",
      "92/92 [==============================] - 0s 3ms/step - loss: 153.1852 - I_var: 0.3015 - val_loss: 155.4622 - val_I_var: 0.2501\n",
      "Epoch 120/1000\n",
      "92/92 [==============================] - 0s 4ms/step - loss: 153.2942 - I_var: 0.2860 - val_loss: 150.4164 - val_I_var: 0.2853\n",
      "Epoch 121/1000\n",
      "92/92 [==============================] - 0s 4ms/step - loss: 152.5936 - I_var: 0.2751 - val_loss: 145.1523 - val_I_var: 0.3228\n",
      "Epoch 122/1000\n",
      "92/92 [==============================] - 0s 4ms/step - loss: 147.8462 - I_var: 0.2961 - val_loss: 145.8041 - val_I_var: 0.3184\n",
      "Epoch 123/1000\n",
      "92/92 [==============================] - 0s 4ms/step - loss: 150.1015 - I_var: 0.2978 - val_loss: 145.4181 - val_I_var: 0.3199\n",
      "Epoch 124/1000\n",
      "92/92 [==============================] - 0s 3ms/step - loss: 155.5213 - I_var: 0.2608 - val_loss: 156.3926 - val_I_var: 0.2443\n",
      "Epoch 125/1000\n",
      "92/92 [==============================] - 0s 3ms/step - loss: 152.2794 - I_var: 0.2891 - val_loss: 152.0321 - val_I_var: 0.2748\n",
      "Training time: 43.8 seconds\n"
     ]
    },
    {
     "data": {
      "text/plain": [
       "<tensorflow.python.keras.callbacks.History at 0x7ff1a65b32e8>"
      ]
     },
     "execution_count": 5,
     "metadata": {},
     "output_type": "execute_result"
    }
   ],
   "source": [
    "# Fit model to data\n",
    "model.fit(learning_rate=.001,\n",
    "          epochs=1000,\n",
    "          batch_size=200,\n",
    "          early_stopping=True,\n",
    "          early_stopping_patience=30,\n",
    "          linear_initialization=False)"
   ]
  },
  {
   "cell_type": "code",
   "execution_count": 6,
   "metadata": {
    "ExecuteTime": {
     "end_time": "2020-11-17T18:21:43.716729Z",
     "start_time": "2020-11-17T18:21:43.685450Z"
    }
   },
   "outputs": [
    {
     "name": "stdout",
     "output_type": "stream",
     "text": [
      "Model saved to these files:\n",
      "\tmpsa_ge_neighbor.pickle\n",
      "\tmpsa_ge_neighbor.h5\n"
     ]
    }
   ],
   "source": [
    "# Save model\n",
    "model.save('mpsa_ge_neighbor')"
   ]
  },
  {
   "cell_type": "code",
   "execution_count": 7,
   "metadata": {
    "ExecuteTime": {
     "end_time": "2020-11-17T18:21:44.019575Z",
     "start_time": "2020-11-17T18:21:43.721686Z"
    },
    "scrolled": true
   },
   "outputs": [
    {
     "name": "stdout",
     "output_type": "stream",
     "text": [
      "Model loaded from these files:\n",
      "\tmpsa_ge_neighbor.pickle\n",
      "\tmpsa_ge_neighbor.h5\n"
     ]
    }
   ],
   "source": [
    "# Load model\n",
    "model = mavenn.load('mpsa_ge_neighbor')"
   ]
  },
  {
   "cell_type": "code",
   "execution_count": 8,
   "metadata": {
    "ExecuteTime": {
     "end_time": "2020-11-17T18:21:44.033309Z",
     "start_time": "2020-11-17T18:21:44.022974Z"
    },
    "collapsed": true
   },
   "outputs": [],
   "source": [
    "# Get x and y\n",
    "x_test = test_df['x'].values\n",
    "y_test = test_df['y'].values"
   ]
  },
  {
   "cell_type": "code",
   "execution_count": 9,
   "metadata": {
    "ExecuteTime": {
     "end_time": "2020-11-17T18:21:45.036716Z",
     "start_time": "2020-11-17T18:21:44.035601Z"
    }
   },
   "outputs": [
    {
     "name": "stdout",
     "output_type": "stream",
     "text": [
      "On test data:\n",
      "I_var_test: 0.297 +- 0.041 bits\n",
      "I_pred_test: 0.347 +- 0.014 bits\n"
     ]
    },
    {
     "data": {
      "image/png": "[encoded data removed]",
      "text/plain": [
       "<Figure size 288x288 with 1 Axes>"
      ]
     },
     "metadata": {
      "needs_background": "light"
     },
     "output_type": "display_data"
    }
   ],
   "source": [
    "# Show training history\n",
    "print('On test data:')\n",
    "\n",
    "# Compute variational information\n",
    "I_var, dI_var =  model.I_variational(x=x_test, y=y_test)\n",
    "print(f'I_var_test: {I_var:.3f} +- {dI_var:.3f} bits') \n",
    "\n",
    "# Compute predictive information\n",
    "I_pred, dI_pred = model.I_predictive(x=x_test, y=y_test)\n",
    "print(f'I_pred_test: {I_pred:.3f} +- {dI_pred:.3f} bits')\n",
    "\n",
    "I_var_hist = model.history['I_var']\n",
    "val_I_var_hist = model.history['val_I_var']\n",
    "\n",
    "fig, ax = plt.subplots(1,1,figsize=[4,4])\n",
    "ax.plot(I_var_hist, label='I_var_train')\n",
    "ax.plot(val_I_var_hist, label='I_var_val')\n",
    "ax.axhline(I_var, color='C2', linestyle=':', label='I_var_test')\n",
    "ax.axhline(I_pred, color='C3', linestyle=':', label='I_pred_test')\n",
    "ax.legend()\n",
    "ax.set_xlabel('epochs')\n",
    "ax.set_ylabel('bits')\n",
    "ax.set_title('training hisotry')\n",
    "ax.set_ylim([0, I_pred*1.2]);"
   ]
  },
  {
   "cell_type": "code",
   "execution_count": 10,
   "metadata": {
    "ExecuteTime": {
     "end_time": "2020-11-17T18:21:46.256783Z",
     "start_time": "2020-11-17T18:21:45.041158Z"
    }
   },
   "outputs": [
    {
     "data": {
      "image/png": "[encoded data removed]",
      "text/plain": [
       "<Figure size 288x288 with 1 Axes>"
      ]
     },
     "metadata": {
      "needs_background": "light"
     },
     "output_type": "display_data"
    }
   ],
   "source": [
    "# Predict latent phentoype values (phi) on test data\n",
    "phi_test = model.x_to_phi(x_test)\n",
    "\n",
    "# Predict measurement values (yhat) on test data\n",
    "yhat_test = model.x_to_yhat(x_test)\n",
    "\n",
    "# Set phi lims and create grid in phi space\n",
    "phi_lim = [min(phi_test)-.5, max(phi_test)+.5]\n",
    "phi_grid = np.linspace(phi_lim[0], phi_lim[1], 1000)\n",
    "\n",
    "# Compute yhat each phi gridpoint\n",
    "yhat_grid = model.phi_to_yhat(phi_grid)\n",
    "\n",
    "# Compute 90% CI for each yhat\n",
    "q = [0.05, 0.95] #[0.16, 0.84]\n",
    "yqs_grid = model.yhat_to_yq(yhat_grid, q=q)\n",
    "\n",
    "# Create figure\n",
    "fig, ax = plt.subplots(1, 1, figsize=[4, 4])\n",
    "\n",
    "# Illustrate measurement process with GE curve\n",
    "ax.scatter(phi_test, y_test, color='C0', s=5, alpha=.2, label='test data')\n",
    "ax.plot(phi_grid, yhat_grid, linewidth=2, color='C1',\n",
    "        label='$\\hat{y} = g(\\phi)$')\n",
    "ax.plot(phi_grid, yqs_grid[:, 0], linestyle='--', color='C1', label='68% CI')\n",
    "ax.plot(phi_grid, yqs_grid[:, 1], linestyle='--', color='C1')\n",
    "ax.set_xlim(phi_lim)\n",
    "ax.set_xlabel('latent phenotype ($\\phi$)')\n",
    "ax.set_ylabel('measurement ($y$)')\n",
    "ax.set_title('measurement process')\n",
    "ax.legend()\n",
    "\n",
    "# Fix up plot\n",
    "fig.tight_layout()\n",
    "plt.show()"
   ]
  },
  {
   "cell_type": "code",
   "execution_count": null,
   "metadata": {
    "collapsed": true
   },
   "outputs": [],
   "source": []
  }
 ],
 "metadata": {
  "kernelspec": {
   "display_name": "Python 3",
   "language": "python",
   "name": "python3"
  },
  "language_info": {
   "codemirror_mode": {
    "name": "ipython",
    "version": 3
   },
   "file_extension": ".py",
   "mimetype": "text/x-python",
   "name": "python",
   "nbconvert_exporter": "python",
   "pygments_lexer": "ipython3",
   "version": "3.6.7"
  },
  "toc": {
   "base_numbering": 1,
   "nav_menu": {},
   "number_sections": true,
   "sideBar": true,
   "skip_h1_title": false,
   "title_cell": "Table of Contents",
   "title_sidebar": "Contents",
   "toc_cell": false,
   "toc_position": {},
   "toc_section_display": true,
   "toc_window_display": false
  },
  "varInspector": {
   "cols": {
    "lenName": 16,
    "lenType": 16,
    "lenVar": 40
   },
   "kernels_config": {
    "python": {
     "delete_cmd_postfix": "",
     "delete_cmd_prefix": "del ",
     "library": "var_list.py",
     "varRefreshCmd": "print(var_dic_list())"
    },
    "r": {
     "delete_cmd_postfix": ") ",
     "delete_cmd_prefix": "rm(",
     "library": "var_list.r",
     "varRefreshCmd": "cat(var_dic_list()) "
    }
   },
   "types_to_exclude": [
    "module",
    "function",
    "builtin_function_or_method",
    "instance",
    "_Feature"
   ],
   "window_display": false
  }
 },
 "nbformat": 4,
 "nbformat_minor": 2
}
