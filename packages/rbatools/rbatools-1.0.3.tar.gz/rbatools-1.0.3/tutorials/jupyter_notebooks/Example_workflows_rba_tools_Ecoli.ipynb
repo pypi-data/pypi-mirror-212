{
 "cells": [
  {
   "cell_type": "markdown",
   "metadata": {},
   "source": [
    "# Example notebook rbatools -- E.coli\n",
    "\n",
    "Here we exemplify rbatools with the existing RBA-model of E.coli (https://www.sciencedirect.com/science/article/abs/pii/S1096717619300710?via%3Dihub).\n",
    "\n",
    "Please take into account, that the E.coli model takes significantly longer to execute, compared to the B.subtilis model. For speed purposes you might consider using the notebook \"Example_workflows_rba_tools\" instead of this one.\n",
    "\n",
    "For further information on rba, please consider our website: https://rba.inrae.fr "
   ]
  },
  {
   "cell_type": "code",
   "execution_count": null,
   "metadata": {},
   "outputs": [],
   "source": [
    "# doing necessary imports:\n",
    "\n",
    "import matplotlib as mpl\n",
    "import matplotlib.pyplot as plt\n",
    "import seaborn\n",
    "import pandas\n",
    "import numpy\n",
    "import rba\n",
    "\n",
    "from ipywidgets import IntProgress\n",
    "from IPython.display import display\n",
    "\n",
    "from rbatools.rba_session import SessionRBA\n"
   ]
  },
  {
   "cell_type": "markdown",
   "metadata": {},
   "source": [
    "# General instructions on this notebook"
   ]
  },
  {
   "cell_type": "markdown",
   "metadata": {},
   "source": [
    "## Starting of session\n",
    "Here we initiate an rbatools.rba_session.SessionRBA with a model of E.coli. Variable 'model_filename' specifies where the RBA model is located and should be changed by the user. \n",
    "\n",
    "Upon initiation of session explicit exchange reactions for external metabolites are added, to facilitate conveinient acces to metabolite exchange rates.\n",
    "\n",
    "#### 'Bacterial-RBA-models' directory with different bacterial RBA models can be obtained from: https://github.com/SysBioInra/Bacterial-RBA-models\n",
    "\n",
    "#### --> Relevant rbatools.rba_ression.SessionRBA methods on used here, are '__init__' and 'add_exchange_reactions'."
   ]
  },
  {
   "cell_type": "code",
   "execution_count": null,
   "metadata": {},
   "outputs": [],
   "source": [
    "print(SessionRBA.__doc__)"
   ]
  },
  {
   "cell_type": "code",
   "execution_count": null,
   "metadata": {},
   "outputs": [],
   "source": [
    "print(SessionRBA.__init__.__doc__)"
   ]
  },
  {
   "cell_type": "code",
   "execution_count": null,
   "metadata": {},
   "outputs": [],
   "source": [
    "print(SessionRBA.add_exchange_reactions.__doc__)"
   ]
  },
  {
   "cell_type": "code",
   "execution_count": null,
   "metadata": {},
   "outputs": [],
   "source": [
    "model_filename = '../../../Bacterial-RBA-models/Escherichia-coli-K12-WT'\n",
    "# initiate RBA-session with cplex as lp solver. If cplex is not available glpk can be used as lp solver.\n",
    "#However glpk is significantly slower\n",
    "Simulation = SessionRBA(model_filename,lp_solver=\"cplex\")\n",
    "#Simulation = SessionRBA(model_filename,lp_solver=\"swiglpk\")\n",
    "Simulation.add_exchange_reactions()"
   ]
  },
  {
   "cell_type": "markdown",
   "metadata": {},
   "source": [
    "## Simulation-results handling\n",
    "Here we perform simple simulation runs and record the corresponding set of parameters and results.\n",
    "After we have performed all desired simulations (and did the corresponding recordings) we write them to Simulation results object. From those objects the results and parameters can be exported into various formats.\n",
    "#### --> Relevant rbatools.rba_session.SessionRBA methods used here, are 'find_max_growth_rate', 'record_results', 'record_parameters' and 'write_results'."
   ]
  },
  {
   "cell_type": "code",
   "execution_count": null,
   "metadata": {},
   "outputs": [],
   "source": [
    "print(Simulation.find_max_growth_rate.__doc__)"
   ]
  },
  {
   "cell_type": "code",
   "execution_count": null,
   "metadata": {},
   "outputs": [],
   "source": [
    "print(Simulation.record_results.__doc__)"
   ]
  },
  {
   "cell_type": "code",
   "execution_count": null,
   "metadata": {},
   "outputs": [],
   "source": [
    "print(Simulation.record_parameters.__doc__)"
   ]
  },
  {
   "cell_type": "code",
   "execution_count": null,
   "metadata": {},
   "outputs": [],
   "source": [
    "print(Simulation.write_results.__doc__)"
   ]
  },
  {
   "cell_type": "code",
   "execution_count": null,
   "metadata": {},
   "outputs": [],
   "source": [
    "Simulation.find_max_growth_rate()\n",
    "Simulation.record_results(run_name=\"TestRun_1\")\n",
    "Simulation.record_parameters(run_name=\"TestRun_1\")\n",
    "\n",
    "Simulation.find_max_growth_rate()\n",
    "Simulation.record_results(run_name=\"TestRun_2\")\n",
    "Simulation.record_parameters(run_name=\"TestRun_2\")"
   ]
  },
  {
   "cell_type": "code",
   "execution_count": null,
   "metadata": {},
   "outputs": [],
   "source": [
    "Simulation.write_results(session_name=\"TestSession\")"
   ]
  },
  {
   "cell_type": "markdown",
   "metadata": {},
   "source": [
    "## Simulation-results export\n",
    "Here we export results and parameters into various formats, from the previously written data.\n",
    "#### --> Relevant rbatools.rba_SimulationData.RBA_SimulationData methods used here, are 'export_sbtab', 'export_csv', 'export_escher_map' and 'export_proteo_map'."
   ]
  },
  {
   "cell_type": "code",
   "execution_count": null,
   "metadata": {},
   "outputs": [],
   "source": [
    "print(Simulation.SimulationData.export_sbtab.__doc__)"
   ]
  },
  {
   "cell_type": "code",
   "execution_count": null,
   "metadata": {},
   "outputs": [],
   "source": [
    "print(Simulation.SimulationData.export_csv.__doc__)"
   ]
  },
  {
   "cell_type": "code",
   "execution_count": null,
   "metadata": {},
   "outputs": [],
   "source": [
    "print(Simulation.SimulationData.export_escher_map.__doc__)"
   ]
  },
  {
   "cell_type": "code",
   "execution_count": null,
   "metadata": {},
   "outputs": [],
   "source": [
    "print(Simulation.SimulationData.export_proteo_map.__doc__)"
   ]
  },
  {
   "cell_type": "code",
   "execution_count": null,
   "metadata": {},
   "outputs": [],
   "source": [
    "Simulation.SimulationData.export_sbtab(filename=\"../../../Test_SimulationResults_SBtab_Ecoli\")\n",
    "Simulation.SimulationData.export_csv(output_directory=\"../../../\")\n",
    "Simulation.SimulationData.export_escher_map(type=\"fluxes\",output_directory=\"../../../\")\n",
    "Simulation.SimulationData.export_escher_map(type=\"investment\",output_directory=\"../../../\")\n",
    "Simulation.SimulationData.export_proteo_map(type='genes',output_directory=\"../../../\")\n",
    "Simulation.SimulationData.export_proteo_map(type='isoforms',output_directory=\"../../../\")"
   ]
  },
  {
   "cell_type": "code",
   "execution_count": null,
   "metadata": {},
   "outputs": [],
   "source": [
    "print(Simulation.SimulationParameters.export_sbtab.__doc__)"
   ]
  },
  {
   "cell_type": "code",
   "execution_count": null,
   "metadata": {},
   "outputs": [],
   "source": [
    "Simulation.SimulationParameters.export_sbtab(filename=\"../../../Test_SimulationParameters_SBtab_Ecoli\")"
   ]
  },
  {
   "cell_type": "markdown",
   "metadata": {},
   "source": [
    "## Glucose screen\n",
    "Here we iterate through a predefined list of glucose concentrations (glcs) and determine the corresponding maximum growth-rates and optimal configuration of exchange fluxes. Maximum growth-rate vs. glucose results in  a Monod curve\n",
    "#### --> Relevant rbatools.rba_session.SessionRBA methods used here, are 'set_medium', 'find_max_growth_rate' and 'return_exchange_fluxes'."
   ]
  },
  {
   "cell_type": "code",
   "execution_count": null,
   "metadata": {},
   "outputs": [],
   "source": [
    "print(Simulation.reload_model.__doc__)"
   ]
  },
  {
   "cell_type": "code",
   "execution_count": null,
   "metadata": {},
   "outputs": [],
   "source": [
    "print(Simulation.set_medium.__doc__)"
   ]
  },
  {
   "cell_type": "code",
   "execution_count": null,
   "metadata": {},
   "outputs": [],
   "source": [
    "print(Simulation.find_max_growth_rate.__doc__)"
   ]
  },
  {
   "cell_type": "code",
   "execution_count": null,
   "metadata": {},
   "outputs": [],
   "source": [
    "print(Simulation.return_exchange_fluxes.__doc__)"
   ]
  },
  {
   "cell_type": "code",
   "execution_count": null,
   "metadata": {},
   "outputs": [],
   "source": [
    "Simulation.reload_model()\n",
    "\n",
    "glcs=[0.005+(i*0.0075) for i in range(9)]\n",
    "Results_glc_screen={\"Mu\":[],\"M_glc__D\":[],\"M_o2\":[],\"M_ac\":[]}\n",
    "f = IntProgress(min=0, max=len(glcs))\n",
    "display(f)\n",
    "for glc_conc in glcs:\n",
    "    f.value += 1    \n",
    "    Simulation.set_medium({'M_glc__D':glc_conc})\n",
    "    mumax=Simulation.find_max_growth_rate(max=1.0,feasible_stati=[\"optimal\",\"feasible\",\"feasible_only_before_unscaling\"],try_unscaling_if_sol_status_is_feasible_only_before_unscaling=False)\n",
    "    J_ex=Simulation.return_exchange_fluxes()\n",
    "    for i in Results_glc_screen.keys():\n",
    "        if i ==\"Mu\":\n",
    "            Results_glc_screen[\"Mu\"].append(mumax)\n",
    "        else:\n",
    "            if i in J_ex.keys():\n",
    "                Results_glc_screen[i].append(J_ex[i])\n",
    "            else:\n",
    "                Results_glc_screen[i].append(0)"
   ]
  },
  {
   "cell_type": "code",
   "execution_count": null,
   "metadata": {},
   "outputs": [],
   "source": [
    "fig = plt.figure(figsize=(8,4))\n",
    "ax = fig.add_subplot(111)\n",
    "ax.plot(glcs,Results_glc_screen[\"Mu\"],linewidth=5,alpha=0.6,color=\"dimgray\")\n",
    "ax.legend([\"Monod curve\"],loc=\"upper left\",fontsize=12,frameon=False)\n",
    "ax.plot(glcs,Results_glc_screen[\"Mu\"],linewidth=13,alpha=0.6,color=\"gainsboro\")\n",
    "ax.plot(glcs,Results_glc_screen[\"Mu\"],linewidth=10,alpha=0.6,color=\"lightgray\")\n",
    "ax.plot(glcs,Results_glc_screen[\"Mu\"],linewidth=7,alpha=0.6,color=\"silver\")\n",
    "ax.plot(glcs,Results_glc_screen[\"Mu\"],linewidth=5,alpha=0.6,color=\"gray\")\n",
    "ax.plot(glcs,Results_glc_screen[\"Mu\"],linewidth=2,alpha=0.6,color=\"dimgray\")\n",
    "ax.plot(glcs,Results_glc_screen[\"Mu\"],linewidth=1,alpha=0.6,color=\"black\")\n",
    "ax2=ax.twinx()\n",
    "ax2.plot(glcs,[i for i in Results_glc_screen[\"M_ac\"]],linewidth=2,color=\"mediumseagreen\",alpha=0.9)\n",
    "ax2.plot(glcs,[-i for i in Results_glc_screen[\"M_o2\"]],linewidth=2,color=\"indianred\",alpha=0.9,linestyle=(0, (1, 1)))\n",
    "ax2.plot(glcs,[-i for i in Results_glc_screen[\"M_glc__D\"]],linewidth=2,color=\"steelblue\",alpha=0.9,linestyle=(0, (3, 1, 1, 1)))\n",
    "\n",
    "ax2.legend([\"$Acetate$ excretion\",\"$O_2$ uptake\",\"$Glucose$ uptake\"],loc=\"lower right\",fontsize=12,frameon=False)\n",
    "\n",
    "ax.set_title(\"Glucose dependent growth-rate and exchange fluxes\",fontsize=15)\n",
    "ax.set_xlabel(\"Glucose concentration (mM)\",fontsize=12)\n",
    "#ax.set_ylim(-0.01,0.79)\n",
    "#ax.set_xlim(0.0,0.1)\n",
    "ax.tick_params(axis='y', labelcolor=\"dimgrey\")\n",
    "ax2.tick_params(axis='y', labelcolor=\"black\")\n",
    "ax.set_ylabel(\"Growth rate ($h^{-1}$)\",color=\"dimgrey\",fontsize=12)\n",
    "ax2.set_ylabel('Exchange fluxes ($\\\\frac{mmol}{h \\\\times g_{DW}}$)',color=\"black\",fontsize=12)\n",
    "#ax2.set_ylim(-0.2,15.6)\n",
    "plt.tight_layout()\n",
    "plt.show()\n",
    "\n"
   ]
  },
  {
   "cell_type": "markdown",
   "metadata": {},
   "source": [
    "## Variability Analysis on substrate exchange fluxes\n",
    "Here we iterate through a predefined list of growth rates (between 0 and the maximum wild-type growth rate) and determine the corresponding feasible ranges of glucose- and oxygen uptake. \n",
    "#### --> Relevant rbatools.rba_session.SessionRBA methods used here, are 'set_medium', 'set_growth_rate' and 'get_feasible_range'."
   ]
  },
  {
   "cell_type": "code",
   "execution_count": null,
   "metadata": {},
   "outputs": [],
   "source": [
    "print(Simulation.get_feasible_range.__doc__)"
   ]
  },
  {
   "cell_type": "code",
   "execution_count": null,
   "metadata": {},
   "outputs": [],
   "source": [
    "Simulation.reload_model()\n",
    "\n",
    "Simulation.set_medium({'M_glc__D':0.02})\n",
    "mumax=Simulation.find_max_growth_rate()\n",
    "Mus=[mumax*i for i in [0.001,0.1,0.2,0.3,0.4,0.5,0.6,0.7,0.8,0.9,0.95,0.975,0.99,0.995,0.9975,1]]\n",
    "Reactions_to_check=[\"R_EX_glc__D_e\",\"R_EX_o2_e\"]\n",
    "Feasible_Ranges=dict(zip(Reactions_to_check,[{\"Minima\":[],\"Maxima\":[]},{\"Minima\":[],\"Maxima\":[]},{\"Minima\":[],\"Maxima\":[]}]))\n",
    "f = IntProgress(min=0, max=len(Mus))\n",
    "display(f)\n",
    "for mu in Mus:\n",
    "    f.value += 1    \n",
    "    Simulation.set_growth_rate(mu)\n",
    "    Feasible_range=Simulation.get_feasible_range(variables=Reactions_to_check)\n",
    "    for rxn in Reactions_to_check:\n",
    "        Feasible_Ranges[rxn][\"Minima\"].append(Feasible_range[rxn]['Min'])\n",
    "        Feasible_Ranges[rxn][\"Maxima\"].append(Feasible_range[rxn]['Max'])"
   ]
  },
  {
   "cell_type": "code",
   "execution_count": null,
   "metadata": {},
   "outputs": [],
   "source": [
    "fig=plt.figure(figsize=(8,4))\n",
    "\n",
    "ax = fig.add_subplot(111)\n",
    "\n",
    "ax.fill_between(x=Mus,y1=Feasible_Ranges[\"R_EX_glc__D_e\"][\"Minima\"],y2=Feasible_Ranges[\"R_EX_glc__D_e\"][\"Maxima\"],interpolate=True,color='steelblue',alpha=0.25)\n",
    "ax.plot(Mus,Feasible_Ranges[\"R_EX_glc__D_e\"][\"Minima\"],color='steelblue',alpha=0.9,linewidth=2,linestyle=(0, (3, 1, 1, 1)))\n",
    "ax.plot(Mus,Feasible_Ranges[\"R_EX_glc__D_e\"][\"Maxima\"],color='steelblue',alpha=0.9,linewidth=2,linestyle=(0, (3, 1, 1, 1)))\n",
    "ax2=ax.twinx()\n",
    "ax2.fill_between(x=Mus,y1=Feasible_Ranges[\"R_EX_o2_e\"][\"Minima\"],y2=Feasible_Ranges[\"R_EX_o2_e\"][\"Maxima\"],interpolate=True,color='indianred',alpha=0.25)\n",
    "ax2.plot(Mus,Feasible_Ranges[\"R_EX_o2_e\"][\"Minima\"],color='indianred',alpha=0.9,linewidth=2,linestyle=(0, (1, 1)))\n",
    "ax2.plot(Mus,Feasible_Ranges[\"R_EX_o2_e\"][\"Maxima\"],color='indianred',alpha=0.9,linewidth=2,linestyle=(0, (1, 1)))\n",
    "\n",
    "ax.tick_params(axis='y', labelcolor=\"royalblue\")\n",
    "ax2.tick_params(axis='y', labelcolor=\"indianred\")\n",
    "#ax.set_ylim(0.5,7.25)\n",
    "#ax.set_yticks([1,2,3,4,5,6,7])\n",
    "#ax.set_xlim(0,0.335)\n",
    "#ax2.set_ylim(1,24)\n",
    "#ax2.set_yticks([5,10,15,20])\n",
    "#ax2.set_xlim(0,0.335)\n",
    "#ax.set_xticks([0.05,0.1,0.15,0.2,0.25,0.3])\n",
    "#ax2.set_xticks([0.05,0.1,0.15,0.2,0.25,0.3])\n",
    "#ax.set_xticklabels([0.05,0.1,0.15,0.2,0.25,0.3])\n",
    "#ax2.set_xticklabels([0.05,0.1,0.15,0.2,0.25,0.3])\n",
    "\n",
    "ax.set_ylabel('$Glucose$ $\\\\frac{mmol}{h \\\\times g_{DW}}$)',fontsize=12,color=\"steelblue\")\n",
    "ax2.set_ylabel('$O_2$ $\\\\frac{mmol}{h \\\\times g_{DW}}$)',fontsize=12,color=\"indianred\")\n",
    "\n",
    "plt.title('Feasible uptake fluxes, over (sub-optimal) growth-rates',fontsize=15)\n",
    "ax.set_xlabel('Growth-rate ($h^{-1}$)',fontsize=12)\n",
    "\n",
    "plt.tight_layout()\n",
    "plt.show()\n"
   ]
  },
  {
   "cell_type": "markdown",
   "metadata": {},
   "source": [
    "## Kapp sampling - global sensitivity analysis\n",
    "Here we sample N global sets of enzyme efficiencies, by drawing multiplicative factors for each enzyme's forward- and backward efficiency form a log-normal distribution (base: e). The wild-type efficiencies are then multiplied with this factor and the maximum growth-rate and corresponding exchange fluxes of glucose, oxygen and acetate are determined. \n",
    "\n",
    "#### --> Relevant rbatools.rba_session.SessionRBA methods used here, are 'add_parameter_multipliers_for_enzyme_efficiencies', 'set_medium' and 'sample_kapp_multipliers'."
   ]
  },
  {
   "cell_type": "code",
   "execution_count": null,
   "metadata": {},
   "outputs": [],
   "source": [
    "print(Simulation.add_parameter_multipliers_for_enzyme_efficiencies.__doc__)"
   ]
  },
  {
   "cell_type": "code",
   "execution_count": null,
   "metadata": {},
   "outputs": [],
   "source": [
    "print(Simulation.sample_kapp_multipliers.__doc__)"
   ]
  },
  {
   "cell_type": "code",
   "execution_count": null,
   "metadata": {},
   "outputs": [],
   "source": [
    "STDEV_SAMPLING=numpy.log(1.1)\n",
    "MEAN_SAMPLING=0\n",
    "\n",
    "fig, ax= plt.subplots(1, 1)\n",
    "ax=plt.hist([numpy.e**j for j in list(numpy.random.normal(loc=MEAN_SAMPLING,scale=STDEV_SAMPLING,size=500000))],200)\n",
    "#plt.xlim(0,6)\n",
    "plt.title(\"Distribution of multiplicative scaling factors\")\n",
    "plt.xlabel(\"(Multiplicative) scaling factor\")\n",
    "plt.ylabel(\"Frequency\")\n",
    "plt.show()"
   ]
  },
  {
   "cell_type": "code",
   "execution_count": null,
   "metadata": {},
   "outputs": [],
   "source": [
    "N_SAMPLES=30\n",
    "\n",
    "Simulation.reload_model()\n",
    "enzymes=Simulation.add_parameter_multipliers_for_enzyme_efficiencies()\n",
    "Simulation.set_medium({'M_glc__D':0.02})\n",
    "\n",
    "KappScreenResults=Simulation.sample_kapp_multipliers(n=N_SAMPLES,mean=MEAN_SAMPLING,stdev=STDEV_SAMPLING,enzymes=enzymes,Variables_to_record=[\"R_EX_glc__D_e\",\"R_EX_ac_e\",\"R_EX_o2_e\"])\n",
    "\n"
   ]
  },
  {
   "cell_type": "code",
   "execution_count": null,
   "metadata": {},
   "outputs": [],
   "source": [
    "df=pandas.DataFrame(KappScreenResults)\n",
    "\n",
    "fig, ax= plt.subplots(4, 1,figsize=(8,8))\n",
    "\n",
    "seaborn.histplot(data=df.loc[(df[\"Mu\"]!=4)&(df[\"Mu\"]!=None)], x=\"Mu\",ax=ax[0],alpha=0.3,color=\"dimgray\", kde=False,line_kws={\"linewidth\":4,\"alpha\":1},bins=19,fill=True)\n",
    "ax[0].legend([\"Growth rate ($h^{-1}$)\"],frameon=False,loc=\"upper right\",fontsize=13)\n",
    "ax[0].set_yticks([])\n",
    "ax[0].set_ylabel(\"\")\n",
    "ax[0].set_xlabel(\"\")\n",
    "\n",
    "seaborn.histplot(data=df.loc[(df[\"R_EX_o2_e\"]!=None)], x=\"R_EX_o2_e\",ax=ax[1],alpha=0.3,color=\"indianred\", kde=False,line_kws={\"linewidth\":4,\"alpha\":1},bins=15,fill=True)\n",
    "ax[1].legend([\"$O_2$ uptake: ($\\\\frac{mmol}{h \\\\times g_{DW}}$)\"],frameon=False,loc=\"upper right\",fontsize=13)\n",
    "ax[1].set_yticks([])\n",
    "ax[1].set_ylabel(\"\")\n",
    "ax[1].set_xlabel(\"\")\n",
    "\n",
    "seaborn.histplot(data=df.loc[(df[\"R_EX_glc__D_e\"]!=None)], x=\"R_EX_glc__D_e\",ax=ax[2],alpha=0.3,color=\"steelblue\", kde=False,line_kws={\"linewidth\":4,\"alpha\":1},bins=20,fill=True)\n",
    "ax[2].legend([\"$Glucose$ uptake: ($\\\\frac{mmol}{h \\\\times g_{DW}}$)\"],frameon=False,loc=\"upper right\",fontsize=13)\n",
    "ax[2].set_yticks([])\n",
    "ax[2].set_ylabel(\"\")\n",
    "ax[2].set_xlabel(\"\")\n",
    "\n",
    "seaborn.histplot(data=-df.loc[(df[\"R_EX_ac_e\"]!=None)], x=\"R_EX_ac_e\",ax=ax[3],alpha=0.3,color=\"mediumseagreen\", kde=False,line_kws={\"linewidth\":4,\"alpha\":1},bins=30,fill=True)\n",
    "ax[3].legend([\"$Acetate$ excretion: ($\\\\frac{mmol}{h \\\\times g_{DW}}$)\"],frameon=False,loc=\"upper right\",fontsize=13)\n",
    "ax[3].set_yticks([])\n",
    "ax[3].set_ylabel(\"\")\n",
    "ax[3].set_xlabel(\"\")\n",
    "\n",
    "ax[0].set_title(\"Cellular state variability from sampled enzyme efficiencies\",fontsize=15)\n",
    "\n",
    "plt.tight_layout()\n",
    "plt.show()\n"
   ]
  },
  {
   "cell_type": "markdown",
   "metadata": {},
   "source": [
    "## Ribosome efficiency sampling\n",
    "Here we screen the impact of modulation of ribosome-capacity on the maximum growth-rate at different glucose concentrations. At each growth rate multiplicative modulators on ribosome-capacity between 0.01 and 100 are applied and the maximum growth-rate is determined.\n",
    "#### --> Relevant rbatools.rba_session.SessionRBA methods used here, are 'add_parameter_multiplier', 'setMedium' and 'screen_multipliers'."
   ]
  },
  {
   "cell_type": "code",
   "execution_count": null,
   "metadata": {},
   "outputs": [],
   "source": [
    "print(Simulation.add_parameter_multiplier.__doc__)"
   ]
  },
  {
   "cell_type": "code",
   "execution_count": null,
   "metadata": {},
   "outputs": [],
   "source": [
    "print(Simulation.screen_multipliers.__doc__)"
   ]
  },
  {
   "cell_type": "code",
   "execution_count": null,
   "metadata": {},
   "outputs": [],
   "source": [
    "Glucose_concentrations=[0.0125,0.025,0.05,0.1,1]\n",
    "\n",
    "Simulation.reload_model()\n",
    "Simulation.add_parameter_multiplier(model_parameter=\"ribosome_capacity\",rebuild_model=True)\n",
    "log_factors=[-2,-1,0,1,2]\n",
    "\n",
    "Results={}\n",
    "f = IntProgress(min=0, max=len(Glucose_concentrations))\n",
    "display(f)\n",
    "for glc_conc in Glucose_concentrations:\n",
    "    f.value += 1    \n",
    "    Simulation.set_medium({'M_glc__D':glc_conc})\n",
    "    screen_results=Simulation.screen_multipliers(parameter=\"ribosome_capacity\",factors=[10**i for i in log_factors])\n",
    "    scaling_factors , growth_rates = [list(i) for i in zip(*screen_results.items())]\n",
    "    Results[glc_conc]={\"Scaling Factors\":scaling_factors,\"Growth_rates\":[i[\"Mu\"] for i in growth_rates]}\n",
    "\n"
   ]
  },
  {
   "cell_type": "code",
   "execution_count": null,
   "metadata": {},
   "outputs": [],
   "source": [
    "color_dict={0.0125:\"lightsteelblue\",0.025:\"orange\",0.05:\"lightsteelblue\",0.1:\"steelblue\",1:\"steelblue\"}\n",
    "alpha_dict={0.0125:0.3,0.025:0.8,0.05:0.7,0.1:0.4,1:1}\n",
    "\n",
    "fig=plt.figure(figsize=(8,4))\n",
    "ax = fig.add_subplot(111)\n",
    "\n",
    "log_scaling_coeffs=[numpy.log10(i) for i in Results[glc_conc][\"Scaling Factors\"]]\n",
    "for glc_conc in reversed(Glucose_concentrations):\n",
    "    if glc_conc in color_dict.keys():\n",
    "        ax.scatter(log_scaling_coeffs,Results[glc_conc][\"Growth_rates\"],color=color_dict[glc_conc],alpha=1,s=50,edgecolor='none')\n",
    "plt.legend([\"$Glucose$ : {} $mM$\".format(glc_conc) for glc_conc in reversed(Glucose_concentrations) if glc_conc in color_dict.keys()],fontsize=12,frameon=False)\n",
    "ax.vlines(x=0,ymin=0,ymax=1.6,linestyles=\"dashed\",color=\"black\",linewidth=1,alpha=0.3)\n",
    "for glc_conc in Glucose_concentrations:\n",
    "    if glc_conc in color_dict.keys():\n",
    "        ax.plot(log_scaling_coeffs,Results[glc_conc][\"Growth_rates\"],color=color_dict[glc_conc],alpha=alpha_dict[glc_conc])\n",
    "for glc_conc in Glucose_concentrations:\n",
    "    #ax.scatter(log_scaling_coeffs,Results[glc_conc][\"Growth_rates\"],color=\"red\",alpha=1,s=55,edgecolor='face')\n",
    "    if glc_conc in color_dict.keys():\n",
    "        ax.scatter([numpy.log10(i) for i in Results[glc_conc][\"Scaling Factors\"]],Results[glc_conc][\"Growth_rates\"],color=color_dict[glc_conc],alpha=alpha_dict[glc_conc],s=50,edgecolor='none')\n",
    "\n",
    "ax.set_title(\"Effect of ribosome capacity modulation on growth-rate\",fontsize=15)\n",
    "ax.set_xlabel(\"Scaling factor ribosome capacity\",fontsize=12)\n",
    "ax.set_ylabel(\"Growth-rate ($h^{-1}$)\",fontsize=12)\n",
    "ax.set_xticks([-2,-1,1,2,0])\n",
    "ax.set_xticklabels([str(\"$10^{\"+str(i)+\"}$\") for i in [-2,-1,1,2]]+[str(1)])\n",
    "#ax.set_ylim(-0.02,1.5)\n",
    "\n",
    "plt.tight_layout()\n",
    "plt.show()\n",
    "\n",
    "\n",
    "\n",
    "\n",
    "\n"
   ]
  },
  {
   "cell_type": "markdown",
   "metadata": {},
   "source": [
    "## Local sensitivity analysis of growth rate vs. ribosome capacity over glucose concentrations\n",
    "Here we perform local sensitivity analysis of maximum growth-rate on ribosome- and glucose-uptake (PTSG-system) efficiency at different glucose concentrations. Local sensitivity is represented as the partial derivative of maximum growth-rate vs. model-parameter values at wild-type. \n",
    "\n",
    "Absolute sensitivity represents the the change in growth-rate per change in parameter value.\n",
    "Scaled sensitivity represents the relative change in growth-rate per relative change in parameter value.\n",
    "#### --> Relevant rbatools.rba_session.SessionRBA methods used here, are 'add_parameter_multiplier', 'setMedium' and 'local_sensitivity'."
   ]
  },
  {
   "cell_type": "code",
   "execution_count": null,
   "metadata": {},
   "outputs": [],
   "source": [
    "print(Simulation.local_sensitivity.__doc__)"
   ]
  },
  {
   "cell_type": "code",
   "execution_count": null,
   "metadata": {},
   "outputs": [],
   "source": [
    "Simulation.reload_model()\n",
    "\n",
    "Glucose_concentrations=[0.0125*(i+1) for i in range(8)]\n",
    "\n",
    "Local_sensitivities={}\n",
    "f = IntProgress(min=0, max=len(Glucose_concentrations))\n",
    "display(f)\n",
    "for glc_conc in Glucose_concentrations:\n",
    "    f.value += 1    \n",
    "    Simulation.set_medium({'M_glc__D':glc_conc})\n",
    "    res=Simulation.local_sensitivity(parameters=[\"ribosome_capacity\"],relative_parameter_difference=0.01)\n",
    "    Local_sensitivities[glc_conc]=res\n",
    "\n",
    "\n"
   ]
  },
  {
   "cell_type": "code",
   "execution_count": null,
   "metadata": {},
   "outputs": [],
   "source": [
    "fig=plt.figure(figsize=(8,4))\n",
    "ax = fig.add_subplot(111)\n",
    "\n",
    "ax.plot([glc_conc for glc_conc in Glucose_concentrations if glc_conc<=1],[Local_sensitivities[glc_conc].loc[\"ribosome_capacity\",\"Scaled_Sensitivity\"] for glc_conc in Glucose_concentrations if glc_conc<=1],\n",
    "                color=\"indianred\",\n",
    "                linewidth=2,\n",
    "                linestyle=\"dashed\")\n",
    "ax.scatter([glc_conc for glc_conc in Glucose_concentrations if glc_conc<=1],[Local_sensitivities[glc_conc].loc[\"ribosome_capacity\",\"Scaled_Sensitivity\"] for glc_conc in Glucose_concentrations if glc_conc<=1],\n",
    "                color=\"indianred\")\n",
    "ax2=ax.twinx()\n",
    "ax2.plot([glc_conc for glc_conc in Glucose_concentrations if glc_conc<=1],[Local_sensitivities[glc_conc].loc[\"ribosome_capacity\",\"Absolute_Sensitivity\"] for glc_conc in Glucose_concentrations if glc_conc<=1],\n",
    "                color=\"steelblue\",\n",
    "                linewidth=2,\n",
    "                linestyle=\"dashed\")\n",
    "ax2.scatter([glc_conc for glc_conc in Glucose_concentrations if glc_conc<=1],[Local_sensitivities[glc_conc].loc[\"ribosome_capacity\",\"Absolute_Sensitivity\"] for glc_conc in Glucose_concentrations if glc_conc<=1],\n",
    "                color=\"steelblue\")\n",
    "\n",
    "ax.set_title(\"Local sensitivities ribosome_capacity at $WT$ capacity\")\n",
    "ax.set_xlabel(\"Glucose concentration ($mM$)\", labelpad=0.1)\n",
    "ax.set_ylabel(\"Scaled sensitivity\",color=\"indianred\")\n",
    "ax2.set_ylabel('Absolute sensitivity',color=\"steelblue\")\n",
    "\n",
    "#ax.set_xlim(0,0.065)\n",
    "#ax2.set_xlim(0,0.065)\n",
    "plt.show()\n"
   ]
  }
 ],
 "metadata": {
  "kernelspec": {
   "display_name": "Python 3",
   "language": "python",
   "name": "python3"
  },
  "language_info": {
   "codemirror_mode": {
    "name": "ipython",
    "version": 3
   },
   "file_extension": ".py",
   "mimetype": "text/x-python",
   "name": "python",
   "nbconvert_exporter": "python",
   "pygments_lexer": "ipython3",
   "version": "3.6.5"
  }
 },
 "nbformat": 4,
 "nbformat_minor": 2
}
