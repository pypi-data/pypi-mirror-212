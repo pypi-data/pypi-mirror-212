{
 "cells": [
  {
   "cell_type": "markdown",
   "metadata": {},
   "source": [
    "# Tutorial on adding custom constraint to RBA-problem\n",
    "\n",
    "### In this tutorial we show how to extend an RBA-problem with a user-defined constraint, imposing a specific relationship between model-variables and analyse its effect on predicted states.\n",
    "\n",
    "Metabolic regimes of respiration and fermentation are characterised by specific ratios between metabolised glucose and oxygen. With increasing use of fermentation pathways the ratio of metabolised glucose per oxygen increases. In order to assess the effect of several imposed ratios on phenotype, different ratios are imposed and the phenotypes at different glucose concentrations in the medium are predicted.\n",
    "\n",
    "#### The main objective of this tutorial is not to ask or answer a biological question. Instead we want to show and exemplify how to manipulate the RBA-problem with different built-in methods of rbatools."
   ]
  },
  {
   "cell_type": "code",
   "execution_count": null,
   "metadata": {},
   "outputs": [],
   "source": [
    "import matplotlib.pyplot as plt\n",
    "import numpy\n",
    "\n",
    "from rbatools.rba_session import SessionRBA\n",
    "from rbatools.rba_problem_matrix import ProblemMatrix\n",
    "from sample_models import sample_model_loader\n",
    "from scipy.sparse import coo_matrix"
   ]
  },
  {
   "cell_type": "markdown",
   "metadata": {},
   "source": [
    "## Load model"
   ]
  },
  {
   "cell_type": "code",
   "execution_count": null,
   "metadata": {},
   "outputs": [],
   "source": [
    "#model_filename = '../../../Bacterial-RBA-models/Bacillus-subtilis-168-WT' #if you have cloned the Bacterial-RBA-models repo\n",
    "model_filename = sample_model_loader.get_sample_model(model='Bacillus-subtilis-168-WT') #use included sample model\n",
    "\n",
    "Simulation = SessionRBA(xml_dir=model_filename, lp_solver=\"swiglpk\")# swiglpk or cplex\n"
   ]
  },
  {
   "cell_type": "markdown",
   "metadata": {},
   "source": [
    "## Define functions for glucose screen and plotting"
   ]
  },
  {
   "cell_type": "code",
   "execution_count": null,
   "metadata": {},
   "outputs": [],
   "source": [
    "def run_glucose_screen(Simulation,glcs):\n",
    "    Results_glc_screen = {\"Mu\":[],\"M_glc\":[],\"M_o2\":[],\"M_ac\":[]} # generate empty structure to store results of interest\n",
    "    for glc_conc in glcs: # iterate through all generated glucose concentrations\n",
    "        Simulation.set_medium({'M_glc':glc_conc}) #set glucose concnetration to respective value\n",
    "        #determine growth-optimal state and maximum growth-rate:\n",
    "        mumax = Simulation.find_max_growth_rate()\n",
    "        if mumax!=0:\n",
    "            J_ex = Simulation.return_exchange_fluxes() # obtain corresponding exchange-fluxes\n",
    "            # write growth-rate and exchanges for glucose, oxygen and acetate to storing structure:\n",
    "            for i in Results_glc_screen.keys():\n",
    "                if i == \"Mu\":\n",
    "                    Results_glc_screen[\"Mu\"].append(mumax)\n",
    "                else:\n",
    "                    if i in J_ex.keys():\n",
    "                        Results_glc_screen[i].append(J_ex[i])\n",
    "                    else:\n",
    "                        Results_glc_screen[i].append(0)\n",
    "        else:\n",
    "            for i in Results_glc_screen.keys():\n",
    "                if i == \"Mu\":\n",
    "                    Results_glc_screen[\"Mu\"].append(numpy.nan)\n",
    "                else:\n",
    "                    Results_glc_screen[i].append(numpy.nan)\n",
    "\n",
    "    return(Results_glc_screen)\n"
   ]
  },
  {
   "cell_type": "code",
   "execution_count": null,
   "metadata": {},
   "outputs": [],
   "source": [
    "def plot_glc_screen_results(glcs,Results_glc_screen):\n",
    "    fig = plt.figure(figsize=(8,4))\n",
    "    ax = fig.add_subplot(111)\n",
    "    ax.plot(glcs, Results_glc_screen[\"Mu\"], linewidth=5, alpha=0.6, color=\"dimgray\")\n",
    "    ax.legend([\"Monod curve\"], loc=\"upper left\", fontsize=12, frameon=False)\n",
    "    ax.plot(glcs, Results_glc_screen[\"Mu\"], linewidth=13, alpha=0.6, color=\"gainsboro\")\n",
    "    ax.plot(glcs, Results_glc_screen[\"Mu\"], linewidth=10, alpha=0.6, color=\"lightgray\")\n",
    "    ax.plot(glcs, Results_glc_screen[\"Mu\"], linewidth=7, alpha=0.6, color=\"silver\")\n",
    "    ax.plot(glcs, Results_glc_screen[\"Mu\"], linewidth=5, alpha=0.6, color=\"gray\")\n",
    "    ax.plot(glcs, Results_glc_screen[\"Mu\"], linewidth=2, alpha=0.6, color=\"dimgray\")\n",
    "    ax.plot(glcs, Results_glc_screen[\"Mu\"], linewidth=1, alpha=0.6, color=\"black\")\n",
    "    ax2=ax.twinx()\n",
    "    ax2.plot(glcs, [i for i in Results_glc_screen[\"M_ac\"]], linewidth=4,\n",
    "             color=\"mediumseagreen\", alpha=0.9)\n",
    "    ax2.plot(glcs, [-i for i in Results_glc_screen[\"M_o2\"]], linewidth=4, \n",
    "             color=\"indianred\", alpha=0.9, linestyle=(0, (1, 1)))\n",
    "    ax2.plot(glcs, [-i for i in Results_glc_screen[\"M_glc\"]], linewidth=4, \n",
    "             color=\"steelblue\", alpha=0.9, linestyle=(0, (3, 1, 1, 1)))\n",
    "    ax2.legend([\"$Acetate$ excretion\",\"$O_2$ uptake\",\"$Glucose$ uptake\"], \n",
    "               loc=\"lower right\", fontsize=12, frameon=False)\n",
    "\n",
    "    ax.set_title(\"Glucose dependent growth-rate and exchange fluxes\", fontsize=15)\n",
    "    ax.set_xlabel(\"Glucose concentration (mM)\", fontsize=12)\n",
    "    ax.tick_params(axis='y', labelcolor=\"dimgrey\")\n",
    "    ax2.tick_params(axis='y', labelcolor=\"black\")\n",
    "    ax.set_ylabel(\"Growth rate ($h^{-1}$)\", color=\"dimgrey\", fontsize=12)\n",
    "    ax2.set_ylabel('Exchange fluxes ($\\\\frac{mmol}{h \\\\times g_{DW}}$)', \n",
    "                   color=\"black\", fontsize=12)\n",
    "    plt.tight_layout()\n",
    "    plt.show()\n"
   ]
  },
  {
   "cell_type": "code",
   "execution_count": null,
   "metadata": {},
   "outputs": [],
   "source": [
    "def plot_o2_glc_uptake_ratio(glcs,Results_glc_screen):\n",
    "    o2_glc_ratio_original=[Results_glc_screen[\"M_o2\"][i]/Results_glc_screen[\"M_glc\"][i] for i in range(len(glcs))]\n",
    "    plt.scatter(glcs,o2_glc_ratio_original)\n",
    "    plt.title(\"Ratio $O_2$ over Glucose uptake\")\n",
    "    plt.xlabel(\"Glucose concentration (mM)\")\n",
    "    plt.ylabel(\"$J^{ex}_{O2}$ / $J^{ex}_{GLC}$\")\n",
    "    plt.show()"
   ]
  },
  {
   "cell_type": "markdown",
   "metadata": {},
   "source": [
    "## Define glucose concentrations to screen"
   ]
  },
  {
   "cell_type": "code",
   "execution_count": null,
   "metadata": {},
   "outputs": [],
   "source": [
    "glcs = [0.005+(i*0.005) for i in range(13)] # generate glucose concentration intervals\n"
   ]
  },
  {
   "cell_type": "markdown",
   "metadata": {},
   "source": [
    "## Run initial glucose screen and plot ratio of uptaken oxygen over glucose"
   ]
  },
  {
   "cell_type": "code",
   "execution_count": null,
   "metadata": {},
   "outputs": [],
   "source": [
    "#Simulation.reload_model()\n",
    "Results_glc_screen_original=run_glucose_screen(Simulation,glcs)\n",
    "\n",
    "plot_glc_screen_results(glcs,Results_glc_screen_original)\n",
    "plot_o2_glc_uptake_ratio(glcs,Results_glc_screen_original)"
   ]
  },
  {
   "cell_type": "markdown",
   "metadata": {},
   "source": [
    "## Add constraint to RBA-problem, imposing pre-defined oxygen/glucose ratio\n",
    "\n",
    "At first we have to define a linear problem, representing the constraints to add, as an rbatools.rba_problem_matrix.ProblemMatrix object. This object contains all necessary information to define a linear problem."
   ]
  },
  {
   "cell_type": "code",
   "execution_count": null,
   "metadata": {},
   "outputs": [],
   "source": [
    "#Simulation.reload_model()\n",
    "imposed_o2_glc_ratio=5\n",
    "\n",
    "matrix_to_add=ProblemMatrix()\n",
    "# defining constraint and variable IDs (J_o2='To2' & J_glc='TptsG'):\n",
    "matrix_to_add.row_names=['o2_glc_ratio'] # ID of constraint to add\n",
    "matrix_to_add.col_names=['To2','TptsG'] # Variable, associated with constraint (glucose- and oxygen transport-reactions)\n",
    "\n",
    "# defining constraint: J_o2 / J_glc = imposed_o2_glc_ratio --> 'To2' - imposed_o2_glc_ratio * 'TptsG' = 0:\n",
    "matrix_to_add.A=coo_matrix(numpy.array([[1,-imposed_o2_glc_ratio]])) # left-hand side of imposed constraint\n",
    "matrix_to_add.b=numpy.array([0]) # right-hand side of imposed constraint\n",
    "matrix_to_add.row_signs=['E'] # type of imposed constraint (equality)\n",
    "\n",
    "# Since we do not want to change the objective-coeficients and variable-bounds, associated with 'To2' & 'TptsG',\n",
    "# we take the values  from the original RBA-problem and impose them onto the matrix:\n",
    "original_objective_coefficients=Simulation.Problem.get_objective(['To2','TptsG']) # get objective coefficients\n",
    "original_lb_coefficients=Simulation.Problem.get_lb(['To2','TptsG']) # get variables' lower bounds\n",
    "original_ub_coefficients=Simulation.Problem.get_ub(['To2','TptsG']) # get variables' upper bounds\n",
    "# set the respective fields in matrix to obtained values\n",
    "matrix_to_add.f=numpy.array([original_objective_coefficients['To2'],original_objective_coefficients['TptsG']])\n",
    "matrix_to_add.LB=numpy.array([original_lb_coefficients['To2'],original_lb_coefficients['TptsG']])\n",
    "matrix_to_add.UB=numpy.array([original_ub_coefficients['To2'],original_ub_coefficients['TptsG']])\n",
    "\n",
    "# merge defined matrix with original RBA-problem (adding new constraint)\n",
    "Simulation.Problem.LP.add_matrix(matrix=matrix_to_add)\n"
   ]
  },
  {
   "cell_type": "markdown",
   "metadata": {},
   "source": [
    "### Run glucose screen with imposed oxygen/glucose ratio"
   ]
  },
  {
   "cell_type": "code",
   "execution_count": null,
   "metadata": {},
   "outputs": [],
   "source": [
    "Results_glc_screen_ratio_5=run_glucose_screen(Simulation,glcs)"
   ]
  },
  {
   "cell_type": "markdown",
   "metadata": {},
   "source": [
    "## Impose other ratios and run glucose screen"
   ]
  },
  {
   "cell_type": "markdown",
   "metadata": {},
   "source": [
    "### Update constraint matrix with new matrix\n",
    "\n",
    "Here we use one method to change the ratio-coefficient. The .update_matrix problem, updates problem coefficients of original problem with the ones defined in matrix."
   ]
  },
  {
   "cell_type": "code",
   "execution_count": null,
   "metadata": {},
   "outputs": [],
   "source": [
    "#Simulation.reload_model()\n",
    "imposed_o2_glc_ratio=2\n",
    "\n",
    "matrix_to_add=ProblemMatrix()\n",
    "matrix_to_add.row_names=['o2_glc_ratio']\n",
    "matrix_to_add.col_names=['To2','TptsG']\n",
    "matrix_to_add.A=coo_matrix(numpy.array([[1,-imposed_o2_glc_ratio]]))\n",
    "matrix_to_add.b=numpy.array([0])\n",
    "matrix_to_add.row_signs=['E']\n",
    "\n",
    "original_objective_coefficients=Simulation.Problem.get_objective(['To2','TptsG'])\n",
    "original_lb_coefficients=Simulation.Problem.get_lb(['To2','TptsG'])\n",
    "original_ub_coefficients=Simulation.Problem.get_ub(['To2','TptsG'])\n",
    "matrix_to_add.f=numpy.array([original_objective_coefficients['To2'],original_objective_coefficients['TptsG']])\n",
    "matrix_to_add.LB=numpy.array([original_lb_coefficients['To2'],original_lb_coefficients['TptsG']])\n",
    "matrix_to_add.UB=numpy.array([original_ub_coefficients['To2'],original_ub_coefficients['TptsG']])\n",
    "\n",
    "Simulation.Problem.LP.update_matrix(matrix=matrix_to_add)\n"
   ]
  },
  {
   "cell_type": "code",
   "execution_count": null,
   "metadata": {},
   "outputs": [],
   "source": [
    "Results_glc_screen_ratio_2=run_glucose_screen(Simulation,glcs)"
   ]
  },
  {
   "cell_type": "markdown",
   "metadata": {},
   "source": [
    "### Set individual Problem coefficients\n",
    "Here we use another method to change the ratio-coefficient. The .set_problem_coefficients method, sets individual matrix (problem's left-hand side) coefficients to specified value."
   ]
  },
  {
   "cell_type": "code",
   "execution_count": null,
   "metadata": {},
   "outputs": [],
   "source": [
    "# See old coefficient\n",
    "Simulation.Problem.get_problem_coefficients([('o2_glc_ratio','TptsG')])"
   ]
  },
  {
   "cell_type": "code",
   "execution_count": null,
   "metadata": {},
   "outputs": [],
   "source": [
    "# Set coefficient to new value\n",
    "Simulation.Problem.set_problem_coefficients({('o2_glc_ratio','TptsG'):-1})"
   ]
  },
  {
   "cell_type": "code",
   "execution_count": null,
   "metadata": {},
   "outputs": [],
   "source": [
    "# See new coefficient\n",
    "Simulation.Problem.get_problem_coefficients([('o2_glc_ratio','TptsG')])"
   ]
  },
  {
   "cell_type": "code",
   "execution_count": null,
   "metadata": {},
   "outputs": [],
   "source": [
    "Results_glc_screen_ratio_1=run_glucose_screen(Simulation,glcs)"
   ]
  },
  {
   "cell_type": "markdown",
   "metadata": {},
   "source": [
    "## Plot screen results of different oxygen/glucose ratios."
   ]
  },
  {
   "cell_type": "code",
   "execution_count": null,
   "metadata": {},
   "outputs": [],
   "source": [
    "print(\"WT - no constraint on ratio (ratio able to change)\")\n",
    "plot_glc_screen_results(glcs,Results_glc_screen_original)\n",
    "print(\"Imposed oxygen/glucose ratio of 5 (ratio of respiratory regime in WT)\")\n",
    "plot_glc_screen_results(glcs,Results_glc_screen_ratio_5)\n",
    "print(\"Imposed oxygen/glucose ratio of 2 (ratio at switch to fermentation in WT)\")\n",
    "plot_glc_screen_results(glcs,Results_glc_screen_ratio_2)\n",
    "print(\"Imposed oxygen/glucose ratio of 1 (ratio of fermenting regime in WT)\")\n",
    "plot_glc_screen_results(glcs,Results_glc_screen_ratio_1)"
   ]
  },
  {
   "cell_type": "code",
   "execution_count": null,
   "metadata": {},
   "outputs": [],
   "source": []
  }
 ],
 "metadata": {
  "kernelspec": {
   "display_name": "Python 3",
   "language": "python",
   "name": "python3"
  },
  "language_info": {
   "codemirror_mode": {
    "name": "ipython",
    "version": 3
   },
   "file_extension": ".py",
   "mimetype": "text/x-python",
   "name": "python",
   "nbconvert_exporter": "python",
   "pygments_lexer": "ipython3",
   "version": "3.6.5"
  }
 },
 "nbformat": 4,
 "nbformat_minor": 2
}
