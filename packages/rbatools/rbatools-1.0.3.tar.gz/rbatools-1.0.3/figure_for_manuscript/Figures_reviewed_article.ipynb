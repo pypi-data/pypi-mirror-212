{
 "cells": [
  {
   "cell_type": "code",
   "execution_count": null,
   "metadata": {},
   "outputs": [],
   "source": [
    "import matplotlib.pyplot as plt\n",
    "import pandas\n",
    "import numpy\n",
    "import rba\n",
    "import seaborn\n",
    "\n",
    "from matplotlib.gridspec import GridSpec\n",
    "from rbatools.rba_session import SessionRBA\n"
   ]
  },
  {
   "cell_type": "markdown",
   "metadata": {},
   "source": [
    "# Generate data"
   ]
  },
  {
   "cell_type": "code",
   "execution_count": null,
   "metadata": {},
   "outputs": [],
   "source": [
    "model_filename = '../../Bacterial-RBA-models/Bacillus-subtilis-168-WT'\n",
    "Simulation = SessionRBA(model_filename,lp_solver=\"cplex\")\n",
    "Simulation.add_exchange_reactions()\n"
   ]
  },
  {
   "cell_type": "markdown",
   "metadata": {},
   "source": [
    "## Glucose screen"
   ]
  },
  {
   "cell_type": "code",
   "execution_count": null,
   "metadata": {},
   "outputs": [],
   "source": [
    "Simulation.reload_model()\n",
    "glcs=[0.005,0.0075,0.01,0.0125,0.015,0.0175,0.02]+[0.02+((i+1)*0.0005) for i in range(20)]+[0.03+((i+1)*0.0025) for i in range(18)]\n",
    "#glcs=[0.025,0.0125]\n",
    "Results_glc_screen={\"Mu\":[],\"M_glc\":[],\"M_o2\":[],\"M_ac\":[],\"P_TA_machinery\":[],\"Eatp_enzyme\":[]}\n",
    "for glc_conc in glcs:\n",
    "    Simulation.set_medium({'M_glc':glc_conc})\n",
    "    mumax=Simulation.find_max_growth_rate(max=1.0,start_value=0.3)\n",
    "    J_ex=Simulation.return_exchange_fluxes()\n",
    "    for i in Results_glc_screen.keys():\n",
    "        if i ==\"Mu\":\n",
    "            Results_glc_screen[\"Mu\"].append(mumax)\n",
    "        else:\n",
    "            if i in J_ex.keys():\n",
    "                Results_glc_screen[i].append(J_ex[i])\n",
    "            elif i in Simulation.Problem.SolutionValues.keys():\n",
    "                Results_glc_screen[i].append(Simulation.Problem.SolutionValues[i])\n",
    "            else:\n",
    "                Results_glc_screen[i].append(0)"
   ]
  },
  {
   "cell_type": "code",
   "execution_count": null,
   "metadata": {},
   "outputs": [],
   "source": [
    "glc_WT=abs(Results_glc_screen['M_glc'][glcs.index(0.025)])\n",
    "mu_WT=abs(Results_glc_screen['Mu'][glcs.index(0.025)])\n",
    "o2_WT=abs(Results_glc_screen['M_o2'][glcs.index(0.025)])\n",
    "ac_WT=abs(Results_glc_screen['M_ac'][glcs.index(0.025)])\n",
    "P_TA_WT=abs(Results_glc_screen['P_TA_machinery'][glcs.index(0.025)])\n",
    "Eatp_enzyme_WT=abs(Results_glc_screen['Eatp_enzyme'][glcs.index(0.025)])\n",
    "\n",
    "glc_WT_0125=abs(Results_glc_screen['M_glc'][glcs.index(0.0125)])\n",
    "mu_WT_0125=abs(Results_glc_screen['Mu'][glcs.index(0.0125)])\n",
    "o2_WT_0125=abs(Results_glc_screen['M_o2'][glcs.index(0.0125)])\n",
    "ac_WT_0125=abs(Results_glc_screen['M_ac'][glcs.index(0.0125)])\n",
    "P_TA_0125=abs(Results_glc_screen['P_TA_machinery'][glcs.index(0.0125)])\n",
    "Eatp_enzyme_0125=abs(Results_glc_screen['Eatp_enzyme'][glcs.index(0.0125)])\n"
   ]
  },
  {
   "cell_type": "markdown",
   "metadata": {},
   "source": [
    "## RVA"
   ]
  },
  {
   "cell_type": "code",
   "execution_count": null,
   "metadata": {},
   "outputs": [],
   "source": [
    "Simulation.reload_model()\n",
    "\n",
    "Simulation.set_medium({'M_glc':0.0125})\n",
    "maxmu_0125=Simulation.find_max_growth_rate()\n",
    "Mus_RVA_0125=[maxmu_0125*i for i in [0.01,0.025,0.05,0.075,0.1,0.125,0.15,0.175,0.2,0.225,0.25,0.275,0.3,0.325,0.35,0.375,0.4,0.425,0.45,0.475,0.5,0.525,0.55,0.575,0.6,0.625,0.65,0.675,0.7,0.725,0.75,0.775,0.8,0.825,0.85,0.875,0.9,0.925,0.95,0.975,0.9825,0.99,0.9925,0.995,0.9975,1]]\n",
    "Reactions_to_check=[\"R_EX_glc_e\",\"R_EX_o2_e\",\"R_EX_ac_e\",\"P_TA_machinery\",\"Eatp_enzyme\"]\n",
    "Feasible_Ranges_0125=dict(zip(Reactions_to_check,[{\"Minima\":[],\"Maxima\":[]},\n",
    "                                             {\"Minima\":[],\"Maxima\":[]},\n",
    "                                             {\"Minima\":[],\"Maxima\":[]},\n",
    "                                             {\"Minima\":[],\"Maxima\":[]},\n",
    "                                             {\"Minima\":[],\"Maxima\":[]}]))\n",
    "\n",
    "for mu in Mus_RVA_0125:\n",
    "    Simulation.set_growth_rate(mu)\n",
    "    Feasible_range=Simulation.get_feasible_range(variables=Reactions_to_check)\n",
    "    for rxn in Reactions_to_check:\n",
    "        Feasible_Ranges_0125[rxn][\"Minima\"].append(Feasible_range[rxn]['Min'])\n",
    "        Feasible_Ranges_0125[rxn][\"Maxima\"].append(Feasible_range[rxn]['Max'])\n"
   ]
  },
  {
   "cell_type": "code",
   "execution_count": null,
   "metadata": {},
   "outputs": [],
   "source": [
    "Simulation.reload_model()\n",
    "\n",
    "Simulation.set_medium({'M_glc':0.025})\n",
    "Mus_RVA=[mu_WT*i for i in [0.01,0.025,0.05,0.075,0.1,0.125,0.15,0.175,0.2,0.225,0.25,0.275,0.3,0.325,0.35,0.375,0.4,0.425,0.45,0.475,0.5,0.525,0.55,0.575,0.6,0.625,0.65,0.675,0.7,0.725,0.75,0.775,0.8,0.825,0.85,0.875,0.9,0.925,0.95,0.975,0.9825,0.99,0.9925,0.995,0.9975,1]]\n",
    "Reactions_to_check=[\"R_EX_glc_e\",\"R_EX_o2_e\",\"R_EX_ac_e\",\"P_TA_machinery\",\"Eatp_enzyme\"]\n",
    "Feasible_Ranges=dict(zip(Reactions_to_check,[{\"Minima\":[],\"Maxima\":[]},\n",
    "                                             {\"Minima\":[],\"Maxima\":[]},\n",
    "                                             {\"Minima\":[],\"Maxima\":[]},\n",
    "                                             {\"Minima\":[],\"Maxima\":[]},\n",
    "                                             {\"Minima\":[],\"Maxima\":[]}]))\n",
    "\n",
    "for mu in Mus_RVA:\n",
    "    Simulation.set_growth_rate(mu)\n",
    "    Feasible_range=Simulation.get_feasible_range(variables=Reactions_to_check)\n",
    "    for rxn in Reactions_to_check:\n",
    "        Feasible_Ranges[rxn][\"Minima\"].append(Feasible_range[rxn]['Min'])\n",
    "        Feasible_Ranges[rxn][\"Maxima\"].append(Feasible_range[rxn]['Max'])\n",
    "        "
   ]
  },
  {
   "cell_type": "markdown",
   "metadata": {},
   "source": [
    "## Kapp sampling"
   ]
  },
  {
   "cell_type": "markdown",
   "metadata": {},
   "source": [
    "### (Danger: long computation times)\n",
    "\n",
    "Uncomment to execute"
   ]
  },
  {
   "cell_type": "code",
   "execution_count": null,
   "metadata": {},
   "outputs": [],
   "source": [
    "#Simulation.reload_model()\n",
    "\n",
    "#enzymes=Simulation.add_parameter_multipliers_for_enzyme_efficiencies()\n",
    "#Simulation.set_medium({'M_glc':0.025})\n",
    "#KappScreenResults=Simulation.sample_kapp_multipliers(n=1000,mean=0,stdev=numpy.log(1.1),enzymes=enzymes,Variables_to_record=[\"R_EX_o2_e\"],wt_growth_rate=mu_WT)\n",
    "#df=pandas.DataFrame(KappScreenResults)\n",
    "#df.to_csv(\"../../RBAtools_FigSamples_stdevlog_0.1.csv\")\n"
   ]
  },
  {
   "cell_type": "code",
   "execution_count": null,
   "metadata": {},
   "outputs": [],
   "source": [
    "# import from repo:\n",
    "#sampling_results=pandas.read_csv(\"RBAtools_FigSamples_stdevlog_0.1.csv\",index_col=0)"
   ]
  },
  {
   "cell_type": "markdown",
   "metadata": {},
   "source": [
    "## Pareto"
   ]
  },
  {
   "cell_type": "code",
   "execution_count": null,
   "metadata": {},
   "outputs": [],
   "source": [
    "Simulation.reload_model()\n",
    "# generate process object:\n",
    "test_process=rba.xml.processes.Process(id_=\"P_Dummy_Cytosol\", \n",
    "                                       name=\"Dummy_process_Cytosol\")\n",
    "# define machinery composition of added process:\n",
    "test_process.machinery.machinery_composition.reactants._elements.append(\n",
    "    rba.xml.common.SpeciesReference(species=\"average_protein_Cytoplasm\",\n",
    "                                    stoichiometry=1))\n",
    "# add process to model:\n",
    "Simulation.model.processes.processes.append(test_process)\n",
    "# determine total number of peptides of protein, constituting machinery\n",
    "process_machinery_amino_acid_length=sum(list(Simulation.get_protein_information(\"average_protein_Cytoplasm\")['AAcomposition'].values()))\n",
    "\n",
    "Simulation.rebuild_from_model()\n"
   ]
  },
  {
   "cell_type": "code",
   "execution_count": null,
   "metadata": {},
   "outputs": [],
   "source": [
    "Simulation.set_medium({'M_glc':0.025}) #set glucose concentration\n",
    "\n",
    "mumax_WT = Simulation.find_max_growth_rate() #determine maximum growth-rate\n",
    "#create list of various growth-rates between 0 and the maximum:\n",
    "Growth_rates = [mumax_WT*i for i in [0.001,0.01,0.1,0.2,0.3,0.4,0.5,0.6,0.7,0.8,0.9,0.95,0.99,1]]\n",
    "Results_Pareto = {\"Protein\":[],\"ATP\":[],\"ATP_net\":[],\"Growth-rate\":[],\"Protein_concentration\":[]} #create empty data-structure for results\n",
    "total_AAconcentrations = {} #create empty data structure for total amino-acid concentration\n",
    "atp_maintenance = {} #create empty data structure for total amino-acid concentration\n",
    "for mu in Growth_rates: #iterate over growth-rates\n",
    "    Simulation.set_growth_rate(mu) #set growth rate\n",
    "    #determine current total number of amino acid residues in cell:\n",
    "    total_AAconcentrations[mu/mumax_WT] = Simulation.get_current_parameter_value(parameter=\"amino_acid_concentration\")\n",
    "    atp_maintenance[mu/mumax_WT] = Simulation.get_current_parameter_value(parameter=\"maintenance_atp\")\n",
    "    # calculate pareto front between variables of interest:\n",
    "    ParetoFront = Simulation.get_pareto_front(variable_X=\"P_Dummy_Cytosol_machinery\", \n",
    "                                              variable_Y=\"R_maintenance_atp\", \n",
    "                                              N=100, \n",
    "                                              sign_VY='max')\n",
    "    # append fraction of maximum growth rate to results\n",
    "    Results_Pareto[\"Growth-rate\"].append([int(100*mu/mumax_WT)]*ParetoFront.shape[0])\n",
    "    # append atp values of pareto front to results\n",
    "    Results_Pareto[\"ATP\"].append(list(ParetoFront[\"R_maintenance_atp\"]))\n",
    "    Results_Pareto[\"ATP_net\"].append([i-atp_maintenance[mu/mumax_WT] for i in ParetoFront[\"R_maintenance_atp\"]])\n",
    "    # append proteome-fraction of protein (number of AAs in protein, divided by total cellular number of AAs)\n",
    "    Results_Pareto[\"Protein\"].append(list(ParetoFront[\"P_Dummy_Cytosol_machinery\"]*process_machinery_amino_acid_length/total_AAconcentrations[mu/mumax_WT]))\n",
    "    Results_Pareto[\"Protein_concentration\"].append(list(ParetoFront[\"P_Dummy_Cytosol_machinery\"]))\n"
   ]
  },
  {
   "cell_type": "markdown",
   "metadata": {},
   "source": [
    "## Metabolite production"
   ]
  },
  {
   "cell_type": "code",
   "execution_count": null,
   "metadata": {},
   "outputs": [],
   "source": [
    "Simulation.reload_model()\n",
    "Simulation.add_reaction(reaction_id=\"R_rxnTest\", \n",
    "                        reactants={\"M_tpp_c\":1}, reversible=False)\n"
   ]
  },
  {
   "cell_type": "code",
   "execution_count": null,
   "metadata": {},
   "outputs": [],
   "source": [
    "Glucose_concentrations = [0.0125,0.025,0.05,0.1] # generate list of glucose concentrations to test\n",
    "Growth_rates = {} #create empty data structure for obtained growth rates\n",
    "excretion_fluxes = {} #create empty data structure for metabolite excretion\n",
    "for glc_conc in Glucose_concentrations: # iterate over glucose concentration\n",
    "    excretion_fluxes[glc_conc] = [] #generate empty list for excretion fluxes\n",
    "    Simulation.set_medium({'M_glc':glc_conc}) # set glucose concentration\n",
    "    mu_max = Simulation.find_max_growth_rate() #determine wild-type max growth-rate\n",
    "    #create list of various growth-rates between 0 and the maximum:\n",
    "    Growth_rates[glc_conc] = [mu_max*i for i in [0.01,0.025,0.05,0.075,0.1,0.125,0.15,0.175,0.2,0.225,0.25,0.275,0.3,0.325,0.35,0.375,0.4,0.425,0.45,0.475,0.5,0.525,0.55,0.575,0.6,0.625,0.65,0.675,0.7,0.725,0.75,0.775,0.8,0.825,0.85,0.875,0.9,0.925,0.95,0.975,0.9825,0.99,0.9925,0.995,0.9975,1]]\n",
    "    for mu in Growth_rates[glc_conc]: #iterate over growth rates\n",
    "        Simulation.set_growth_rate(mu) #set growth rate\n",
    "        Simulation.Problem.clear_objective() #clear objective function\n",
    "        Simulation.Problem.set_objective(inputDict={\"R_rxnTest\": -1.0}) #specify objective to maximize \"R_rxnTest\"\n",
    "        Simulation.Problem.solve_lp() #solve linear problem\n",
    "        if Simulation.Problem.Solved: # if feasible solution does exist\n",
    "            #add optimum to results\n",
    "            excretion_fluxes[glc_conc].append(-Simulation.Problem.ObjectiveValue)\n",
    "        else:\n",
    "            excretion_fluxes[glc_conc].append(numpy.nan)     \n",
    "biotech_application_results={'Growth_rates':Growth_rates,'Excretion_fluxes':excretion_fluxes}"
   ]
  },
  {
   "cell_type": "markdown",
   "metadata": {},
   "source": [
    "## Ribosome efficiency sampling"
   ]
  },
  {
   "cell_type": "code",
   "execution_count": null,
   "metadata": {},
   "outputs": [],
   "source": [
    "Simulation.reload_model()\n",
    "Glucose_concentrations_ribosome_efficiency_sampling = [0.0125,0.025,0.05,0.1] # generate list of glucose concentrations to test\n",
    "# add parameter multiplier for ribosome capacity (initialized as 1.0):\n",
    "Simulation.add_parameter_multiplier(model_parameter=\"ribosome_capacity\", rebuild_model=True)\n",
    "log_factors = [-2,-1.75,-1.5,-1.25,-1,-0.75,-0.5,-0.375,-0.25,-0.1875,-0.125,-0.0625,0,0.0625,0.125,0.1875,0.25,0.375,0.5,0.75,1,1.25,1.5,1.75,2] # define (logarithmic, base 10) multipliers to test\n",
    "\n",
    "Ribosome_efficiency_sampling={} # initiate empty result-storing structure\n",
    "for glc_conc in Glucose_concentrations_ribosome_efficiency_sampling: # iterate over glucose concentrations\n",
    "    Simulation.set_medium({'M_glc':glc_conc}) # set glucose concentration in medium\n",
    "    # screen the defined multipliers:\n",
    "    screen_results = Simulation.screen_multipliers(parameter=\"ribosome_capacity\", \n",
    "                                                 factors=[10**i for i in log_factors])\n",
    "    # store results:\n",
    "    scaling_factors , growth_rates = [list(i) for i in zip(*screen_results.items())]\n",
    "    Ribosome_efficiency_sampling[glc_conc] = {\"Scaling Factors\":scaling_factors,\"Growth_rates\":[i[\"Mu\"] for i in growth_rates]}\n"
   ]
  },
  {
   "cell_type": "markdown",
   "metadata": {},
   "source": [
    "## Local sensitivity"
   ]
  },
  {
   "cell_type": "code",
   "execution_count": null,
   "metadata": {},
   "outputs": [],
   "source": [
    "all_enzyme_efficiencies=list(set([Simulation.get_enzyme_constraint_information(i)['CapacityParameterID'] for i in Simulation.get_enzyme_constraints()]))\n",
    "all_enzymes=list(set([Simulation.get_enzyme_constraint_information(i)['AssociatedEnzyme'] for i in Simulation.get_enzyme_constraints()]))\n",
    "print(\"Total - Enzymes: {} - Parameters: {}\".format(len(all_enzymes),len(all_enzyme_efficiencies)))"
   ]
  },
  {
   "cell_type": "markdown",
   "metadata": {},
   "source": [
    "### (Danger: long computation times)\n",
    "\n",
    "Uncomment to execute"
   ]
  },
  {
   "cell_type": "code",
   "execution_count": null,
   "metadata": {},
   "outputs": [],
   "source": [
    "#Simulation.reload_model()\n",
    "#Simulation.set_medium({'M_glc':0.025}) # set glucose concentration in medium\n",
    "#Local_sensitivities_enzymes = Simulation.local_sensitivity(parameters=all_enzyme_efficiencies,\n",
    "#                                                   relative_parameter_difference=0.01)\n",
    "#Local_sensitivities_enzymes.to_csv('LocalSensitivities_all_enzymes_1percent.csv')"
   ]
  },
  {
   "cell_type": "code",
   "execution_count": null,
   "metadata": {},
   "outputs": [],
   "source": [
    "# import from repo:\n",
    "#Local_sensitivities_001=pandas.read_csv(\"LocalSensitivities_all_enzymes_1percent.csv\",index_col=0)"
   ]
  },
  {
   "cell_type": "markdown",
   "metadata": {},
   "source": [
    "# Defining plotting functions"
   ]
  },
  {
   "cell_type": "code",
   "execution_count": null,
   "metadata": {},
   "outputs": [],
   "source": [
    "def plot_glc_screen(ax,input_data,glucose_concentrations):\n",
    "    ax2=ax.twinx()\n",
    "    ax2.plot(glucose_concentrations,[-i for i in input_data[\"M_glc\"]],linewidth=3,color=glucose_color,linestyle=(0, (3, 1, 1, 1)),alpha=1,label=\"$Glucose$ uptake\", zorder=1)\n",
    "    ax2.plot(glucose_concentrations,[-i for i in input_data[\"M_o2\"]],linewidth=3,color=oxygen_color,linestyle=(0, (1, 1)),alpha=1,label=\"$O_2$ uptake\", zorder=1)\n",
    "    ax2.plot(glucose_concentrations,[i for i in input_data[\"M_ac\"]],linewidth=3,color=acetate_color,alpha=1,label=\"$Acetate$ excretion\", zorder=1)\n",
    "    ax.plot(glucose_concentrations,input_data[\"Mu\"],linewidth=4,alpha=1,color=contrast_line_color,label=\"Growth rate\", zorder=1)\n",
    "\n",
    "    ax.legend(loc=\"center right\",frameon=False,fontsize=annotation_fontsize,bbox_to_anchor=(0.91, 0.4),labelspacing=0.3)\n",
    "    ax2.legend(loc=\"lower right\",fontsize=annotation_fontsize,frameon=False,labelspacing=0.3)\n",
    "\n",
    "    ax2.plot(glucose_concentrations,[i for i in input_data[\"M_ac\"]],linewidth=6,color='white',alpha=1,label=\"$Acetate$ excretion\", zorder=1)\n",
    "    ax2.plot(glucose_concentrations,[-i for i in input_data[\"M_o2\"]],linewidth=6,color='white',alpha=1,label=\"$O_2$ uptake\", zorder=1)\n",
    "    ax2.plot(glucose_concentrations,[-i for i in input_data[\"M_glc\"]],linewidth=6,color='white',alpha=1,label=\"$Glucose$ uptake\", zorder=1)\n",
    "    ax.plot(glucose_concentrations,input_data[\"Mu\"],linewidth=7,alpha=1,color='white',label=\"Growth rate\", zorder=1)\n",
    "\n",
    "    ax.axvline(0.025,color=contrast_line_color,linestyle=\"dashed\",alpha=0.7,linewidth=2, zorder=1)\n",
    "\n",
    "    ax2.plot(glucose_concentrations,[i for i in input_data[\"M_ac\"]],linewidth=4,color='white',alpha=1,label=\"$Acetate$ excretion\", zorder=2)\n",
    "    ax2.plot(glucose_concentrations,[i for i in input_data[\"M_ac\"]],linewidth=4,color=acetate_color,alpha=1,label=\"$Acetate$ excretion\", zorder=2)\n",
    "    ax2.plot(glucose_concentrations,[-i for i in input_data[\"M_o2\"]],linewidth=4,color='white',alpha=1,label=\"$O_2$ uptake\", zorder=2)\n",
    "    ax2.plot(glucose_concentrations,[-i for i in input_data[\"M_o2\"]],linewidth=4,color=oxygen_color,alpha=1,label=\"$O_2$ uptake\",linestyle=(0, (1, 1)), zorder=2)\n",
    "    ax2.plot(glucose_concentrations,[-i for i in input_data[\"M_glc\"]],linewidth=4,color='white',alpha=1,label=\"$Glucose$ uptake\", zorder=2)\n",
    "    ax2.plot(glucose_concentrations,[-i for i in input_data[\"M_glc\"]],linewidth=4,color=glucose_color,alpha=1,label=\"$Glucose$ uptake\",linestyle=(0, (3, 1, 1, 1)), zorder=2)\n",
    "\n",
    "    ax.plot(glucose_concentrations,input_data[\"Mu\"],linewidth=5,alpha=1,color=contrast_line_color,label=\"Growth rate\", zorder=3)\n",
    "    \n",
    "    ax.set_title(\"Glucose screen: cellular states\",fontsize=title_font_size)\n",
    "    ax2.set_xlabel(\"Glucose concentration [$mM$]\",fontsize=axislabel_fontsize,labelpad=labelpad_axislables)\n",
    "    ax.set_xlabel(\"Glucose concentration [$mM$]\",fontsize=axislabel_fontsize,labelpad=labelpad_axislables)\n",
    "    ax.set_ylim(-0.01,0.69)\n",
    "    ax.set_xlim(0.004,0.069)\n",
    "    ax.tick_params(axis='y', labelcolor=contrast_line_color)\n",
    "    \n",
    "    ax2.tick_params(axis='y', labelcolor=growth_rate_color)\n",
    "    ax.set_ylabel(\"Growth rate [$h^{-1}$]\",color=contrast_line_color,fontsize=axislabel_fontsize,labelpad=labelpad_axislables)\n",
    "    #ax2.set_ylabel('Fluxes [mmol (h $g_{DW}$)$^{-1}$]',color=growth_rate_color,fontsize=axislabel_fontsize,labelpad=labelpad_axislables)\n",
    "    ax2.set_ylabel('Fluxes [mmol / (h $g_{DW}$)]',color=growth_rate_color,fontsize=axislabel_fontsize,labelpad=labelpad_axislables)\n",
    "\n",
    "    ax2.set_ylim(-0.2,15.6)\n",
    "    ax.set_yticks([0.1,0.2,0.3,0.4,0.5,0.6])\n",
    "    ax.set_yticklabels([0.1,0.2,0.3,0.4,0.5,0.6],rotation=90,va='center',fontsize=ticklabel_fontsize)\n",
    "    ax.set_xticks([0.01,0.02,0.03,0.04,0.05,0.06,0.07])\n",
    "    ax.set_xticklabels([0.01,0.02,0.03,0.04,0.05,0.06,0.07],fontsize=ticklabel_fontsize)\n",
    "    ax2.set_yticks([2,4,6,8,10,12,14])\n",
    "    ax2.set_yticklabels([2,4,6,8,10,12,14],fontsize=ticklabel_fontsize)\n",
    "    "
   ]
  },
  {
   "cell_type": "code",
   "execution_count": null,
   "metadata": {},
   "outputs": [],
   "source": [
    "def plot_RVA(ax,input_data,mu_WT,o2_WT,glc_WT,growth_rates):\n",
    "    ax.axvline(1,color=contrast_line_color,linestyle=\"dashed\",linewidth=2, zorder=1)\n",
    "    ax.fill_between(x=[i/mu_WT for i in growth_rates],y1=input_data[\"R_EX_glc_e\"][\"Minima\"],y2=input_data[\"R_EX_glc_e\"][\"Maxima\"],interpolate=True,color=glucose_color,alpha=0.4, zorder=2)\n",
    "    ax.plot([i/mu_WT for i in growth_rates],input_data[\"R_EX_glc_e\"][\"Minima\"],color=glucose_color,alpha=1,linewidth=2, zorder=2)\n",
    "    ax.plot([i/mu_WT for i in growth_rates],input_data[\"R_EX_glc_e\"][\"Maxima\"],color=glucose_color,alpha=1,linewidth=2, zorder=2)\n",
    "    if glc_WT is not None:\n",
    "        ax.scatter([1],[glc_WT],color=glucose_color,s=50, zorder=3)\n",
    "\n",
    "    ax2=ax.twinx()\n",
    "    ax2.fill_between(x=[i/mu_WT for i in growth_rates],y1=input_data[\"R_EX_o2_e\"][\"Minima\"],y2=input_data[\"R_EX_o2_e\"][\"Maxima\"],interpolate=True,color=oxygen_color,alpha=0.3, zorder=2)\n",
    "    ax2.plot([i/mu_WT for i in growth_rates],input_data[\"R_EX_o2_e\"][\"Minima\"],color=oxygen_color,alpha=1,linewidth=2, zorder=2)\n",
    "    ax2.plot([i/mu_WT for i in growth_rates],input_data[\"R_EX_o2_e\"][\"Maxima\"],color=oxygen_color,alpha=1,linewidth=2, zorder=2)\n",
    "    if o2_WT is not None:\n",
    "        ax2.scatter([1],[o2_WT],color=oxygen_color,s=50, zorder=3)\n",
    "\n",
    "    ax.tick_params(axis='y', labelcolor=glucose_color)\n",
    "    ax2.tick_params(axis='y', labelcolor=oxygen_color)\n",
    "\n",
    "    ax.set_xlim(0,1.05)\n",
    "    ax.set_xticks([0,0.2,0.4,0.6,0.8,1])\n",
    "    ax.set_xticklabels([0,0.2,0.4,0.6,0.8,1],fontsize=ticklabel_fontsize)\n",
    "\n",
    "    ax.set_ylabel('$Glucose$ [mmol / (h $g_{DW})$]',color=glucose_color,fontsize=axislabel_fontsize,labelpad=labelpad_axislables)\n",
    "    ax2.set_ylabel('$O_2$ [mmol / (h $g_{DW})$]',color=oxygen_color,fontsize=axislabel_fontsize,labelpad=labelpad_axislables)\n",
    "#    ax.set_ylabel('$Glucose$ [mmol (h $g_{DW}$)$^{-1}$]',color=glucose_color,fontsize=axislabel_fontsize,labelpad=labelpad_axislables)\n",
    "#    ax2.set_ylabel('$O_2$ [mmol (h $g_{DW}$)$^{-1}$]',color=oxygen_color,fontsize=axislabel_fontsize,labelpad=labelpad_axislables)\n",
    "\n",
    "    plt.title('Feasible uptake rates',fontsize=title_font_size)\n",
    "    ax.set_xlabel('Relative fitness',fontsize=axislabel_fontsize,labelpad=labelpad_axislables)\n"
   ]
  },
  {
   "cell_type": "code",
   "execution_count": null,
   "metadata": {},
   "outputs": [],
   "source": [
    "def plot_RVA_machinery(ax,input_data,mu_WT,P_TA_machinery_WT,Eatp_enzyme_WT,growth_rates):\n",
    "    ax.axvline(1,color=contrast_line_color,linestyle=\"dashed\",linewidth=2, zorder=1)\n",
    "    ax.fill_between(x=[i/mu_WT for i in growth_rates],y1=input_data[\"P_TA_machinery\"][\"Minima\"],y2=input_data[\"P_TA_machinery\"][\"Maxima\"],interpolate=True,color=dark_mud,alpha=0.35, zorder=2)\n",
    "    ax.plot([i/mu_WT for i in growth_rates],input_data[\"P_TA_machinery\"][\"Minima\"],color=dark_mud,alpha=1,linewidth=1, zorder=2)\n",
    "    ax.plot([i/mu_WT for i in growth_rates],input_data[\"P_TA_machinery\"][\"Maxima\"],color=dark_mud,alpha=1,linewidth=1, zorder=2)\n",
    "    if P_TA_machinery_WT is not None:\n",
    "        ax.scatter([1],[P_TA_machinery_WT],color=dark_mud,s=50, zorder=3)\n",
    "\n",
    "    ax2=ax.twinx()\n",
    "    ax2.fill_between(x=[i/mu_WT for i in growth_rates],y1=input_data[\"Eatp_enzyme\"][\"Minima\"],y2=input_data[\"Eatp_enzyme\"][\"Maxima\"],interpolate=True,color=\"#324B4A\",alpha=0.2, zorder=1)\n",
    "    ax2.plot([i/mu_WT for i in growth_rates],input_data[\"Eatp_enzyme\"][\"Minima\"],color=\"#324B4A\",alpha=1,linewidth=1, zorder=1)\n",
    "    ax2.plot([i/mu_WT for i in growth_rates],input_data[\"Eatp_enzyme\"][\"Maxima\"],color=\"#324B4A\",alpha=1,linewidth=1, zorder=1)\n",
    "    if Eatp_enzyme_WT is not None:\n",
    "        ax2.scatter([1],[Eatp_enzyme_WT],color=\"#324B4A\",s=50, zorder=2)\n",
    "\n",
    "    ax.tick_params(axis='y', labelcolor=dark_mud)\n",
    "    ax2.tick_params(axis='y', labelcolor=\"#324B4A\")\n",
    "\n",
    "    ax.set_xlim(0,1.05)\n",
    "    ax.set_xticks([0,0.2,0.4,0.6,0.8,1])\n",
    "    ax.set_xticklabels([0,0.2,0.4,0.6,0.8,1],fontsize=ticklabel_fontsize)\n",
    "\n",
    "    ax.set_ylabel('Ribosomes [mmol / $g_{DW}$]',color=dark_mud,fontsize=axislabel_fontsize,labelpad=labelpad_axislables)\n",
    "    ax2.set_ylabel('ATP synthase [mmol / $g_{DW}$]',color=\"#324B4A\",fontsize=axislabel_fontsize,labelpad=labelpad_axislables)\n",
    "\n",
    "    plt.title('Feasible machinery concentrations',fontsize=title_font_size)\n",
    "    ax.set_xlabel('Relative fitness',fontsize=axislabel_fontsize,labelpad=labelpad_axislables)\n"
   ]
  },
  {
   "cell_type": "code",
   "execution_count": null,
   "metadata": {},
   "outputs": [],
   "source": [
    "def plot_kapp_sampling_mu(ax,input_data,mu_WT):\n",
    "    seaborn.histplot(data=input_data.loc[(input_data[\"Mu\"]!=4)&(input_data[\"Mu\"]!=None)], \n",
    "                     x=\"Mu\",\n",
    "                     ax=ax,\n",
    "                     alpha=0.3,\n",
    "                     linewidth=0,\n",
    "                     color=contrast_line_color, \n",
    "                     kde=True,\n",
    "                     line_kws={\"linewidth\":4,\"alpha\":1,\"color\":\"blue\"},\n",
    "                     bins=17,\n",
    "                     fill=True, zorder=1)\n",
    "    if mu_WT is not None:\n",
    "        ax.axvline(mu_WT,color=contrast_line_color,linestyle=\"dashed\",linewidth=2, zorder=2)\n",
    "    ax.set_yticks([])\n",
    "    ax.set_xticks([0.25,0.3,0.35,0.4])\n",
    "    ax.set_xticklabels([0.25,0.3,0.35,0.4],fontsize=ticklabel_fontsize)\n",
    "    ax.set_ylabel(\"\")\n",
    "    ax.set_xlabel(\"Growth rate [$h^{-1}$]\",fontsize=axislabel_fontsize,labelpad=labelpad_axislables)\n",
    "    ax.set_title(\"Growth rates\",fontsize=title_font_size)\n",
    "\n",
    "\n",
    "def plot_kapp_sampling_o2(ax,input_data,o2_WT):\n",
    "    seaborn.histplot(data=input_data.loc[(input_data[\"R_EX_o2_e\"]!=None)], \n",
    "                     x=\"R_EX_o2_e\",\n",
    "                     ax=ax,\n",
    "                     alpha=0.4,\n",
    "                     linewidth=0,\n",
    "                     color=oxygen_color, \n",
    "                     kde=True,\n",
    "                     line_kws={\"linewidth\":4,\"alpha\":1,\"color\":oxygen_color},\n",
    "                     bins=17,\n",
    "                     fill=True, zorder=1)\n",
    "    if o2_WT is not None:\n",
    "        ax.axvline(o2_WT,color=contrast_line_color,linestyle=\"dashed\",linewidth=2, zorder=2)\n",
    "    ax.set_yticks([])\n",
    "    ax.set_xticks([8,9,10,11,12,13,14,15])\n",
    "    ax.set_xticklabels([8,9,10,11,12,13,14,15],fontsize=ticklabel_fontsize)\n",
    "    ax.set_ylabel(\"\")\n",
    "    ax.set_xlabel(\"$O_2$ uptake rate: [mmol / (h $g_{DW}$)]\",fontsize=axislabel_fontsize,labelpad=labelpad_axislables)\n",
    "#    ax.set_xlabel(\"$O_2$ uptake rate: [mmol (h $g_{DW}$)$^{-1}$]\",fontsize=axislabel_fontsize,labelpad=labelpad_axislables)\n",
    "    ax.set_title(\"Oxygen uptake rates\",fontsize=title_font_size)\n"
   ]
  },
  {
   "cell_type": "code",
   "execution_count": null,
   "metadata": {},
   "outputs": [],
   "source": [
    "def plot_pareto_vars_vs_mu(ax,input_data,mu_WT,add_reference_symbols=None):\n",
    "    mus=[]\n",
    "    atps=[]\n",
    "    prots=[]\n",
    "    for i in range(len(input_data[\"Growth-rate\"])):\n",
    "        if input_data[\"Growth-rate\"][i][0]==0:\n",
    "            continue\n",
    "        #mus.append(mu_WT*input_data[\"Growth-rate\"][i][0]/100)\n",
    "        mus.append(input_data[\"Growth-rate\"][i][0]/100)\n",
    "        atps.append(input_data[\"ATP_net\"][i][0])\n",
    "        prots.append(input_data[\"Protein\"][i][-1])\n",
    "\n",
    "    line1=ax.plot(mus,prots, linewidth=4,color=growth_rate_color, alpha=0.6, zorder=1)\n",
    "    ax.set_yticks([0,0.1,0.2,0.3,0.4,0.5])\n",
    "    ax.set_yticklabels([\"{}%\".format(int(i*100)) for i in [0,0.1,0.2,0.3,0.4,0.5]],fontsize=ticklabel_fontsize,rotation=0)\n",
    "    ax.tick_params(axis='y', labelcolor=growth_rate_color)\n",
    "\n",
    "    ax2=ax.twinx()\n",
    "    line2=ax2.plot(mus,atps, linewidth=4, alpha=0.6, color=\"black\", zorder=1)\n",
    "    ax2.set_yticks([0,5,10,15,20,25])\n",
    "    ax2.set_yticklabels([i for i in [0,5,10,15,20,25]],fontsize=ticklabel_fontsize,rotation=0)\n",
    "    ax2.tick_params(axis='y', labelcolor=\"black\")\n",
    "\n",
    "    ax.set_xticks([0,0.2,0.4,0.6,0.8,1])\n",
    "    ax.set_xticklabels([0,0.2,0.4,0.6,0.8,1],fontsize=ticklabel_fontsize)\n",
    "\n",
    "    trans = ax.get_xaxis_transform()\n",
    "    #ax.axvline(mu_WT,color=contrast_line_color,linestyle=\"dashed\",linewidth=2, zorder=1)\n",
    "    ax.axvline(1,color=contrast_line_color,linestyle=\"dashed\",linewidth=2, zorder=1)\n",
    "\n",
    "    if add_reference_symbols is not None:\n",
    "        ax.scatter([input_data['Growth-rate'][add_reference_symbols][-1]/100],[input_data['Protein'][add_reference_symbols][-1]],marker=\"s\",color=\"black\",s=60, zorder=2)\n",
    "        ax.text(input_data['Growth-rate'][add_reference_symbols][-1]/100,input_data['Protein'][add_reference_symbols][-1]+0.02,'Protein',rotation=0,color=\"black\",fontsize=annotation_fontsize)\n",
    "        ax2.scatter([input_data['Growth-rate'][add_reference_symbols][-1]/100],[input_data['ATP_net'][add_reference_symbols][0]],marker=\"o\",color=\"black\",s=100, zorder=2)\n",
    "        ax2.scatter([input_data['Growth-rate'][add_reference_symbols][-1]/100],[input_data['ATP_net'][add_reference_symbols][0]],marker=\"o\",color=\"white\",s=30, zorder=2)\n",
    "        ax2.text(0.9*input_data['Growth-rate'][add_reference_symbols][-1]/100,input_data['ATP_net'][add_reference_symbols][0]-2.2,'ATP',rotation=0,color=\"black\",fontsize=annotation_fontsize)\n",
    "\n",
    "    ax2.set_ylabel(\"ATP [mmol / (h $g_{DW}$)]\", color=\"black\", fontsize=axislabel_fontsize,labelpad=labelpad_axislables)\n",
    "    #ax2.set_ylabel(\"ATP [mmol (h $g_{DW}$)$^{-1}$]\", color=\"black\", fontsize=axislabel_fontsize,labelpad=labelpad_axislables)\n",
    "\n",
    "    ax.set_ylabel(\"Proteome fraction\", color=growth_rate_color, fontsize=axislabel_fontsize,labelpad=labelpad_axislables)\n",
    "    ax.set_xlabel(\"Relative fitness\", fontsize=axislabel_fontsize,labelpad=labelpad_axislables)\n",
    "    ax2.set_title('ATP and protein objective',fontsize=title_font_size)\n",
    "    "
   ]
  },
  {
   "cell_type": "code",
   "execution_count": null,
   "metadata": {},
   "outputs": [],
   "source": [
    "\n",
    "def fmt(x):\n",
    "    s = f\"{x/100:.1f}\"\n",
    "    if s.endswith(\"0\"):\n",
    "        s = f\"{x:.0f}\"\n",
    "    return(s+\" $\\\\mu_{max}$\")\n",
    "\n",
    "def plot_paretoFront_new(ax,input_data,add_reference_symbols=None):\n",
    "    import matplotlib as mpl\n",
    "    from mpl_toolkits.axes_grid1.inset_locator import inset_axes\n",
    "    CS10 =ax.contour(input_data[\"Protein\"], input_data[\"ATP_net\"], input_data[\"Growth-rate\"],levels=[10],colors=contrast_line_color,linewidths=2, zorder=1)\n",
    "    CS20 =ax.contour(input_data[\"Protein\"], input_data[\"ATP_net\"], input_data[\"Growth-rate\"],levels=[20],colors=contrast_line_color,linewidths=2, zorder=1)\n",
    "    CS30 =ax.contour(input_data[\"Protein\"], input_data[\"ATP_net\"], input_data[\"Growth-rate\"],levels=[30],colors=contrast_line_color,linewidths=2, zorder=1)\n",
    "    CS40 =ax.contour(input_data[\"Protein\"], input_data[\"ATP_net\"], input_data[\"Growth-rate\"],levels=[40],colors=contrast_line_color,linewidths=2, zorder=1)\n",
    "    CS50 =ax.contour(input_data[\"Protein\"], input_data[\"ATP_net\"], input_data[\"Growth-rate\"],levels=[50],colors=contrast_line_color,linewidths=2, zorder=1)\n",
    "    CS60 =ax.contour(input_data[\"Protein\"], input_data[\"ATP_net\"], input_data[\"Growth-rate\"],levels=[60],colors=contrast_line_color,linewidths=2, zorder=1)\n",
    "    CS70 =ax.contour(input_data[\"Protein\"], input_data[\"ATP_net\"], input_data[\"Growth-rate\"],levels=[70],colors=contrast_line_color,linewidths=2, zorder=1)\n",
    "    CS80 =ax.contour(input_data[\"Protein\"], input_data[\"ATP_net\"], input_data[\"Growth-rate\"],levels=[80],colors=contrast_line_color,linewidths=2, zorder=1)\n",
    "    CS90 =ax.contour(input_data[\"Protein\"], input_data[\"ATP_net\"], input_data[\"Growth-rate\"],levels=[90],colors=contrast_line_color,linewidths=2, zorder=1)\n",
    "\n",
    "    label_20=ax.clabel(CS20, inline=True, use_clabeltext=True,fmt=fmt,fontsize=annotation_fontsize,inline_spacing=400,colors=\"black\")\n",
    "    label_40=ax.clabel(CS40,inline=True, use_clabeltext=True,fmt=fmt,fontsize=annotation_fontsize,inline_spacing=850,colors=\"black\")\n",
    "    label_60=ax.clabel(CS60,inline=True, use_clabeltext=True,fmt=fmt,fontsize=annotation_fontsize,inline_spacing=1300,colors=\"black\")\n",
    "    label_80=ax.clabel(CS80,inline=True, use_clabeltext=True,fmt=fmt,fontsize=annotation_fontsize,inline_spacing=1800,colors=\"black\")\n",
    "\n",
    "    ax.set_ylim(-0.8,25.1)\n",
    "    ax.set_xlim(-0.012,0.52)\n",
    "    ax.set_xticks([0.0,0.1,0.2,0.3,0.4,0.5])\n",
    "    ax.set_xticklabels([\"{}%\".format(int(i*100)) for i in [0,0.1,0.2,0.3,0.4,0.5]],fontsize=ticklabel_fontsize)\n",
    "    ax.set_yticks([0,5,10,15,20,25])\n",
    "    ax.set_yticklabels([0,5,10,15,20,25],fontsize=ticklabel_fontsize)\n",
    "    \n",
    "    if add_reference_symbols is not None:\n",
    "        ax.scatter([input_data['Protein'][add_reference_symbols][0]],[input_data['ATP_net'][add_reference_symbols][0]],marker=\"o\",color=\"black\",s=100, zorder=2)\n",
    "        ax.scatter([input_data['Protein'][add_reference_symbols][0]],[input_data['ATP_net'][add_reference_symbols][0]],marker=\"o\",color=\"white\",s=30, zorder=2)\n",
    "        ax.scatter([input_data['Protein'][add_reference_symbols][-1]],[input_data['ATP_net'][add_reference_symbols][-1]],marker=\"s\",color=\"black\",s=60, zorder=2)\n",
    "    ax.set_title(\"Trade-off: protein- vs. ATP use\",fontsize=title_font_size)\n",
    "#    ax.set_ylabel(\"ATP [mmol (h $g_{DW}$)$^{-1}$]\",fontsize=axislabel_fontsize,labelpad=labelpad_axislables)\n",
    "    ax.set_ylabel(\"ATP [mmol / (h $g_{DW}$)]\",fontsize=axislabel_fontsize,labelpad=labelpad_axislables)\n",
    " \n",
    "    ax.set_xlabel(\"Proteome fraction\",fontsize=axislabel_fontsize,labelpad=labelpad_axislables)\n",
    "\n",
    "    #ax2=ax.twinx()\n",
    "    #ax2.tick_params(axis='y', labelcolor=\"white\")\n",
    "    #ax2.set_yticks([])\n",
    "    #ax2.set_yticklabels([],fontsize=ticklabel_fontsize)\n",
    "    #ax2.set_ylabel(\"\",color=\"white\")\n"
   ]
  },
  {
   "cell_type": "code",
   "execution_count": null,
   "metadata": {},
   "outputs": [],
   "source": [
    "def plot_ribosome_efficiency_sampling(ax,input_data,glucose_concentrations):\n",
    "    color_dict = {0.0125:\"steelblue\",\n",
    "                  0.025:\"steelblue\",\n",
    "                  0.05:\"steelblue\",\n",
    "                  0.1:\"steelblue\"}\n",
    "    \n",
    "    alpha_dict = {0.0125:0.25,\n",
    "                  0.025:0.5,\n",
    "                  0.05:0.75,\n",
    "                  0.1:1}\n",
    "\n",
    "    ax.axvline(0,color=contrast_line_color,alpha=0.4,linestyle=\"solid\",linewidth=2,zorder=1)\n",
    "\n",
    "    for glc_conc in reversed(glucose_concentrations):\n",
    "        log_scaling_coeffs = [numpy.log10(i) for i in input_data[glc_conc][\"Scaling Factors\"]]\n",
    "        if glc_conc in color_dict.keys():\n",
    "            ax.plot(log_scaling_coeffs, input_data[glc_conc][\"Growth_rates\"],\n",
    "                    color=color_dict[glc_conc], \n",
    "                    alpha=alpha_dict[glc_conc],\n",
    "                    linewidth=4,\n",
    "                    zorder=2)\n",
    "            ax.text(2,\n",
    "                    input_data[glc_conc][\"Growth_rates\"][-1]+0.025,\n",
    "                    \"Glc: {} mM\".format(glc_conc),\n",
    "                    rotation=0,\n",
    "                    color=\"black\",\n",
    "                    horizontalalignment='right',\n",
    "                    fontsize=annotation_fontsize)\n",
    "\n",
    "    ax.set_title(\"Sensitivity - ribosome efficiency\",fontsize=title_font_size)\n",
    "    ax.set_xlabel(\"Scaling factor\", fontsize=axislabel_fontsize,labelpad=labelpad_axislables)\n",
    "    ax.set_ylabel(\"Growth rate [$h^{-1}$]\", fontsize=axislabel_fontsize,labelpad=labelpad_axislables)\n",
    "    ax.set_xticks([-2,-1,1,2,0])\n",
    "    ax.set_xticklabels([str(\"$10^{\"+str(i)+\"}$\") for i in [-2,-1,1,2]]+[str(1)],fontsize=ticklabel_fontsize)\n",
    "    \n",
    "    ax.set_yticks([0,0.2,0.4,0.6,0.8,1.0])\n",
    "    ax.set_yticklabels([0,0.2,0.4,0.6,0.8,1.0],fontsize=ticklabel_fontsize)\n",
    "    ax.set_ylim(0,1.15)\n",
    "    "
   ]
  },
  {
   "cell_type": "code",
   "execution_count": null,
   "metadata": {},
   "outputs": [],
   "source": [
    "def plot_biotech_application(ax,input_data):\n",
    "    color_dict = {0.0125:\"steelblue\",\n",
    "                  0.025:\"steelblue\",\n",
    "                  0.05:\"steelblue\",\n",
    "                  0.1:\"steelblue\"}\n",
    "    alpha_dict = {0.0125:0.2,\n",
    "                  0.025:0.4,\n",
    "                  0.05:0.7,\n",
    "                  0.1:1}\n",
    "    \n",
    "    ax.plot(input_data['Excretion_fluxes'][0.1],[i/input_data['Growth_rates'][0.1][-1] for i in input_data['Growth_rates'][0.1]],\n",
    "                color=color_dict[0.1], label=\"Glc: 0.1 mM\",alpha=alpha_dict[0.1],linewidth=4)\n",
    "    ax.plot(input_data['Excretion_fluxes'][0.05],[i/input_data['Growth_rates'][0.05][-1] for i in input_data['Growth_rates'][0.05]],\n",
    "                color=color_dict[0.05], label=\"Glc: 0.05 mM\",alpha=alpha_dict[0.05],linewidth=4)\n",
    "    ax.plot(input_data['Excretion_fluxes'][0.025],[i/input_data['Growth_rates'][0.025][-1] for i in input_data['Growth_rates'][0.025]], \n",
    "                color=color_dict[0.025], label=\"Glc: 0.025 mM\",alpha=alpha_dict[0.025],linewidth=4)\n",
    "    ax.plot(input_data['Excretion_fluxes'][0.0125],[i/input_data['Growth_rates'][0.0125][-1] for i in input_data['Growth_rates'][0.0125]], \n",
    "                color=color_dict[0.0125], label=\"Glc: 0.0125 mM\",alpha=alpha_dict[0.0125],linewidth=4)\n",
    "    ax.legend(fontsize=annotation_fontsize, frameon=False,loc='upper right',labelspacing=0.3)\n",
    "    ax.set_yticks([0,0.2,0.4,0.6,0.8,1])\n",
    "    ax.set_yticklabels([0,0.2,0.4,0.6,0.8,1],fontsize=ticklabel_fontsize)\n",
    "    ax.set_xticks([0.1,0.3,0.5,0.7,0.9,1.1])\n",
    "    ax.set_xticklabels([0.1,0.3,0.5,0.7,0.9,1.1],fontsize=ticklabel_fontsize)\n",
    "    ax.set_ylabel(\"Relative fitness\",fontsize=axislabel_fontsize,labelpad=labelpad_axislables)\n",
    "#    ax.set_xlabel(\"Production Flux [mmol (h $g_{DW}$)$^{-1}$]\",fontsize=axislabel_fontsize,labelpad=labelpad_axislables)\n",
    "    ax.set_xlabel(\"Production Flux [mmol / (h $g_{DW}$)]\",fontsize=axislabel_fontsize,labelpad=labelpad_axislables)\n",
    "    ax.set_title(\"Vitamin B1 production\",fontsize=title_font_size)\n",
    " \n",
    "    #ax2=ax.twinx()\n",
    "    #ax2.scatter([1.1,1.1],[0,1])\n",
    "    #ax2.tick_params(axis='y', labelcolor=\"white\")\n",
    "    #ax2.set_yticks([0,1])\n",
    "    #ax2.set_yticklabels([0.0,1.1],fontsize=ticklabel_fontsize,color=\"white\")\n",
    "    #ax2.set_ylabel(\"\",color=\"white\")\n"
   ]
  },
  {
   "cell_type": "code",
   "execution_count": null,
   "metadata": {},
   "outputs": [],
   "source": [
    "def plot_local_enzyme_sensitivities(ax,input_data):\n",
    "    seaborn.histplot(data=input_data.query(\"Scaled_Sensitivity != 0\"), \n",
    "                         x=\"Scaled_Sensitivity\",\n",
    "                         ax=ax,\n",
    "                         alpha=0.3,\n",
    "                         color=dark_mud, \n",
    "                         linewidth=0,\n",
    "                         kde=True,\n",
    "                         line_kws={\"linewidth\":5,\"alpha\":1,\"color\":\"black\"},\n",
    "                         stat='count', \n",
    "                         bins=10,\n",
    "                         fill=True,\n",
    "                         log_scale=10,\n",
    "                         label=\"Enzyme efficiencies\")\n",
    "    trans = ax.get_xaxis_transform()\n",
    "    ax.axvline(input_data.loc['TptsG_efficiency','Scaled_Sensitivity'],linestyle=\"solid\",color=\"#324B4A\",linewidth=1,alpha=0.7)\n",
    "    ax.text(input_data.loc['TptsG_efficiency','Scaled_Sensitivity']*0.6,5,'Glucose transporter',rotation=90,color=\"#324B4A\",fontsize=annotation_fontsize,weight=\"bold\",alpha=0.8)\n",
    "\n",
    "    ax.axvline(input_data.loc['Eatp_efficiency','Scaled_Sensitivity'],linestyle=\"solid\",color=\"#324B4A\",linewidth=1,alpha=0.7)\n",
    "    ax.text(input_data.loc['Eatp_efficiency','Scaled_Sensitivity']*0.6,5,'ATP synthase',rotation=90,color=\"#324B4A\",fontsize=annotation_fontsize,weight=\"bold\",alpha=0.8)\n",
    "\n",
    "    ax.axvline(input_data.loc['Epyk_enzyme_forward_efficiency','Scaled_Sensitivity'],linestyle=\"solid\",color=\"#324B4A\",linewidth=1,alpha=0.7)\n",
    "    ax.text(input_data.loc['Epyk_enzyme_forward_efficiency','Scaled_Sensitivity']*0.6,5,'Pyruvate kinase',rotation=90,color=\"#324B4A\",fontsize=annotation_fontsize,weight=\"bold\",alpha=0.8)\n",
    "\n",
    "    #ax.axvline(input_data.loc['Tqox_enzyme_forward_efficiency','Scaled_Sensitivity'],linestyle=\"solid\",color=\"#324B4A\",linewidth=1,alpha=0.7)\n",
    "    #ax.text(input_data.loc['Tqox_enzyme_forward_efficiency','Scaled_Sensitivity']*0.6,10,'Quinol oxidase',rotation=90,color=\"#324B4A\",fontsize=annotation_fontsize,weight=\"bold\",alpha=0.8)\n",
    "\n",
    "    ax.axvline(input_data.loc['Th_efficiency','Scaled_Sensitivity'],linestyle=\"solid\",color=\"#324B4A\",linewidth=1,alpha=0.7)\n",
    "    ax.text(input_data.loc['Th_efficiency','Scaled_Sensitivity']*0.6,5,'Proton pump',rotation=90,color=\"#324B4A\",fontsize=annotation_fontsize,weight=\"bold\",alpha=0.8)\n",
    "\n",
    "    ax.axvline(input_data.loc['EcitZ_enzyme_forward_efficiency','Scaled_Sensitivity'],linestyle=\"solid\",color=\"#324B4A\",linewidth=1,alpha=0.7)\n",
    "    ax.text(input_data.loc['EcitZ_enzyme_forward_efficiency','Scaled_Sensitivity']*0.6,5,'Citrate synthase',rotation=90,color=\"#324B4A\",fontsize=annotation_fontsize,weight=\"bold\",alpha=0.8)\n",
    "\n",
    "    ax.axvline(input_data.loc['Egnd_enzyme_forward_efficiency','Scaled_Sensitivity'],linestyle=\"solid\",color=\"#324B4A\",linewidth=1,alpha=0.7)\n",
    "    ax.text(input_data.loc['Egnd_enzyme_forward_efficiency','Scaled_Sensitivity']*0.6,5,'Gluconate dehydrogenase',rotation=90,color=\"#324B4A\",fontsize=annotation_fontsize,weight=\"bold\",alpha=0.8)\n",
    "\n",
    "    ax.axvline(input_data.loc['EalaT_enzyme_forward_efficiency','Scaled_Sensitivity'],linestyle=\"solid\",color=\"#324B4A\",linewidth=1,alpha=0.7)\n",
    "    ax.text(input_data.loc['EalaT_enzyme_forward_efficiency','Scaled_Sensitivity']*0.6,5,'Alanine transaminase',rotation=90,color=\"#324B4A\",fontsize=annotation_fontsize,weight=\"bold\",alpha=0.8)\n",
    "\n",
    "    ax.set_yticks([])\n",
    "    ax.set_xlabel(\"Sensitivity\",fontsize=axislabel_fontsize,labelpad=labelpad_axislables)\n",
    "    ax.set_ylabel(\"\")\n",
    "\n",
    "    ax.set_title(\"Sensitivities - enzymes\",fontsize=title_font_size)\n",
    "    "
   ]
  },
  {
   "cell_type": "code",
   "execution_count": null,
   "metadata": {},
   "outputs": [],
   "source": []
  },
  {
   "cell_type": "markdown",
   "metadata": {},
   "source": [
    "# Do Plotting"
   ]
  },
  {
   "cell_type": "code",
   "execution_count": null,
   "metadata": {},
   "outputs": [],
   "source": [
    "glucose_color=\"cornflowerblue\"\n",
    "oxygen_color=\"#DC5964\"\n",
    "acetate_color=\"#C99999\"\n",
    "growth_rate_color=\"#AAAABC\"\n",
    "contrast_line_color=\"#454555\"\n",
    "dark_mud=\"#DDAA66\"\n",
    "\n",
    "letter_scaling=1\n",
    "title_font_size=18*letter_scaling\n",
    "ticklabel_fontsize=13*letter_scaling\n",
    "axislabel_fontsize=16*letter_scaling\n",
    "annotation_fontsize=12*letter_scaling\n",
    "labelpad_axislables=0.5"
   ]
  },
  {
   "cell_type": "markdown",
   "metadata": {},
   "source": [
    "## Individual single plots"
   ]
  },
  {
   "cell_type": "code",
   "execution_count": null,
   "metadata": {},
   "outputs": [],
   "source": [
    "fig = plt.figure(figsize=(7,4),constrained_layout=True)\n",
    "ax = fig.add_subplot(111)\n",
    "plot_glc_screen(ax=ax,input_data=Results_glc_screen,glucose_concentrations=glcs)\n",
    "plt.tight_layout()\n",
    "plt.savefig('Glucose_screen_review.png',dpi=500)\n"
   ]
  },
  {
   "cell_type": "code",
   "execution_count": null,
   "metadata": {},
   "outputs": [],
   "source": [
    "fig = plt.figure(figsize=(5,4),constrained_layout=True)\n",
    "ax = fig.add_subplot(111)\n",
    "plot_ribosome_efficiency_sampling(ax=ax,input_data=Ribosome_efficiency_sampling,glucose_concentrations=Glucose_concentrations_ribosome_efficiency_sampling)\n",
    "plt.tight_layout()\n",
    "plt.savefig('Ribosome_efficiency_sampling_review.png',dpi=500)\n"
   ]
  },
  {
   "cell_type": "code",
   "execution_count": null,
   "metadata": {},
   "outputs": [],
   "source": [
    "fig = plt.figure(figsize=(4,4),constrained_layout=True)\n",
    "ax = fig.add_subplot(111)\n",
    "plot_local_enzyme_sensitivities(ax=ax,input_data=Local_sensitivities_001)\n",
    "plt.tight_layout()\n",
    "plt.savefig('Local_sensitivities_attempt_2_review.png',dpi=500)\n"
   ]
  },
  {
   "cell_type": "code",
   "execution_count": null,
   "metadata": {},
   "outputs": [],
   "source": [
    "fig = plt.figure(figsize=(4,4),constrained_layout=True)\n",
    "gs = GridSpec(2,1, figure=fig)\n",
    "ax1 = fig.add_subplot(gs[0, 0])\n",
    "ax2 = fig.add_subplot(gs[1, 0])\n",
    "plot_kapp_sampling_mu(ax=ax1,input_data=sampling_results,mu_WT=mu_WT)\n",
    "plot_kapp_sampling_o2(ax=ax2,input_data=sampling_results,o2_WT=o2_WT)\n",
    "plt.tight_layout()\n",
    "plt.savefig('Global_sampling_review.png',dpi=500)\n"
   ]
  },
  {
   "cell_type": "code",
   "execution_count": null,
   "metadata": {},
   "outputs": [],
   "source": [
    "fig = plt.figure(figsize=(6.667,4),constrained_layout=True)\n",
    "ax = fig.add_subplot(111)\n",
    "plot_RVA(ax=ax,input_data=Feasible_Ranges,mu_WT=mu_WT,o2_WT=o2_WT,glc_WT=glc_WT,growth_rates=Mus_RVA)\n",
    "plt.tight_layout()\n",
    "plt.savefig('RVA_025.png',dpi=500)\n",
    "\n",
    "fig = plt.figure(figsize=(6.667,4),constrained_layout=True)\n",
    "ax = fig.add_subplot(111)\n",
    "plot_RVA(ax=ax,input_data=Feasible_Ranges_0125,mu_WT=mu_WT_0125,o2_WT=o2_WT_0125,glc_WT=glc_WT_0125,growth_rates=Mus_RVA_0125)\n",
    "plt.tight_layout()\n",
    "plt.savefig('RVA_0125.png',dpi=500)\n",
    "\n",
    "fig = plt.figure(figsize=(6.667,4),constrained_layout=True)\n",
    "ax = fig.add_subplot(111)\n",
    "plot_RVA_machinery(ax=ax,input_data=Feasible_Ranges,mu_WT=mu_WT,P_TA_machinery_WT=P_TA_WT,Eatp_enzyme_WT=Eatp_enzyme_WT,growth_rates=Mus_RVA)\n",
    "plt.tight_layout()\n",
    "plt.savefig('RVA_machinery_025.png',dpi=500)\n"
   ]
  },
  {
   "cell_type": "code",
   "execution_count": null,
   "metadata": {},
   "outputs": [],
   "source": [
    "fig = plt.figure(figsize=(6.667,4),constrained_layout=True)\n",
    "ax = fig.add_subplot(111)\n",
    "plot_pareto_vars_vs_mu(ax=ax,input_data=Results_Pareto,mu_WT=mu_WT,add_reference_symbols=7)\n",
    "plt.tight_layout()\n",
    "plt.savefig('Pareto_variables_review.png',dpi=500)\n"
   ]
  },
  {
   "cell_type": "code",
   "execution_count": null,
   "metadata": {},
   "outputs": [],
   "source": [
    "fig = plt.figure(figsize=(6.667,4),constrained_layout=True)\n",
    "ax = fig.add_subplot(111)\n",
    "plot_paretoFront_new(ax=ax,input_data=Results_Pareto,add_reference_symbols=7)\n",
    "plt.tight_layout()\n",
    "plt.savefig('Pareto_front_review.png',dpi=500)"
   ]
  },
  {
   "cell_type": "code",
   "execution_count": null,
   "metadata": {},
   "outputs": [],
   "source": [
    "fig = plt.figure(figsize=(6.66,4),constrained_layout=True)\n",
    "ax = fig.add_subplot(111)\n",
    "plot_biotech_application(ax=ax,input_data=biotech_application_results)\n",
    "plt.tight_layout()\n",
    "plt.savefig('Vitamin_B1_review.png',dpi=500)\n"
   ]
  },
  {
   "cell_type": "code",
   "execution_count": null,
   "metadata": {},
   "outputs": [],
   "source": []
  }
 ],
 "metadata": {
  "kernelspec": {
   "display_name": "Python 3",
   "language": "python",
   "name": "python3"
  },
  "language_info": {
   "codemirror_mode": {
    "name": "ipython",
    "version": 3
   },
   "file_extension": ".py",
   "mimetype": "text/x-python",
   "name": "python",
   "nbconvert_exporter": "python",
   "pygments_lexer": "ipython3",
   "version": "3.6.5"
  }
 },
 "nbformat": 4,
 "nbformat_minor": 2
}
