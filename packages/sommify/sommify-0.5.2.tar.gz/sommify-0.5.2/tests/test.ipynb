{
 "cells": [
  {
   "cell_type": "code",
   "execution_count": 1,
   "metadata": {},
   "outputs": [],
   "source": [
    "from sommify.recipes import reader\n",
    "from sommify.recipes.reader import RecipeReader\n",
    "\n",
    "from elasticsearch import Elasticsearch\n",
    "from collections import Counter\n",
    "import numpy as np\n",
    "from sommify.data.meat import dictionary\n",
    "from sommify.recipes import elastic"
   ]
  },
  {
   "cell_type": "code",
   "execution_count": 2,
   "metadata": {},
   "outputs": [
    {
     "name": "stderr",
     "output_type": "stream",
     "text": [
      "/Users/williambrach/miniforge3/envs/ps-models/lib/python3.9/site-packages/spacy/util.py:887: UserWarning: [W095] Model 'en_core_web_sm' (3.4.1) was trained with spaCy v3.4 and may not be 100% compatible with the current version (3.5.2). If you see errors or degraded performance, download a newer compatible model or retrain your custom model with the current spaCy version. For more details and available updates, run: python -m spacy validate\n",
      "  warnings.warn(warn_msg)\n",
      "{'cluster_name': '3ccb03fd7e6347ee80684e0f10f73f55', 'status': 'red', 'timed_out': False, 'number_of_nodes': 1, 'number_of_data_nodes': 1, 'active_primary_shards': 42, 'active_shards': 42, 'relocating_shards': 0, 'initializing_shards': 0, 'unassigned_shards': 57, 'delayed_unassigned_shards': 0, 'number_of_pending_tasks': 0, 'number_of_in_flight_fetch': 0, 'task_max_waiting_in_queue_millis': 0, 'active_shards_percent_as_number': 42.42424242424242}\n",
      "INPUT TERM : VELKE HOVNO CLOVEKU | TERM LEN :3\n",
      "Number of hits : 0\n"
     ]
    },
    {
     "ename": "Exception",
     "evalue": "No recipe found.",
     "output_type": "error",
     "traceback": [
      "\u001b[0;31m---------------------------------------------------------------------------\u001b[0m",
      "\u001b[0;31mException\u001b[0m                                 Traceback (most recent call last)",
      "\u001b[1;32m/Users/williambrach/Developer/PocketSomm/ps-cookbook/tests/test.ipynb Cell 2\u001b[0m in \u001b[0;36m6\n\u001b[1;32m      <a href='vscode-notebook-cell:/Users/williambrach/Developer/PocketSomm/ps-cookbook/tests/test.ipynb#W1sZmlsZQ%3D%3D?line=2'>3</a>\u001b[0m r \u001b[39m=\u001b[39m RecipeReader(ELASTIC_PASSWORD, ELASTIC_CLOUD_ID)\n\u001b[1;32m      <a href='vscode-notebook-cell:/Users/williambrach/Developer/PocketSomm/ps-cookbook/tests/test.ipynb#W1sZmlsZQ%3D%3D?line=4'>5</a>\u001b[0m \u001b[39mimport\u001b[39;00m \u001b[39mlogging\u001b[39;00m\n\u001b[0;32m----> <a href='vscode-notebook-cell:/Users/williambrach/Developer/PocketSomm/ps-cookbook/tests/test.ipynb#W1sZmlsZQ%3D%3D?line=5'>6</a>\u001b[0m elastic\u001b[39m.\u001b[39;49msearch_by_query_term(r\u001b[39m.\u001b[39;49mes,\u001b[39m\"\u001b[39;49m\u001b[39mVELKE HOVNO CLOVEKU\u001b[39;49m\u001b[39m\"\u001b[39;49m)\n",
      "File \u001b[0;32m~/Developer/PocketSomm/ps-cookbook/sommify/recipes/elastic.py:77\u001b[0m, in \u001b[0;36msearch_by_query_term\u001b[0;34m(es, input_term)\u001b[0m\n\u001b[1;32m     74\u001b[0m logger\u001b[39m.\u001b[39minfo(\u001b[39mf\u001b[39m\u001b[39m\"\u001b[39m\u001b[39mNumber of hits : \u001b[39m\u001b[39m{\u001b[39;00mnumber_of_hits\u001b[39m}\u001b[39;00m\u001b[39m\"\u001b[39m)\n\u001b[1;32m     76\u001b[0m \u001b[39mif\u001b[39;00m number_of_hits \u001b[39m==\u001b[39m \u001b[39m0\u001b[39m:\n\u001b[0;32m---> 77\u001b[0m     \u001b[39mraise\u001b[39;00m \u001b[39mException\u001b[39;00m(\u001b[39m\"\u001b[39m\u001b[39mNo recipe found.\u001b[39m\u001b[39m\"\u001b[39m)\n\u001b[1;32m     79\u001b[0m \u001b[39mfor\u001b[39;00m r \u001b[39min\u001b[39;00m hits[\u001b[39m\"\u001b[39m\u001b[39mhits\u001b[39m\u001b[39m\"\u001b[39m]:\n\u001b[1;32m     80\u001b[0m     all_ings\u001b[39m.\u001b[39mextend(i[\u001b[39m\"\u001b[39m\u001b[39mvalue\u001b[39m\u001b[39m\"\u001b[39m] \u001b[39mfor\u001b[39;00m i \u001b[39min\u001b[39;00m r[\u001b[39m\"\u001b[39m\u001b[39m_source\u001b[39m\u001b[39m\"\u001b[39m][\u001b[39m\"\u001b[39m\u001b[39mingredients\u001b[39m\u001b[39m\"\u001b[39m])\n",
      "\u001b[0;31mException\u001b[0m: No recipe found."
     ]
    }
   ],
   "source": [
    "ELASTIC_PASSWORD=\"qdpgMlSrNBspS7e4GKwLSouf\"\n",
    "ELASTIC_CLOUD_ID=\"sommify-elastic:d2VzdGV1cm9wZS5henVyZS5lbGFzdGljLWNsb3VkLmNvbTo0NDMkM2NjYjAzZmQ3ZTYzNDdlZTgwNjg0ZTBmMTBmNzNmNTUkYzEyYzUzYzUyN2I4NGQ4OWJjNjZkMDMwZmE2ZTNjMjg=\"\n",
    "r = RecipeReader(ELASTIC_PASSWORD, ELASTIC_CLOUD_ID)\n",
    "\n",
    "import logging\n",
    "elastic.search_by_query_term(r.es,\"VELKE HOVNO CLOVEKU\")"
   ]
  }
 ],
 "metadata": {
  "kernelspec": {
   "display_name": "ps-models",
   "language": "python",
   "name": "python3"
  },
  "language_info": {
   "codemirror_mode": {
    "name": "ipython",
    "version": 3
   },
   "file_extension": ".py",
   "mimetype": "text/x-python",
   "name": "python",
   "nbconvert_exporter": "python",
   "pygments_lexer": "ipython3",
   "version": "3.9.16"
  },
  "orig_nbformat": 4
 },
 "nbformat": 4,
 "nbformat_minor": 2
}
