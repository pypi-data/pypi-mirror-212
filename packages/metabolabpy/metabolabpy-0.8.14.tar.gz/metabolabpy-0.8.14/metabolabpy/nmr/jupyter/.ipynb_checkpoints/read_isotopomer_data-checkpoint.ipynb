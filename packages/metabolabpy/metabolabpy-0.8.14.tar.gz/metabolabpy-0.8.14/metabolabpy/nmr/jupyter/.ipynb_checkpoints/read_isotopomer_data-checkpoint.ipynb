{
 "cells": [
  {
   "cell_type": "code",
   "execution_count": 1,
   "id": "f25e95eb",
   "metadata": {
    "pycharm": {
     "name": "#%%\n"
    }
   },
   "outputs": [],
   "source": [
    "import pandas as pd\n",
    "from metabolabpy.iso import isotopomerAnalysis\n",
    "ia = isotopomerAnalysis.IsotopomerAnalysis()\n",
    "ia.read_hsqc_multiplets('/Volumes/Users/ludwigc/Documents/hsqcMultiplets.xlsx')\n",
    "ia.read_nmr1d_data('/Volumes/Users/ludwigc/Documents/nmr1Ddata.xlsx')\n",
    "ia.read_gcms_data('/Volumes/Users/ludwigc/Documents/gcmsData.xlsx')\n",
    "ia.fit_isotopomers = [[0, 1, 1], [0, 0, 1]]"
   ]
  },
  {
   "cell_type": "code",
   "execution_count": 2,
   "id": "721b0aad",
   "metadata": {},
   "outputs": [],
   "source": [
    "dd=[[0,0,0]]\n",
    "for k in range(len(ia.fit_isotopomers)):\n",
    "    dd.append(ia.fit_isotopomers[k])"
   ]
  },
  {
   "cell_type": "code",
   "execution_count": 3,
   "id": "6d545119",
   "metadata": {},
   "outputs": [
    {
     "data": {
      "text/plain": [
       "[[0, 0, 0], [0, 1, 1], [0, 0, 1]]"
      ]
     },
     "execution_count": 3,
     "metadata": {},
     "output_type": "execute_result"
    }
   ],
   "source": [
    "dd"
   ]
  },
  {
   "cell_type": "code",
   "execution_count": null,
   "id": "cef414b5",
   "metadata": {},
   "outputs": [],
   "source": []
  }
 ],
 "metadata": {
  "kernelspec": {
   "display_name": "Python 3 (ipykernel)",
   "language": "python",
   "name": "python3"
  },
  "language_info": {
   "codemirror_mode": {
    "name": "ipython",
    "version": 3
   },
   "file_extension": ".py",
   "mimetype": "text/x-python",
   "name": "python",
   "nbconvert_exporter": "python",
   "pygments_lexer": "ipython3",
   "version": "3.11.3"
  }
 },
 "nbformat": 4,
 "nbformat_minor": 5
}
