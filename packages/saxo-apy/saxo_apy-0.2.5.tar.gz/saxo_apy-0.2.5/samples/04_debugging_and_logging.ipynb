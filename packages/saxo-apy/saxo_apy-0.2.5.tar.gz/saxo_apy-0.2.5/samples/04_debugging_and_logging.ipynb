{
 "cells": [
  {
   "attachments": {},
   "cell_type": "markdown",
   "metadata": {},
   "source": [
    "## Enabling Logging for Debugging\n",
    "\n",
    "Saxo-apy can produce detailed logging output to observe the behavior of your app and its API interactions. It can be useful to enable logging during development for extra context when unexpected errors occur. If you are looking to request support or create a GitHub issue, make sure to run your code with logging enabled and include the log file in your request. Two parameters can be set to control logging output:"
   ]
  },
  {
   "cell_type": "code",
   "execution_count": 1,
   "metadata": {},
   "outputs": [],
   "source": [
    "from saxo_apy import SaxoOpenAPIClient\n",
    "\n",
    "\n",
    "client = SaxoOpenAPIClient(\n",
    "    log_sink=\"log.txt\",  # controls the file to append logs to (will not override existing file!)\n",
    "    log_level=\"DEBUG\",  # controls the level of log messages to be written to the file (default is DEBUG)\n",
    ")"
   ]
  },
  {
   "attachments": {},
   "cell_type": "markdown",
   "metadata": {},
   "source": [
    "If the client is initialized with these optional parameters, logs will be written to chosen file. The log level is `DEBUG` by default. In case you don't want to change the log level you can omit this parameter altogether as well.\n",
    "\n",
    "Next, we run the login flow:"
   ]
  },
  {
   "cell_type": "code",
   "execution_count": 2,
   "metadata": {},
   "outputs": [
    {
     "name": "stdout",
     "output_type": "stream",
     "text": [
      "🌐 opening login page in browser - waiting for user to authenticate... 🔑\n",
      "📞 received callback from Saxo SSO\n",
      "✅ authorization succeeded - connected to SIM environment with WRITE / TRADE permissions (session ID: 95af38e86c1547fdafc4204a0684ded7)\n"
     ]
    }
   ],
   "source": [
    "client.login()"
   ]
  },
  {
   "attachments": {},
   "cell_type": "markdown",
   "metadata": {},
   "source": [
    "The file `log.txt` will now include the below details. Note that the timestamps have been removed from these logs for readability.\n",
    "\n",
    "```\n",
    "DEBUG    client              76 __init__                  initializing OpenAPI Client with session id: zFvtCWyF1hblWA | saxo-apy version: 0.2.2 | install path: /Users/gid/code/saxo-openapi-client-python/saxo_apy | python version: 3.11.1 (main, Dec 23 2022, 09:28:24) [Clang 14.0.0 (clang-1400.0.29.202)] | platform: macOS-13.1-arm64-arm-64bit \n",
    "SUCCESS  client             100 __init__                  successfully parsed app config and initialized OpenAPI Client\n",
    "DEBUG    client             122 login                     initializing login sequence with redirect_url=None, launch_browser=True catch_redirect=True start_async_refresh=False redirect_port=None\n",
    "DEBUG    client             129 login                     logging in with str(_redirect_url)='http://localhost:12321/redirect' and str(auth_url)='https://sim.logonvalidation.net/authorize?response_type=code&client_id=<clientid>&state=WjPQ-66kPlcUgnRczZZ0h-od5_k&redirect_uri=http%3A%2F%2Flocalhost%3A12321%2Fredirect'\n",
    "DEBUG    redirect_server     69 __init__                  initializing redirect server: 0.0.0.0:12321/redirect\n",
    "DEBUG    redirect_server     79 run                       starting redirect server\n",
    "DEBUG    client             136 login                     launching browser with login page\n",
    "DEBUG    redirect_server     46 handle_redirect           redirect server received callback: http://localhost:12321/redirect?code=1e123d62-95c0-4913-bed0-cc03c94be4dc&state=WjPQ-66kPlcUgnRczZZ0h-od5_k\n",
    "SUCCESS  redirect_server     57 handle_redirect           redirect URL auth code found\n",
    "DEBUG    redirect_server     84 shutdown                  terminating redirect server\n",
    "DEBUG    client             245 get_tokens                exercising authorization with grant type: authorization_code\n",
    "DEBUG    client             269 get_tokens                received 201 response from sim.logonvalidation.net - request headers: Headers({'host': 'sim.logonvalidation.net', 'content-length': '0', 'accept': '*/*', 'accept-encoding': 'gzip, deflate', 'connection': 'keep-alive', 'user-agent': 'saxo-apy/0.2.2', 'x-request-id': 'vGfMdm_ddoufhQ', 'authorization': '[secure]'})\n",
    "SUCCESS  client             282 get_tokens                successfully exercised authorization - new token meta data: {'token_type': 'Bearer', 'expires_in': 1199, 'refresh_token_expires_in': 3599, 'base_uri': None, 'access_token_expiry': 1675194000, 'refresh_token_expiry': 1675196400, 'client_key': '<clientkey>', 'user_key': '<userkey>', 'session_id': '95af38e86c1547fdafc4204a0684ded7', 'write_permission': True}\n",
    "SUCCESS  client             191 login                     login completed\n",
    "```\n",
    "\n",
    "Next, we run a erroneous OpenAPI request:"
   ]
  },
  {
   "cell_type": "code",
   "execution_count": 3,
   "metadata": {},
   "outputs": [
    {
     "ename": "APIResponseError",
     "evalue": "status: 404 - NOT FOUND\nerror: requested resource or entity the request operates on could not be found (or you don't have the required permissions for the requested entity)\nclient request id: saxo-apy/0.2.2/zFvtCWyF1hblWA/_D4brEIewuP3Bw\nserver trace id: None\ntimestamp (UTC): 2023-01-31T19:20:08.013828 - elapsed: 0:00:00.150927 - env: SIM",
     "output_type": "error",
     "traceback": [
      "\u001b[0;31m---------------------------------------------------------------------------\u001b[0m",
      "\u001b[0;31mAPIResponseError\u001b[0m                          Traceback (most recent call last)",
      "\u001b[0;32m/var/folders/96/t2cfkp9j46q5nhdlgln66dsw0000gn/T/ipykernel_5236/948626741.py\u001b[0m in \u001b[0;36m<cell line: 0>\u001b[0;34m()\u001b[0m\n\u001b[0;32m----> 1\u001b[0;31m \u001b[0mclient\u001b[0m\u001b[0;34m.\u001b[0m\u001b[0mget\u001b[0m\u001b[0;34m(\u001b[0m\u001b[0;34m\"/this/route/does/not/exist\"\u001b[0m\u001b[0;34m)\u001b[0m\u001b[0;34m\u001b[0m\u001b[0;34m\u001b[0m\u001b[0m\n\u001b[0m",
      "\u001b[0;32m~/code/saxo-openapi-client-python/saxo_apy/client.py\u001b[0m in \u001b[0;36mget\u001b[0;34m(self, path, params)\u001b[0m\n\u001b[1;32m    299\u001b[0m     \u001b[0;32mdef\u001b[0m \u001b[0mget\u001b[0m\u001b[0;34m(\u001b[0m\u001b[0mself\u001b[0m\u001b[0;34m,\u001b[0m \u001b[0mpath\u001b[0m\u001b[0;34m:\u001b[0m \u001b[0mstr\u001b[0m\u001b[0;34m,\u001b[0m \u001b[0mparams\u001b[0m\u001b[0;34m:\u001b[0m \u001b[0mOptional\u001b[0m\u001b[0;34m[\u001b[0m\u001b[0mDict\u001b[0m\u001b[0;34m]\u001b[0m \u001b[0;34m=\u001b[0m \u001b[0;32mNone\u001b[0m\u001b[0;34m)\u001b[0m \u001b[0;34m->\u001b[0m \u001b[0mDict\u001b[0m\u001b[0;34m:\u001b[0m\u001b[0;34m\u001b[0m\u001b[0;34m\u001b[0m\u001b[0m\n\u001b[1;32m    300\u001b[0m         \u001b[0;34m\"\"\"Send GET request to OpenAPI and handle response.\"\"\"\u001b[0m\u001b[0;34m\u001b[0m\u001b[0;34m\u001b[0m\u001b[0m\n\u001b[0;32m--> 301\u001b[0;31m         \u001b[0mresponse\u001b[0m \u001b[0;34m=\u001b[0m \u001b[0mhandle_api_response\u001b[0m\u001b[0;34m(\u001b[0m\u001b[0mself\u001b[0m\u001b[0;34m.\u001b[0m\u001b[0mopenapi_request\u001b[0m\u001b[0;34m(\u001b[0m\u001b[0;34m\"GET\"\u001b[0m\u001b[0;34m,\u001b[0m \u001b[0mpath\u001b[0m\u001b[0;34m,\u001b[0m \u001b[0mparams\u001b[0m\u001b[0;34m)\u001b[0m\u001b[0;34m)\u001b[0m\u001b[0;34m\u001b[0m\u001b[0;34m\u001b[0m\u001b[0m\n\u001b[0m\u001b[1;32m    302\u001b[0m         \u001b[0;32mreturn\u001b[0m \u001b[0mresponse\u001b[0m\u001b[0;34m.\u001b[0m\u001b[0mjson\u001b[0m\u001b[0;34m(\u001b[0m\u001b[0;34m)\u001b[0m\u001b[0;34m\u001b[0m\u001b[0;34m\u001b[0m\u001b[0m\n\u001b[1;32m    303\u001b[0m \u001b[0;34m\u001b[0m\u001b[0m\n",
      "\u001b[0;32m~/code/saxo-openapi-client-python/saxo_apy/utils.py\u001b[0m in \u001b[0;36mhandle_api_response\u001b[0;34m(response)\u001b[0m\n\u001b[1;32m    128\u001b[0m         )\n\u001b[1;32m    129\u001b[0m         \u001b[0mlogger\u001b[0m\u001b[0;34m.\u001b[0m\u001b[0merror\u001b[0m\u001b[0;34m(\u001b[0m\u001b[0;34mf\"error response received from API:\\n{exc}\"\u001b[0m\u001b[0;34m)\u001b[0m\u001b[0;34m\u001b[0m\u001b[0;34m\u001b[0m\u001b[0m\n\u001b[0;32m--> 130\u001b[0;31m         \u001b[0;32mraise\u001b[0m \u001b[0mexc\u001b[0m\u001b[0;34m\u001b[0m\u001b[0;34m\u001b[0m\u001b[0m\n\u001b[0m\u001b[1;32m    131\u001b[0m \u001b[0;34m\u001b[0m\u001b[0m\n\u001b[1;32m    132\u001b[0m     logger.success(\n",
      "\u001b[0;31mAPIResponseError\u001b[0m: status: 404 - NOT FOUND\nerror: requested resource or entity the request operates on could not be found (or you don't have the required permissions for the requested entity)\nclient request id: saxo-apy/0.2.2/zFvtCWyF1hblWA/_D4brEIewuP3Bw\nserver trace id: None\ntimestamp (UTC): 2023-01-31T19:20:08.013828 - elapsed: 0:00:00.150927 - env: SIM"
     ]
    }
   ],
   "source": [
    "client.get(\"/this/route/does/not/exist\")"
   ]
  },
  {
   "attachments": {},
   "cell_type": "markdown",
   "metadata": {},
   "source": [
    "The log file now has the following details appended to it:\n",
    "\n",
    "```\n",
    "DEBUG    client             373 openapi_request           performing request with id: _D4brEIewuP3Bw - GET /this/route/does/not/exist, params=None, data=None\n",
    "ERROR    utils              129 handle_api_response       error response received from API:\n",
    "status: 404 - NOT FOUND\n",
    "error: requested resource or entity the request operates on could not be found (or you don't have the required permissions for the requested entity)\n",
    "client request id: saxo-apy/0.2.2/zFvtCWyF1hblWA/_D4brEIewuP3Bw\n",
    "server trace id: None\n",
    "timestamp (UTC): 2023-01-31T19:20:08.013828 - elapsed: 0:00:00.150927 - env: SIM\n",
    "```"
   ]
  }
 ],
 "metadata": {
  "kernelspec": {
   "display_name": ".venv",
   "language": "python",
   "name": "python3"
  },
  "language_info": {
   "codemirror_mode": {
    "name": "ipython",
    "version": 3
   },
   "file_extension": ".py",
   "mimetype": "text/x-python",
   "name": "python",
   "nbconvert_exporter": "python",
   "pygments_lexer": "ipython3",
   "version": "3.11.3"
  },
  "orig_nbformat": 4,
  "vscode": {
   "interpreter": {
    "hash": "3f753197f020b6236bb06be37c192ff4bc0da2ccc1bf66f005a7556bcabdf016"
   }
  }
 },
 "nbformat": 4,
 "nbformat_minor": 2
}
