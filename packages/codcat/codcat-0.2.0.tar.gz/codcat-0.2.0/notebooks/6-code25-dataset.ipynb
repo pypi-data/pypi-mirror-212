{
 "cells": [
  {
   "cell_type": "markdown",
   "id": "98d03364-9b8a-4a3e-8e69-607b9bf12d0f",
   "metadata": {},
   "source": [
    "## Full SCC dataset"
   ]
  },
  {
   "cell_type": "markdown",
   "id": "13d2cf6e-ff05-485c-890f-73b10907815d",
   "metadata": {},
   "source": [
    "In the previous steps, we used a dataset that was better pre-cleaned and contained enough data. However, for the purity of the experiment, we should use the original dataset from the SCC article, divide it in the necessary ratio, and make measurements on it. \n",
    "\n",
    "Link for dataset: https://github.com/Kamel773/SourceCodeClassification\n",
    "\n",
    "We downloaded into `code25` folder."
   ]
  },
  {
   "cell_type": "code",
   "execution_count": 1,
   "id": "f751ec46-fa13-4efa-a603-17de82e053f6",
   "metadata": {},
   "outputs": [],
   "source": [
    "from codcat.utils.dataset import load_labeled_data\n",
    "from sklearn.model_selection import train_test_split"
   ]
  },
  {
   "cell_type": "code",
   "execution_count": 2,
   "id": "942a6e5e-4676-4b7a-9d21-e94e0c5d94e6",
   "metadata": {},
   "outputs": [],
   "source": [
    "data = load_labeled_data('/home/qnbhd/Development/sniplang/code25')"
   ]
  },
  {
   "cell_type": "markdown",
   "id": "3eb6d0b0-3f6b-4b2f-b3a0-8e3f9106fab2",
   "metadata": {},
   "source": [
    "In SCC, SCC++, DeepSCC papers authors use 20% for testing"
   ]
  },
  {
   "cell_type": "code",
   "execution_count": 3,
   "id": "451bc23b-251e-4e70-927f-9516cab2b69a",
   "metadata": {},
   "outputs": [],
   "source": [
    "train, test = train_test_split(data, random_state=42, test_size=0.2)"
   ]
  },
  {
   "cell_type": "code",
   "execution_count": 4,
   "id": "53e9cd3b-1a88-4238-a98a-898b61540044",
   "metadata": {},
   "outputs": [],
   "source": [
    "train.to_json('train-code25.json')\n",
    "test.to_json('test-code25.json')"
   ]
  },
  {
   "cell_type": "markdown",
   "id": "4e37e169-2169-47db-b367-044e8d6fe9f2",
   "metadata": {},
   "source": [
    "To test the basic models, we will further reduce the size of the training and test samples."
   ]
  },
  {
   "cell_type": "code",
   "execution_count": 5,
   "id": "ae45a289-881e-486e-946c-f5d8db7fb119",
   "metadata": {},
   "outputs": [],
   "source": [
    "_, temp = train_test_split(test, random_state=42, test_size=0.3)\n",
    "train_smol, test_smol = train_test_split(temp, random_state=42, test_size=0.2)"
   ]
  },
  {
   "cell_type": "code",
   "execution_count": 6,
   "id": "b555a035-0f01-4b20-919b-750731fc3042",
   "metadata": {},
   "outputs": [],
   "source": [
    "train_smol.to_json('train-code25-smol.json')\n",
    "test_smol.to_json('test-code25-smol.json')"
   ]
  },
  {
   "cell_type": "code",
   "execution_count": 7,
   "id": "58ad4b70-8f37-40f9-8dfa-edf8f2760605",
   "metadata": {},
   "outputs": [
    {
     "data": {
      "text/plain": [
       "(10773, 2)"
      ]
     },
     "execution_count": 7,
     "metadata": {},
     "output_type": "execute_result"
    }
   ],
   "source": [
    "train_smol.shape"
   ]
  },
  {
   "cell_type": "code",
   "execution_count": 8,
   "id": "9eb46b13-be89-4e93-aa1f-42ddaaa9da6a",
   "metadata": {},
   "outputs": [
    {
     "data": {
      "text/plain": [
       "(2694, 2)"
      ]
     },
     "execution_count": 8,
     "metadata": {},
     "output_type": "execute_result"
    }
   ],
   "source": [
    "test_smol.shape"
   ]
  },
  {
   "cell_type": "code",
   "execution_count": 9,
   "id": "867b562b-f6fa-4399-b90b-13944ba11959",
   "metadata": {},
   "outputs": [
    {
     "data": {
      "text/plain": [
       "bash          582\n",
       "c             581\n",
       "c_sharp       580\n",
       "cpp           577\n",
       "css           566\n",
       "haskell       588\n",
       "java          586\n",
       "javascript    590\n",
       "lua           394\n",
       "objc          598\n",
       "perl          589\n",
       "php           552\n",
       "python        551\n",
       "r             596\n",
       "ruby          559\n",
       "scala         562\n",
       "sqlite        582\n",
       "swift         560\n",
       "vb.net        580\n",
       "Name: language, dtype: int64"
      ]
     },
     "execution_count": 9,
     "metadata": {},
     "output_type": "execute_result"
    }
   ],
   "source": [
    "train_smol['language'].value_counts().sort_index()"
   ]
  },
  {
   "cell_type": "code",
   "execution_count": 10,
   "id": "abebbbd1-5ab6-4082-96cc-61dafa276b1b",
   "metadata": {},
   "outputs": [
    {
     "data": {
      "text/plain": [
       "bash          129\n",
       "c             132\n",
       "c_sharp       143\n",
       "cpp           153\n",
       "css           145\n",
       "haskell       146\n",
       "java          169\n",
       "javascript    131\n",
       "lua           104\n",
       "objc          133\n",
       "perl          142\n",
       "php           150\n",
       "python        151\n",
       "r             136\n",
       "ruby          143\n",
       "scala         128\n",
       "sqlite        153\n",
       "swift         153\n",
       "vb.net        153\n",
       "Name: language, dtype: int64"
      ]
     },
     "execution_count": 10,
     "metadata": {},
     "output_type": "execute_result"
    }
   ],
   "source": [
    "test_smol['language'].value_counts().sort_index()"
   ]
  },
  {
   "cell_type": "code",
   "execution_count": null,
   "id": "7b440291-dabb-4d0d-b74e-eb33cc071b6a",
   "metadata": {},
   "outputs": [],
   "source": []
  }
 ],
 "metadata": {
  "kernelspec": {
   "display_name": "Python 3 (ipykernel)",
   "language": "python",
   "name": "python3"
  },
  "language_info": {
   "codemirror_mode": {
    "name": "ipython",
    "version": 3
   },
   "file_extension": ".py",
   "mimetype": "text/x-python",
   "name": "python",
   "nbconvert_exporter": "python",
   "pygments_lexer": "ipython3",
   "version": "3.9.16"
  }
 },
 "nbformat": 4,
 "nbformat_minor": 5
}
