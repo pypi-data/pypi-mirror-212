{
 "cells": [
  {
   "cell_type": "code",
   "execution_count": 1,
   "id": "9dba8850-575c-4973-b04f-8ae9d4983813",
   "metadata": {},
   "outputs": [],
   "source": [
    "import pandas as pd\n",
    "import numpy as np\n",
    "from sklearn.feature_extraction.text import TfidfVectorizer, HashingVectorizer\n",
    "from sklearn.ensemble import RandomForestClassifier\n",
    "from sklearn.model_selection import train_test_split\n",
    "from sklearn.pipeline import Pipeline"
   ]
  },
  {
   "cell_type": "code",
   "execution_count": 3,
   "id": "8be63faf-b4f1-4e00-8e04-678ca25fdf35",
   "metadata": {},
   "outputs": [],
   "source": [
    "from lightgbm import LGBMClassifier"
   ]
  },
  {
   "cell_type": "code",
   "execution_count": 4,
   "id": "3740017b-1bc8-4241-8a2f-3c735f2c08d0",
   "metadata": {},
   "outputs": [],
   "source": [
    "dataset = pd.read_csv('xl-preprocessed.csv')"
   ]
  },
  {
   "cell_type": "code",
   "execution_count": 6,
   "id": "053e1742-8764-4eea-8a78-44e7fe3e225f",
   "metadata": {},
   "outputs": [],
   "source": [
    "pipe = Pipeline(\n",
    "    [\n",
    "        ('vectorizer', TfidfVectorizer(token_pattern='\\S+', max_features=60000)),\n",
    "        ('clf', LGBMClassifier(random_state=42)),\n",
    "    ]\n",
    ")"
   ]
  },
  {
   "cell_type": "code",
   "execution_count": 7,
   "id": "71f8da12-0de1-4ec4-9a30-91d8542e22a5",
   "metadata": {},
   "outputs": [
    {
     "data": {
      "text/html": [
       "<style>#sk-container-id-1 {color: black;background-color: white;}#sk-container-id-1 pre{padding: 0;}#sk-container-id-1 div.sk-toggleable {background-color: white;}#sk-container-id-1 label.sk-toggleable__label {cursor: pointer;display: block;width: 100%;margin-bottom: 0;padding: 0.3em;box-sizing: border-box;text-align: center;}#sk-container-id-1 label.sk-toggleable__label-arrow:before {content: \"▸\";float: left;margin-right: 0.25em;color: #696969;}#sk-container-id-1 label.sk-toggleable__label-arrow:hover:before {color: black;}#sk-container-id-1 div.sk-estimator:hover label.sk-toggleable__label-arrow:before {color: black;}#sk-container-id-1 div.sk-toggleable__content {max-height: 0;max-width: 0;overflow: hidden;text-align: left;background-color: #f0f8ff;}#sk-container-id-1 div.sk-toggleable__content pre {margin: 0.2em;color: black;border-radius: 0.25em;background-color: #f0f8ff;}#sk-container-id-1 input.sk-toggleable__control:checked~div.sk-toggleable__content {max-height: 200px;max-width: 100%;overflow: auto;}#sk-container-id-1 input.sk-toggleable__control:checked~label.sk-toggleable__label-arrow:before {content: \"▾\";}#sk-container-id-1 div.sk-estimator input.sk-toggleable__control:checked~label.sk-toggleable__label {background-color: #d4ebff;}#sk-container-id-1 div.sk-label input.sk-toggleable__control:checked~label.sk-toggleable__label {background-color: #d4ebff;}#sk-container-id-1 input.sk-hidden--visually {border: 0;clip: rect(1px 1px 1px 1px);clip: rect(1px, 1px, 1px, 1px);height: 1px;margin: -1px;overflow: hidden;padding: 0;position: absolute;width: 1px;}#sk-container-id-1 div.sk-estimator {font-family: monospace;background-color: #f0f8ff;border: 1px dotted black;border-radius: 0.25em;box-sizing: border-box;margin-bottom: 0.5em;}#sk-container-id-1 div.sk-estimator:hover {background-color: #d4ebff;}#sk-container-id-1 div.sk-parallel-item::after {content: \"\";width: 100%;border-bottom: 1px solid gray;flex-grow: 1;}#sk-container-id-1 div.sk-label:hover label.sk-toggleable__label {background-color: #d4ebff;}#sk-container-id-1 div.sk-serial::before {content: \"\";position: absolute;border-left: 1px solid gray;box-sizing: border-box;top: 0;bottom: 0;left: 50%;z-index: 0;}#sk-container-id-1 div.sk-serial {display: flex;flex-direction: column;align-items: center;background-color: white;padding-right: 0.2em;padding-left: 0.2em;position: relative;}#sk-container-id-1 div.sk-item {position: relative;z-index: 1;}#sk-container-id-1 div.sk-parallel {display: flex;align-items: stretch;justify-content: center;background-color: white;position: relative;}#sk-container-id-1 div.sk-item::before, #sk-container-id-1 div.sk-parallel-item::before {content: \"\";position: absolute;border-left: 1px solid gray;box-sizing: border-box;top: 0;bottom: 0;left: 50%;z-index: -1;}#sk-container-id-1 div.sk-parallel-item {display: flex;flex-direction: column;z-index: 1;position: relative;background-color: white;}#sk-container-id-1 div.sk-parallel-item:first-child::after {align-self: flex-end;width: 50%;}#sk-container-id-1 div.sk-parallel-item:last-child::after {align-self: flex-start;width: 50%;}#sk-container-id-1 div.sk-parallel-item:only-child::after {width: 0;}#sk-container-id-1 div.sk-dashed-wrapped {border: 1px dashed gray;margin: 0 0.4em 0.5em 0.4em;box-sizing: border-box;padding-bottom: 0.4em;background-color: white;}#sk-container-id-1 div.sk-label label {font-family: monospace;font-weight: bold;display: inline-block;line-height: 1.2em;}#sk-container-id-1 div.sk-label-container {text-align: center;}#sk-container-id-1 div.sk-container {/* jupyter's `normalize.less` sets `[hidden] { display: none; }` but bootstrap.min.css set `[hidden] { display: none !important; }` so we also need the `!important` here to be able to override the default hidden behavior on the sphinx rendered scikit-learn.org. See: https://github.com/scikit-learn/scikit-learn/issues/21755 */display: inline-block !important;position: relative;}#sk-container-id-1 div.sk-text-repr-fallback {display: none;}</style><div id=\"sk-container-id-1\" class=\"sk-top-container\"><div class=\"sk-text-repr-fallback\"><pre>Pipeline(steps=[(&#x27;vectorizer&#x27;,\n",
       "                 TfidfVectorizer(max_features=60000, token_pattern=&#x27;\\\\S+&#x27;)),\n",
       "                (&#x27;clf&#x27;, LGBMClassifier(random_state=42))])</pre><b>In a Jupyter environment, please rerun this cell to show the HTML representation or trust the notebook. <br />On GitHub, the HTML representation is unable to render, please try loading this page with nbviewer.org.</b></div><div class=\"sk-container\" hidden><div class=\"sk-item sk-dashed-wrapped\"><div class=\"sk-label-container\"><div class=\"sk-label sk-toggleable\"><input class=\"sk-toggleable__control sk-hidden--visually\" id=\"sk-estimator-id-1\" type=\"checkbox\" ><label for=\"sk-estimator-id-1\" class=\"sk-toggleable__label sk-toggleable__label-arrow\">Pipeline</label><div class=\"sk-toggleable__content\"><pre>Pipeline(steps=[(&#x27;vectorizer&#x27;,\n",
       "                 TfidfVectorizer(max_features=60000, token_pattern=&#x27;\\\\S+&#x27;)),\n",
       "                (&#x27;clf&#x27;, LGBMClassifier(random_state=42))])</pre></div></div></div><div class=\"sk-serial\"><div class=\"sk-item\"><div class=\"sk-estimator sk-toggleable\"><input class=\"sk-toggleable__control sk-hidden--visually\" id=\"sk-estimator-id-2\" type=\"checkbox\" ><label for=\"sk-estimator-id-2\" class=\"sk-toggleable__label sk-toggleable__label-arrow\">TfidfVectorizer</label><div class=\"sk-toggleable__content\"><pre>TfidfVectorizer(max_features=60000, token_pattern=&#x27;\\\\S+&#x27;)</pre></div></div></div><div class=\"sk-item\"><div class=\"sk-estimator sk-toggleable\"><input class=\"sk-toggleable__control sk-hidden--visually\" id=\"sk-estimator-id-3\" type=\"checkbox\" ><label for=\"sk-estimator-id-3\" class=\"sk-toggleable__label sk-toggleable__label-arrow\">LGBMClassifier</label><div class=\"sk-toggleable__content\"><pre>LGBMClassifier(random_state=42)</pre></div></div></div></div></div></div></div>"
      ],
      "text/plain": [
       "Pipeline(steps=[('vectorizer',\n",
       "                 TfidfVectorizer(max_features=60000, token_pattern='\\\\S+')),\n",
       "                ('clf', LGBMClassifier(random_state=42))])"
      ]
     },
     "execution_count": 7,
     "metadata": {},
     "output_type": "execute_result"
    }
   ],
   "source": [
    "pipe.fit(dataset['code'], dataset['language'])"
   ]
  },
  {
   "cell_type": "code",
   "execution_count": 8,
   "id": "1bc29d1c-c62b-4075-ae70-8d0ad890f963",
   "metadata": {},
   "outputs": [
    {
     "data": {
      "text/plain": [
       "array(['C++'], dtype=object)"
      ]
     },
     "execution_count": 8,
     "metadata": {},
     "output_type": "execute_result"
    }
   ],
   "source": [
    "pipe.predict(['#include <iostream>'])"
   ]
  },
  {
   "cell_type": "code",
   "execution_count": 9,
   "id": "844581af-1b9f-4d84-b33a-9517a3094c16",
   "metadata": {},
   "outputs": [
    {
     "data": {
      "text/plain": [
       "60000"
      ]
     },
     "execution_count": 9,
     "metadata": {},
     "output_type": "execute_result"
    }
   ],
   "source": [
    "len(pipe[0].get_feature_names_out())"
   ]
  },
  {
   "cell_type": "code",
   "execution_count": 10,
   "id": "4f27989c-a5ae-4ca1-ab86-971cc316aa5f",
   "metadata": {},
   "outputs": [],
   "source": [
    "import joblib\n",
    "\n",
    "with open('xl-dump.joblib', 'wb') as f:\n",
    "    joblib.dump(pipe, f)"
   ]
  },
  {
   "cell_type": "code",
   "execution_count": 11,
   "id": "ae704f23-33e4-4d1b-9797-4d731484ee6a",
   "metadata": {},
   "outputs": [],
   "source": [
    "import lightgbm\n",
    "import onnxmltools\n",
    "import skl2onnx\n",
    "import onnx\n",
    "import sklearn\n",
    "import matplotlib.pyplot as plt\n",
    "import os\n",
    "from onnx.tools.net_drawer import GetPydotGraph, GetOpNodeProducer\n",
    "import onnxruntime as rt\n",
    "from onnxruntime.capi.onnxruntime_pybind11_state import Fail as OrtFail\n",
    "from skl2onnx import convert_sklearn, update_registered_converter\n",
    "from skl2onnx.common.shape_calculator import calculate_linear_classifier_output_shapes  # noqa\n",
    "from onnxmltools.convert.lightgbm.operator_converters.LightGbm import convert_lightgbm  # noqa\n",
    "import onnxmltools.convert.common.data_types\n",
    "from skl2onnx.common.data_types import FloatTensorType, StringTensorType\n",
    "import numpy\n",
    "from sklearn.datasets import load_iris\n",
    "from sklearn.pipeline import Pipeline\n",
    "from sklearn.preprocessing import StandardScaler\n",
    "from lightgbm import LGBMClassifier"
   ]
  },
  {
   "cell_type": "code",
   "execution_count": 12,
   "id": "00678fcb-2772-4769-9751-9862494c5762",
   "metadata": {},
   "outputs": [],
   "source": [
    "update_registered_converter(\n",
    "    LGBMClassifier, 'LightGbmLGBMClassifier',\n",
    "    calculate_linear_classifier_output_shapes, convert_lightgbm,\n",
    "    options={'nocl': [True, False], 'zipmap': [True, False, 'columns']})"
   ]
  },
  {
   "cell_type": "code",
   "execution_count": 13,
   "id": "b51260a2-12e6-4cb8-95aa-e9084b3f2257",
   "metadata": {},
   "outputs": [],
   "source": [
    "model_onnx = convert_sklearn(\n",
    "    pipe, 'pipeline_lightgbm',\n",
    "    [('text', StringTensorType([None, 1]))],\n",
    "    target_opset={'': 12, 'ai.onnx.ml': 2}\n",
    ")"
   ]
  },
  {
   "cell_type": "code",
   "execution_count": null,
   "id": "4eb5ec01-8343-434c-9e9c-3680f9ec17c5",
   "metadata": {},
   "outputs": [],
   "source": [
    "# model_onnx = to_onnx(\n",
    "#     pipeline,\n",
    "#     initial_types=[('text', StringTensorType([None, 1]))],\n",
    "#     target_opset={'': 12, 'ai.onnx.ml': 2},\n",
    "# )"
   ]
  },
  {
   "cell_type": "code",
   "execution_count": 14,
   "id": "11a31807-dee2-4b43-a78e-6910d5142e2d",
   "metadata": {},
   "outputs": [],
   "source": [
    "with open(\"base-xl.onnx\", \"wb\") as f:\n",
    "    f.write(model_onnx.SerializeToString())"
   ]
  },
  {
   "cell_type": "code",
   "execution_count": 15,
   "id": "b999dac7-01d3-40e0-aaa4-86fc7b7b8605",
   "metadata": {},
   "outputs": [],
   "source": [
    "corpus = [\n",
    "    'import pathlib def foo(bar): return bar',\n",
    "    '#include <iostream>',\n",
    "    'int void * foo(int a)',\n",
    "]"
   ]
  },
  {
   "cell_type": "code",
   "execution_count": 16,
   "id": "18ff3041-d770-4a29-b2fa-bdb706f310bc",
   "metadata": {},
   "outputs": [],
   "source": [
    "sess = sess = rt.InferenceSession(model_onnx.SerializeToString())\n",
    "inputs = {\"text\": np.array([corpus]).reshape(-1, 1)}\n",
    "pred_onx = sess.run(None, inputs)"
   ]
  },
  {
   "cell_type": "code",
   "execution_count": 17,
   "id": "e11d4f85-19bc-4707-a591-4a8f515a27a7",
   "metadata": {},
   "outputs": [
    {
     "data": {
      "text/plain": [
       "[array(['Python', 'C++', 'C'], dtype=object),\n",
       " [{'Assembly': 0.002173589775338769,\n",
       "   'Batchfile': 0.004575828090310097,\n",
       "   'C': 0.0008158839191310108,\n",
       "   'C#': 5.953173058514949e-06,\n",
       "   'C++': 0.00041115088970400393,\n",
       "   'CMake': 5.148449417902157e-05,\n",
       "   'CSS': 9.055629561771639e-06,\n",
       "   'Dockerfile': 1.5214744735203567e-06,\n",
       "   'FORTRAN': 0.005310575012117624,\n",
       "   'GO': 0.00027702577062882483,\n",
       "   'HTML': 0.001340474933385849,\n",
       "   'Haskell': 0.0012890968937426805,\n",
       "   'Java': 5.963276635156944e-06,\n",
       "   'JavaScript': 0.003371991915628314,\n",
       "   'Julia': 0.0018368088640272617,\n",
       "   'Lua': 0.020403845235705376,\n",
       "   'Makefile': 5.743997826357372e-05,\n",
       "   'PHP': 0.0002973030786961317,\n",
       "   'Perl': 0.00010332070087315515,\n",
       "   'PowerShell': 0.0006017646519467235,\n",
       "   'Python': 0.9466577768325806,\n",
       "   'Ruby': 0.00033437329693697393,\n",
       "   'Rust': 7.320353324757889e-05,\n",
       "   'SQL': 0.00038299363222904503,\n",
       "   'Scala': 0.003946422133594751,\n",
       "   'TeX': 0.0017047355649992824,\n",
       "   'TypeScript': 0.003960451111197472},\n",
       "  {'Assembly': 0.028582977131009102,\n",
       "   'Batchfile': 0.007788608316332102,\n",
       "   'C': 0.385315865278244,\n",
       "   'C#': 1.4418733371712733e-05,\n",
       "   'C++': 0.5086724162101746,\n",
       "   'CMake': 0.00032412633299827576,\n",
       "   'CSS': 9.071091335499659e-05,\n",
       "   'Dockerfile': 5.040473297412973e-06,\n",
       "   'FORTRAN': 0.01901746727526188,\n",
       "   'GO': 0.0013432037085294724,\n",
       "   'HTML': 0.00928139965981245,\n",
       "   'Haskell': 7.113866740837693e-05,\n",
       "   'Java': 1.8138116502086632e-05,\n",
       "   'JavaScript': 0.001824223785661161,\n",
       "   'Julia': 0.0013033286668360233,\n",
       "   'Lua': 0.001749882590956986,\n",
       "   'Makefile': 0.00022464062203653157,\n",
       "   'PHP': 0.0015712735475972295,\n",
       "   'Perl': 0.0016622060211375356,\n",
       "   'PowerShell': 0.005780466832220554,\n",
       "   'Python': 0.001827300526201725,\n",
       "   'Ruby': 0.001229928690008819,\n",
       "   'Rust': 0.0028727054595947266,\n",
       "   'SQL': 0.0046593984588980675,\n",
       "   'Scala': 0.0029936349019408226,\n",
       "   'TeX': 0.011019635945558548,\n",
       "   'TypeScript': 0.000755886547267437},\n",
       "  {'Assembly': 0.011544965207576752,\n",
       "   'Batchfile': 0.1481301486492157,\n",
       "   'C': 0.7508470416069031,\n",
       "   'C#': 7.874400762375444e-05,\n",
       "   'C++': 0.015436580404639244,\n",
       "   'CMake': 0.00040834033279679716,\n",
       "   'CSS': 0.0007123742252588272,\n",
       "   'Dockerfile': 6.791314717702335e-06,\n",
       "   'FORTRAN': 0.028022566810250282,\n",
       "   'GO': 0.0013729108031839132,\n",
       "   'HTML': 0.0033210439141839743,\n",
       "   'Haskell': 9.5904637419153e-05,\n",
       "   'Java': 5.617907299892977e-05,\n",
       "   'JavaScript': 0.0024001372512429953,\n",
       "   'Julia': 0.002227743389084935,\n",
       "   'Lua': 0.0014322397764772177,\n",
       "   'Makefile': 0.0002290422416990623,\n",
       "   'PHP': 0.00232020765542984,\n",
       "   'Perl': 0.0007190790493041277,\n",
       "   'PowerShell': 0.0033466366585344076,\n",
       "   'Python': 0.0023704832419753075,\n",
       "   'Ruby': 0.00043749992619268596,\n",
       "   'Rust': 0.0026168872136622667,\n",
       "   'SQL': 0.010669860988855362,\n",
       "   'Scala': 0.005326265003532171,\n",
       "   'TeX': 0.0029684666078537703,\n",
       "   'TypeScript': 0.002901951316744089}]]"
      ]
     },
     "execution_count": 17,
     "metadata": {},
     "output_type": "execute_result"
    }
   ],
   "source": [
    "pred_onx"
   ]
  },
  {
   "cell_type": "code",
   "execution_count": 33,
   "id": "2b252e94-32e8-4fed-ad3e-3e6f19dec8db",
   "metadata": {},
   "outputs": [
    {
     "name": "stdout",
     "output_type": "stream",
     "text": [
      "onnxmltools                   1.11.2\n"
     ]
    }
   ],
   "source": [
    "!pip list | grep 'onnxmltools'"
   ]
  },
  {
   "cell_type": "code",
   "execution_count": null,
   "id": "7451025c-0004-4a23-8264-c50c8d050c3f",
   "metadata": {},
   "outputs": [],
   "source": []
  }
 ],
 "metadata": {
  "kernelspec": {
   "display_name": "Python 3 (ipykernel)",
   "language": "python",
   "name": "python3"
  },
  "language_info": {
   "codemirror_mode": {
    "name": "ipython",
    "version": 3
   },
   "file_extension": ".py",
   "mimetype": "text/x-python",
   "name": "python",
   "nbconvert_exporter": "python",
   "pygments_lexer": "ipython3",
   "version": "3.9.16"
  }
 },
 "nbformat": 4,
 "nbformat_minor": 5
}
