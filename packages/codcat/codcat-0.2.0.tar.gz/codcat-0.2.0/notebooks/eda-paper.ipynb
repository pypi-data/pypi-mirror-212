{
 "cells": [
  {
   "cell_type": "code",
   "execution_count": 1,
   "id": "df466486-464b-4881-a692-b50b38ddbb2a",
   "metadata": {},
   "outputs": [],
   "source": [
    "import pandas as pd\n",
    "import numpy as np"
   ]
  },
  {
   "cell_type": "code",
   "execution_count": 2,
   "id": "bab8fecf-ce02-43ee-979c-30227cf655f6",
   "metadata": {},
   "outputs": [],
   "source": [
    "train_full = pd.read_json('train-code25.json')\n",
    "test_full = pd.read_json('test-code25.json')\n",
    "\n",
    "train_filt = pd.read_csv('train.csv')\n",
    "test_filt = pd.read_csv('test.csv')"
   ]
  },
  {
   "cell_type": "code",
   "execution_count": 3,
   "id": "4ce235ce-9bab-4a61-bc98-77b0b671edb4",
   "metadata": {},
   "outputs": [],
   "source": [
    "from nltk.tokenize import TweetTokenizer"
   ]
  },
  {
   "cell_type": "code",
   "execution_count": 7,
   "id": "c2554f53-c517-43a3-8ba2-c602ca268a09",
   "metadata": {},
   "outputs": [],
   "source": [
    "tokenizer = TweetTokenizer()\n",
    "\n",
    "def get_stats(df):\n",
    "    num_articles = len(df)\n",
    "    all_tokens = []\n",
    "    for text in df['code']:\n",
    "        tokens = tokenizer.tokenize(text.lower())\n",
    "        all_tokens += tokens\n",
    "    num_tokens = len(all_tokens)\n",
    "    vocab = set(all_tokens)\n",
    "    vocab_size = len(vocab)\n",
    "    return num_articles, num_tokens, vocab, vocab_size"
   ]
  },
  {
   "cell_type": "code",
   "execution_count": 19,
   "id": "51039925-2193-484c-a1df-56264053c58a",
   "metadata": {},
   "outputs": [],
   "source": [
    "def get_stat(train, test):\n",
    "    # Calculate statistics for train and test dataframes\n",
    "    train_stats = get_stats(train)\n",
    "    test_stats = get_stats(test)\n",
    "\n",
    "    # Calculate out-of-vocabulary rate\n",
    "    oov_rate = len(train_stats[2] - test_stats[2]) / test_stats[1]\n",
    "    vocab_size = len(train_stats[2].union(test_stats[2]))\n",
    "\n",
    "    # Print statistics table\n",
    "    data = {\n",
    "        'Dataset': ['Train', 'Test'],\n",
    "        'Articles': [train_stats[0], test_stats[0]],\n",
    "        'Total Tokens': [train_stats[1], test_stats[1]],\n",
    "        'Vocabulary Size': [vocab_size, 0],\n",
    "        'Out-of-Vocabulary Rate': ['-', f'{oov_rate:.2%}'],\n",
    "    }\n",
    "    df = pd.DataFrame(data)\n",
    "    df['Articles'] = df['Articles'].astype(int)\n",
    "    df['Total Tokens'] = df['Total Tokens'].astype(int)\n",
    "    df['Vocabulary Size'] = df['Vocabulary Size'].astype(int)\n",
    "    # df['Out-of-Vocabulary Rate'] = df['Out-of-Vocabulary Rate'].astype(int)\n",
    "\n",
    "    df.set_index('Dataset', inplace=True)\n",
    "    return df.T"
   ]
  },
  {
   "cell_type": "code",
   "execution_count": null,
   "id": "a922c6fe-a809-448b-be54-8b0a27de9bce",
   "metadata": {},
   "outputs": [],
   "source": [
    "pd.set_option(\"display.precision\", 8)"
   ]
  },
  {
   "cell_type": "code",
   "execution_count": 21,
   "id": "588c1621-c353-48d5-9872-b3e46834a27d",
   "metadata": {},
   "outputs": [
    {
     "data": {
      "text/html": [
       "<div>\n",
       "<style scoped>\n",
       "    .dataframe tbody tr th:only-of-type {\n",
       "        vertical-align: middle;\n",
       "    }\n",
       "\n",
       "    .dataframe tbody tr th {\n",
       "        vertical-align: top;\n",
       "    }\n",
       "\n",
       "    .dataframe thead th {\n",
       "        text-align: right;\n",
       "    }\n",
       "</style>\n",
       "<table border=\"1\" class=\"dataframe\">\n",
       "  <thead>\n",
       "    <tr style=\"text-align: right;\">\n",
       "      <th>Dataset</th>\n",
       "      <th>Train</th>\n",
       "      <th>Test</th>\n",
       "    </tr>\n",
       "  </thead>\n",
       "  <tbody>\n",
       "    <tr>\n",
       "      <th>Articles</th>\n",
       "      <td>179556</td>\n",
       "      <td>44889</td>\n",
       "    </tr>\n",
       "    <tr>\n",
       "      <th>Total Tokens</th>\n",
       "      <td>22918027</td>\n",
       "      <td>5703973</td>\n",
       "    </tr>\n",
       "    <tr>\n",
       "      <th>Vocabulary Size</th>\n",
       "      <td>973791</td>\n",
       "      <td>0</td>\n",
       "    </tr>\n",
       "    <tr>\n",
       "      <th>Out-of-Vocabulary Rate</th>\n",
       "      <td>-</td>\n",
       "      <td>12.31%</td>\n",
       "    </tr>\n",
       "  </tbody>\n",
       "</table>\n",
       "</div>"
      ],
      "text/plain": [
       "Dataset                    Train     Test\n",
       "Articles                  179556    44889\n",
       "Total Tokens            22918027  5703973\n",
       "Vocabulary Size           973791        0\n",
       "Out-of-Vocabulary Rate         -   12.31%"
      ]
     },
     "execution_count": 21,
     "metadata": {},
     "output_type": "execute_result"
    }
   ],
   "source": [
    "get_stat(train_full, test_full)"
   ]
  },
  {
   "cell_type": "code",
   "execution_count": 20,
   "id": "d2bc7bc4-cc60-4d58-a46d-1703e4550b6d",
   "metadata": {},
   "outputs": [
    {
     "data": {
      "text/html": [
       "<div>\n",
       "<style scoped>\n",
       "    .dataframe tbody tr th:only-of-type {\n",
       "        vertical-align: middle;\n",
       "    }\n",
       "\n",
       "    .dataframe tbody tr th {\n",
       "        vertical-align: top;\n",
       "    }\n",
       "\n",
       "    .dataframe thead th {\n",
       "        text-align: right;\n",
       "    }\n",
       "</style>\n",
       "<table border=\"1\" class=\"dataframe\">\n",
       "  <thead>\n",
       "    <tr style=\"text-align: right;\">\n",
       "      <th>Dataset</th>\n",
       "      <th>Train</th>\n",
       "      <th>Test</th>\n",
       "    </tr>\n",
       "  </thead>\n",
       "  <tbody>\n",
       "    <tr>\n",
       "      <th>Articles</th>\n",
       "      <td>11283</td>\n",
       "      <td>3762</td>\n",
       "    </tr>\n",
       "    <tr>\n",
       "      <th>Total Tokens</th>\n",
       "      <td>2276937</td>\n",
       "      <td>815325</td>\n",
       "    </tr>\n",
       "    <tr>\n",
       "      <th>Vocabulary Size</th>\n",
       "      <td>121641</td>\n",
       "      <td>0</td>\n",
       "    </tr>\n",
       "    <tr>\n",
       "      <th>Out-of-Vocabulary Rate</th>\n",
       "      <td>-</td>\n",
       "      <td>9.38%</td>\n",
       "    </tr>\n",
       "  </tbody>\n",
       "</table>\n",
       "</div>"
      ],
      "text/plain": [
       "Dataset                   Train    Test\n",
       "Articles                  11283    3762\n",
       "Total Tokens            2276937  815325\n",
       "Vocabulary Size          121641       0\n",
       "Out-of-Vocabulary Rate        -   9.38%"
      ]
     },
     "execution_count": 20,
     "metadata": {},
     "output_type": "execute_result"
    }
   ],
   "source": [
    "get_stat(train_filt, test_filt)"
   ]
  },
  {
   "cell_type": "markdown",
   "id": "8aef290c-0154-4402-9000-ffbf3eb5e1bb",
   "metadata": {},
   "source": []
  }
 ],
 "metadata": {
  "kernelspec": {
   "display_name": "Python 3 (ipykernel)",
   "language": "python",
   "name": "python3"
  },
  "language_info": {
   "codemirror_mode": {
    "name": "ipython",
    "version": 3
   },
   "file_extension": ".py",
   "mimetype": "text/x-python",
   "name": "python",
   "nbconvert_exporter": "python",
   "pygments_lexer": "ipython3",
   "version": "3.9.16"
  }
 },
 "nbformat": 4,
 "nbformat_minor": 5
}
