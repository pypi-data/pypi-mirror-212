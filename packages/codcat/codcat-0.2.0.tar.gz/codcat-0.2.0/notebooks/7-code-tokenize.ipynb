{
 "cells": [
  {
   "cell_type": "markdown",
   "id": "ed6e88d7-bc38-4bb4-8c99-2cbbea779796",
   "metadata": {},
   "source": [
    "## Preprocessing with code-tokenize & Pygments"
   ]
  },
  {
   "cell_type": "markdown",
   "id": "0c5d4518-b7a6-45e3-9ab3-bed8da823ae4",
   "metadata": {},
   "source": [
    "The code_tokenize package was selected to tokenize the source code during the training phase. It is based on the tree-sitter package, which has tokenizers for a large number of programming languages and more.\n",
    "\n",
    "- code_tokenize: https://github.com/cedricrupb/code_tokenize\n",
    "- tree-sitter: https://tree-sitter.github.io/tree-sitter/"
   ]
  },
  {
   "cell_type": "markdown",
   "id": "c771ad96-4eb0-4239-8b9c-81ea56f98250",
   "metadata": {},
   "source": [
    "We would like to point out that it will only be used in the TRAINING part because of the need to know the marker."
   ]
  },
  {
   "cell_type": "markdown",
   "id": "17ff8661-9fa9-4de6-9f34-3a5d37192994",
   "metadata": {},
   "source": [
    "The idea is simple: to clear dataset not from words, but from stop-types. This is a more suitable approach, since programming languages have their own structure. For example, we can remove comments or some literals."
   ]
  },
  {
   "cell_type": "code",
   "execution_count": null,
   "id": "d8bf4e55-04eb-4e31-ac77-a35d69ded7dc",
   "metadata": {},
   "outputs": [],
   "source": [
    "!pip install code_tokenize pygments"
   ]
  },
  {
   "cell_type": "code",
   "execution_count": 1,
   "id": "ca43a898-e80d-42b9-990e-e40f9d1789e8",
   "metadata": {},
   "outputs": [],
   "source": [
    "from codcat.tok import preprocess"
   ]
  },
  {
   "cell_type": "markdown",
   "id": "20b04758-673e-41f8-b113-b0e84d3215c6",
   "metadata": {},
   "source": [
    "### Let's check preprocessing for some languages"
   ]
  },
  {
   "cell_type": "code",
   "execution_count": 2,
   "id": "e47dd748-c4db-4b2b-8ee2-3c41cb1cb53f",
   "metadata": {},
   "outputs": [
    {
     "name": "stdout",
     "output_type": "stream",
     "text": [
      "echo \"This is Code\" \n",
      "a=5\n",
      "b=7\n"
     ]
    }
   ],
   "source": [
    "print(preprocess('''\n",
    "# This is a Bash comment.\n",
    "echo \"This is Code\" # This is an inline Bash comment.\n",
    "a=5\n",
    "b=7\n",
    "''', lang='bash'))"
   ]
  },
  {
   "cell_type": "markdown",
   "id": "b24274d9-a392-45b1-8eee-64b818a4e39d",
   "metadata": {},
   "source": [
    "Vb.net is an exception, because it is not supported by the tree-sitter package. The text is returned in its original form."
   ]
  },
  {
   "cell_type": "code",
   "execution_count": 3,
   "id": "f91052ca-a6a0-4df9-ab94-f596cf9a2814",
   "metadata": {},
   "outputs": [
    {
     "name": "stdout",
     "output_type": "stream",
     "text": [
      "\n",
      "' This is a comment beginning at the left edge of the screen.\n",
      "text1.Text = \"Hi!\"   ' This is an inline comment.\n",
      "\n"
     ]
    }
   ],
   "source": [
    "print(preprocess('''\n",
    "' This is a comment beginning at the left edge of the screen.\n",
    "text1.Text = \"Hi!\"   ' This is an inline comment.\n",
    "''', lang='vb.net'))"
   ]
  },
  {
   "cell_type": "code",
   "execution_count": 4,
   "id": "721e23e0-59bf-42c4-8479-7a6e8fa19ff3",
   "metadata": {},
   "outputs": [
    {
     "name": "stdout",
     "output_type": "stream",
     "text": [
      "print(\"Hello World\")\n"
     ]
    }
   ],
   "source": [
    "print(preprocess('''\n",
    "# this is a print statement\n",
    "# it prints Hello World\n",
    "\n",
    "print(\"Hello World\") \n",
    "''', lang='r'))"
   ]
  },
  {
   "cell_type": "code",
   "execution_count": 5,
   "id": "4f975d6e-6b72-4530-84c8-bfa7fa651ca8",
   "metadata": {},
   "outputs": [
    {
     "name": "stdout",
     "output_type": "stream",
     "text": [
      "int main() {\n",
      "    return 0;\n",
      "}\n"
     ]
    }
   ],
   "source": [
    "print(preprocess('''\n",
    "// some c++ comment\n",
    "/* Multi\n",
    "Line \n",
    "Comment */\n",
    "\n",
    "int main() {\n",
    "    return 0;\n",
    "}\n",
    "''', lang='cpp'))"
   ]
  },
  {
   "cell_type": "code",
   "execution_count": 6,
   "id": "a241c096-88c0-4e1c-bd33-ea34374daa4f",
   "metadata": {},
   "outputs": [
    {
     "name": "stdout",
     "output_type": "stream",
     "text": [
      "int main() {\n",
      "    return 0;\n",
      "}\n"
     ]
    }
   ],
   "source": [
    "print(preprocess('''\n",
    "// some c comment\n",
    "/* Multi\n",
    "Line \n",
    "Comment */\n",
    "\n",
    "int main() {\n",
    "    return 0;\n",
    "}\n",
    "''', lang='c'))"
   ]
  },
  {
   "cell_type": "code",
   "execution_count": 7,
   "id": "32e81298-df91-4c3b-a827-1950b07e4a00",
   "metadata": {},
   "outputs": [
    {
     "name": "stdout",
     "output_type": "stream",
     "text": [
      "puts \"Hello, Ruby!\"\n"
     ]
    }
   ],
   "source": [
    "print(preprocess('''\n",
    "#!/usr/bin/ruby -w\n",
    "# This is a single line comment.\n",
    "\n",
    "puts \"Hello, Ruby!\"\n",
    "''', lang='ruby'))"
   ]
  },
  {
   "cell_type": "code",
   "execution_count": 8,
   "id": "a446d170-5fed-42e9-b02c-b9cbdc65f174",
   "metadata": {},
   "outputs": [
    {
     "name": "stdout",
     "output_type": "stream",
     "text": [
      "System.out.println(\"Hello World\");\n"
     ]
    }
   ],
   "source": [
    "print(preprocess('''\n",
    "// This is a comment\n",
    "System.out.println(\"Hello World\");\n",
    "''', lang='java'))"
   ]
  },
  {
   "cell_type": "code",
   "execution_count": 9,
   "id": "e42a67c0-19ca-4ff0-ab55-757263fe7cb2",
   "metadata": {},
   "outputs": [
    {
     "name": "stdout",
     "output_type": "stream",
     "text": [
      "<?php\n",
      "    echo 'This is a test'; \n",
      "    \n",
      "    echo 'This is yet another test';\n",
      "    echo 'One Final Test'; \n",
      "?>\n"
     ]
    }
   ],
   "source": [
    "print(preprocess('''\n",
    "<?php\n",
    "    echo 'This is a test'; // This is a one-line c++ style comment\n",
    "    /* This is a multi line comment\n",
    "       yet another line of comment */\n",
    "    echo 'This is yet another test';\n",
    "    echo 'One Final Test'; # This is a one-line shell-style comment\n",
    "?>\n",
    "''', lang='php'))"
   ]
  },
  {
   "cell_type": "markdown",
   "id": "1fe590e9-2834-4cd3-aabc-9f5b46e40a2d",
   "metadata": {},
   "source": [
    "By default, only comments are deleted. To evaluate, you can try deleting different types in the source code."
   ]
  },
  {
   "cell_type": "markdown",
   "id": "202fa494-72ac-4cb3-b2af-767b7cc88672",
   "metadata": {},
   "source": [
    "In practice, this method does not always improve the quality of classification, but it can improve the stability of classification. Comments in present languages exist everywhere, but they do not play a large role in determining the final language."
   ]
  },
  {
   "cell_type": "markdown",
   "id": "41343f2d-ff2c-4d5e-b92a-c360b738c629",
   "metadata": {},
   "source": [
    "## Pygments"
   ]
  },
  {
   "cell_type": "markdown",
   "id": "688ca038-6664-4f2e-bd8c-fde8d9c4ca31",
   "metadata": {},
   "source": [
    "Using pygments is a good approach in getting rid of little-playing tokens in the text. It can also be used to remove comments or certain literals. \n",
    "The approach suggested below allows you not to use knowledge of the test data to clean up.\n",
    "\n",
    "In general, the structure of the approach is as follows:\n",
    "\n",
    "`Data -> Initial Clf -> Pygments -> Preprocessed Data -> Clf`\n",
    "\n",
    "That is, we first train a simple enough classifier or use a pre-trained one to predict the class label with good accuracy. Then we use these predictions to run the lexical analyzer, do preprocessing. And then we use the approaches to classify the text. \n",
    "\n",
    "This approach does not always show good results, for example on the Code25 dataset (SCC) it degrades quality, and on the original dataset it neither degrades nor improves."
   ]
  },
  {
   "cell_type": "code",
   "execution_count": 10,
   "id": "70c9da85-917c-4631-b97f-caf3a8b8523d",
   "metadata": {},
   "outputs": [],
   "source": [
    "import pandas as pd\n",
    "from sklearn.feature_extraction.text import TfidfVectorizer\n",
    "from sklearn.naive_bayes import MultinomialNB\n",
    "from sklearn.ensemble import RandomForestClassifier\n",
    "from sklearn.pipeline import Pipeline\n",
    "import lime\n",
    "import lime.lime_text\n",
    "from sklearn.metrics import classification_report\n",
    "from codcat.pyg import get_lexer, Prelude\n",
    "from nltk import TweetTokenizer"
   ]
  },
  {
   "cell_type": "code",
   "execution_count": 11,
   "id": "616adea9-3c59-474c-8cdd-300bf11981e8",
   "metadata": {},
   "outputs": [],
   "source": [
    "train = pd.read_json('train-code25-smol.json')\n",
    "test = pd.read_json('test-code25-smol.json')"
   ]
  },
  {
   "cell_type": "code",
   "execution_count": 12,
   "id": "b337d6ca-e5e2-410f-9d3b-bde10183a229",
   "metadata": {},
   "outputs": [],
   "source": [
    "model = Pipeline(\n",
    "    [\n",
    "        ('cv', TfidfVectorizer()),\n",
    "        ('rf', MultinomialNB()),\n",
    "    ]\n",
    ")"
   ]
  },
  {
   "cell_type": "code",
   "execution_count": 13,
   "id": "89aad63c-5bfe-4623-8d7d-6c71fecef589",
   "metadata": {},
   "outputs": [
    {
     "data": {
      "text/html": [
       "<style>#sk-container-id-1 {color: black;background-color: white;}#sk-container-id-1 pre{padding: 0;}#sk-container-id-1 div.sk-toggleable {background-color: white;}#sk-container-id-1 label.sk-toggleable__label {cursor: pointer;display: block;width: 100%;margin-bottom: 0;padding: 0.3em;box-sizing: border-box;text-align: center;}#sk-container-id-1 label.sk-toggleable__label-arrow:before {content: \"▸\";float: left;margin-right: 0.25em;color: #696969;}#sk-container-id-1 label.sk-toggleable__label-arrow:hover:before {color: black;}#sk-container-id-1 div.sk-estimator:hover label.sk-toggleable__label-arrow:before {color: black;}#sk-container-id-1 div.sk-toggleable__content {max-height: 0;max-width: 0;overflow: hidden;text-align: left;background-color: #f0f8ff;}#sk-container-id-1 div.sk-toggleable__content pre {margin: 0.2em;color: black;border-radius: 0.25em;background-color: #f0f8ff;}#sk-container-id-1 input.sk-toggleable__control:checked~div.sk-toggleable__content {max-height: 200px;max-width: 100%;overflow: auto;}#sk-container-id-1 input.sk-toggleable__control:checked~label.sk-toggleable__label-arrow:before {content: \"▾\";}#sk-container-id-1 div.sk-estimator input.sk-toggleable__control:checked~label.sk-toggleable__label {background-color: #d4ebff;}#sk-container-id-1 div.sk-label input.sk-toggleable__control:checked~label.sk-toggleable__label {background-color: #d4ebff;}#sk-container-id-1 input.sk-hidden--visually {border: 0;clip: rect(1px 1px 1px 1px);clip: rect(1px, 1px, 1px, 1px);height: 1px;margin: -1px;overflow: hidden;padding: 0;position: absolute;width: 1px;}#sk-container-id-1 div.sk-estimator {font-family: monospace;background-color: #f0f8ff;border: 1px dotted black;border-radius: 0.25em;box-sizing: border-box;margin-bottom: 0.5em;}#sk-container-id-1 div.sk-estimator:hover {background-color: #d4ebff;}#sk-container-id-1 div.sk-parallel-item::after {content: \"\";width: 100%;border-bottom: 1px solid gray;flex-grow: 1;}#sk-container-id-1 div.sk-label:hover label.sk-toggleable__label {background-color: #d4ebff;}#sk-container-id-1 div.sk-serial::before {content: \"\";position: absolute;border-left: 1px solid gray;box-sizing: border-box;top: 0;bottom: 0;left: 50%;z-index: 0;}#sk-container-id-1 div.sk-serial {display: flex;flex-direction: column;align-items: center;background-color: white;padding-right: 0.2em;padding-left: 0.2em;position: relative;}#sk-container-id-1 div.sk-item {position: relative;z-index: 1;}#sk-container-id-1 div.sk-parallel {display: flex;align-items: stretch;justify-content: center;background-color: white;position: relative;}#sk-container-id-1 div.sk-item::before, #sk-container-id-1 div.sk-parallel-item::before {content: \"\";position: absolute;border-left: 1px solid gray;box-sizing: border-box;top: 0;bottom: 0;left: 50%;z-index: -1;}#sk-container-id-1 div.sk-parallel-item {display: flex;flex-direction: column;z-index: 1;position: relative;background-color: white;}#sk-container-id-1 div.sk-parallel-item:first-child::after {align-self: flex-end;width: 50%;}#sk-container-id-1 div.sk-parallel-item:last-child::after {align-self: flex-start;width: 50%;}#sk-container-id-1 div.sk-parallel-item:only-child::after {width: 0;}#sk-container-id-1 div.sk-dashed-wrapped {border: 1px dashed gray;margin: 0 0.4em 0.5em 0.4em;box-sizing: border-box;padding-bottom: 0.4em;background-color: white;}#sk-container-id-1 div.sk-label label {font-family: monospace;font-weight: bold;display: inline-block;line-height: 1.2em;}#sk-container-id-1 div.sk-label-container {text-align: center;}#sk-container-id-1 div.sk-container {/* jupyter's `normalize.less` sets `[hidden] { display: none; }` but bootstrap.min.css set `[hidden] { display: none !important; }` so we also need the `!important` here to be able to override the default hidden behavior on the sphinx rendered scikit-learn.org. See: https://github.com/scikit-learn/scikit-learn/issues/21755 */display: inline-block !important;position: relative;}#sk-container-id-1 div.sk-text-repr-fallback {display: none;}</style><div id=\"sk-container-id-1\" class=\"sk-top-container\"><div class=\"sk-text-repr-fallback\"><pre>Pipeline(steps=[(&#x27;cv&#x27;, TfidfVectorizer()), (&#x27;rf&#x27;, MultinomialNB())])</pre><b>In a Jupyter environment, please rerun this cell to show the HTML representation or trust the notebook. <br />On GitHub, the HTML representation is unable to render, please try loading this page with nbviewer.org.</b></div><div class=\"sk-container\" hidden><div class=\"sk-item sk-dashed-wrapped\"><div class=\"sk-label-container\"><div class=\"sk-label sk-toggleable\"><input class=\"sk-toggleable__control sk-hidden--visually\" id=\"sk-estimator-id-1\" type=\"checkbox\" ><label for=\"sk-estimator-id-1\" class=\"sk-toggleable__label sk-toggleable__label-arrow\">Pipeline</label><div class=\"sk-toggleable__content\"><pre>Pipeline(steps=[(&#x27;cv&#x27;, TfidfVectorizer()), (&#x27;rf&#x27;, MultinomialNB())])</pre></div></div></div><div class=\"sk-serial\"><div class=\"sk-item\"><div class=\"sk-estimator sk-toggleable\"><input class=\"sk-toggleable__control sk-hidden--visually\" id=\"sk-estimator-id-2\" type=\"checkbox\" ><label for=\"sk-estimator-id-2\" class=\"sk-toggleable__label sk-toggleable__label-arrow\">TfidfVectorizer</label><div class=\"sk-toggleable__content\"><pre>TfidfVectorizer()</pre></div></div></div><div class=\"sk-item\"><div class=\"sk-estimator sk-toggleable\"><input class=\"sk-toggleable__control sk-hidden--visually\" id=\"sk-estimator-id-3\" type=\"checkbox\" ><label for=\"sk-estimator-id-3\" class=\"sk-toggleable__label sk-toggleable__label-arrow\">MultinomialNB</label><div class=\"sk-toggleable__content\"><pre>MultinomialNB()</pre></div></div></div></div></div></div></div>"
      ],
      "text/plain": [
       "Pipeline(steps=[('cv', TfidfVectorizer()), ('rf', MultinomialNB())])"
      ]
     },
     "execution_count": 13,
     "metadata": {},
     "output_type": "execute_result"
    }
   ],
   "source": [
    "model.fit(train['code'], train['language'])"
   ]
  },
  {
   "cell_type": "code",
   "execution_count": 14,
   "id": "fca34382-61e7-4a70-95a9-9bf79b1182d9",
   "metadata": {},
   "outputs": [
    {
     "name": "stdout",
     "output_type": "stream",
     "text": [
      "              precision    recall  f1-score   support\n",
      "\n",
      "        bash       0.65      0.74      0.70       129\n",
      "           c       0.66      0.81      0.73       132\n",
      "     c_sharp       0.76      0.48      0.59       143\n",
      "         cpp       0.68      0.69      0.68       153\n",
      "         css       0.67      0.86      0.75       145\n",
      "     haskell       0.87      0.75      0.81       146\n",
      "        java       0.82      0.61      0.70       169\n",
      "  javascript       0.58      0.82      0.68       131\n",
      "         lua       0.97      0.62      0.76       104\n",
      "        objc       0.72      0.74      0.73       133\n",
      "        perl       0.67      0.72      0.69       142\n",
      "         php       0.70      0.53      0.60       150\n",
      "      python       0.86      0.54      0.67       151\n",
      "           r       0.59      0.79      0.68       136\n",
      "        ruby       0.81      0.67      0.74       143\n",
      "       scala       0.69      0.84      0.76       128\n",
      "      sqlite       0.68      0.83      0.75       153\n",
      "       swift       0.84      0.83      0.84       153\n",
      "      vb.net       0.71      0.75      0.73       153\n",
      "\n",
      "    accuracy                           0.72      2694\n",
      "   macro avg       0.73      0.72      0.71      2694\n",
      "weighted avg       0.73      0.72      0.71      2694\n",
      "\n"
     ]
    }
   ],
   "source": [
    "print(classification_report(test['language'], model.predict(test['code'])))"
   ]
  },
  {
   "cell_type": "code",
   "execution_count": 15,
   "id": "eab863b8-1c33-4e5a-8916-ee10ea4ba894",
   "metadata": {},
   "outputs": [],
   "source": [
    "model_prelude = Pipeline(\n",
    "    [\n",
    "        ('prelude', Prelude(model)),\n",
    "        ('cv', TfidfVectorizer()),\n",
    "        ('rf', MultinomialNB()),\n",
    "    ]\n",
    ")"
   ]
  },
  {
   "cell_type": "code",
   "execution_count": 16,
   "id": "cc1c4692-c49c-4ac3-9b28-133defe67e17",
   "metadata": {},
   "outputs": [
    {
     "data": {
      "text/html": [
       "<style>#sk-container-id-2 {color: black;background-color: white;}#sk-container-id-2 pre{padding: 0;}#sk-container-id-2 div.sk-toggleable {background-color: white;}#sk-container-id-2 label.sk-toggleable__label {cursor: pointer;display: block;width: 100%;margin-bottom: 0;padding: 0.3em;box-sizing: border-box;text-align: center;}#sk-container-id-2 label.sk-toggleable__label-arrow:before {content: \"▸\";float: left;margin-right: 0.25em;color: #696969;}#sk-container-id-2 label.sk-toggleable__label-arrow:hover:before {color: black;}#sk-container-id-2 div.sk-estimator:hover label.sk-toggleable__label-arrow:before {color: black;}#sk-container-id-2 div.sk-toggleable__content {max-height: 0;max-width: 0;overflow: hidden;text-align: left;background-color: #f0f8ff;}#sk-container-id-2 div.sk-toggleable__content pre {margin: 0.2em;color: black;border-radius: 0.25em;background-color: #f0f8ff;}#sk-container-id-2 input.sk-toggleable__control:checked~div.sk-toggleable__content {max-height: 200px;max-width: 100%;overflow: auto;}#sk-container-id-2 input.sk-toggleable__control:checked~label.sk-toggleable__label-arrow:before {content: \"▾\";}#sk-container-id-2 div.sk-estimator input.sk-toggleable__control:checked~label.sk-toggleable__label {background-color: #d4ebff;}#sk-container-id-2 div.sk-label input.sk-toggleable__control:checked~label.sk-toggleable__label {background-color: #d4ebff;}#sk-container-id-2 input.sk-hidden--visually {border: 0;clip: rect(1px 1px 1px 1px);clip: rect(1px, 1px, 1px, 1px);height: 1px;margin: -1px;overflow: hidden;padding: 0;position: absolute;width: 1px;}#sk-container-id-2 div.sk-estimator {font-family: monospace;background-color: #f0f8ff;border: 1px dotted black;border-radius: 0.25em;box-sizing: border-box;margin-bottom: 0.5em;}#sk-container-id-2 div.sk-estimator:hover {background-color: #d4ebff;}#sk-container-id-2 div.sk-parallel-item::after {content: \"\";width: 100%;border-bottom: 1px solid gray;flex-grow: 1;}#sk-container-id-2 div.sk-label:hover label.sk-toggleable__label {background-color: #d4ebff;}#sk-container-id-2 div.sk-serial::before {content: \"\";position: absolute;border-left: 1px solid gray;box-sizing: border-box;top: 0;bottom: 0;left: 50%;z-index: 0;}#sk-container-id-2 div.sk-serial {display: flex;flex-direction: column;align-items: center;background-color: white;padding-right: 0.2em;padding-left: 0.2em;position: relative;}#sk-container-id-2 div.sk-item {position: relative;z-index: 1;}#sk-container-id-2 div.sk-parallel {display: flex;align-items: stretch;justify-content: center;background-color: white;position: relative;}#sk-container-id-2 div.sk-item::before, #sk-container-id-2 div.sk-parallel-item::before {content: \"\";position: absolute;border-left: 1px solid gray;box-sizing: border-box;top: 0;bottom: 0;left: 50%;z-index: -1;}#sk-container-id-2 div.sk-parallel-item {display: flex;flex-direction: column;z-index: 1;position: relative;background-color: white;}#sk-container-id-2 div.sk-parallel-item:first-child::after {align-self: flex-end;width: 50%;}#sk-container-id-2 div.sk-parallel-item:last-child::after {align-self: flex-start;width: 50%;}#sk-container-id-2 div.sk-parallel-item:only-child::after {width: 0;}#sk-container-id-2 div.sk-dashed-wrapped {border: 1px dashed gray;margin: 0 0.4em 0.5em 0.4em;box-sizing: border-box;padding-bottom: 0.4em;background-color: white;}#sk-container-id-2 div.sk-label label {font-family: monospace;font-weight: bold;display: inline-block;line-height: 1.2em;}#sk-container-id-2 div.sk-label-container {text-align: center;}#sk-container-id-2 div.sk-container {/* jupyter's `normalize.less` sets `[hidden] { display: none; }` but bootstrap.min.css set `[hidden] { display: none !important; }` so we also need the `!important` here to be able to override the default hidden behavior on the sphinx rendered scikit-learn.org. See: https://github.com/scikit-learn/scikit-learn/issues/21755 */display: inline-block !important;position: relative;}#sk-container-id-2 div.sk-text-repr-fallback {display: none;}</style><div id=\"sk-container-id-2\" class=\"sk-top-container\"><div class=\"sk-text-repr-fallback\"><pre>Pipeline(steps=[(&#x27;prelude&#x27;, Prelude(pretrained=True)),\n",
       "                (&#x27;cv&#x27;, TfidfVectorizer()), (&#x27;rf&#x27;, MultinomialNB())])</pre><b>In a Jupyter environment, please rerun this cell to show the HTML representation or trust the notebook. <br />On GitHub, the HTML representation is unable to render, please try loading this page with nbviewer.org.</b></div><div class=\"sk-container\" hidden><div class=\"sk-item sk-dashed-wrapped\"><div class=\"sk-label-container\"><div class=\"sk-label sk-toggleable\"><input class=\"sk-toggleable__control sk-hidden--visually\" id=\"sk-estimator-id-4\" type=\"checkbox\" ><label for=\"sk-estimator-id-4\" class=\"sk-toggleable__label sk-toggleable__label-arrow\">Pipeline</label><div class=\"sk-toggleable__content\"><pre>Pipeline(steps=[(&#x27;prelude&#x27;, Prelude(pretrained=True)),\n",
       "                (&#x27;cv&#x27;, TfidfVectorizer()), (&#x27;rf&#x27;, MultinomialNB())])</pre></div></div></div><div class=\"sk-serial\"><div class=\"sk-item\"><div class=\"sk-estimator sk-toggleable\"><input class=\"sk-toggleable__control sk-hidden--visually\" id=\"sk-estimator-id-5\" type=\"checkbox\" ><label for=\"sk-estimator-id-5\" class=\"sk-toggleable__label sk-toggleable__label-arrow\">Prelude</label><div class=\"sk-toggleable__content\"><pre>Prelude(pretrained=True)</pre></div></div></div><div class=\"sk-item\"><div class=\"sk-estimator sk-toggleable\"><input class=\"sk-toggleable__control sk-hidden--visually\" id=\"sk-estimator-id-6\" type=\"checkbox\" ><label for=\"sk-estimator-id-6\" class=\"sk-toggleable__label sk-toggleable__label-arrow\">TfidfVectorizer</label><div class=\"sk-toggleable__content\"><pre>TfidfVectorizer()</pre></div></div></div><div class=\"sk-item\"><div class=\"sk-estimator sk-toggleable\"><input class=\"sk-toggleable__control sk-hidden--visually\" id=\"sk-estimator-id-7\" type=\"checkbox\" ><label for=\"sk-estimator-id-7\" class=\"sk-toggleable__label sk-toggleable__label-arrow\">MultinomialNB</label><div class=\"sk-toggleable__content\"><pre>MultinomialNB()</pre></div></div></div></div></div></div></div>"
      ],
      "text/plain": [
       "Pipeline(steps=[('prelude', Prelude(pretrained=True)),\n",
       "                ('cv', TfidfVectorizer()), ('rf', MultinomialNB())])"
      ]
     },
     "execution_count": 16,
     "metadata": {},
     "output_type": "execute_result"
    }
   ],
   "source": [
    "model_prelude.fit(train['code'], train['language'])"
   ]
  },
  {
   "cell_type": "code",
   "execution_count": 17,
   "id": "87a178a1-5731-4db3-b824-c76074112676",
   "metadata": {},
   "outputs": [
    {
     "name": "stdout",
     "output_type": "stream",
     "text": [
      "              precision    recall  f1-score   support\n",
      "\n",
      "        bash       0.64      0.73      0.68       129\n",
      "           c       0.67      0.80      0.73       132\n",
      "     c_sharp       0.78      0.46      0.58       143\n",
      "         cpp       0.68      0.65      0.67       153\n",
      "         css       0.66      0.85      0.74       145\n",
      "     haskell       0.88      0.75      0.81       146\n",
      "        java       0.83      0.62      0.71       169\n",
      "  javascript       0.60      0.78      0.68       131\n",
      "         lua       0.98      0.62      0.76       104\n",
      "        objc       0.72      0.74      0.73       133\n",
      "        perl       0.68      0.69      0.68       142\n",
      "         php       0.65      0.53      0.59       150\n",
      "      python       0.84      0.54      0.66       151\n",
      "           r       0.60      0.79      0.68       136\n",
      "        ruby       0.81      0.66      0.73       143\n",
      "       scala       0.68      0.83      0.74       128\n",
      "      sqlite       0.66      0.84      0.74       153\n",
      "       swift       0.84      0.84      0.84       153\n",
      "      vb.net       0.65      0.77      0.70       153\n",
      "\n",
      "    accuracy                           0.71      2694\n",
      "   macro avg       0.73      0.71      0.71      2694\n",
      "weighted avg       0.73      0.71      0.71      2694\n",
      "\n"
     ]
    }
   ],
   "source": [
    "print(classification_report(test['language'], model_prelude.predict(test['code'])))"
   ]
  }
 ],
 "metadata": {
  "kernelspec": {
   "display_name": "Python 3 (ipykernel)",
   "language": "python",
   "name": "python3"
  },
  "language_info": {
   "codemirror_mode": {
    "name": "ipython",
    "version": 3
   },
   "file_extension": ".py",
   "mimetype": "text/x-python",
   "name": "python",
   "nbconvert_exporter": "python",
   "pygments_lexer": "ipython3",
   "version": "3.9.16"
  }
 },
 "nbformat": 4,
 "nbformat_minor": 5
}
