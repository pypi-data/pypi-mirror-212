{
 "cells": [
  {
   "cell_type": "code",
   "execution_count": 4,
   "metadata": {
    "pycharm": {
     "name": "#%%\n"
    }
   },
   "outputs": [],
   "source": [
    "from problog import get_evaluatable\n",
    "from problog.program import PrologString, PrologFile\n",
    "\n",
    "from examples.example2 import *\n",
    "from examples.time_tests.time_test_recursive_precomp import *\n",
    "from examples.time_tests.time_test_recursive_end import *\n",
    "from examples.time_tests.time_test_recursive_iterative_improved import *\n",
    "from examples.time_tests.time_test_independent_end import *"
   ]
  },
  {
   "cell_type": "code",
   "execution_count": null,
   "metadata": {
    "pycharm": {
     "name": "#%%\n"
    }
   },
   "outputs": [],
   "source": []
  },
  {
   "cell_type": "code",
   "execution_count": 2,
   "metadata": {
    "pycharm": {
     "name": "#%%\n"
    }
   },
   "outputs": [],
   "source": [
    "def save_as_pdf(arithmetic_circuit, filepath):\n",
    "    dot_format = arithmetic_circuit.to_dot()\n",
    "    \n",
    "    with open('/tmp/dot_format.dot', 'w') as f:\n",
    "        f.write(dot_format)\n",
    "        \n",
    "    !dot -Tpdf /tmp/dot_format.dot > $filepath"
   ]
  },
  {
   "cell_type": "code",
   "execution_count": null,
   "metadata": {
    "pycharm": {
     "name": "#%%\n"
    }
   },
   "outputs": [],
   "source": []
  },
  {
   "cell_type": "code",
   "execution_count": 3,
   "metadata": {
    "pycharm": {
     "name": "#%%\n"
    }
   },
   "outputs": [],
   "source": [
    "problog_code = \"\"\"\n",
    "0.05 :: burglary.\n",
    "0.01 :: earthquake.\n",
    "0.45 :: at_home(john).\n",
    "0.65 :: at_home(mary).\n",
    "alarm :- burglary.\n",
    "alarm :- earthquake.\n",
    "calls(X) :- at_home(X), alarm.\n",
    "\n",
    "query(calls(mary)).\"\"\""
   ]
  },
  {
   "cell_type": "code",
   "execution_count": 33,
   "metadata": {
    "pycharm": {
     "name": "#%%\n"
    }
   },
   "outputs": [],
   "source": [
    "ac = get_evaluatable().create_from(PrologString(problog_code))"
   ]
  },
  {
   "cell_type": "code",
   "execution_count": 38,
   "metadata": {
    "pycharm": {
     "name": "#%%\n"
    }
   },
   "outputs": [],
   "source": [
    "save_as_pdf(ac, '/home/marc/thesis/arithmetic_circuits/burglary.pdf')"
   ]
  },
  {
   "cell_type": "code",
   "execution_count": null,
   "metadata": {
    "pycharm": {
     "name": "#%%\n"
    }
   },
   "outputs": [],
   "source": []
  },
  {
   "cell_type": "code",
   "execution_count": 5,
   "metadata": {
    "pycharm": {
     "name": "#%%\n"
    }
   },
   "outputs": [],
   "source": [
    "save_as_pdf(\n",
    "    get_evaluatable().create_from(PrologFile('/tmp/game.pl')), \n",
    "    '/tmp/game.pdf'\n",
    ")"
   ]
  },
  {
   "cell_type": "code",
   "execution_count": 6,
   "metadata": {},
   "outputs": [],
   "source": [
    "save_as_pdf(\n",
    "    get_evaluatable().create_from(PrologFile('/tmp/game2.pl')), \n",
    "    '/tmp/game2.pdf'\n",
    ")"
   ]
  },
  {
   "cell_type": "code",
   "execution_count": null,
   "metadata": {},
   "outputs": [],
   "source": []
  },
  {
   "cell_type": "code",
   "execution_count": 5,
   "metadata": {
    "pycharm": {
     "name": "#%%\n"
    }
   },
   "outputs": [],
   "source": []
  },
  {
   "cell_type": "code",
   "execution_count": 7,
   "metadata": {
    "pycharm": {
     "name": "#%%\n"
    }
   },
   "outputs": [
    {
     "data": {
      "text/plain": [
       "{'atTime': {'model': <problog.sdd_formula.SDD at 0x7efe1f81df28>,\n",
       "  'nodes': {'0.0::atTime(0).\\n': 1,\n",
       "   '0.0::increase(1).\\n': 4,\n",
       "   '0.0::decrease(1).\\n': 2},\n",
       "  'default_probs': {1: 0.0, 4: 0.0, 2: 0.0},\n",
       "  'base_timestamp': 1}}"
      ]
     },
     "execution_count": 7,
     "metadata": {},
     "output_type": "execute_result"
    }
   ],
   "source": [
    "precomp.precompilations"
   ]
  },
  {
   "cell_type": "code",
   "execution_count": null,
   "metadata": {
    "pycharm": {
     "name": "#%%\n"
    }
   },
   "outputs": [],
   "source": []
  },
  {
   "cell_type": "code",
   "execution_count": 3,
   "metadata": {
    "pycharm": {
     "name": "#%%\n"
    }
   },
   "outputs": [],
   "source": [
    "problog_filename = 'examples/example2.pl'"
   ]
  },
  {
   "cell_type": "code",
   "execution_count": 15,
   "metadata": {
    "pycharm": {
     "name": "#%%\n"
    }
   },
   "outputs": [],
   "source": [
    "number_of_events = 3"
   ]
  },
  {
   "cell_type": "code",
   "execution_count": 21,
   "metadata": {
    "pycharm": {
     "name": "#%%\n"
    }
   },
   "outputs": [],
   "source": [
    "round_probability_to = 6"
   ]
  },
  {
   "cell_type": "code",
   "execution_count": null,
   "metadata": {
    "pycharm": {
     "name": "#%%\n"
    }
   },
   "outputs": [],
   "source": []
  },
  {
   "cell_type": "code",
   "execution_count": 31,
   "metadata": {
    "pycharm": {
     "name": "#%%\n"
    }
   },
   "outputs": [
    {
     "data": {
      "text/plain": [
       "{0: [0.7479973023291677::decrease(0).],\n",
       " 1: [0.14750829804688692::increase(1).],\n",
       " 2: [0.4612357036676258::decrease(2).]}"
      ]
     },
     "execution_count": 31,
     "metadata": {},
     "output_type": "execute_result"
    }
   ],
   "source": [
    "input_events = get_input_events_recursive(number_of_events)\n",
    "\n",
    "input_events"
   ]
  },
  {
   "cell_type": "code",
   "execution_count": 32,
   "metadata": {
    "pycharm": {
     "name": "#%%\n"
    }
   },
   "outputs": [
    {
     "data": {
      "text/plain": [
       "{0: [0.747997::decrease(0).],\n",
       " 1: [0.147508::increase(1).],\n",
       " 2: [0.461236::decrease(2).]}"
      ]
     },
     "execution_count": 32,
     "metadata": {},
     "output_type": "execute_result"
    }
   ],
   "source": [
    "for l in input_events.values():\n",
    "    for e in l:\n",
    "        e.probability = round(e.probability, round_probability_to)\n",
    "        \n",
    "input_events"
   ]
  },
  {
   "cell_type": "code",
   "execution_count": 43,
   "metadata": {
    "pycharm": {
     "name": "#%%\n"
    }
   },
   "outputs": [
    {
     "name": "stdout",
     "output_type": "stream",
     "text": [
      "0.747997::decrease(0).\n",
      "0.147508::increase(1).\n",
      "0.461236::decrease(2).\n"
     ]
    }
   ],
   "source": [
    "for l in input_events.values():\n",
    "    for e in l:\n",
    "        print(str(e).strip())"
   ]
  },
  {
   "cell_type": "code",
   "execution_count": 33,
   "metadata": {
    "pycharm": {
     "name": "#%%\n"
    }
   },
   "outputs": [
    {
     "data": {
      "text/plain": [
       "{0: <examples.example2.FeedbackQuery at 0x7fc84f508f60>,\n",
       " 1: <examples.example2.FeedbackQuery at 0x7fc84f508f28>,\n",
       " 2: <examples.example2.FeedbackQuery at 0x7fc84f508dd8>}"
      ]
     },
     "execution_count": 33,
     "metadata": {},
     "output_type": "execute_result"
    }
   ],
   "source": [
    "queries = get_query_recursive(number_of_events)\n",
    "\n",
    "queries"
   ]
  },
  {
   "cell_type": "code",
   "execution_count": null,
   "metadata": {
    "pycharm": {
     "name": "#%%\n"
    }
   },
   "outputs": [],
   "source": []
  },
  {
   "cell_type": "code",
   "execution_count": 34,
   "metadata": {
    "pycharm": {
     "name": "#%%\n"
    }
   },
   "outputs": [],
   "source": [
    "precomp = generate_feedback_precompilation(problog_filename)\n",
    "\n",
    "save_as_pdf(\n",
    "    precomp.precompilations['atTime']['model'], '/home/marc/thesis/arithmetic_circuits/recursive_precomp.pdf'\n",
    ")"
   ]
  },
  {
   "cell_type": "code",
   "execution_count": null,
   "metadata": {
    "pycharm": {
     "name": "#%%\n"
    }
   },
   "outputs": [],
   "source": []
  },
  {
   "cell_type": "code",
   "execution_count": 35,
   "metadata": {
    "pycharm": {
     "name": "#%%\n"
    }
   },
   "outputs": [],
   "source": [
    "with open(problog_filename, 'r') as f:\n",
    "    problog_code = ''.join([l for l in f])\n",
    "\n",
    "all_inputs = join_list_of_lists_to_problog(input_events.values())\n",
    "all_queries = join_list_of_lists_to_problog(\n",
    "    {\n",
    "        i: [q]\n",
    "        for i, q in queries.items()\n",
    "    }.values()\n",
    ")\n",
    "\n",
    "prolog_string = PrologString(\n",
    "    '\\n'.join([problog_code, all_inputs, all_queries])\n",
    ")\n",
    "\n",
    "save_as_pdf(\n",
    "    get_evaluatable().create_from(prolog_string), '/home/marc/thesis/arithmetic_circuits/recursive_at_end.pdf'\n",
    ")"
   ]
  },
  {
   "cell_type": "code",
   "execution_count": 36,
   "metadata": {
    "pycharm": {
     "name": "#%%\n"
    }
   },
   "outputs": [
    {
     "data": {
      "text/plain": [
       "{atTime(0): 0.0, atTime(1): 0.147508, atTime(2): 0.07947200011200001}"
      ]
     },
     "execution_count": 36,
     "metadata": {},
     "output_type": "execute_result"
    }
   ],
   "source": [
    "get_evaluatable().create_from(prolog_string).evaluate()"
   ]
  },
  {
   "cell_type": "code",
   "execution_count": null,
   "metadata": {
    "pycharm": {
     "name": "#%%\n"
    }
   },
   "outputs": [],
   "source": []
  },
  {
   "cell_type": "code",
   "execution_count": 37,
   "metadata": {
    "pycharm": {
     "name": "#%%\n"
    }
   },
   "outputs": [],
   "source": [
    "with open('examples/example2_iter_imp.pl', 'r') as f:\n",
    "    problog_imp_code = ''.join([l for l in f])\n",
    "\n",
    "    \n",
    "res = {}\n",
    "feedback = None\n",
    "for i in range(number_of_events):\n",
    "    query = queries[i]\n",
    "    inputs = list(input_events[i])\n",
    "    if feedback:\n",
    "        inputs += feedback\n",
    "        \n",
    "    inputs_str = '\\n'.join(map(lambda x: x.to_problog(), inputs))\n",
    "    queries_str = '\\n'.join(map(lambda x: x.to_problog(), [query]))\n",
    "\n",
    "    prolog_string = PrologString(\n",
    "        '\\n'.join([problog_imp_code, inputs_str, queries_str])\n",
    "    )\n",
    "\n",
    "    ac = get_evaluatable().create_from(prolog_string)\n",
    "    \n",
    "    save_as_pdf(\n",
    "        ac, '/home/marc/thesis/arithmetic_circuits/iterative_imp_{}.pdf'.format(i)\n",
    "    )\n",
    "\n",
    "    current_res = ac.evaluate()\n",
    "\n",
    "    feedback = my_generate_feedback(current_res)\n",
    "\n",
    "    res.update(current_res)"
   ]
  },
  {
   "cell_type": "code",
   "execution_count": 38,
   "metadata": {
    "pycharm": {
     "name": "#%%\n"
    }
   },
   "outputs": [
    {
     "data": {
      "text/plain": [
       "{atTime(0): 0.0, atTime(1): 0.147508, atTime(2): 0.07947200011200001}"
      ]
     },
     "execution_count": 38,
     "metadata": {},
     "output_type": "execute_result"
    }
   ],
   "source": [
    "res"
   ]
  },
  {
   "cell_type": "code",
   "execution_count": null,
   "metadata": {
    "pycharm": {
     "name": "#%%\n"
    }
   },
   "outputs": [],
   "source": []
  },
  {
   "cell_type": "code",
   "execution_count": null,
   "metadata": {
    "pycharm": {
     "name": "#%%\n"
    }
   },
   "outputs": [],
   "source": []
  }
 ],
 "metadata": {
  "kernelspec": {
   "display_name": "DeepProbCEP Python",
   "language": "python",
   "name": "deepprobcep"
  },
  "language_info": {
   "codemirror_mode": {
    "name": "ipython",
    "version": 3
   },
   "file_extension": ".py",
   "mimetype": "text/x-python",
   "name": "python",
   "nbconvert_exporter": "python",
   "pygments_lexer": "ipython3",
   "version": "3.9.12"
  }
 },
 "nbformat": 4,
 "nbformat_minor": 4
}
